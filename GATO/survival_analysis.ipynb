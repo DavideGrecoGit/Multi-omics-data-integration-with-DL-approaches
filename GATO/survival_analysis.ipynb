{
 "cells": [
  {
   "cell_type": "code",
   "execution_count": 1,
   "metadata": {},
   "outputs": [],
   "source": [
    "import numpy as np\n",
    "import pandas as pd\n",
    "import matplotlib.pyplot as plt\n",
    "from sksurv.nonparametric import kaplan_meier_estimator\n",
    "\n",
    "from utils.settings import METABRIC_PATH\n",
    "\n",
    "\n",
    "def plot_km(surv_data, survival_clm=\"Survival_in_days\", group_clm=None, conf = False):\n",
    "\n",
    "    if group_clm is None:\n",
    "        time, survival_prob, conf_int = kaplan_meier_estimator(\n",
    "            surv_data[\"Status\"], surv_data[survival_clm], conf_type=\"log-log\"\n",
    "        )\n",
    "\n",
    "        plt.step(time, survival_prob, where=\"post\")\n",
    "        if conf:\n",
    "            plt.fill_between(time, conf_int[0], conf_int[1], alpha=0.25, step=\"post\")\n",
    "    else:\n",
    "        for group_type in np.unique(surv_data[group_clm]):\n",
    "            mask = surv_data[group_clm] == group_type\n",
    "            time_treatment, survival_prob_treatment, conf_int = kaplan_meier_estimator(\n",
    "                surv_data[\"Status\"][mask],\n",
    "                surv_data[survival_clm][mask],\n",
    "                conf_type=\"log-log\",\n",
    "            )\n",
    "\n",
    "            plt.step(\n",
    "                time_treatment,\n",
    "                survival_prob_treatment,\n",
    "                where=\"post\",\n",
    "                label=f\"{group_type}\",\n",
    "            )\n",
    "            plt.legend(loc=\"best\")\n",
    "\n",
    "        if conf:\n",
    "            plt.fill_between(\n",
    "                time_treatment, conf_int[0], conf_int[1], alpha=0.25, step=\"post\"\n",
    "            )\n",
    "    plt.ylim(0, 1)\n",
    "    plt.ylabel(r\"est. probability of survival $\\hat{S}(t)$\")\n",
    "    plt.xlabel(\"time $t$\")\n",
    "\n",
    "from sksurv.compare import compare_survival\n",
    "\n",
    "def print_chisq(surv_data, groups):\n",
    "    data_y = surv_data[[\"Status\",\"Survival_in_days\"]].to_records(index=False)\n",
    "    chisq, pvalue, stats, covar = compare_survival(data_y, groups, return_stats=True)\n",
    "\n",
    "    print(f\"Chi-square: {chisq}\")\n",
    "    print(f\"P-value: {pvalue}\")\n",
    "    print(stats)"
   ]
  },
  {
   "cell_type": "code",
   "execution_count": 2,
   "metadata": {},
   "outputs": [
    {
     "data": {
      "text/html": [
       "<div>\n",
       "<style scoped>\n",
       "    .dataframe tbody tr th:only-of-type {\n",
       "        vertical-align: middle;\n",
       "    }\n",
       "\n",
       "    .dataframe tbody tr th {\n",
       "        vertical-align: top;\n",
       "    }\n",
       "\n",
       "    .dataframe thead th {\n",
       "        text-align: right;\n",
       "    }\n",
       "</style>\n",
       "<table border=\"1\" class=\"dataframe\">\n",
       "  <thead>\n",
       "    <tr style=\"text-align: right;\">\n",
       "      <th></th>\n",
       "      <th>METABRIC_ID</th>\n",
       "      <th>Cohort</th>\n",
       "      <th>Age_At_Diagnosis</th>\n",
       "      <th>Breast_Tumour_Laterality</th>\n",
       "      <th>Date_Of_Diagnosis</th>\n",
       "      <th>Last_Followup_Status</th>\n",
       "      <th>NPI</th>\n",
       "      <th>ER_Status</th>\n",
       "      <th>Inferred_Menopausal_State</th>\n",
       "      <th>Lymph_Nodes_Positive</th>\n",
       "      <th>...</th>\n",
       "      <th>CNA_FOXM1</th>\n",
       "      <th>CNA_EXOC3</th>\n",
       "      <th>CNA_ARMC7</th>\n",
       "      <th>CNA_KCTD2</th>\n",
       "      <th>CNA_PDCD10</th>\n",
       "      <th>CNA_RHOD</th>\n",
       "      <th>CNA_CFL1</th>\n",
       "      <th>CNA_YBX1</th>\n",
       "      <th>CNA_TRIM24</th>\n",
       "      <th>CNA_RAB11FIP3</th>\n",
       "    </tr>\n",
       "  </thead>\n",
       "  <tbody>\n",
       "    <tr>\n",
       "      <th>0</th>\n",
       "      <td>MB-0002</td>\n",
       "      <td>1</td>\n",
       "      <td>43.19</td>\n",
       "      <td>r</td>\n",
       "      <td>2000/12</td>\n",
       "      <td>a</td>\n",
       "      <td>4.020</td>\n",
       "      <td>pos</td>\n",
       "      <td>pre</td>\n",
       "      <td>0</td>\n",
       "      <td>...</td>\n",
       "      <td>0</td>\n",
       "      <td>0</td>\n",
       "      <td>-1</td>\n",
       "      <td>-1</td>\n",
       "      <td>0</td>\n",
       "      <td>2</td>\n",
       "      <td>2</td>\n",
       "      <td>0</td>\n",
       "      <td>-1</td>\n",
       "      <td>0</td>\n",
       "    </tr>\n",
       "    <tr>\n",
       "      <th>1</th>\n",
       "      <td>MB-0005</td>\n",
       "      <td>1</td>\n",
       "      <td>48.87</td>\n",
       "      <td>r</td>\n",
       "      <td>2001/02</td>\n",
       "      <td>d-d.s.</td>\n",
       "      <td>4.030</td>\n",
       "      <td>pos</td>\n",
       "      <td>pre</td>\n",
       "      <td>1</td>\n",
       "      <td>...</td>\n",
       "      <td>0</td>\n",
       "      <td>0</td>\n",
       "      <td>0</td>\n",
       "      <td>0</td>\n",
       "      <td>0</td>\n",
       "      <td>1</td>\n",
       "      <td>1</td>\n",
       "      <td>0</td>\n",
       "      <td>2</td>\n",
       "      <td>1</td>\n",
       "    </tr>\n",
       "    <tr>\n",
       "      <th>2</th>\n",
       "      <td>MB-0006</td>\n",
       "      <td>1</td>\n",
       "      <td>47.68</td>\n",
       "      <td>r</td>\n",
       "      <td>2001/02</td>\n",
       "      <td>a</td>\n",
       "      <td>4.050</td>\n",
       "      <td>pos</td>\n",
       "      <td>pre</td>\n",
       "      <td>3</td>\n",
       "      <td>...</td>\n",
       "      <td>0</td>\n",
       "      <td>0</td>\n",
       "      <td>0</td>\n",
       "      <td>0</td>\n",
       "      <td>0</td>\n",
       "      <td>0</td>\n",
       "      <td>0</td>\n",
       "      <td>0</td>\n",
       "      <td>1</td>\n",
       "      <td>0</td>\n",
       "    </tr>\n",
       "    <tr>\n",
       "      <th>3</th>\n",
       "      <td>MB-0010</td>\n",
       "      <td>1</td>\n",
       "      <td>78.77</td>\n",
       "      <td>l</td>\n",
       "      <td>2001/03</td>\n",
       "      <td>d-d.s.</td>\n",
       "      <td>4.062</td>\n",
       "      <td>pos</td>\n",
       "      <td>post</td>\n",
       "      <td>0</td>\n",
       "      <td>...</td>\n",
       "      <td>0</td>\n",
       "      <td>0</td>\n",
       "      <td>0</td>\n",
       "      <td>0</td>\n",
       "      <td>0</td>\n",
       "      <td>1</td>\n",
       "      <td>1</td>\n",
       "      <td>0</td>\n",
       "      <td>0</td>\n",
       "      <td>2</td>\n",
       "    </tr>\n",
       "    <tr>\n",
       "      <th>4</th>\n",
       "      <td>MB-0014</td>\n",
       "      <td>1</td>\n",
       "      <td>56.45</td>\n",
       "      <td>r</td>\n",
       "      <td>2001/04</td>\n",
       "      <td>a</td>\n",
       "      <td>4.020</td>\n",
       "      <td>pos</td>\n",
       "      <td>post</td>\n",
       "      <td>1</td>\n",
       "      <td>...</td>\n",
       "      <td>0</td>\n",
       "      <td>-1</td>\n",
       "      <td>0</td>\n",
       "      <td>0</td>\n",
       "      <td>0</td>\n",
       "      <td>0</td>\n",
       "      <td>0</td>\n",
       "      <td>0</td>\n",
       "      <td>0</td>\n",
       "      <td>0</td>\n",
       "    </tr>\n",
       "  </tbody>\n",
       "</table>\n",
       "<p>5 rows × 2034 columns</p>\n",
       "</div>"
      ],
      "text/plain": [
       "  METABRIC_ID  Cohort  Age_At_Diagnosis Breast_Tumour_Laterality  \\\n",
       "0     MB-0002       1             43.19                        r   \n",
       "1     MB-0005       1             48.87                        r   \n",
       "2     MB-0006       1             47.68                        r   \n",
       "3     MB-0010       1             78.77                        l   \n",
       "4     MB-0014       1             56.45                        r   \n",
       "\n",
       "  Date_Of_Diagnosis Last_Followup_Status    NPI ER_Status  \\\n",
       "0           2000/12                    a  4.020       pos   \n",
       "1           2001/02               d-d.s.  4.030       pos   \n",
       "2           2001/02                    a  4.050       pos   \n",
       "3           2001/03               d-d.s.  4.062       pos   \n",
       "4           2001/04                    a  4.020       pos   \n",
       "\n",
       "  Inferred_Menopausal_State  Lymph_Nodes_Positive  ... CNA_FOXM1 CNA_EXOC3  \\\n",
       "0                       pre                     0  ...         0         0   \n",
       "1                       pre                     1  ...         0         0   \n",
       "2                       pre                     3  ...         0         0   \n",
       "3                      post                     0  ...         0         0   \n",
       "4                      post                     1  ...         0        -1   \n",
       "\n",
       "  CNA_ARMC7 CNA_KCTD2 CNA_PDCD10 CNA_RHOD CNA_CFL1 CNA_YBX1 CNA_TRIM24  \\\n",
       "0        -1        -1          0        2        2        0         -1   \n",
       "1         0         0          0        1        1        0          2   \n",
       "2         0         0          0        0        0        0          1   \n",
       "3         0         0          0        1        1        0          0   \n",
       "4         0         0          0        0        0        0          0   \n",
       "\n",
       "  CNA_RAB11FIP3  \n",
       "0             0  \n",
       "1             1  \n",
       "2             0  \n",
       "3             2  \n",
       "4             0  \n",
       "\n",
       "[5 rows x 2034 columns]"
      ]
     },
     "execution_count": 2,
     "metadata": {},
     "output_type": "execute_result"
    }
   ],
   "source": [
    "data = pd.read_csv(\n",
    "    METABRIC_PATH, index_col=None, header=0, low_memory=False\n",
    ")\n",
    "data = data.drop(data[data[\"Pam50Subtype\"] == \"?\"].index)\n",
    "data.head()"
   ]
  },
  {
   "cell_type": "code",
   "execution_count": 4,
   "metadata": {},
   "outputs": [
    {
     "data": {
      "text/plain": [
       "array([2, 3, 3, ..., 4, 4, 1], dtype=int8)"
      ]
     },
     "execution_count": 4,
     "metadata": {},
     "output_type": "execute_result"
    }
   ],
   "source": [
    "from utils.data import get_data\n",
    "metabric = get_data(METABRIC_PATH)\n",
    "y = metabric[\"pam50np\"]\n",
    "y"
   ]
  },
  {
   "cell_type": "code",
   "execution_count": 6,
   "metadata": {},
   "outputs": [
    {
     "data": {
      "text/html": [
       "<div>\n",
       "<style scoped>\n",
       "    .dataframe tbody tr th:only-of-type {\n",
       "        vertical-align: middle;\n",
       "    }\n",
       "\n",
       "    .dataframe tbody tr th {\n",
       "        vertical-align: top;\n",
       "    }\n",
       "\n",
       "    .dataframe thead th {\n",
       "        text-align: right;\n",
       "    }\n",
       "</style>\n",
       "<table border=\"1\" class=\"dataframe\">\n",
       "  <thead>\n",
       "    <tr style=\"text-align: right;\">\n",
       "      <th></th>\n",
       "      <th>gt_classes</th>\n",
       "    </tr>\n",
       "  </thead>\n",
       "  <tbody>\n",
       "    <tr>\n",
       "      <th>0</th>\n",
       "      <td>2</td>\n",
       "    </tr>\n",
       "    <tr>\n",
       "      <th>1</th>\n",
       "      <td>3</td>\n",
       "    </tr>\n",
       "    <tr>\n",
       "      <th>2</th>\n",
       "      <td>3</td>\n",
       "    </tr>\n",
       "    <tr>\n",
       "      <th>3</th>\n",
       "      <td>3</td>\n",
       "    </tr>\n",
       "    <tr>\n",
       "      <th>4</th>\n",
       "      <td>3</td>\n",
       "    </tr>\n",
       "    <tr>\n",
       "      <th>...</th>\n",
       "      <td>...</td>\n",
       "    </tr>\n",
       "    <tr>\n",
       "      <th>1969</th>\n",
       "      <td>3</td>\n",
       "    </tr>\n",
       "    <tr>\n",
       "      <th>1970</th>\n",
       "      <td>3</td>\n",
       "    </tr>\n",
       "    <tr>\n",
       "      <th>1971</th>\n",
       "      <td>4</td>\n",
       "    </tr>\n",
       "    <tr>\n",
       "      <th>1972</th>\n",
       "      <td>4</td>\n",
       "    </tr>\n",
       "    <tr>\n",
       "      <th>1973</th>\n",
       "      <td>1</td>\n",
       "    </tr>\n",
       "  </tbody>\n",
       "</table>\n",
       "<p>1974 rows × 1 columns</p>\n",
       "</div>"
      ],
      "text/plain": [
       "      gt_classes\n",
       "0              2\n",
       "1              3\n",
       "2              3\n",
       "3              3\n",
       "4              3\n",
       "...          ...\n",
       "1969           3\n",
       "1970           3\n",
       "1971           4\n",
       "1972           4\n",
       "1973           1\n",
       "\n",
       "[1974 rows x 1 columns]"
      ]
     },
     "execution_count": 6,
     "metadata": {},
     "output_type": "execute_result"
    }
   ],
   "source": [
    "df = pd.DataFrame(y, columns=[\"gt_classes\"])\n",
    "df"
   ]
  },
  {
   "cell_type": "code",
   "execution_count": 13,
   "metadata": {},
   "outputs": [
    {
     "data": {
      "text/plain": [
       "gt_classes\n",
       "2    718\n",
       "3    488\n",
       "0    329\n",
       "1    240\n",
       "4    199\n",
       "Name: count, dtype: int64"
      ]
     },
     "execution_count": 13,
     "metadata": {},
     "output_type": "execute_result"
    }
   ],
   "source": [
    "df[\"gt_classes\"].value_counts()"
   ]
  },
  {
   "cell_type": "code",
   "execution_count": 40,
   "metadata": {},
   "outputs": [
    {
     "data": {
      "text/plain": [
       "array([1.2       , 1.645     , 0.54986072, 0.80901639, 1.9839196 ])"
      ]
     },
     "execution_count": 40,
     "metadata": {},
     "output_type": "execute_result"
    }
   ],
   "source": [
    "from sklearn.utils.class_weight import compute_class_weight\n",
    "\n",
    "# compute the class weights\n",
    "class_wts = compute_class_weight(\"balanced\", classes=np.unique(y), y=y)\n",
    "class_wts"
   ]
  },
  {
   "cell_type": "code",
   "execution_count": 46,
   "metadata": {},
   "outputs": [],
   "source": [
    "a = torch.tensor(\n",
    "                class_wts, dtype=torch.float\n",
    "            )"
   ]
  },
  {
   "cell_type": "code",
   "execution_count": 47,
   "metadata": {},
   "outputs": [
    {
     "data": {
      "text/plain": [
       "array([0.5498607, 0.8090164, 1.2      , 1.645    , 1.9839196],\n",
       "      dtype=float32)"
      ]
     },
     "execution_count": 47,
     "metadata": {},
     "output_type": "execute_result"
    }
   ],
   "source": [
    "np.unique(a)"
   ]
  },
  {
   "cell_type": "code",
   "execution_count": 51,
   "metadata": {},
   "outputs": [
    {
     "data": {
      "text/plain": [
       "[1.2, 1.645, 0.5498607242339832, 0.809016393442623, 1.9839195979899498]"
      ]
     },
     "execution_count": 51,
     "metadata": {},
     "output_type": "execute_result"
    }
   ],
   "source": [
    "# return (args[0] - args[0].min(axis=0)) / (args[0].max(axis=0) - args[0].min(0))\n",
    "\n",
    "class_weights = len(df[\"gt_classes\"])/ (5*df[\"gt_classes\"].value_counts())\n",
    "\n",
    "\n",
    "class_weights.sort_index().to_list()"
   ]
  },
  {
   "cell_type": "code",
   "execution_count": 48,
   "metadata": {},
   "outputs": [
    {
     "ename": "TypeError",
     "evalue": "must be real number, not dict",
     "output_type": "error",
     "traceback": [
      "\u001b[0;31m---------------------------------------------------------------------------\u001b[0m",
      "\u001b[0;31mTypeError\u001b[0m                                 Traceback (most recent call last)",
      "Cell \u001b[0;32mIn[48], line 2\u001b[0m\n\u001b[1;32m      1\u001b[0m \u001b[38;5;28;01mimport\u001b[39;00m \u001b[38;5;21;01mtorch\u001b[39;00m\n\u001b[0;32m----> 2\u001b[0m \u001b[43mtorch\u001b[49m\u001b[38;5;241;43m.\u001b[39;49m\u001b[43mtensor\u001b[49m\u001b[43m(\u001b[49m\n\u001b[1;32m      3\u001b[0m \u001b[43m                \u001b[49m\u001b[43mclass_weights\u001b[49m\u001b[38;5;241;43m.\u001b[39;49m\u001b[43mto_dict\u001b[49m\u001b[43m(\u001b[49m\u001b[43m)\u001b[49m\u001b[43m,\u001b[49m\u001b[43m \u001b[49m\u001b[43mdtype\u001b[49m\u001b[38;5;241;43m=\u001b[39;49m\u001b[43mtorch\u001b[49m\u001b[38;5;241;43m.\u001b[39;49m\u001b[43mfloat\u001b[49m\n\u001b[1;32m      4\u001b[0m \u001b[43m            \u001b[49m\u001b[43m)\u001b[49m\n",
      "\u001b[0;31mTypeError\u001b[0m: must be real number, not dict"
     ]
    }
   ],
   "source": [
    "import torch\n",
    "torch.tensor(\n",
    "                class_weights.to_dict(), dtype=torch.float\n",
    "            )"
   ]
  },
  {
   "cell_type": "code",
   "execution_count": 6,
   "metadata": {},
   "outputs": [
    {
     "data": {
      "text/plain": [
       "['METABRIC_ID',\n",
       " 'Cohort',\n",
       " 'Age_At_Diagnosis',\n",
       " 'Breast_Tumour_Laterality',\n",
       " 'Date_Of_Diagnosis',\n",
       " 'Last_Followup_Status',\n",
       " 'NPI',\n",
       " 'ER_Status',\n",
       " 'Inferred_Menopausal_State',\n",
       " 'Lymph_Nodes_Positive',\n",
       " 'Breast_Surgery',\n",
       " 'CT',\n",
       " 'HT',\n",
       " 'RT',\n",
       " 'Grade',\n",
       " 'Size',\n",
       " 'Histological_Type',\n",
       " 'Stage',\n",
       " 'Cellularity',\n",
       " 'DeathBreast',\n",
       " 'Death',\n",
       " 'clin_T',\n",
       " 'TLR',\n",
       " 'LR',\n",
       " 'TDR',\n",
       " 'DR',\n",
       " 'HER2_SNP6',\n",
       " 'iC10',\n",
       " 'Pam50Subtype',\n",
       " 'ER_Expr',\n",
       " 'Her2_Expr',\n",
       " 'PR_Expr',\n",
       " 'ClaudinSubtype',\n",
       " 'Complete_Rec_History']"
      ]
     },
     "execution_count": 6,
     "metadata": {},
     "output_type": "execute_result"
    }
   ],
   "source": [
    "cli_clms = [col for col in data.columns if not col.startswith(\"GE\") and not col.startswith(\"CNA\")]\n",
    "cli_clms"
   ]
  },
  {
   "cell_type": "code",
   "execution_count": 7,
   "metadata": {},
   "outputs": [
    {
     "data": {
      "text/html": [
       "<div>\n",
       "<style scoped>\n",
       "    .dataframe tbody tr th:only-of-type {\n",
       "        vertical-align: middle;\n",
       "    }\n",
       "\n",
       "    .dataframe tbody tr th {\n",
       "        vertical-align: top;\n",
       "    }\n",
       "\n",
       "    .dataframe thead th {\n",
       "        text-align: right;\n",
       "    }\n",
       "</style>\n",
       "<table border=\"1\" class=\"dataframe\">\n",
       "  <thead>\n",
       "    <tr style=\"text-align: right;\">\n",
       "      <th></th>\n",
       "      <th>Status</th>\n",
       "      <th>Survival_in_days</th>\n",
       "      <th>Pam50Subtype</th>\n",
       "      <th>iC10</th>\n",
       "      <th>Survival_in_months</th>\n",
       "    </tr>\n",
       "  </thead>\n",
       "  <tbody>\n",
       "    <tr>\n",
       "      <th>0</th>\n",
       "      <td>False</td>\n",
       "      <td>2539</td>\n",
       "      <td>LumA</td>\n",
       "      <td>4ER+</td>\n",
       "      <td>84</td>\n",
       "    </tr>\n",
       "    <tr>\n",
       "      <th>1</th>\n",
       "      <td>True</td>\n",
       "      <td>4911</td>\n",
       "      <td>LumB</td>\n",
       "      <td>3</td>\n",
       "      <td>163</td>\n",
       "    </tr>\n",
       "    <tr>\n",
       "      <th>2</th>\n",
       "      <td>False</td>\n",
       "      <td>4948</td>\n",
       "      <td>LumB</td>\n",
       "      <td>9</td>\n",
       "      <td>164</td>\n",
       "    </tr>\n",
       "    <tr>\n",
       "      <th>3</th>\n",
       "      <td>True</td>\n",
       "      <td>234</td>\n",
       "      <td>LumB</td>\n",
       "      <td>7</td>\n",
       "      <td>7</td>\n",
       "    </tr>\n",
       "    <tr>\n",
       "      <th>4</th>\n",
       "      <td>False</td>\n",
       "      <td>4930</td>\n",
       "      <td>LumB</td>\n",
       "      <td>3</td>\n",
       "      <td>164</td>\n",
       "    </tr>\n",
       "    <tr>\n",
       "      <th>...</th>\n",
       "      <td>...</td>\n",
       "      <td>...</td>\n",
       "      <td>...</td>\n",
       "      <td>...</td>\n",
       "      <td>...</td>\n",
       "    </tr>\n",
       "    <tr>\n",
       "      <th>1975</th>\n",
       "      <td>True</td>\n",
       "      <td>1176</td>\n",
       "      <td>LumB</td>\n",
       "      <td>5</td>\n",
       "      <td>39</td>\n",
       "    </tr>\n",
       "    <tr>\n",
       "      <th>1976</th>\n",
       "      <td>True</td>\n",
       "      <td>1664</td>\n",
       "      <td>LumB</td>\n",
       "      <td>8</td>\n",
       "      <td>55</td>\n",
       "    </tr>\n",
       "    <tr>\n",
       "      <th>1977</th>\n",
       "      <td>True</td>\n",
       "      <td>746</td>\n",
       "      <td>Normal</td>\n",
       "      <td>5</td>\n",
       "      <td>24</td>\n",
       "    </tr>\n",
       "    <tr>\n",
       "      <th>1978</th>\n",
       "      <td>False</td>\n",
       "      <td>3329</td>\n",
       "      <td>Normal</td>\n",
       "      <td>4ER+</td>\n",
       "      <td>110</td>\n",
       "    </tr>\n",
       "    <tr>\n",
       "      <th>1979</th>\n",
       "      <td>True</td>\n",
       "      <td>1040</td>\n",
       "      <td>Her2</td>\n",
       "      <td>5</td>\n",
       "      <td>34</td>\n",
       "    </tr>\n",
       "  </tbody>\n",
       "</table>\n",
       "<p>1973 rows × 5 columns</p>\n",
       "</div>"
      ],
      "text/plain": [
       "      Status  Survival_in_days Pam50Subtype  iC10  Survival_in_months\n",
       "0      False              2539         LumA  4ER+                  84\n",
       "1       True              4911         LumB     3                 163\n",
       "2      False              4948         LumB     9                 164\n",
       "3       True               234         LumB     7                   7\n",
       "4      False              4930         LumB     3                 164\n",
       "...      ...               ...          ...   ...                 ...\n",
       "1975    True              1176         LumB     5                  39\n",
       "1976    True              1664         LumB     8                  55\n",
       "1977    True               746       Normal     5                  24\n",
       "1978   False              3329       Normal  4ER+                 110\n",
       "1979    True              1040         Her2     5                  34\n",
       "\n",
       "[1973 rows x 5 columns]"
      ]
     },
     "execution_count": 7,
     "metadata": {},
     "output_type": "execute_result"
    }
   ],
   "source": [
    "# Get data subset \n",
    "surv_data = data[[\"Death\", \"clin_T\", \"Pam50Subtype\", \"iC10\"]]\n",
    "surv_data = surv_data.drop(data[data[\"Death\"] == \"?\"].index)\n",
    "surv_data[\"Death\"] = surv_data[\"Death\"].astype(int).astype(bool)\n",
    "\n",
    "surv_data = surv_data.rename(columns={\"Death\":\"Status\", \"clin_T\":\"Survival_in_days\"})\n",
    "\n",
    "# Compute time in months\n",
    "surv_data[\"Survival_in_months\"] = surv_data[\"Survival_in_days\"]//30\n",
    "surv_data.loc[surv_data[\"Survival_in_months\"]>200, \"Survival_in_months\"] = 200\n",
    "surv_data"
   ]
  },
  {
   "cell_type": "markdown",
   "metadata": {},
   "source": [
    "#### KM plots"
   ]
  },
  {
   "cell_type": "code",
   "execution_count": 8,
   "metadata": {},
   "outputs": [
    {
     "data": {
      "image/png": "[encoded data removed]",
      "text/plain": [
       "<Figure size 640x480 with 1 Axes>"
      ]
     },
     "metadata": {},
     "output_type": "display_data"
    }
   ],
   "source": [
    "plot_km(surv_data)"
   ]
  },
  {
   "cell_type": "code",
   "execution_count": 9,
   "metadata": {},
   "outputs": [
    {
     "data": {
      "image/png": "[encoded data removed]",
      "text/plain": [
       "<Figure size 640x480 with 1 Axes>"
      ]
     },
     "metadata": {},
     "output_type": "display_data"
    }
   ],
   "source": [
    "plot_km(surv_data, group_clm=\"iC10\", conf=False)"
   ]
  },
  {
   "cell_type": "code",
   "execution_count": 10,
   "metadata": {},
   "outputs": [
    {
     "data": {
      "image/png": "[encoded data removed]",
      "text/plain": [
       "<Figure size 640x480 with 1 Axes>"
      ]
     },
     "metadata": {},
     "output_type": "display_data"
    }
   ],
   "source": [
    "plot_km(surv_data, group_clm=\"Pam50Subtype\", conf=False)"
   ]
  },
  {
   "cell_type": "markdown",
   "metadata": {},
   "source": [
    "#### Chi-square"
   ]
  },
  {
   "cell_type": "code",
   "execution_count": 11,
   "metadata": {},
   "outputs": [
    {
     "data": {
      "text/html": [
       "<div>\n",
       "<style scoped>\n",
       "    .dataframe tbody tr th:only-of-type {\n",
       "        vertical-align: middle;\n",
       "    }\n",
       "\n",
       "    .dataframe tbody tr th {\n",
       "        vertical-align: top;\n",
       "    }\n",
       "\n",
       "    .dataframe thead th {\n",
       "        text-align: right;\n",
       "    }\n",
       "</style>\n",
       "<table border=\"1\" class=\"dataframe\">\n",
       "  <thead>\n",
       "    <tr style=\"text-align: right;\">\n",
       "      <th></th>\n",
       "      <th>Pam50Subtype=Her2</th>\n",
       "      <th>Pam50Subtype=LumA</th>\n",
       "      <th>Pam50Subtype=LumB</th>\n",
       "      <th>Pam50Subtype=Normal</th>\n",
       "    </tr>\n",
       "  </thead>\n",
       "  <tbody>\n",
       "    <tr>\n",
       "      <th>0</th>\n",
       "      <td>0.0</td>\n",
       "      <td>1.0</td>\n",
       "      <td>0.0</td>\n",
       "      <td>0.0</td>\n",
       "    </tr>\n",
       "    <tr>\n",
       "      <th>1</th>\n",
       "      <td>0.0</td>\n",
       "      <td>0.0</td>\n",
       "      <td>1.0</td>\n",
       "      <td>0.0</td>\n",
       "    </tr>\n",
       "    <tr>\n",
       "      <th>2</th>\n",
       "      <td>0.0</td>\n",
       "      <td>0.0</td>\n",
       "      <td>1.0</td>\n",
       "      <td>0.0</td>\n",
       "    </tr>\n",
       "    <tr>\n",
       "      <th>3</th>\n",
       "      <td>0.0</td>\n",
       "      <td>0.0</td>\n",
       "      <td>1.0</td>\n",
       "      <td>0.0</td>\n",
       "    </tr>\n",
       "    <tr>\n",
       "      <th>4</th>\n",
       "      <td>0.0</td>\n",
       "      <td>0.0</td>\n",
       "      <td>1.0</td>\n",
       "      <td>0.0</td>\n",
       "    </tr>\n",
       "  </tbody>\n",
       "</table>\n",
       "</div>"
      ],
      "text/plain": [
       "   Pam50Subtype=Her2  Pam50Subtype=LumA  Pam50Subtype=LumB  \\\n",
       "0                0.0                1.0                0.0   \n",
       "1                0.0                0.0                1.0   \n",
       "2                0.0                0.0                1.0   \n",
       "3                0.0                0.0                1.0   \n",
       "4                0.0                0.0                1.0   \n",
       "\n",
       "   Pam50Subtype=Normal  \n",
       "0                  0.0  \n",
       "1                  0.0  \n",
       "2                  0.0  \n",
       "3                  0.0  \n",
       "4                  0.0  "
      ]
     },
     "execution_count": 11,
     "metadata": {},
     "output_type": "execute_result"
    }
   ],
   "source": [
    "from sksurv.preprocessing import OneHotEncoder\n",
    "\n",
    "data_x_numeric = OneHotEncoder().fit_transform(surv_data[[\"Pam50Subtype\"]].astype('category'))\n",
    "# 1 subtype is missing since can be represented by setting all the others to 0\n",
    "data_x_numeric.head()"
   ]
  },
  {
   "cell_type": "code",
   "execution_count": 12,
   "metadata": {},
   "outputs": [
    {
     "data": {
      "text/plain": [
       "rec.array([(False, 2539), ( True, 4911), (False, 4948), ...,\n",
       "           ( True,  746), (False, 3329), ( True, 1040)],\n",
       "          dtype=[('Status', '?'), ('Survival_in_days', '<i8')])"
      ]
     },
     "execution_count": 12,
     "metadata": {},
     "output_type": "execute_result"
    }
   ],
   "source": [
    "data_y = surv_data[[\"Status\",\"Survival_in_days\"]].to_records(index=False)\n",
    "data_y"
   ]
  },
  {
   "cell_type": "code",
   "execution_count": 13,
   "metadata": {},
   "outputs": [
    {
     "name": "stdout",
     "output_type": "stream",
     "text": [
      "Chi-square: 46.89120083816142\n",
      "P-value: 1.6065928199240329e-09\n",
      "        counts  observed    expected  statistic\n",
      "group                                          \n",
      "Basal      329       167  173.108053  -6.108053\n",
      "Her2       240       165  125.139991  39.860009\n",
      "LumA       717       385  468.086493 -83.086493\n",
      "LumB       488       323  257.681200  65.318800\n",
      "Normal     199        97  112.984265 -15.984265\n"
     ]
    }
   ],
   "source": [
    "print_chisq(surv_data, surv_data[\"Pam50Subtype\"])"
   ]
  },
  {
   "cell_type": "markdown",
   "metadata": {},
   "source": [
    "## Predictions"
   ]
  },
  {
   "cell_type": "code",
   "execution_count": 14,
   "metadata": {},
   "outputs": [
    {
     "data": {
      "text/html": [
       "<div>\n",
       "<style scoped>\n",
       "    .dataframe tbody tr th:only-of-type {\n",
       "        vertical-align: middle;\n",
       "    }\n",
       "\n",
       "    .dataframe tbody tr th {\n",
       "        vertical-align: top;\n",
       "    }\n",
       "\n",
       "    .dataframe thead th {\n",
       "        text-align: right;\n",
       "    }\n",
       "</style>\n",
       "<table border=\"1\" class=\"dataframe\">\n",
       "  <thead>\n",
       "    <tr style=\"text-align: right;\">\n",
       "      <th></th>\n",
       "      <th>GT</th>\n",
       "      <th>Pred</th>\n",
       "      <th>Pam50Predictions</th>\n",
       "    </tr>\n",
       "  </thead>\n",
       "  <tbody>\n",
       "    <tr>\n",
       "      <th>0</th>\n",
       "      <td>0</td>\n",
       "      <td>0</td>\n",
       "      <td>LumA</td>\n",
       "    </tr>\n",
       "    <tr>\n",
       "      <th>1</th>\n",
       "      <td>1</td>\n",
       "      <td>0</td>\n",
       "      <td>LumA</td>\n",
       "    </tr>\n",
       "    <tr>\n",
       "      <th>2</th>\n",
       "      <td>1</td>\n",
       "      <td>1</td>\n",
       "      <td>LumB</td>\n",
       "    </tr>\n",
       "    <tr>\n",
       "      <th>3</th>\n",
       "      <td>1</td>\n",
       "      <td>0</td>\n",
       "      <td>LumA</td>\n",
       "    </tr>\n",
       "    <tr>\n",
       "      <th>4</th>\n",
       "      <td>1</td>\n",
       "      <td>1</td>\n",
       "      <td>LumB</td>\n",
       "    </tr>\n",
       "    <tr>\n",
       "      <th>...</th>\n",
       "      <td>...</td>\n",
       "      <td>...</td>\n",
       "      <td>...</td>\n",
       "    </tr>\n",
       "    <tr>\n",
       "      <th>1969</th>\n",
       "      <td>1</td>\n",
       "      <td>1</td>\n",
       "      <td>LumB</td>\n",
       "    </tr>\n",
       "    <tr>\n",
       "      <th>1970</th>\n",
       "      <td>1</td>\n",
       "      <td>0</td>\n",
       "      <td>LumA</td>\n",
       "    </tr>\n",
       "    <tr>\n",
       "      <th>1971</th>\n",
       "      <td>2</td>\n",
       "      <td>4</td>\n",
       "      <td>Basal</td>\n",
       "    </tr>\n",
       "    <tr>\n",
       "      <th>1972</th>\n",
       "      <td>2</td>\n",
       "      <td>2</td>\n",
       "      <td>Normal</td>\n",
       "    </tr>\n",
       "    <tr>\n",
       "      <th>1973</th>\n",
       "      <td>3</td>\n",
       "      <td>3</td>\n",
       "      <td>Her2</td>\n",
       "    </tr>\n",
       "  </tbody>\n",
       "</table>\n",
       "<p>1974 rows × 3 columns</p>\n",
       "</div>"
      ],
      "text/plain": [
       "      GT  Pred Pam50Predictions\n",
       "0      0     0             LumA\n",
       "1      1     0             LumA\n",
       "2      1     1             LumB\n",
       "3      1     0             LumA\n",
       "4      1     1             LumB\n",
       "...   ..   ...              ...\n",
       "1969   1     1             LumB\n",
       "1970   1     0             LumA\n",
       "1971   2     4            Basal\n",
       "1972   2     2           Normal\n",
       "1973   3     3             Her2\n",
       "\n",
       "[1974 rows x 3 columns]"
      ]
     },
     "execution_count": 14,
     "metadata": {},
     "output_type": "execute_result"
    }
   ],
   "source": [
    "gat_data = \"/home/davide/Desktop/Projects/Multi-omics-data-integration-with-DL-approaches/GATO/results/GAT_CLI+RNA/0206124549/fold_1/predictions.csv\"\n",
    "df_gat = pd.read_csv(gat_data)\n",
    "\n",
    "# pam_cat = data[[\"Pam50Subtype\"]].astype('category')\n",
    "# # df_gat[\"GT\"] == pam_cat[\"Pam50Subtype\"].cat.codes\n",
    "# pam_cat = pam_cat[\"Pam50Subtype\"].cat.codes.to_numpy()\n",
    "# (pam_cat == df_gat[\"GT\"].values)\n",
    "# # list(data[\"Pam50Subtype\"].values)[-1]\n",
    "\n",
    "codes = {0:\"LumA\", 1:\"LumB\", 2:\"Normal\", 3:\"Her2\", 4:\"Basal\"}\n",
    "df_gat[\"Pam50Predictions\"] = [codes[i] for i in df_gat[\"Pred\"]]\n",
    "df_gat"
   ]
  },
  {
   "cell_type": "code",
   "execution_count": 15,
   "metadata": {},
   "outputs": [
    {
     "data": {
      "text/html": [
       "<div>\n",
       "<style scoped>\n",
       "    .dataframe tbody tr th:only-of-type {\n",
       "        vertical-align: middle;\n",
       "    }\n",
       "\n",
       "    .dataframe tbody tr th {\n",
       "        vertical-align: top;\n",
       "    }\n",
       "\n",
       "    .dataframe thead th {\n",
       "        text-align: right;\n",
       "    }\n",
       "</style>\n",
       "<table border=\"1\" class=\"dataframe\">\n",
       "  <thead>\n",
       "    <tr style=\"text-align: right;\">\n",
       "      <th></th>\n",
       "      <th>Status</th>\n",
       "      <th>Survival_in_days</th>\n",
       "      <th>Pam50Predictions</th>\n",
       "    </tr>\n",
       "  </thead>\n",
       "  <tbody>\n",
       "    <tr>\n",
       "      <th>0</th>\n",
       "      <td>False</td>\n",
       "      <td>2539</td>\n",
       "      <td>LumA</td>\n",
       "    </tr>\n",
       "    <tr>\n",
       "      <th>1</th>\n",
       "      <td>True</td>\n",
       "      <td>4911</td>\n",
       "      <td>LumA</td>\n",
       "    </tr>\n",
       "    <tr>\n",
       "      <th>2</th>\n",
       "      <td>False</td>\n",
       "      <td>4948</td>\n",
       "      <td>LumB</td>\n",
       "    </tr>\n",
       "    <tr>\n",
       "      <th>3</th>\n",
       "      <td>True</td>\n",
       "      <td>234</td>\n",
       "      <td>LumA</td>\n",
       "    </tr>\n",
       "    <tr>\n",
       "      <th>4</th>\n",
       "      <td>False</td>\n",
       "      <td>4930</td>\n",
       "      <td>LumB</td>\n",
       "    </tr>\n",
       "    <tr>\n",
       "      <th>...</th>\n",
       "      <td>...</td>\n",
       "      <td>...</td>\n",
       "      <td>...</td>\n",
       "    </tr>\n",
       "    <tr>\n",
       "      <th>1969</th>\n",
       "      <td>True</td>\n",
       "      <td>1176</td>\n",
       "      <td>LumB</td>\n",
       "    </tr>\n",
       "    <tr>\n",
       "      <th>1970</th>\n",
       "      <td>True</td>\n",
       "      <td>1664</td>\n",
       "      <td>LumA</td>\n",
       "    </tr>\n",
       "    <tr>\n",
       "      <th>1971</th>\n",
       "      <td>True</td>\n",
       "      <td>746</td>\n",
       "      <td>Basal</td>\n",
       "    </tr>\n",
       "    <tr>\n",
       "      <th>1972</th>\n",
       "      <td>False</td>\n",
       "      <td>3329</td>\n",
       "      <td>Normal</td>\n",
       "    </tr>\n",
       "    <tr>\n",
       "      <th>1973</th>\n",
       "      <td>True</td>\n",
       "      <td>1040</td>\n",
       "      <td>Her2</td>\n",
       "    </tr>\n",
       "  </tbody>\n",
       "</table>\n",
       "<p>1973 rows × 3 columns</p>\n",
       "</div>"
      ],
      "text/plain": [
       "      Status  Survival_in_days Pam50Predictions\n",
       "0      False              2539             LumA\n",
       "1       True              4911             LumA\n",
       "2      False              4948             LumB\n",
       "3       True               234             LumA\n",
       "4      False              4930             LumB\n",
       "...      ...               ...              ...\n",
       "1969    True              1176             LumB\n",
       "1970    True              1664             LumA\n",
       "1971    True               746            Basal\n",
       "1972   False              3329           Normal\n",
       "1973    True              1040             Her2\n",
       "\n",
       "[1973 rows x 3 columns]"
      ]
     },
     "execution_count": 15,
     "metadata": {},
     "output_type": "execute_result"
    }
   ],
   "source": [
    "surv_gat = pd.merge(data[[\"Death\", \"clin_T\"]].reset_index(drop=True), df_gat[\"Pam50Predictions\"], left_index=True, right_index=True)\n",
    "surv_gat = surv_gat.drop(surv_gat[surv_gat[\"Death\"] == \"?\"].index)\n",
    "surv_gat[\"Death\"] = surv_gat[\"Death\"].astype(int).astype(bool)\n",
    "surv_gat = surv_gat.rename(columns={\"Death\":\"Status\", \"clin_T\":\"Survival_in_days\"})\n",
    "surv_gat"
   ]
  },
  {
   "cell_type": "code",
   "execution_count": 16,
   "metadata": {},
   "outputs": [
    {
     "data": {
      "image/png": "[encoded data removed]",
      "text/plain": [
       "<Figure size 640x480 with 1 Axes>"
      ]
     },
     "metadata": {},
     "output_type": "display_data"
    }
   ],
   "source": [
    "plot_km(surv_gat, group_clm=\"Pam50Predictions\",conf=False)"
   ]
  },
  {
   "cell_type": "code",
   "execution_count": 17,
   "metadata": {},
   "outputs": [
    {
     "name": "stdout",
     "output_type": "stream",
     "text": [
      "Chi-square: 37.55595976134156\n",
      "P-value: 1.383594692238215e-07\n",
      "        counts  observed    expected  statistic\n",
      "group                                          \n",
      "Basal      389       214  191.650285  22.349715\n",
      "Her2       153       107   73.590052  33.409948\n",
      "LumA      1068       607  672.714763 -65.714763\n",
      "LumB       197       133  103.111118  29.888882\n",
      "Normal     166        76   95.933782 -19.933782\n"
     ]
    }
   ],
   "source": [
    "print_chisq(surv_gat, surv_gat[\"Pam50Predictions\"])"
   ]
  },
  {
   "cell_type": "code",
   "execution_count": 18,
   "metadata": {},
   "outputs": [
    {
     "data": {
      "text/html": [
       "<div>\n",
       "<style scoped>\n",
       "    .dataframe tbody tr th:only-of-type {\n",
       "        vertical-align: middle;\n",
       "    }\n",
       "\n",
       "    .dataframe tbody tr th {\n",
       "        vertical-align: top;\n",
       "    }\n",
       "\n",
       "    .dataframe thead th {\n",
       "        text-align: right;\n",
       "    }\n",
       "</style>\n",
       "<table border=\"1\" class=\"dataframe\">\n",
       "  <thead>\n",
       "    <tr style=\"text-align: right;\">\n",
       "      <th></th>\n",
       "      <th>Pam50Subtype=Her2</th>\n",
       "      <th>Pam50Subtype=LumA</th>\n",
       "      <th>Pam50Subtype=LumB</th>\n",
       "      <th>Pam50Subtype=Normal</th>\n",
       "    </tr>\n",
       "  </thead>\n",
       "  <tbody>\n",
       "    <tr>\n",
       "      <th>0</th>\n",
       "      <td>0.0</td>\n",
       "      <td>1.0</td>\n",
       "      <td>0.0</td>\n",
       "      <td>0.0</td>\n",
       "    </tr>\n",
       "    <tr>\n",
       "      <th>1</th>\n",
       "      <td>0.0</td>\n",
       "      <td>0.0</td>\n",
       "      <td>1.0</td>\n",
       "      <td>0.0</td>\n",
       "    </tr>\n",
       "    <tr>\n",
       "      <th>2</th>\n",
       "      <td>0.0</td>\n",
       "      <td>0.0</td>\n",
       "      <td>1.0</td>\n",
       "      <td>0.0</td>\n",
       "    </tr>\n",
       "    <tr>\n",
       "      <th>3</th>\n",
       "      <td>0.0</td>\n",
       "      <td>0.0</td>\n",
       "      <td>1.0</td>\n",
       "      <td>0.0</td>\n",
       "    </tr>\n",
       "    <tr>\n",
       "      <th>4</th>\n",
       "      <td>0.0</td>\n",
       "      <td>0.0</td>\n",
       "      <td>1.0</td>\n",
       "      <td>0.0</td>\n",
       "    </tr>\n",
       "  </tbody>\n",
       "</table>\n",
       "</div>"
      ],
      "text/plain": [
       "   Pam50Subtype=Her2  Pam50Subtype=LumA  Pam50Subtype=LumB  \\\n",
       "0                0.0                1.0                0.0   \n",
       "1                0.0                0.0                1.0   \n",
       "2                0.0                0.0                1.0   \n",
       "3                0.0                0.0                1.0   \n",
       "4                0.0                0.0                1.0   \n",
       "\n",
       "   Pam50Subtype=Normal  \n",
       "0                  0.0  \n",
       "1                  0.0  \n",
       "2                  0.0  \n",
       "3                  0.0  \n",
       "4                  0.0  "
      ]
     },
     "execution_count": 18,
     "metadata": {},
     "output_type": "execute_result"
    }
   ],
   "source": []
  },
  {
   "cell_type": "code",
   "execution_count": 84,
   "metadata": {},
   "outputs": [],
   "source": [
    "from sklearn import set_config\n",
    "from sksurv.linear_model import CoxPHSurvivalAnalysis\n",
    "import numpy as np\n",
    "\n",
    "from sksurv.preprocessing import OneHotEncoder\n",
    "\n",
    "\n",
    "def pre_process_data(\n",
    "    surv_data,\n",
    "    survival_clm=\"Survival_in_days\",\n",
    "    groups_clm=\"Pam50Subtype\",\n",
    "):\n",
    "    # 1 subtype is missing since cna be represented by setting all the others to 0\n",
    "    data_x_numeric = OneHotEncoder().fit_transform(\n",
    "        surv_data[[groups_clm]].astype(\"category\")\n",
    "    )\n",
    "    data_y = surv_data[[\"Status\", survival_clm]].to_records(index=False)\n",
    "\n",
    "    return data_x_numeric, data_y\n",
    "\n",
    "\n",
    "def get_c_index(data_x, data_y, pred=None, estimator=CoxPHSurvivalAnalysis()):\n",
    "    set_config(display=\"text\")  # displays text representation of estimators\n",
    "\n",
    "    estimator.fit(data_x, data_y)\n",
    "\n",
    "    coef = pd.Series(estimator.coef_, index=data_x.columns)\n",
    "    c_index = estimator.score(data_x, data_y)\n",
    "    print(\"\\nC-index: \", c_index)\n",
    "    return c_index, coef\n",
    "\n",
    "def get_score_features(x, y, m=CoxPHSurvivalAnalysis()):\n",
    "    X = x.values\n",
    "    n_features = X.shape[1]\n",
    "    scores = np.empty(n_features)\n",
    "\n",
    "    for j in range(n_features):\n",
    "        Xj = X[:, j : j + 1]\n",
    "        m.fit(Xj, y)\n",
    "        scores[j] = m.score(Xj, y)\n",
    "    \n",
    "    scores = pd.Series(scores, index=x.columns).sort_values(ascending=False)\n",
    "    print(\"\\nFeature scores:\\n\", scores)\n",
    "    return scores"
   ]
  },
  {
   "cell_type": "code",
   "execution_count": 85,
   "metadata": {},
   "outputs": [
    {
     "name": "stdout",
     "output_type": "stream",
     "text": [
      "\n",
      "Feature scores:\n",
      " Pam50Subtype=LumA      0.559164\n",
      "Pam50Subtype=LumB      0.526074\n",
      "Pam50Subtype=Her2      0.523760\n",
      "Pam50Subtype=Normal    0.508152\n",
      "dtype: float64\n",
      "\n",
      "C-index:  0.5735326973471351\n"
     ]
    }
   ],
   "source": [
    "x, y = pre_process_data(surv_data)\n",
    "get_score_features(x,y)\n",
    "c, s = get_c_index(x,y)"
   ]
  },
  {
   "cell_type": "code",
   "execution_count": 88,
   "metadata": {},
   "outputs": [
    {
     "name": "stdout",
     "output_type": "stream",
     "text": [
      "\n",
      "Feature scores:\n",
      " Pam50Predictions=LumA      0.553424\n",
      "Pam50Predictions=Her2      0.520046\n",
      "Pam50Predictions=LumB      0.510799\n",
      "Pam50Predictions=Normal    0.509971\n",
      "dtype: float64\n",
      "\n",
      "C-index:  0.5650995412799478\n"
     ]
    }
   ],
   "source": [
    "# c, s = print_cox(surv_gat,)\n",
    "\n",
    "x, pred = pre_process_data(surv_gat, groups_clm=\"Pam50Predictions\")\n",
    "get_score_features(x,y)\n",
    "c, s = get_c_index(x,pred)\n"
   ]
  },
  {
   "cell_type": "code",
   "execution_count": null,
   "metadata": {},
   "outputs": [],
   "source": []
  }
 ],
 "metadata": {
  "kernelspec": {
   "display_name": "omics",
   "language": "python",
   "name": "python3"
  },
  "language_info": {
   "codemirror_mode": {
    "name": "ipython",
    "version": 3
   },
   "file_extension": ".py",
   "mimetype": "text/x-python",
   "name": "python",
   "nbconvert_exporter": "python",
   "pygments_lexer": "ipython3",
   "version": "3.11.5"
  }
 },
 "nbformat": 4,
 "nbformat_minor": 2
}
