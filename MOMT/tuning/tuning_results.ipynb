{
 "cells": [
  {
   "cell_type": "code",
   "execution_count": 4,
   "metadata": {},
   "outputs": [],
   "source": [
    "import optuna\n",
    "\n",
    "def print_study_results(study_name, target_fn=lambda t: t.values[0]):\n",
    "    # study = optuna.load_study(study_name=study_name, storage=f\"sqlite:///../baseline_results/mogcn_latent/{study_name}_study.db\")    \n",
    "    study = optuna.load_study(study_name=study_name, storage=f\"sqlite:///{study_name}_study.db\")    \n",
    "\n",
    "    pruned_trials = [\n",
    "        t for t in study.trials if t.state == optuna.trial.TrialState.PRUNED\n",
    "    ]\n",
    "    complete_trials = [\n",
    "        t for t in study.trials if t.state == optuna.trial.TrialState.COMPLETE\n",
    "    ]\n",
    "\n",
    "    print(\"Study statistics: \")\n",
    "    print(\"\\tN finished trials: \", len(study.trials))\n",
    "    print(\"\\tN pruned trials: \", len(pruned_trials))\n",
    "    print(\"\\tN completed trials: \", len(complete_trials))\n",
    "    \n",
    "    print(\"Best trials:\")\n",
    "    for trial in study.best_trials:\n",
    "        print(\"\\tBest mean values: \", trial.values)\n",
    "        print(\"\\tCustom metrics: \", trial.user_attrs)\n",
    "\n",
    "        print(\"\\tParams: \")\n",
    "        for key, value in trial.params.items():\n",
    "            print(f\"\\t\\t{key}: {value}\")\n",
    "    #target=lambda x: x[1]\n",
    "    # fig = optuna.visualization.plot_param_importances(study)\n",
    "    # fig.show()\n",
    "    \n",
    "    # fig = optuna.visualization.plot_optimization_history(study, target=target_fn)\n",
    "    # fig.show()"
   ]
  },
  {
   "cell_type": "markdown",
   "metadata": {},
   "source": [
    "### PAM50 Classification"
   ]
  },
  {
   "cell_type": "code",
   "execution_count": 6,
   "metadata": {},
   "outputs": [
    {
     "ename": "KeyError",
     "evalue": "'Record does not exist.'",
     "output_type": "error",
     "traceback": [
      "\u001b[0;31m---------------------------------------------------------------------------\u001b[0m",
      "\u001b[0;31mKeyError\u001b[0m                                  Traceback (most recent call last)",
      "Cell \u001b[0;32mIn[6], line 1\u001b[0m\n\u001b[0;32m----> 1\u001b[0m \u001b[43mprint_study_results\u001b[49m\u001b[43m(\u001b[49m\u001b[38;5;124;43m\"\u001b[39;49m\u001b[38;5;124;43mcls_mlp\u001b[39;49m\u001b[38;5;124;43m\"\u001b[39;49m\u001b[43m)\u001b[49m\n",
      "Cell \u001b[0;32mIn[4], line 5\u001b[0m, in \u001b[0;36mprint_study_results\u001b[0;34m(study_name, target_fn)\u001b[0m\n\u001b[1;32m      3\u001b[0m \u001b[38;5;28;01mdef\u001b[39;00m \u001b[38;5;21mprint_study_results\u001b[39m(study_name, target_fn\u001b[38;5;241m=\u001b[39m\u001b[38;5;28;01mlambda\u001b[39;00m t: t\u001b[38;5;241m.\u001b[39mvalues[\u001b[38;5;241m0\u001b[39m]):\n\u001b[1;32m      4\u001b[0m     \u001b[38;5;66;03m# study = optuna.load_study(study_name=study_name, storage=f\"sqlite:///../baseline_results/mogcn_latent/{study_name}_study.db\")    \u001b[39;00m\n\u001b[0;32m----> 5\u001b[0m     study \u001b[38;5;241m=\u001b[39m \u001b[43moptuna\u001b[49m\u001b[38;5;241;43m.\u001b[39;49m\u001b[43mload_study\u001b[49m\u001b[43m(\u001b[49m\u001b[43mstudy_name\u001b[49m\u001b[38;5;241;43m=\u001b[39;49m\u001b[43mstudy_name\u001b[49m\u001b[43m,\u001b[49m\u001b[43m \u001b[49m\u001b[43mstorage\u001b[49m\u001b[38;5;241;43m=\u001b[39;49m\u001b[38;5;124;43mf\u001b[39;49m\u001b[38;5;124;43m\"\u001b[39;49m\u001b[38;5;124;43msqlite:///\u001b[39;49m\u001b[38;5;132;43;01m{\u001b[39;49;00m\u001b[43mstudy_name\u001b[49m\u001b[38;5;132;43;01m}\u001b[39;49;00m\u001b[38;5;124;43m_study.db\u001b[39;49m\u001b[38;5;124;43m\"\u001b[39;49m\u001b[43m)\u001b[49m    \n\u001b[1;32m      7\u001b[0m     pruned_trials \u001b[38;5;241m=\u001b[39m [\n\u001b[1;32m      8\u001b[0m         t \u001b[38;5;28;01mfor\u001b[39;00m t \u001b[38;5;129;01min\u001b[39;00m study\u001b[38;5;241m.\u001b[39mtrials \u001b[38;5;28;01mif\u001b[39;00m t\u001b[38;5;241m.\u001b[39mstate \u001b[38;5;241m==\u001b[39m optuna\u001b[38;5;241m.\u001b[39mtrial\u001b[38;5;241m.\u001b[39mTrialState\u001b[38;5;241m.\u001b[39mPRUNED\n\u001b[1;32m      9\u001b[0m     ]\n\u001b[1;32m     10\u001b[0m     complete_trials \u001b[38;5;241m=\u001b[39m [\n\u001b[1;32m     11\u001b[0m         t \u001b[38;5;28;01mfor\u001b[39;00m t \u001b[38;5;129;01min\u001b[39;00m study\u001b[38;5;241m.\u001b[39mtrials \u001b[38;5;28;01mif\u001b[39;00m t\u001b[38;5;241m.\u001b[39mstate \u001b[38;5;241m==\u001b[39m optuna\u001b[38;5;241m.\u001b[39mtrial\u001b[38;5;241m.\u001b[39mTrialState\u001b[38;5;241m.\u001b[39mCOMPLETE\n\u001b[1;32m     12\u001b[0m     ]\n",
      "File \u001b[0;32m~/miniconda3/envs/omics/lib/python3.11/site-packages/optuna/_convert_positional_args.py:63\u001b[0m, in \u001b[0;36mconvert_positional_args.<locals>.converter_decorator.<locals>.converter_wrapper\u001b[0;34m(*args, **kwargs)\u001b[0m\n\u001b[1;32m     58\u001b[0m         \u001b[38;5;28;01mraise\u001b[39;00m \u001b[38;5;167;01mTypeError\u001b[39;00m(\n\u001b[1;32m     59\u001b[0m             \u001b[38;5;124mf\u001b[39m\u001b[38;5;124m\"\u001b[39m\u001b[38;5;132;01m{\u001b[39;00mfunc\u001b[38;5;241m.\u001b[39m\u001b[38;5;18m__name__\u001b[39m\u001b[38;5;132;01m}\u001b[39;00m\u001b[38;5;124m() got multiple values for argument \u001b[39m\u001b[38;5;124m'\u001b[39m\u001b[38;5;132;01m{\u001b[39;00marg_name\u001b[38;5;132;01m}\u001b[39;00m\u001b[38;5;124m'\u001b[39m\u001b[38;5;124m.\u001b[39m\u001b[38;5;124m\"\u001b[39m\n\u001b[1;32m     60\u001b[0m         )\n\u001b[1;32m     61\u001b[0m     kwargs[arg_name] \u001b[38;5;241m=\u001b[39m val\n\u001b[0;32m---> 63\u001b[0m \u001b[38;5;28;01mreturn\u001b[39;00m \u001b[43mfunc\u001b[49m\u001b[43m(\u001b[49m\u001b[38;5;241;43m*\u001b[39;49m\u001b[38;5;241;43m*\u001b[39;49m\u001b[43mkwargs\u001b[49m\u001b[43m)\u001b[49m\n",
      "File \u001b[0;32m~/miniconda3/envs/omics/lib/python3.11/site-packages/optuna/study/study.py:1350\u001b[0m, in \u001b[0;36mload_study\u001b[0;34m(study_name, storage, sampler, pruner)\u001b[0m\n\u001b[1;32m   1344\u001b[0m     study_name \u001b[38;5;241m=\u001b[39m study_names[\u001b[38;5;241m0\u001b[39m]\n\u001b[1;32m   1345\u001b[0m     _logger\u001b[38;5;241m.\u001b[39minfo(\n\u001b[1;32m   1346\u001b[0m         \u001b[38;5;124mf\u001b[39m\u001b[38;5;124m\"\u001b[39m\u001b[38;5;124mStudy name was omitted but trying to load \u001b[39m\u001b[38;5;124m'\u001b[39m\u001b[38;5;132;01m{\u001b[39;00mstudy_name\u001b[38;5;132;01m}\u001b[39;00m\u001b[38;5;124m'\u001b[39m\u001b[38;5;124m because that was the only \u001b[39m\u001b[38;5;124m\"\u001b[39m\n\u001b[1;32m   1347\u001b[0m         \u001b[38;5;124m\"\u001b[39m\u001b[38;5;124mstudy found in the storage.\u001b[39m\u001b[38;5;124m\"\u001b[39m\n\u001b[1;32m   1348\u001b[0m     )\n\u001b[0;32m-> 1350\u001b[0m \u001b[38;5;28;01mreturn\u001b[39;00m \u001b[43mStudy\u001b[49m\u001b[43m(\u001b[49m\u001b[43mstudy_name\u001b[49m\u001b[38;5;241;43m=\u001b[39;49m\u001b[43mstudy_name\u001b[49m\u001b[43m,\u001b[49m\u001b[43m \u001b[49m\u001b[43mstorage\u001b[49m\u001b[38;5;241;43m=\u001b[39;49m\u001b[43mstorage\u001b[49m\u001b[43m,\u001b[49m\u001b[43m \u001b[49m\u001b[43msampler\u001b[49m\u001b[38;5;241;43m=\u001b[39;49m\u001b[43msampler\u001b[49m\u001b[43m,\u001b[49m\u001b[43m \u001b[49m\u001b[43mpruner\u001b[49m\u001b[38;5;241;43m=\u001b[39;49m\u001b[43mpruner\u001b[49m\u001b[43m)\u001b[49m\n",
      "File \u001b[0;32m~/miniconda3/envs/omics/lib/python3.11/site-packages/optuna/study/study.py:82\u001b[0m, in \u001b[0;36mStudy.__init__\u001b[0;34m(self, study_name, storage, sampler, pruner)\u001b[0m\n\u001b[1;32m     80\u001b[0m \u001b[38;5;28mself\u001b[39m\u001b[38;5;241m.\u001b[39mstudy_name \u001b[38;5;241m=\u001b[39m study_name\n\u001b[1;32m     81\u001b[0m storage \u001b[38;5;241m=\u001b[39m storages\u001b[38;5;241m.\u001b[39mget_storage(storage)\n\u001b[0;32m---> 82\u001b[0m study_id \u001b[38;5;241m=\u001b[39m \u001b[43mstorage\u001b[49m\u001b[38;5;241;43m.\u001b[39;49m\u001b[43mget_study_id_from_name\u001b[49m\u001b[43m(\u001b[49m\u001b[43mstudy_name\u001b[49m\u001b[43m)\u001b[49m\n\u001b[1;32m     83\u001b[0m \u001b[38;5;28mself\u001b[39m\u001b[38;5;241m.\u001b[39m_study_id \u001b[38;5;241m=\u001b[39m study_id\n\u001b[1;32m     84\u001b[0m \u001b[38;5;28mself\u001b[39m\u001b[38;5;241m.\u001b[39m_storage \u001b[38;5;241m=\u001b[39m storage\n",
      "File \u001b[0;32m~/miniconda3/envs/omics/lib/python3.11/site-packages/optuna/storages/_cached_storage.py:111\u001b[0m, in \u001b[0;36m_CachedStorage.get_study_id_from_name\u001b[0;34m(self, study_name)\u001b[0m\n\u001b[1;32m    110\u001b[0m \u001b[38;5;28;01mdef\u001b[39;00m \u001b[38;5;21mget_study_id_from_name\u001b[39m(\u001b[38;5;28mself\u001b[39m, study_name: \u001b[38;5;28mstr\u001b[39m) \u001b[38;5;241m-\u001b[39m\u001b[38;5;241m>\u001b[39m \u001b[38;5;28mint\u001b[39m:\n\u001b[0;32m--> 111\u001b[0m     \u001b[38;5;28;01mreturn\u001b[39;00m \u001b[38;5;28;43mself\u001b[39;49m\u001b[38;5;241;43m.\u001b[39;49m\u001b[43m_backend\u001b[49m\u001b[38;5;241;43m.\u001b[39;49m\u001b[43mget_study_id_from_name\u001b[49m\u001b[43m(\u001b[49m\u001b[43mstudy_name\u001b[49m\u001b[43m)\u001b[49m\n",
      "File \u001b[0;32m~/miniconda3/envs/omics/lib/python3.11/site-packages/optuna/storages/_rdb/storage.py:330\u001b[0m, in \u001b[0;36mRDBStorage.get_study_id_from_name\u001b[0;34m(self, study_name)\u001b[0m\n\u001b[1;32m    328\u001b[0m \u001b[38;5;28;01mdef\u001b[39;00m \u001b[38;5;21mget_study_id_from_name\u001b[39m(\u001b[38;5;28mself\u001b[39m, study_name: \u001b[38;5;28mstr\u001b[39m) \u001b[38;5;241m-\u001b[39m\u001b[38;5;241m>\u001b[39m \u001b[38;5;28mint\u001b[39m:\n\u001b[1;32m    329\u001b[0m     \u001b[38;5;28;01mwith\u001b[39;00m _create_scoped_session(\u001b[38;5;28mself\u001b[39m\u001b[38;5;241m.\u001b[39mscoped_session) \u001b[38;5;28;01mas\u001b[39;00m session:\n\u001b[0;32m--> 330\u001b[0m         study \u001b[38;5;241m=\u001b[39m \u001b[43mmodels\u001b[49m\u001b[38;5;241;43m.\u001b[39;49m\u001b[43mStudyModel\u001b[49m\u001b[38;5;241;43m.\u001b[39;49m\u001b[43mfind_or_raise_by_name\u001b[49m\u001b[43m(\u001b[49m\u001b[43mstudy_name\u001b[49m\u001b[43m,\u001b[49m\u001b[43m \u001b[49m\u001b[43msession\u001b[49m\u001b[43m)\u001b[49m\n\u001b[1;32m    331\u001b[0m         study_id \u001b[38;5;241m=\u001b[39m study\u001b[38;5;241m.\u001b[39mstudy_id\n\u001b[1;32m    333\u001b[0m     \u001b[38;5;28;01mreturn\u001b[39;00m study_id\n",
      "File \u001b[0;32m~/miniconda3/envs/omics/lib/python3.11/site-packages/optuna/storages/_rdb/models.py:89\u001b[0m, in \u001b[0;36mStudyModel.find_or_raise_by_name\u001b[0;34m(cls, study_name, session)\u001b[0m\n\u001b[1;32m     87\u001b[0m study \u001b[38;5;241m=\u001b[39m \u001b[38;5;28mcls\u001b[39m\u001b[38;5;241m.\u001b[39mfind_by_name(study_name, session)\n\u001b[1;32m     88\u001b[0m \u001b[38;5;28;01mif\u001b[39;00m study \u001b[38;5;129;01mis\u001b[39;00m \u001b[38;5;28;01mNone\u001b[39;00m:\n\u001b[0;32m---> 89\u001b[0m     \u001b[38;5;28;01mraise\u001b[39;00m \u001b[38;5;167;01mKeyError\u001b[39;00m(NOT_FOUND_MSG)\n\u001b[1;32m     91\u001b[0m \u001b[38;5;28;01mreturn\u001b[39;00m study\n",
      "\u001b[0;31mKeyError\u001b[0m: 'Record does not exist.'"
     ]
    }
   ],
   "source": [
    "print_study_results(\"cls_mlp\")"
   ]
  },
  {
   "cell_type": "code",
   "execution_count": 7,
   "metadata": {},
   "outputs": [
    {
     "ename": "KeyError",
     "evalue": "'Record does not exist.'",
     "output_type": "error",
     "traceback": [
      "\u001b[0;31m---------------------------------------------------------------------------\u001b[0m",
      "\u001b[0;31mKeyError\u001b[0m                                  Traceback (most recent call last)",
      "Cell \u001b[0;32mIn[7], line 1\u001b[0m\n\u001b[0;32m----> 1\u001b[0m \u001b[43mprint_study_results\u001b[49m\u001b[43m(\u001b[49m\u001b[38;5;124;43m\"\u001b[39;49m\u001b[38;5;124;43mcls_gcn\u001b[39;49m\u001b[38;5;124;43m\"\u001b[39;49m\u001b[43m)\u001b[49m\n",
      "Cell \u001b[0;32mIn[4], line 5\u001b[0m, in \u001b[0;36mprint_study_results\u001b[0;34m(study_name, target_fn)\u001b[0m\n\u001b[1;32m      3\u001b[0m \u001b[38;5;28;01mdef\u001b[39;00m \u001b[38;5;21mprint_study_results\u001b[39m(study_name, target_fn\u001b[38;5;241m=\u001b[39m\u001b[38;5;28;01mlambda\u001b[39;00m t: t\u001b[38;5;241m.\u001b[39mvalues[\u001b[38;5;241m0\u001b[39m]):\n\u001b[1;32m      4\u001b[0m     \u001b[38;5;66;03m# study = optuna.load_study(study_name=study_name, storage=f\"sqlite:///../baseline_results/mogcn_latent/{study_name}_study.db\")    \u001b[39;00m\n\u001b[0;32m----> 5\u001b[0m     study \u001b[38;5;241m=\u001b[39m \u001b[43moptuna\u001b[49m\u001b[38;5;241;43m.\u001b[39;49m\u001b[43mload_study\u001b[49m\u001b[43m(\u001b[49m\u001b[43mstudy_name\u001b[49m\u001b[38;5;241;43m=\u001b[39;49m\u001b[43mstudy_name\u001b[49m\u001b[43m,\u001b[49m\u001b[43m \u001b[49m\u001b[43mstorage\u001b[49m\u001b[38;5;241;43m=\u001b[39;49m\u001b[38;5;124;43mf\u001b[39;49m\u001b[38;5;124;43m\"\u001b[39;49m\u001b[38;5;124;43msqlite:///\u001b[39;49m\u001b[38;5;132;43;01m{\u001b[39;49;00m\u001b[43mstudy_name\u001b[49m\u001b[38;5;132;43;01m}\u001b[39;49;00m\u001b[38;5;124;43m_study.db\u001b[39;49m\u001b[38;5;124;43m\"\u001b[39;49m\u001b[43m)\u001b[49m    \n\u001b[1;32m      7\u001b[0m     pruned_trials \u001b[38;5;241m=\u001b[39m [\n\u001b[1;32m      8\u001b[0m         t \u001b[38;5;28;01mfor\u001b[39;00m t \u001b[38;5;129;01min\u001b[39;00m study\u001b[38;5;241m.\u001b[39mtrials \u001b[38;5;28;01mif\u001b[39;00m t\u001b[38;5;241m.\u001b[39mstate \u001b[38;5;241m==\u001b[39m optuna\u001b[38;5;241m.\u001b[39mtrial\u001b[38;5;241m.\u001b[39mTrialState\u001b[38;5;241m.\u001b[39mPRUNED\n\u001b[1;32m      9\u001b[0m     ]\n\u001b[1;32m     10\u001b[0m     complete_trials \u001b[38;5;241m=\u001b[39m [\n\u001b[1;32m     11\u001b[0m         t \u001b[38;5;28;01mfor\u001b[39;00m t \u001b[38;5;129;01min\u001b[39;00m study\u001b[38;5;241m.\u001b[39mtrials \u001b[38;5;28;01mif\u001b[39;00m t\u001b[38;5;241m.\u001b[39mstate \u001b[38;5;241m==\u001b[39m optuna\u001b[38;5;241m.\u001b[39mtrial\u001b[38;5;241m.\u001b[39mTrialState\u001b[38;5;241m.\u001b[39mCOMPLETE\n\u001b[1;32m     12\u001b[0m     ]\n",
      "File \u001b[0;32m~/miniconda3/envs/omics/lib/python3.11/site-packages/optuna/_convert_positional_args.py:63\u001b[0m, in \u001b[0;36mconvert_positional_args.<locals>.converter_decorator.<locals>.converter_wrapper\u001b[0;34m(*args, **kwargs)\u001b[0m\n\u001b[1;32m     58\u001b[0m         \u001b[38;5;28;01mraise\u001b[39;00m \u001b[38;5;167;01mTypeError\u001b[39;00m(\n\u001b[1;32m     59\u001b[0m             \u001b[38;5;124mf\u001b[39m\u001b[38;5;124m\"\u001b[39m\u001b[38;5;132;01m{\u001b[39;00mfunc\u001b[38;5;241m.\u001b[39m\u001b[38;5;18m__name__\u001b[39m\u001b[38;5;132;01m}\u001b[39;00m\u001b[38;5;124m() got multiple values for argument \u001b[39m\u001b[38;5;124m'\u001b[39m\u001b[38;5;132;01m{\u001b[39;00marg_name\u001b[38;5;132;01m}\u001b[39;00m\u001b[38;5;124m'\u001b[39m\u001b[38;5;124m.\u001b[39m\u001b[38;5;124m\"\u001b[39m\n\u001b[1;32m     60\u001b[0m         )\n\u001b[1;32m     61\u001b[0m     kwargs[arg_name] \u001b[38;5;241m=\u001b[39m val\n\u001b[0;32m---> 63\u001b[0m \u001b[38;5;28;01mreturn\u001b[39;00m \u001b[43mfunc\u001b[49m\u001b[43m(\u001b[49m\u001b[38;5;241;43m*\u001b[39;49m\u001b[38;5;241;43m*\u001b[39;49m\u001b[43mkwargs\u001b[49m\u001b[43m)\u001b[49m\n",
      "File \u001b[0;32m~/miniconda3/envs/omics/lib/python3.11/site-packages/optuna/study/study.py:1350\u001b[0m, in \u001b[0;36mload_study\u001b[0;34m(study_name, storage, sampler, pruner)\u001b[0m\n\u001b[1;32m   1344\u001b[0m     study_name \u001b[38;5;241m=\u001b[39m study_names[\u001b[38;5;241m0\u001b[39m]\n\u001b[1;32m   1345\u001b[0m     _logger\u001b[38;5;241m.\u001b[39minfo(\n\u001b[1;32m   1346\u001b[0m         \u001b[38;5;124mf\u001b[39m\u001b[38;5;124m\"\u001b[39m\u001b[38;5;124mStudy name was omitted but trying to load \u001b[39m\u001b[38;5;124m'\u001b[39m\u001b[38;5;132;01m{\u001b[39;00mstudy_name\u001b[38;5;132;01m}\u001b[39;00m\u001b[38;5;124m'\u001b[39m\u001b[38;5;124m because that was the only \u001b[39m\u001b[38;5;124m\"\u001b[39m\n\u001b[1;32m   1347\u001b[0m         \u001b[38;5;124m\"\u001b[39m\u001b[38;5;124mstudy found in the storage.\u001b[39m\u001b[38;5;124m\"\u001b[39m\n\u001b[1;32m   1348\u001b[0m     )\n\u001b[0;32m-> 1350\u001b[0m \u001b[38;5;28;01mreturn\u001b[39;00m \u001b[43mStudy\u001b[49m\u001b[43m(\u001b[49m\u001b[43mstudy_name\u001b[49m\u001b[38;5;241;43m=\u001b[39;49m\u001b[43mstudy_name\u001b[49m\u001b[43m,\u001b[49m\u001b[43m \u001b[49m\u001b[43mstorage\u001b[49m\u001b[38;5;241;43m=\u001b[39;49m\u001b[43mstorage\u001b[49m\u001b[43m,\u001b[49m\u001b[43m \u001b[49m\u001b[43msampler\u001b[49m\u001b[38;5;241;43m=\u001b[39;49m\u001b[43msampler\u001b[49m\u001b[43m,\u001b[49m\u001b[43m \u001b[49m\u001b[43mpruner\u001b[49m\u001b[38;5;241;43m=\u001b[39;49m\u001b[43mpruner\u001b[49m\u001b[43m)\u001b[49m\n",
      "File \u001b[0;32m~/miniconda3/envs/omics/lib/python3.11/site-packages/optuna/study/study.py:82\u001b[0m, in \u001b[0;36mStudy.__init__\u001b[0;34m(self, study_name, storage, sampler, pruner)\u001b[0m\n\u001b[1;32m     80\u001b[0m \u001b[38;5;28mself\u001b[39m\u001b[38;5;241m.\u001b[39mstudy_name \u001b[38;5;241m=\u001b[39m study_name\n\u001b[1;32m     81\u001b[0m storage \u001b[38;5;241m=\u001b[39m storages\u001b[38;5;241m.\u001b[39mget_storage(storage)\n\u001b[0;32m---> 82\u001b[0m study_id \u001b[38;5;241m=\u001b[39m \u001b[43mstorage\u001b[49m\u001b[38;5;241;43m.\u001b[39;49m\u001b[43mget_study_id_from_name\u001b[49m\u001b[43m(\u001b[49m\u001b[43mstudy_name\u001b[49m\u001b[43m)\u001b[49m\n\u001b[1;32m     83\u001b[0m \u001b[38;5;28mself\u001b[39m\u001b[38;5;241m.\u001b[39m_study_id \u001b[38;5;241m=\u001b[39m study_id\n\u001b[1;32m     84\u001b[0m \u001b[38;5;28mself\u001b[39m\u001b[38;5;241m.\u001b[39m_storage \u001b[38;5;241m=\u001b[39m storage\n",
      "File \u001b[0;32m~/miniconda3/envs/omics/lib/python3.11/site-packages/optuna/storages/_cached_storage.py:111\u001b[0m, in \u001b[0;36m_CachedStorage.get_study_id_from_name\u001b[0;34m(self, study_name)\u001b[0m\n\u001b[1;32m    110\u001b[0m \u001b[38;5;28;01mdef\u001b[39;00m \u001b[38;5;21mget_study_id_from_name\u001b[39m(\u001b[38;5;28mself\u001b[39m, study_name: \u001b[38;5;28mstr\u001b[39m) \u001b[38;5;241m-\u001b[39m\u001b[38;5;241m>\u001b[39m \u001b[38;5;28mint\u001b[39m:\n\u001b[0;32m--> 111\u001b[0m     \u001b[38;5;28;01mreturn\u001b[39;00m \u001b[38;5;28;43mself\u001b[39;49m\u001b[38;5;241;43m.\u001b[39;49m\u001b[43m_backend\u001b[49m\u001b[38;5;241;43m.\u001b[39;49m\u001b[43mget_study_id_from_name\u001b[49m\u001b[43m(\u001b[49m\u001b[43mstudy_name\u001b[49m\u001b[43m)\u001b[49m\n",
      "File \u001b[0;32m~/miniconda3/envs/omics/lib/python3.11/site-packages/optuna/storages/_rdb/storage.py:330\u001b[0m, in \u001b[0;36mRDBStorage.get_study_id_from_name\u001b[0;34m(self, study_name)\u001b[0m\n\u001b[1;32m    328\u001b[0m \u001b[38;5;28;01mdef\u001b[39;00m \u001b[38;5;21mget_study_id_from_name\u001b[39m(\u001b[38;5;28mself\u001b[39m, study_name: \u001b[38;5;28mstr\u001b[39m) \u001b[38;5;241m-\u001b[39m\u001b[38;5;241m>\u001b[39m \u001b[38;5;28mint\u001b[39m:\n\u001b[1;32m    329\u001b[0m     \u001b[38;5;28;01mwith\u001b[39;00m _create_scoped_session(\u001b[38;5;28mself\u001b[39m\u001b[38;5;241m.\u001b[39mscoped_session) \u001b[38;5;28;01mas\u001b[39;00m session:\n\u001b[0;32m--> 330\u001b[0m         study \u001b[38;5;241m=\u001b[39m \u001b[43mmodels\u001b[49m\u001b[38;5;241;43m.\u001b[39;49m\u001b[43mStudyModel\u001b[49m\u001b[38;5;241;43m.\u001b[39;49m\u001b[43mfind_or_raise_by_name\u001b[49m\u001b[43m(\u001b[49m\u001b[43mstudy_name\u001b[49m\u001b[43m,\u001b[49m\u001b[43m \u001b[49m\u001b[43msession\u001b[49m\u001b[43m)\u001b[49m\n\u001b[1;32m    331\u001b[0m         study_id \u001b[38;5;241m=\u001b[39m study\u001b[38;5;241m.\u001b[39mstudy_id\n\u001b[1;32m    333\u001b[0m     \u001b[38;5;28;01mreturn\u001b[39;00m study_id\n",
      "File \u001b[0;32m~/miniconda3/envs/omics/lib/python3.11/site-packages/optuna/storages/_rdb/models.py:89\u001b[0m, in \u001b[0;36mStudyModel.find_or_raise_by_name\u001b[0;34m(cls, study_name, session)\u001b[0m\n\u001b[1;32m     87\u001b[0m study \u001b[38;5;241m=\u001b[39m \u001b[38;5;28mcls\u001b[39m\u001b[38;5;241m.\u001b[39mfind_by_name(study_name, session)\n\u001b[1;32m     88\u001b[0m \u001b[38;5;28;01mif\u001b[39;00m study \u001b[38;5;129;01mis\u001b[39;00m \u001b[38;5;28;01mNone\u001b[39;00m:\n\u001b[0;32m---> 89\u001b[0m     \u001b[38;5;28;01mraise\u001b[39;00m \u001b[38;5;167;01mKeyError\u001b[39;00m(NOT_FOUND_MSG)\n\u001b[1;32m     91\u001b[0m \u001b[38;5;28;01mreturn\u001b[39;00m study\n",
      "\u001b[0;31mKeyError\u001b[0m: 'Record does not exist.'"
     ]
    }
   ],
   "source": [
    "print_study_results(\"cls_gcn\")"
   ]
  },
  {
   "cell_type": "code",
   "execution_count": 8,
   "metadata": {},
   "outputs": [
    {
     "ename": "KeyError",
     "evalue": "'Record does not exist.'",
     "output_type": "error",
     "traceback": [
      "\u001b[0;31m---------------------------------------------------------------------------\u001b[0m",
      "\u001b[0;31mKeyError\u001b[0m                                  Traceback (most recent call last)",
      "Cell \u001b[0;32mIn[8], line 1\u001b[0m\n\u001b[0;32m----> 1\u001b[0m \u001b[43mprint_study_results\u001b[49m\u001b[43m(\u001b[49m\u001b[38;5;124;43m\"\u001b[39;49m\u001b[38;5;124;43mcls_gat\u001b[39;49m\u001b[38;5;124;43m\"\u001b[39;49m\u001b[43m)\u001b[49m\n",
      "Cell \u001b[0;32mIn[4], line 5\u001b[0m, in \u001b[0;36mprint_study_results\u001b[0;34m(study_name, target_fn)\u001b[0m\n\u001b[1;32m      3\u001b[0m \u001b[38;5;28;01mdef\u001b[39;00m \u001b[38;5;21mprint_study_results\u001b[39m(study_name, target_fn\u001b[38;5;241m=\u001b[39m\u001b[38;5;28;01mlambda\u001b[39;00m t: t\u001b[38;5;241m.\u001b[39mvalues[\u001b[38;5;241m0\u001b[39m]):\n\u001b[1;32m      4\u001b[0m     \u001b[38;5;66;03m# study = optuna.load_study(study_name=study_name, storage=f\"sqlite:///../baseline_results/mogcn_latent/{study_name}_study.db\")    \u001b[39;00m\n\u001b[0;32m----> 5\u001b[0m     study \u001b[38;5;241m=\u001b[39m \u001b[43moptuna\u001b[49m\u001b[38;5;241;43m.\u001b[39;49m\u001b[43mload_study\u001b[49m\u001b[43m(\u001b[49m\u001b[43mstudy_name\u001b[49m\u001b[38;5;241;43m=\u001b[39;49m\u001b[43mstudy_name\u001b[49m\u001b[43m,\u001b[49m\u001b[43m \u001b[49m\u001b[43mstorage\u001b[49m\u001b[38;5;241;43m=\u001b[39;49m\u001b[38;5;124;43mf\u001b[39;49m\u001b[38;5;124;43m\"\u001b[39;49m\u001b[38;5;124;43msqlite:///\u001b[39;49m\u001b[38;5;132;43;01m{\u001b[39;49;00m\u001b[43mstudy_name\u001b[49m\u001b[38;5;132;43;01m}\u001b[39;49;00m\u001b[38;5;124;43m_study.db\u001b[39;49m\u001b[38;5;124;43m\"\u001b[39;49m\u001b[43m)\u001b[49m    \n\u001b[1;32m      7\u001b[0m     pruned_trials \u001b[38;5;241m=\u001b[39m [\n\u001b[1;32m      8\u001b[0m         t \u001b[38;5;28;01mfor\u001b[39;00m t \u001b[38;5;129;01min\u001b[39;00m study\u001b[38;5;241m.\u001b[39mtrials \u001b[38;5;28;01mif\u001b[39;00m t\u001b[38;5;241m.\u001b[39mstate \u001b[38;5;241m==\u001b[39m optuna\u001b[38;5;241m.\u001b[39mtrial\u001b[38;5;241m.\u001b[39mTrialState\u001b[38;5;241m.\u001b[39mPRUNED\n\u001b[1;32m      9\u001b[0m     ]\n\u001b[1;32m     10\u001b[0m     complete_trials \u001b[38;5;241m=\u001b[39m [\n\u001b[1;32m     11\u001b[0m         t \u001b[38;5;28;01mfor\u001b[39;00m t \u001b[38;5;129;01min\u001b[39;00m study\u001b[38;5;241m.\u001b[39mtrials \u001b[38;5;28;01mif\u001b[39;00m t\u001b[38;5;241m.\u001b[39mstate \u001b[38;5;241m==\u001b[39m optuna\u001b[38;5;241m.\u001b[39mtrial\u001b[38;5;241m.\u001b[39mTrialState\u001b[38;5;241m.\u001b[39mCOMPLETE\n\u001b[1;32m     12\u001b[0m     ]\n",
      "File \u001b[0;32m~/miniconda3/envs/omics/lib/python3.11/site-packages/optuna/_convert_positional_args.py:63\u001b[0m, in \u001b[0;36mconvert_positional_args.<locals>.converter_decorator.<locals>.converter_wrapper\u001b[0;34m(*args, **kwargs)\u001b[0m\n\u001b[1;32m     58\u001b[0m         \u001b[38;5;28;01mraise\u001b[39;00m \u001b[38;5;167;01mTypeError\u001b[39;00m(\n\u001b[1;32m     59\u001b[0m             \u001b[38;5;124mf\u001b[39m\u001b[38;5;124m\"\u001b[39m\u001b[38;5;132;01m{\u001b[39;00mfunc\u001b[38;5;241m.\u001b[39m\u001b[38;5;18m__name__\u001b[39m\u001b[38;5;132;01m}\u001b[39;00m\u001b[38;5;124m() got multiple values for argument \u001b[39m\u001b[38;5;124m'\u001b[39m\u001b[38;5;132;01m{\u001b[39;00marg_name\u001b[38;5;132;01m}\u001b[39;00m\u001b[38;5;124m'\u001b[39m\u001b[38;5;124m.\u001b[39m\u001b[38;5;124m\"\u001b[39m\n\u001b[1;32m     60\u001b[0m         )\n\u001b[1;32m     61\u001b[0m     kwargs[arg_name] \u001b[38;5;241m=\u001b[39m val\n\u001b[0;32m---> 63\u001b[0m \u001b[38;5;28;01mreturn\u001b[39;00m \u001b[43mfunc\u001b[49m\u001b[43m(\u001b[49m\u001b[38;5;241;43m*\u001b[39;49m\u001b[38;5;241;43m*\u001b[39;49m\u001b[43mkwargs\u001b[49m\u001b[43m)\u001b[49m\n",
      "File \u001b[0;32m~/miniconda3/envs/omics/lib/python3.11/site-packages/optuna/study/study.py:1350\u001b[0m, in \u001b[0;36mload_study\u001b[0;34m(study_name, storage, sampler, pruner)\u001b[0m\n\u001b[1;32m   1344\u001b[0m     study_name \u001b[38;5;241m=\u001b[39m study_names[\u001b[38;5;241m0\u001b[39m]\n\u001b[1;32m   1345\u001b[0m     _logger\u001b[38;5;241m.\u001b[39minfo(\n\u001b[1;32m   1346\u001b[0m         \u001b[38;5;124mf\u001b[39m\u001b[38;5;124m\"\u001b[39m\u001b[38;5;124mStudy name was omitted but trying to load \u001b[39m\u001b[38;5;124m'\u001b[39m\u001b[38;5;132;01m{\u001b[39;00mstudy_name\u001b[38;5;132;01m}\u001b[39;00m\u001b[38;5;124m'\u001b[39m\u001b[38;5;124m because that was the only \u001b[39m\u001b[38;5;124m\"\u001b[39m\n\u001b[1;32m   1347\u001b[0m         \u001b[38;5;124m\"\u001b[39m\u001b[38;5;124mstudy found in the storage.\u001b[39m\u001b[38;5;124m\"\u001b[39m\n\u001b[1;32m   1348\u001b[0m     )\n\u001b[0;32m-> 1350\u001b[0m \u001b[38;5;28;01mreturn\u001b[39;00m \u001b[43mStudy\u001b[49m\u001b[43m(\u001b[49m\u001b[43mstudy_name\u001b[49m\u001b[38;5;241;43m=\u001b[39;49m\u001b[43mstudy_name\u001b[49m\u001b[43m,\u001b[49m\u001b[43m \u001b[49m\u001b[43mstorage\u001b[49m\u001b[38;5;241;43m=\u001b[39;49m\u001b[43mstorage\u001b[49m\u001b[43m,\u001b[49m\u001b[43m \u001b[49m\u001b[43msampler\u001b[49m\u001b[38;5;241;43m=\u001b[39;49m\u001b[43msampler\u001b[49m\u001b[43m,\u001b[49m\u001b[43m \u001b[49m\u001b[43mpruner\u001b[49m\u001b[38;5;241;43m=\u001b[39;49m\u001b[43mpruner\u001b[49m\u001b[43m)\u001b[49m\n",
      "File \u001b[0;32m~/miniconda3/envs/omics/lib/python3.11/site-packages/optuna/study/study.py:82\u001b[0m, in \u001b[0;36mStudy.__init__\u001b[0;34m(self, study_name, storage, sampler, pruner)\u001b[0m\n\u001b[1;32m     80\u001b[0m \u001b[38;5;28mself\u001b[39m\u001b[38;5;241m.\u001b[39mstudy_name \u001b[38;5;241m=\u001b[39m study_name\n\u001b[1;32m     81\u001b[0m storage \u001b[38;5;241m=\u001b[39m storages\u001b[38;5;241m.\u001b[39mget_storage(storage)\n\u001b[0;32m---> 82\u001b[0m study_id \u001b[38;5;241m=\u001b[39m \u001b[43mstorage\u001b[49m\u001b[38;5;241;43m.\u001b[39;49m\u001b[43mget_study_id_from_name\u001b[49m\u001b[43m(\u001b[49m\u001b[43mstudy_name\u001b[49m\u001b[43m)\u001b[49m\n\u001b[1;32m     83\u001b[0m \u001b[38;5;28mself\u001b[39m\u001b[38;5;241m.\u001b[39m_study_id \u001b[38;5;241m=\u001b[39m study_id\n\u001b[1;32m     84\u001b[0m \u001b[38;5;28mself\u001b[39m\u001b[38;5;241m.\u001b[39m_storage \u001b[38;5;241m=\u001b[39m storage\n",
      "File \u001b[0;32m~/miniconda3/envs/omics/lib/python3.11/site-packages/optuna/storages/_cached_storage.py:111\u001b[0m, in \u001b[0;36m_CachedStorage.get_study_id_from_name\u001b[0;34m(self, study_name)\u001b[0m\n\u001b[1;32m    110\u001b[0m \u001b[38;5;28;01mdef\u001b[39;00m \u001b[38;5;21mget_study_id_from_name\u001b[39m(\u001b[38;5;28mself\u001b[39m, study_name: \u001b[38;5;28mstr\u001b[39m) \u001b[38;5;241m-\u001b[39m\u001b[38;5;241m>\u001b[39m \u001b[38;5;28mint\u001b[39m:\n\u001b[0;32m--> 111\u001b[0m     \u001b[38;5;28;01mreturn\u001b[39;00m \u001b[38;5;28;43mself\u001b[39;49m\u001b[38;5;241;43m.\u001b[39;49m\u001b[43m_backend\u001b[49m\u001b[38;5;241;43m.\u001b[39;49m\u001b[43mget_study_id_from_name\u001b[49m\u001b[43m(\u001b[49m\u001b[43mstudy_name\u001b[49m\u001b[43m)\u001b[49m\n",
      "File \u001b[0;32m~/miniconda3/envs/omics/lib/python3.11/site-packages/optuna/storages/_rdb/storage.py:330\u001b[0m, in \u001b[0;36mRDBStorage.get_study_id_from_name\u001b[0;34m(self, study_name)\u001b[0m\n\u001b[1;32m    328\u001b[0m \u001b[38;5;28;01mdef\u001b[39;00m \u001b[38;5;21mget_study_id_from_name\u001b[39m(\u001b[38;5;28mself\u001b[39m, study_name: \u001b[38;5;28mstr\u001b[39m) \u001b[38;5;241m-\u001b[39m\u001b[38;5;241m>\u001b[39m \u001b[38;5;28mint\u001b[39m:\n\u001b[1;32m    329\u001b[0m     \u001b[38;5;28;01mwith\u001b[39;00m _create_scoped_session(\u001b[38;5;28mself\u001b[39m\u001b[38;5;241m.\u001b[39mscoped_session) \u001b[38;5;28;01mas\u001b[39;00m session:\n\u001b[0;32m--> 330\u001b[0m         study \u001b[38;5;241m=\u001b[39m \u001b[43mmodels\u001b[49m\u001b[38;5;241;43m.\u001b[39;49m\u001b[43mStudyModel\u001b[49m\u001b[38;5;241;43m.\u001b[39;49m\u001b[43mfind_or_raise_by_name\u001b[49m\u001b[43m(\u001b[49m\u001b[43mstudy_name\u001b[49m\u001b[43m,\u001b[49m\u001b[43m \u001b[49m\u001b[43msession\u001b[49m\u001b[43m)\u001b[49m\n\u001b[1;32m    331\u001b[0m         study_id \u001b[38;5;241m=\u001b[39m study\u001b[38;5;241m.\u001b[39mstudy_id\n\u001b[1;32m    333\u001b[0m     \u001b[38;5;28;01mreturn\u001b[39;00m study_id\n",
      "File \u001b[0;32m~/miniconda3/envs/omics/lib/python3.11/site-packages/optuna/storages/_rdb/models.py:89\u001b[0m, in \u001b[0;36mStudyModel.find_or_raise_by_name\u001b[0;34m(cls, study_name, session)\u001b[0m\n\u001b[1;32m     87\u001b[0m study \u001b[38;5;241m=\u001b[39m \u001b[38;5;28mcls\u001b[39m\u001b[38;5;241m.\u001b[39mfind_by_name(study_name, session)\n\u001b[1;32m     88\u001b[0m \u001b[38;5;28;01mif\u001b[39;00m study \u001b[38;5;129;01mis\u001b[39;00m \u001b[38;5;28;01mNone\u001b[39;00m:\n\u001b[0;32m---> 89\u001b[0m     \u001b[38;5;28;01mraise\u001b[39;00m \u001b[38;5;167;01mKeyError\u001b[39;00m(NOT_FOUND_MSG)\n\u001b[1;32m     91\u001b[0m \u001b[38;5;28;01mreturn\u001b[39;00m study\n",
      "\u001b[0;31mKeyError\u001b[0m: 'Record does not exist.'"
     ]
    }
   ],
   "source": [
    "print_study_results(\"cls_gat\")"
   ]
  },
  {
   "cell_type": "markdown",
   "metadata": {},
   "source": [
    "### Survival Prediction"
   ]
  },
  {
   "cell_type": "code",
   "execution_count": 10,
   "metadata": {},
   "outputs": [
    {
     "name": "stdout",
     "output_type": "stream",
     "text": [
      "Study statistics: \n",
      "\tN finished trials:  500\n",
      "\tN pruned trials:  0\n",
      "\tN completed trials:  500\n",
      "Best trials:\n",
      "\tBest mean values:  [0.15537754736426032]\n",
      "\tCustom metrics:  {'avg_best_epoch': 14.8, 'avg_c_index': 0.5885467795195567, 'avg_std': 0.022461182374978815}\n",
      "\tParams: \n",
      "\t\tn_buckets: 240\n",
      "\t\tbatch_size: 32\n",
      "\t\tlr: 0.001\n",
      "\t\tdp: 0.1\n",
      "\t\tact_fn: elu\n",
      "\t\ttrunk_ls: 64\n",
      "\t\tsurv_ds: 64\n"
     ]
    },
    {
     "data": {
      "application/vnd.plotly.v1+json": {
       "config": {
        "plotlyServerURL": "https://plot.ly"
       },
       "data": [
        {
         "cliponaxis": false,
         "hovertemplate": [
          "act_fn (CategoricalDistribution): 0.0272751083146901<extra></extra>",
          "dp (CategoricalDistribution): 0.044283547424057344<extra></extra>",
          "n_buckets (CategoricalDistribution): 0.0677297859582995<extra></extra>",
          "batch_size (CategoricalDistribution): 0.07701750602762311<extra></extra>",
          "trunk_ls (CategoricalDistribution): 0.1410637888606154<extra></extra>",
          "surv_ds (CategoricalDistribution): 0.15743438372243646<extra></extra>",
          "lr (CategoricalDistribution): 0.4851958796922781<extra></extra>"
         ],
         "name": "Objective Value",
         "orientation": "h",
         "text": [
          "0.03",
          "0.04",
          "0.07",
          "0.08",
          "0.14",
          "0.16",
          "0.49"
         ],
         "textposition": "outside",
         "type": "bar",
         "x": [
          0.0272751083146901,
          0.044283547424057344,
          0.0677297859582995,
          0.07701750602762311,
          0.1410637888606154,
          0.15743438372243646,
          0.4851958796922781
         ],
         "y": [
          "act_fn",
          "dp",
          "n_buckets",
          "batch_size",
          "trunk_ls",
          "surv_ds",
          "lr"
         ]
        }
       ],
       "layout": {
        "template": {
         "data": {
          "bar": [
           {
            "error_x": {
             "color": "#2a3f5f"
            },
            "error_y": {
             "color": "#2a3f5f"
            },
            "marker": {
             "line": {
              "color": "#E5ECF6",
              "width": 0.5
             },
             "pattern": {
              "fillmode": "overlay",
              "size": 10,
              "solidity": 0.2
             }
            },
            "type": "bar"
           }
          ],
          "barpolar": [
           {
            "marker": {
             "line": {
              "color": "#E5ECF6",
              "width": 0.5
             },
             "pattern": {
              "fillmode": "overlay",
              "size": 10,
              "solidity": 0.2
             }
            },
            "type": "barpolar"
           }
          ],
          "carpet": [
           {
            "aaxis": {
             "endlinecolor": "#2a3f5f",
             "gridcolor": "white",
             "linecolor": "white",
             "minorgridcolor": "white",
             "startlinecolor": "#2a3f5f"
            },
            "baxis": {
             "endlinecolor": "#2a3f5f",
             "gridcolor": "white",
             "linecolor": "white",
             "minorgridcolor": "white",
             "startlinecolor": "#2a3f5f"
            },
            "type": "carpet"
           }
          ],
          "choropleth": [
           {
            "colorbar": {
             "outlinewidth": 0,
             "ticks": ""
            },
            "type": "choropleth"
           }
          ],
          "contour": [
           {
            "colorbar": {
             "outlinewidth": 0,
             "ticks": ""
            },
            "colorscale": [
             [
              0,
              "#0d0887"
             ],
             [
              0.1111111111111111,
              "#46039f"
             ],
             [
              0.2222222222222222,
              "#7201a8"
             ],
             [
              0.3333333333333333,
              "#9c179e"
             ],
             [
              0.4444444444444444,
              "#bd3786"
             ],
             [
              0.5555555555555556,
              "#d8576b"
             ],
             [
              0.6666666666666666,
              "#ed7953"
             ],
             [
              0.7777777777777778,
              "#fb9f3a"
             ],
             [
              0.8888888888888888,
              "#fdca26"
             ],
             [
              1,
              "#f0f921"
             ]
            ],
            "type": "contour"
           }
          ],
          "contourcarpet": [
           {
            "colorbar": {
             "outlinewidth": 0,
             "ticks": ""
            },
            "type": "contourcarpet"
           }
          ],
          "heatmap": [
           {
            "colorbar": {
             "outlinewidth": 0,
             "ticks": ""
            },
            "colorscale": [
             [
              0,
              "#0d0887"
             ],
             [
              0.1111111111111111,
              "#46039f"
             ],
             [
              0.2222222222222222,
              "#7201a8"
             ],
             [
              0.3333333333333333,
              "#9c179e"
             ],
             [
              0.4444444444444444,
              "#bd3786"
             ],
             [
              0.5555555555555556,
              "#d8576b"
             ],
             [
              0.6666666666666666,
              "#ed7953"
             ],
             [
              0.7777777777777778,
              "#fb9f3a"
             ],
             [
              0.8888888888888888,
              "#fdca26"
             ],
             [
              1,
              "#f0f921"
             ]
            ],
            "type": "heatmap"
           }
          ],
          "heatmapgl": [
           {
            "colorbar": {
             "outlinewidth": 0,
             "ticks": ""
            },
            "colorscale": [
             [
              0,
              "#0d0887"
             ],
             [
              0.1111111111111111,
              "#46039f"
             ],
             [
              0.2222222222222222,
              "#7201a8"
             ],
             [
              0.3333333333333333,
              "#9c179e"
             ],
             [
              0.4444444444444444,
              "#bd3786"
             ],
             [
              0.5555555555555556,
              "#d8576b"
             ],
             [
              0.6666666666666666,
              "#ed7953"
             ],
             [
              0.7777777777777778,
              "#fb9f3a"
             ],
             [
              0.8888888888888888,
              "#fdca26"
             ],
             [
              1,
              "#f0f921"
             ]
            ],
            "type": "heatmapgl"
           }
          ],
          "histogram": [
           {
            "marker": {
             "pattern": {
              "fillmode": "overlay",
              "size": 10,
              "solidity": 0.2
             }
            },
            "type": "histogram"
           }
          ],
          "histogram2d": [
           {
            "colorbar": {
             "outlinewidth": 0,
             "ticks": ""
            },
            "colorscale": [
             [
              0,
              "#0d0887"
             ],
             [
              0.1111111111111111,
              "#46039f"
             ],
             [
              0.2222222222222222,
              "#7201a8"
             ],
             [
              0.3333333333333333,
              "#9c179e"
             ],
             [
              0.4444444444444444,
              "#bd3786"
             ],
             [
              0.5555555555555556,
              "#d8576b"
             ],
             [
              0.6666666666666666,
              "#ed7953"
             ],
             [
              0.7777777777777778,
              "#fb9f3a"
             ],
             [
              0.8888888888888888,
              "#fdca26"
             ],
             [
              1,
              "#f0f921"
             ]
            ],
            "type": "histogram2d"
           }
          ],
          "histogram2dcontour": [
           {
            "colorbar": {
             "outlinewidth": 0,
             "ticks": ""
            },
            "colorscale": [
             [
              0,
              "#0d0887"
             ],
             [
              0.1111111111111111,
              "#46039f"
             ],
             [
              0.2222222222222222,
              "#7201a8"
             ],
             [
              0.3333333333333333,
              "#9c179e"
             ],
             [
              0.4444444444444444,
              "#bd3786"
             ],
             [
              0.5555555555555556,
              "#d8576b"
             ],
             [
              0.6666666666666666,
              "#ed7953"
             ],
             [
              0.7777777777777778,
              "#fb9f3a"
             ],
             [
              0.8888888888888888,
              "#fdca26"
             ],
             [
              1,
              "#f0f921"
             ]
            ],
            "type": "histogram2dcontour"
           }
          ],
          "mesh3d": [
           {
            "colorbar": {
             "outlinewidth": 0,
             "ticks": ""
            },
            "type": "mesh3d"
           }
          ],
          "parcoords": [
           {
            "line": {
             "colorbar": {
              "outlinewidth": 0,
              "ticks": ""
             }
            },
            "type": "parcoords"
           }
          ],
          "pie": [
           {
            "automargin": true,
            "type": "pie"
           }
          ],
          "scatter": [
           {
            "fillpattern": {
             "fillmode": "overlay",
             "size": 10,
             "solidity": 0.2
            },
            "type": "scatter"
           }
          ],
          "scatter3d": [
           {
            "line": {
             "colorbar": {
              "outlinewidth": 0,
              "ticks": ""
             }
            },
            "marker": {
             "colorbar": {
              "outlinewidth": 0,
              "ticks": ""
             }
            },
            "type": "scatter3d"
           }
          ],
          "scattercarpet": [
           {
            "marker": {
             "colorbar": {
              "outlinewidth": 0,
              "ticks": ""
             }
            },
            "type": "scattercarpet"
           }
          ],
          "scattergeo": [
           {
            "marker": {
             "colorbar": {
              "outlinewidth": 0,
              "ticks": ""
             }
            },
            "type": "scattergeo"
           }
          ],
          "scattergl": [
           {
            "marker": {
             "colorbar": {
              "outlinewidth": 0,
              "ticks": ""
             }
            },
            "type": "scattergl"
           }
          ],
          "scattermapbox": [
           {
            "marker": {
             "colorbar": {
              "outlinewidth": 0,
              "ticks": ""
             }
            },
            "type": "scattermapbox"
           }
          ],
          "scatterpolar": [
           {
            "marker": {
             "colorbar": {
              "outlinewidth": 0,
              "ticks": ""
             }
            },
            "type": "scatterpolar"
           }
          ],
          "scatterpolargl": [
           {
            "marker": {
             "colorbar": {
              "outlinewidth": 0,
              "ticks": ""
             }
            },
            "type": "scatterpolargl"
           }
          ],
          "scatterternary": [
           {
            "marker": {
             "colorbar": {
              "outlinewidth": 0,
              "ticks": ""
             }
            },
            "type": "scatterternary"
           }
          ],
          "surface": [
           {
            "colorbar": {
             "outlinewidth": 0,
             "ticks": ""
            },
            "colorscale": [
             [
              0,
              "#0d0887"
             ],
             [
              0.1111111111111111,
              "#46039f"
             ],
             [
              0.2222222222222222,
              "#7201a8"
             ],
             [
              0.3333333333333333,
              "#9c179e"
             ],
             [
              0.4444444444444444,
              "#bd3786"
             ],
             [
              0.5555555555555556,
              "#d8576b"
             ],
             [
              0.6666666666666666,
              "#ed7953"
             ],
             [
              0.7777777777777778,
              "#fb9f3a"
             ],
             [
              0.8888888888888888,
              "#fdca26"
             ],
             [
              1,
              "#f0f921"
             ]
            ],
            "type": "surface"
           }
          ],
          "table": [
           {
            "cells": {
             "fill": {
              "color": "#EBF0F8"
             },
             "line": {
              "color": "white"
             }
            },
            "header": {
             "fill": {
              "color": "#C8D4E3"
             },
             "line": {
              "color": "white"
             }
            },
            "type": "table"
           }
          ]
         },
         "layout": {
          "annotationdefaults": {
           "arrowcolor": "#2a3f5f",
           "arrowhead": 0,
           "arrowwidth": 1
          },
          "autotypenumbers": "strict",
          "coloraxis": {
           "colorbar": {
            "outlinewidth": 0,
            "ticks": ""
           }
          },
          "colorscale": {
           "diverging": [
            [
             0,
             "#8e0152"
            ],
            [
             0.1,
             "#c51b7d"
            ],
            [
             0.2,
             "#de77ae"
            ],
            [
             0.3,
             "#f1b6da"
            ],
            [
             0.4,
             "#fde0ef"
            ],
            [
             0.5,
             "#f7f7f7"
            ],
            [
             0.6,
             "#e6f5d0"
            ],
            [
             0.7,
             "#b8e186"
            ],
            [
             0.8,
             "#7fbc41"
            ],
            [
             0.9,
             "#4d9221"
            ],
            [
             1,
             "#276419"
            ]
           ],
           "sequential": [
            [
             0,
             "#0d0887"
            ],
            [
             0.1111111111111111,
             "#46039f"
            ],
            [
             0.2222222222222222,
             "#7201a8"
            ],
            [
             0.3333333333333333,
             "#9c179e"
            ],
            [
             0.4444444444444444,
             "#bd3786"
            ],
            [
             0.5555555555555556,
             "#d8576b"
            ],
            [
             0.6666666666666666,
             "#ed7953"
            ],
            [
             0.7777777777777778,
             "#fb9f3a"
            ],
            [
             0.8888888888888888,
             "#fdca26"
            ],
            [
             1,
             "#f0f921"
            ]
           ],
           "sequentialminus": [
            [
             0,
             "#0d0887"
            ],
            [
             0.1111111111111111,
             "#46039f"
            ],
            [
             0.2222222222222222,
             "#7201a8"
            ],
            [
             0.3333333333333333,
             "#9c179e"
            ],
            [
             0.4444444444444444,
             "#bd3786"
            ],
            [
             0.5555555555555556,
             "#d8576b"
            ],
            [
             0.6666666666666666,
             "#ed7953"
            ],
            [
             0.7777777777777778,
             "#fb9f3a"
            ],
            [
             0.8888888888888888,
             "#fdca26"
            ],
            [
             1,
             "#f0f921"
            ]
           ]
          },
          "colorway": [
           "#636efa",
           "#EF553B",
           "#00cc96",
           "#ab63fa",
           "#FFA15A",
           "#19d3f3",
           "#FF6692",
           "#B6E880",
           "#FF97FF",
           "#FECB52"
          ],
          "font": {
           "color": "#2a3f5f"
          },
          "geo": {
           "bgcolor": "white",
           "lakecolor": "white",
           "landcolor": "#E5ECF6",
           "showlakes": true,
           "showland": true,
           "subunitcolor": "white"
          },
          "hoverlabel": {
           "align": "left"
          },
          "hovermode": "closest",
          "mapbox": {
           "style": "light"
          },
          "paper_bgcolor": "white",
          "plot_bgcolor": "#E5ECF6",
          "polar": {
           "angularaxis": {
            "gridcolor": "white",
            "linecolor": "white",
            "ticks": ""
           },
           "bgcolor": "#E5ECF6",
           "radialaxis": {
            "gridcolor": "white",
            "linecolor": "white",
            "ticks": ""
           }
          },
          "scene": {
           "xaxis": {
            "backgroundcolor": "#E5ECF6",
            "gridcolor": "white",
            "gridwidth": 2,
            "linecolor": "white",
            "showbackground": true,
            "ticks": "",
            "zerolinecolor": "white"
           },
           "yaxis": {
            "backgroundcolor": "#E5ECF6",
            "gridcolor": "white",
            "gridwidth": 2,
            "linecolor": "white",
            "showbackground": true,
            "ticks": "",
            "zerolinecolor": "white"
           },
           "zaxis": {
            "backgroundcolor": "#E5ECF6",
            "gridcolor": "white",
            "gridwidth": 2,
            "linecolor": "white",
            "showbackground": true,
            "ticks": "",
            "zerolinecolor": "white"
           }
          },
          "shapedefaults": {
           "line": {
            "color": "#2a3f5f"
           }
          },
          "ternary": {
           "aaxis": {
            "gridcolor": "white",
            "linecolor": "white",
            "ticks": ""
           },
           "baxis": {
            "gridcolor": "white",
            "linecolor": "white",
            "ticks": ""
           },
           "bgcolor": "#E5ECF6",
           "caxis": {
            "gridcolor": "white",
            "linecolor": "white",
            "ticks": ""
           }
          },
          "title": {
           "x": 0.05
          },
          "xaxis": {
           "automargin": true,
           "gridcolor": "white",
           "linecolor": "white",
           "ticks": "",
           "title": {
            "standoff": 15
           },
           "zerolinecolor": "white",
           "zerolinewidth": 2
          },
          "yaxis": {
           "automargin": true,
           "gridcolor": "white",
           "linecolor": "white",
           "ticks": "",
           "title": {
            "standoff": 15
           },
           "zerolinecolor": "white",
           "zerolinewidth": 2
          }
         }
        },
        "title": {
         "text": "Hyperparameter Importances"
        },
        "xaxis": {
         "title": {
          "text": "Hyperparameter Importance"
         }
        },
        "yaxis": {
         "title": {
          "text": "Hyperparameter"
         }
        }
       }
      }
     },
     "metadata": {},
     "output_type": "display_data"
    },
    {
     "name": "stderr",
     "output_type": "stream",
     "text": [
      "/home/davide/miniconda3/envs/omics/lib/python3.11/site-packages/optuna/visualization/_utils.py:67: UserWarning:\n",
      "\n",
      "`target` is specified, but `target_name` is the default value, 'Objective Value'.\n",
      "\n"
     ]
    },
    {
     "data": {
      "application/vnd.plotly.v1+json": {
       "config": {
        "plotlyServerURL": "https://plot.ly"
       },
       "data": [
        {
         "mode": "markers",
         "name": "Objective Value",
         "type": "scatter",
         "x": [
          0,
          1,
          2,
          3,
          4,
          5,
          6,
          7,
          8,
          9,
          10,
          11,
          12,
          13,
          14,
          15,
          16,
          17,
          18,
          19,
          20,
          21,
          22,
          23,
          24,
          25,
          26,
          27,
          28,
          29,
          30,
          31,
          32,
          33,
          34,
          35,
          36,
          37,
          38,
          39,
          40,
          41,
          42,
          43,
          44,
          45,
          46,
          47,
          48,
          49,
          50,
          51,
          52,
          53,
          54,
          55,
          56,
          57,
          58,
          59,
          60,
          61,
          62,
          63,
          64,
          65,
          66,
          67,
          68,
          69,
          70,
          71,
          72,
          73,
          74,
          75,
          76,
          77,
          78,
          79,
          80,
          81,
          82,
          83,
          84,
          85,
          86,
          87,
          88,
          89,
          90,
          91,
          92,
          93,
          94,
          95,
          96,
          97,
          98,
          99,
          100,
          101,
          102,
          103,
          104,
          105,
          106,
          107,
          108,
          109,
          110,
          111,
          112,
          113,
          114,
          115,
          116,
          117,
          118,
          119,
          120,
          121,
          122,
          123,
          124,
          125,
          126,
          127,
          128,
          129,
          130,
          131,
          132,
          133,
          134,
          135,
          136,
          137,
          138,
          139,
          140,
          141,
          142,
          143,
          144,
          145,
          146,
          147,
          148,
          149,
          150,
          151,
          152,
          153,
          154,
          155,
          156,
          157,
          158,
          159,
          160,
          161,
          162,
          163,
          164,
          165,
          166,
          167,
          168,
          169,
          170,
          171,
          172,
          173,
          174,
          175,
          176,
          177,
          178,
          179,
          180,
          181,
          182,
          183,
          184,
          185,
          186,
          187,
          188,
          189,
          190,
          191,
          192,
          193,
          194,
          195,
          196,
          197,
          198,
          199,
          200,
          201,
          202,
          203,
          204,
          205,
          206,
          207,
          208,
          209,
          210,
          211,
          212,
          213,
          214,
          215,
          216,
          217,
          218,
          219,
          220,
          221,
          222,
          223,
          224,
          225,
          226,
          227,
          228,
          229,
          230,
          231,
          232,
          233,
          234,
          235,
          236,
          237,
          238,
          239,
          240,
          241,
          242,
          243,
          244,
          245,
          246,
          247,
          248,
          249,
          250,
          251,
          252,
          253,
          254,
          255,
          256,
          257,
          258,
          259,
          260,
          261,
          262,
          263,
          264,
          265,
          266,
          267,
          268,
          269,
          270,
          271,
          272,
          273,
          274,
          275,
          276,
          277,
          278,
          279,
          280,
          281,
          282,
          283,
          284,
          285,
          286,
          287,
          288,
          289,
          290,
          291,
          292,
          293,
          294,
          295,
          296,
          297,
          298,
          299,
          300,
          301,
          302,
          303,
          304,
          305,
          306,
          307,
          308,
          309,
          310,
          311,
          312,
          313,
          314,
          315,
          316,
          317,
          318,
          319,
          320,
          321,
          322,
          323,
          324,
          325,
          326,
          327,
          328,
          329,
          330,
          331,
          332,
          333,
          334,
          335,
          336,
          337,
          338,
          339,
          340,
          341,
          342,
          343,
          344,
          345,
          346,
          347,
          348,
          349,
          350,
          351,
          352,
          353,
          354,
          355,
          356,
          357,
          358,
          359,
          360,
          361,
          362,
          363,
          364,
          365,
          366,
          367,
          368,
          369,
          370,
          371,
          372,
          373,
          374,
          375,
          376,
          377,
          378,
          379,
          380,
          381,
          382,
          383,
          384,
          385,
          386,
          387,
          388,
          389,
          390,
          391,
          392,
          393,
          394,
          395,
          396,
          397,
          398,
          399,
          400,
          401,
          402,
          403,
          404,
          405,
          406,
          407,
          408,
          409,
          410,
          411,
          412,
          413,
          414,
          415,
          416,
          417,
          418,
          419,
          420,
          421,
          422,
          423,
          424,
          425,
          426,
          427,
          428,
          429,
          430,
          431,
          432,
          433,
          434,
          435,
          436,
          437,
          438,
          439,
          440,
          441,
          442,
          443,
          444,
          445,
          446,
          447,
          448,
          449,
          450,
          451,
          452,
          453,
          454,
          455,
          456,
          457,
          458,
          459,
          460,
          461,
          462,
          463,
          464,
          465,
          466,
          467,
          468,
          469,
          470,
          471,
          472,
          473,
          474,
          475,
          476,
          477,
          478,
          479,
          480,
          481,
          482,
          483,
          484,
          485,
          486,
          487,
          488,
          489,
          490,
          491,
          492,
          493,
          494,
          495,
          496,
          497,
          498,
          499
         ],
         "y": [
          0.2717898767014514,
          1,
          0.1887468869499686,
          0.1915038081652929,
          0.20036112719786794,
          0.2793403183846488,
          0.1892325746757491,
          0.27775189379015947,
          0.18048964959689828,
          0.34187308375299746,
          0.17225898374822698,
          0.18681051166581436,
          0.18288571689312735,
          0.16816939209594134,
          0.1679592332543441,
          0.20067975810591218,
          0.17571923002100065,
          0.1801160500974967,
          0.19141451210522148,
          0.19624118789959852,
          0.1936549505635492,
          0.18429855343657855,
          0.18289773898162912,
          0.1668526280333003,
          0.1855625559542085,
          0.19506459687795413,
          0.29163552516256364,
          0.19375350357692694,
          1,
          0.22268208633003495,
          0.20600999274976783,
          0.19832399290706268,
          0.17992299434628087,
          0.1720189148858991,
          0.18457387708151257,
          0.18721916196905125,
          0.2892342182858675,
          0.19326874058573926,
          0.22933524782114612,
          1,
          0.19028342757128447,
          0.17882806526714878,
          0.17689877103271084,
          0.18094801657901796,
          0.19098084667864507,
          0.17509465022782025,
          0.18575655027856103,
          1,
          0.20011016344002397,
          0.17514508594912492,
          0.22348069265381793,
          0.17417296452434333,
          0.1907808432842605,
          0.18474313471169207,
          0.20618296428521746,
          0.20335468158925707,
          0.17852278618083006,
          0.17703508908805451,
          0.20845623358738014,
          0.20160336404975712,
          1,
          0.1923578137418016,
          0.18734963207925068,
          0.1781275943890492,
          0.19792728709447244,
          0.196876017098175,
          0.19301890024765583,
          0.20653916661567454,
          0.21425287698504408,
          0.19788578922768224,
          0.2459656776368587,
          0.2261262944620402,
          0.19689660130281972,
          0.18653867081632125,
          0.20832348786749072,
          0.2023665205785254,
          0.1968693649014236,
          1,
          0.19493225597421523,
          0.18637633245129542,
          0.19015596672189222,
          0.22384324497842484,
          0.19731791286907954,
          0.1973640898807168,
          0.197950237041939,
          0.1833118693904989,
          0.21056625245771116,
          0.1967384169718865,
          0.1893871247645683,
          0.1884038430057529,
          0.1745102866696239,
          0.17560696116765137,
          0.20850684968934258,
          0.2143512943428259,
          0.20747866982832228,
          0.22854621884669896,
          0.19450996707309343,
          0.1893637201134666,
          0.19600381019231622,
          1,
          0.18512410583338842,
          0.19747233675131967,
          0.19191498692186928,
          0.18653998460954174,
          0.1817467621923571,
          0.2007885224468494,
          0.1922872925699916,
          0.1884893381602441,
          0.19256390232952655,
          0.19810292530671897,
          0.19619522236346287,
          0.185755590387485,
          0.19680548514959734,
          0.19931692918825647,
          0.16594152861874464,
          0.18735298133443873,
          0.2008209086490557,
          0.24309572175404295,
          0.2001081613882091,
          0.2553694331401107,
          0.1655953544714001,
          0.18572742635967748,
          0.18784374458306327,
          0.1955536674266759,
          0.16031338758505553,
          0.17980411650131295,
          0.19356523665175054,
          0.17009310728825722,
          0.1800158950464385,
          0.19491111369066472,
          0.19044734602442337,
          0.19431967935342281,
          0.17807353342262364,
          0.20301615523020633,
          0.20810542967123316,
          0.1830802769936321,
          0.18602703638124074,
          0.1935939726059807,
          0.19338045377737417,
          0.25902652814777494,
          0.19538304797509887,
          0.1917346325333535,
          0.20636550273525814,
          0.16533331315438926,
          0.1880787570843302,
          0.18644426991758373,
          0.18142499401632436,
          0.22796393692873157,
          0.19547442469269047,
          0.20440997484412518,
          0.1972092810339215,
          0.18368536893769916,
          0.18922874998406697,
          0.18219188359431276,
          0.18528071084349,
          0.16919036153194394,
          0.18605437805711436,
          0.19661963422284853,
          0.1814990307285812,
          0.1856415432469626,
          0.17763601644756483,
          0.1704441371285538,
          0.18556132183124108,
          0.1803450246329082,
          0.18546318254985444,
          1,
          0.19539088436727714,
          0.2315180061605815,
          0.1984511500865603,
          0.18438733056239226,
          0.17579270064828503,
          0.18139510662972194,
          0.18947453963611346,
          0.1844806080599758,
          0.21883136601967074,
          0.18175488256499414,
          0.23707712540923104,
          0.19592520016462117,
          0.17935795362549528,
          0.1958284379898601,
          0.18059326127776215,
          0.17600168748602923,
          0.1743309806357578,
          0.1782453381443076,
          0.17465542165013942,
          0.17851971127934177,
          0.18471841444798953,
          0.20525335685881174,
          0.18574327246808867,
          0.19450941058673332,
          0.18586882546141076,
          0.16931863042868062,
          0.20150713238975487,
          0.24598586694217156,
          0.214347080230548,
          0.1994469625571375,
          0.20716526432248933,
          1,
          0.19240575516173836,
          0.1760722151270378,
          0.18230058356994086,
          0.18076807144402857,
          0.2011334015450153,
          0.19460050744367713,
          0.1873495296577066,
          0.19872585064099876,
          0.18942037676998205,
          0.21796298306214443,
          0.18143815770688823,
          0.18645991793639385,
          0.2607772165658757,
          0.19208636987161903,
          0.1860322253713352,
          0.17990765832143998,
          0.20156349164517606,
          0.19248260043527282,
          0.18278296111908965,
          0.20876756113138567,
          0.1816935122580517,
          0.2054595228745467,
          0.1926144323794443,
          0.2048499618035667,
          0.17660724493084579,
          0.18520135269889376,
          0.17611011502602453,
          0.18008553791760615,
          0.18301561170248262,
          0.2013134481936806,
          0.17792784700373754,
          0.20511008875871523,
          1,
          0.19246768581626827,
          0.18603584534768092,
          0.18259528617009047,
          0.18531551772138338,
          0.20882366531197177,
          0.19016308752596398,
          0.20824253292010936,
          0.1826657544143487,
          0.17965584181213448,
          0.18764110033193065,
          0.1848435041284564,
          0.19184924107969717,
          0.17438541779086766,
          0.20418172098591048,
          0.17961613451272512,
          0.20153639353748823,
          0.20661022086288142,
          0.1938601876326338,
          1,
          0.18755575373956132,
          0.19230554444988363,
          0.1918706145247341,
          0.16825251266540356,
          0.1862871147324149,
          0.1731778970545438,
          0.19179187525219077,
          0.2263282983935324,
          0.18453858269047257,
          0.17200456122091126,
          0.19793112377712066,
          0.21025739342717226,
          0.21776282837959166,
          0.1829178886910007,
          0.1826598651107216,
          0.18488572457158206,
          0.19767394432343122,
          0.19218173508692268,
          0.1780501215900116,
          0.17967450965239234,
          0.1932196842637654,
          0.1908928066592053,
          0.19143681310945554,
          0.24440516360293776,
          0.19740985208716194,
          0.2125788738169449,
          0.2585759019131063,
          0.1856276727898034,
          0.20232085708966582,
          0.16904029454058161,
          0.170922970097313,
          0.21330190052107806,
          0.18944070338499017,
          0.19630594135439067,
          0.19979826942595397,
          0.18209258523973285,
          0.2679948729205732,
          0.1902679285550643,
          0.17730985230527851,
          0.18461945199503546,
          0.16880475714923107,
          0.1702020648171953,
          0.18291787732512851,
          0.16531845616071855,
          0.16624851160155116,
          0.19036859660044983,
          0.17954182363768276,
          0.19983302830776856,
          0.24386694300314277,
          0.21512054271577705,
          0.2446755250992986,
          0.19763004052087665,
          0.18485240762103053,
          0.19451220302934039,
          0.17876637291040803,
          0.17119526165114657,
          0.22085536306887726,
          0.19368719168374368,
          0.1916634750160778,
          0.18760415150060586,
          1,
          0.1883421480711065,
          0.1808207587989266,
          0.17863780496086487,
          0.18223531042070706,
          0.20769976887025413,
          0.19400150321069928,
          0.18857633578594837,
          0.2785698297744582,
          0.1759599919807972,
          0.21173104022385597,
          0.20451725792401992,
          0.16370167445337352,
          0.1966377209690495,
          0.20946284916365904,
          0.19955734698285954,
          0.16676490786895887,
          0.18424696128135643,
          0.21463528763867598,
          0.19351070749526408,
          0.17356541993823946,
          0.186972881346605,
          0.18310611951154693,
          0.20319307665681047,
          1,
          0.18290592649240636,
          0.18144509637424638,
          0.18915366661090877,
          0.1830066130161773,
          0.25044538356871116,
          0.19796391180027922,
          0.19327914965850979,
          0.17631933612386247,
          0.16380284684016563,
          0.19118841609820791,
          0.2439476440047113,
          0.17938022837548556,
          0.17002310912648902,
          0.17816571620065227,
          0.18658054805020816,
          0.1840288464190838,
          0.19055616539662865,
          0.17984540224939277,
          0.18637104694690085,
          0.1852215332652234,
          0.18915745933050496,
          0.17064614508521783,
          0.1717625658852419,
          0.1897017793945625,
          0.2473211731669816,
          0.20103259696102435,
          0.17902360492700384,
          0.2549644101396541,
          0.1902879080796062,
          0.17667594811278162,
          0.19425557149216482,
          0.20158113506707256,
          0.18431476760227933,
          0.2318093810872707,
          0.1797106570050806,
          0.18963826768761094,
          0.18683750563244317,
          0.1842621448755561,
          0.20399591390932534,
          0.17839610379036158,
          0.16958786030105938,
          0.20479001579599848,
          0.19881672902887515,
          0.18063810564164695,
          0.1930315406374737,
          0.2514701087774983,
          0.19821869180680793,
          0.20709713280027256,
          0.17833837491684493,
          0.19026297986695534,
          0.15639570529617336,
          0.19770502063053447,
          0.20479856743284505,
          0.19451227176042876,
          0.1883612936504039,
          0.21861190706419423,
          0.1945529456365017,
          0.18353148387293777,
          0.19502893178785116,
          0.19741388645373417,
          0.1965993897831578,
          0.1845983434288709,
          0.19619578212657895,
          0.19730456741038258,
          0.23908388232969333,
          0.18846683109357937,
          0.21169223628520378,
          0.18687222746852616,
          1,
          0.19568241984364834,
          0.194724140552175,
          0.16323893419824334,
          0.17767680783816492,
          0.18648523103824427,
          0.199084635231069,
          0.18410173963117876,
          0.19845261882434767,
          0.1870457101211041,
          0.21985517545812278,
          0.1898111997863586,
          0.17605228214714144,
          0.19386987039230116,
          0.18680621419300147,
          0.20322931220173998,
          0.2475768358950689,
          0.2023528701375928,
          0.19927351739923035,
          0.19356976552123945,
          0.19854534398389795,
          0.17190885593010458,
          0.19010957077736487,
          0.18295409053027922,
          0.17885207244805484,
          0.1678608771029381,
          0.1889529276743055,
          0.20150878467913977,
          0.1808305048363016,
          0.2071381476889235,
          0.1718463528962158,
          0.1705737732611638,
          0.18107203205310013,
          1,
          0.21028699530392342,
          0.24683013424149394,
          0.17936153348280376,
          0.1756576084469505,
          0.19994298182457165,
          0.19315738577485447,
          0.17357567382331915,
          0.16831400050839196,
          0.18136277141752125,
          0.17568696914260465,
          0.18425411717911405,
          0.18090250072750386,
          1,
          0.18788409629502906,
          0.17300982901749395,
          0.1868531157486642,
          0.18965719061035233,
          0.17384878572829482,
          0.1841564816929092,
          0.188619049625549,
          0.19851712050885814,
          1,
          0.17262806858322505,
          0.19810768873673276,
          0.18999854498471372,
          0.19192677560075366,
          0.19554155541852553,
          0.21509217185336799,
          0.2033565494365975,
          0.18641064321874734,
          0.20418836027890502,
          0.19618639110811031,
          0.18836931491427095,
          0.19699915970242882,
          1,
          0.1817092528845854,
          0.18329292244030004,
          0.19435049190299533,
          0.18962649458872916,
          0.1965787214271802,
          0.15537754736426032,
          0.26972496238370575,
          0.18547560583455971,
          0.18944583120063144,
          0.18377666872565265,
          0.2273295707839913,
          0.1781773483524149,
          0.177077654201591,
          0.1790333500641408,
          0.18463140256711508,
          0.1991349450614772,
          0.1807699317628803,
          0.19327385645386952,
          0.17208820770292096,
          0.1791042204040134,
          0.18736403790242734,
          0.17673567648049202,
          1,
          0.21283844459811346,
          0.2126568967882351,
          0.19648908273944082,
          0.20351529377347138,
          0.19391973177539545
         ]
        },
        {
         "marker": {
          "color": "#cccccc"
         },
         "mode": "markers",
         "name": "Infeasible Trial",
         "showlegend": false,
         "type": "scatter",
         "x": [],
         "y": []
        }
       ],
       "layout": {
        "template": {
         "data": {
          "bar": [
           {
            "error_x": {
             "color": "#2a3f5f"
            },
            "error_y": {
             "color": "#2a3f5f"
            },
            "marker": {
             "line": {
              "color": "#E5ECF6",
              "width": 0.5
             },
             "pattern": {
              "fillmode": "overlay",
              "size": 10,
              "solidity": 0.2
             }
            },
            "type": "bar"
           }
          ],
          "barpolar": [
           {
            "marker": {
             "line": {
              "color": "#E5ECF6",
              "width": 0.5
             },
             "pattern": {
              "fillmode": "overlay",
              "size": 10,
              "solidity": 0.2
             }
            },
            "type": "barpolar"
           }
          ],
          "carpet": [
           {
            "aaxis": {
             "endlinecolor": "#2a3f5f",
             "gridcolor": "white",
             "linecolor": "white",
             "minorgridcolor": "white",
             "startlinecolor": "#2a3f5f"
            },
            "baxis": {
             "endlinecolor": "#2a3f5f",
             "gridcolor": "white",
             "linecolor": "white",
             "minorgridcolor": "white",
             "startlinecolor": "#2a3f5f"
            },
            "type": "carpet"
           }
          ],
          "choropleth": [
           {
            "colorbar": {
             "outlinewidth": 0,
             "ticks": ""
            },
            "type": "choropleth"
           }
          ],
          "contour": [
           {
            "colorbar": {
             "outlinewidth": 0,
             "ticks": ""
            },
            "colorscale": [
             [
              0,
              "#0d0887"
             ],
             [
              0.1111111111111111,
              "#46039f"
             ],
             [
              0.2222222222222222,
              "#7201a8"
             ],
             [
              0.3333333333333333,
              "#9c179e"
             ],
             [
              0.4444444444444444,
              "#bd3786"
             ],
             [
              0.5555555555555556,
              "#d8576b"
             ],
             [
              0.6666666666666666,
              "#ed7953"
             ],
             [
              0.7777777777777778,
              "#fb9f3a"
             ],
             [
              0.8888888888888888,
              "#fdca26"
             ],
             [
              1,
              "#f0f921"
             ]
            ],
            "type": "contour"
           }
          ],
          "contourcarpet": [
           {
            "colorbar": {
             "outlinewidth": 0,
             "ticks": ""
            },
            "type": "contourcarpet"
           }
          ],
          "heatmap": [
           {
            "colorbar": {
             "outlinewidth": 0,
             "ticks": ""
            },
            "colorscale": [
             [
              0,
              "#0d0887"
             ],
             [
              0.1111111111111111,
              "#46039f"
             ],
             [
              0.2222222222222222,
              "#7201a8"
             ],
             [
              0.3333333333333333,
              "#9c179e"
             ],
             [
              0.4444444444444444,
              "#bd3786"
             ],
             [
              0.5555555555555556,
              "#d8576b"
             ],
             [
              0.6666666666666666,
              "#ed7953"
             ],
             [
              0.7777777777777778,
              "#fb9f3a"
             ],
             [
              0.8888888888888888,
              "#fdca26"
             ],
             [
              1,
              "#f0f921"
             ]
            ],
            "type": "heatmap"
           }
          ],
          "heatmapgl": [
           {
            "colorbar": {
             "outlinewidth": 0,
             "ticks": ""
            },
            "colorscale": [
             [
              0,
              "#0d0887"
             ],
             [
              0.1111111111111111,
              "#46039f"
             ],
             [
              0.2222222222222222,
              "#7201a8"
             ],
             [
              0.3333333333333333,
              "#9c179e"
             ],
             [
              0.4444444444444444,
              "#bd3786"
             ],
             [
              0.5555555555555556,
              "#d8576b"
             ],
             [
              0.6666666666666666,
              "#ed7953"
             ],
             [
              0.7777777777777778,
              "#fb9f3a"
             ],
             [
              0.8888888888888888,
              "#fdca26"
             ],
             [
              1,
              "#f0f921"
             ]
            ],
            "type": "heatmapgl"
           }
          ],
          "histogram": [
           {
            "marker": {
             "pattern": {
              "fillmode": "overlay",
              "size": 10,
              "solidity": 0.2
             }
            },
            "type": "histogram"
           }
          ],
          "histogram2d": [
           {
            "colorbar": {
             "outlinewidth": 0,
             "ticks": ""
            },
            "colorscale": [
             [
              0,
              "#0d0887"
             ],
             [
              0.1111111111111111,
              "#46039f"
             ],
             [
              0.2222222222222222,
              "#7201a8"
             ],
             [
              0.3333333333333333,
              "#9c179e"
             ],
             [
              0.4444444444444444,
              "#bd3786"
             ],
             [
              0.5555555555555556,
              "#d8576b"
             ],
             [
              0.6666666666666666,
              "#ed7953"
             ],
             [
              0.7777777777777778,
              "#fb9f3a"
             ],
             [
              0.8888888888888888,
              "#fdca26"
             ],
             [
              1,
              "#f0f921"
             ]
            ],
            "type": "histogram2d"
           }
          ],
          "histogram2dcontour": [
           {
            "colorbar": {
             "outlinewidth": 0,
             "ticks": ""
            },
            "colorscale": [
             [
              0,
              "#0d0887"
             ],
             [
              0.1111111111111111,
              "#46039f"
             ],
             [
              0.2222222222222222,
              "#7201a8"
             ],
             [
              0.3333333333333333,
              "#9c179e"
             ],
             [
              0.4444444444444444,
              "#bd3786"
             ],
             [
              0.5555555555555556,
              "#d8576b"
             ],
             [
              0.6666666666666666,
              "#ed7953"
             ],
             [
              0.7777777777777778,
              "#fb9f3a"
             ],
             [
              0.8888888888888888,
              "#fdca26"
             ],
             [
              1,
              "#f0f921"
             ]
            ],
            "type": "histogram2dcontour"
           }
          ],
          "mesh3d": [
           {
            "colorbar": {
             "outlinewidth": 0,
             "ticks": ""
            },
            "type": "mesh3d"
           }
          ],
          "parcoords": [
           {
            "line": {
             "colorbar": {
              "outlinewidth": 0,
              "ticks": ""
             }
            },
            "type": "parcoords"
           }
          ],
          "pie": [
           {
            "automargin": true,
            "type": "pie"
           }
          ],
          "scatter": [
           {
            "fillpattern": {
             "fillmode": "overlay",
             "size": 10,
             "solidity": 0.2
            },
            "type": "scatter"
           }
          ],
          "scatter3d": [
           {
            "line": {
             "colorbar": {
              "outlinewidth": 0,
              "ticks": ""
             }
            },
            "marker": {
             "colorbar": {
              "outlinewidth": 0,
              "ticks": ""
             }
            },
            "type": "scatter3d"
           }
          ],
          "scattercarpet": [
           {
            "marker": {
             "colorbar": {
              "outlinewidth": 0,
              "ticks": ""
             }
            },
            "type": "scattercarpet"
           }
          ],
          "scattergeo": [
           {
            "marker": {
             "colorbar": {
              "outlinewidth": 0,
              "ticks": ""
             }
            },
            "type": "scattergeo"
           }
          ],
          "scattergl": [
           {
            "marker": {
             "colorbar": {
              "outlinewidth": 0,
              "ticks": ""
             }
            },
            "type": "scattergl"
           }
          ],
          "scattermapbox": [
           {
            "marker": {
             "colorbar": {
              "outlinewidth": 0,
              "ticks": ""
             }
            },
            "type": "scattermapbox"
           }
          ],
          "scatterpolar": [
           {
            "marker": {
             "colorbar": {
              "outlinewidth": 0,
              "ticks": ""
             }
            },
            "type": "scatterpolar"
           }
          ],
          "scatterpolargl": [
           {
            "marker": {
             "colorbar": {
              "outlinewidth": 0,
              "ticks": ""
             }
            },
            "type": "scatterpolargl"
           }
          ],
          "scatterternary": [
           {
            "marker": {
             "colorbar": {
              "outlinewidth": 0,
              "ticks": ""
             }
            },
            "type": "scatterternary"
           }
          ],
          "surface": [
           {
            "colorbar": {
             "outlinewidth": 0,
             "ticks": ""
            },
            "colorscale": [
             [
              0,
              "#0d0887"
             ],
             [
              0.1111111111111111,
              "#46039f"
             ],
             [
              0.2222222222222222,
              "#7201a8"
             ],
             [
              0.3333333333333333,
              "#9c179e"
             ],
             [
              0.4444444444444444,
              "#bd3786"
             ],
             [
              0.5555555555555556,
              "#d8576b"
             ],
             [
              0.6666666666666666,
              "#ed7953"
             ],
             [
              0.7777777777777778,
              "#fb9f3a"
             ],
             [
              0.8888888888888888,
              "#fdca26"
             ],
             [
              1,
              "#f0f921"
             ]
            ],
            "type": "surface"
           }
          ],
          "table": [
           {
            "cells": {
             "fill": {
              "color": "#EBF0F8"
             },
             "line": {
              "color": "white"
             }
            },
            "header": {
             "fill": {
              "color": "#C8D4E3"
             },
             "line": {
              "color": "white"
             }
            },
            "type": "table"
           }
          ]
         },
         "layout": {
          "annotationdefaults": {
           "arrowcolor": "#2a3f5f",
           "arrowhead": 0,
           "arrowwidth": 1
          },
          "autotypenumbers": "strict",
          "coloraxis": {
           "colorbar": {
            "outlinewidth": 0,
            "ticks": ""
           }
          },
          "colorscale": {
           "diverging": [
            [
             0,
             "#8e0152"
            ],
            [
             0.1,
             "#c51b7d"
            ],
            [
             0.2,
             "#de77ae"
            ],
            [
             0.3,
             "#f1b6da"
            ],
            [
             0.4,
             "#fde0ef"
            ],
            [
             0.5,
             "#f7f7f7"
            ],
            [
             0.6,
             "#e6f5d0"
            ],
            [
             0.7,
             "#b8e186"
            ],
            [
             0.8,
             "#7fbc41"
            ],
            [
             0.9,
             "#4d9221"
            ],
            [
             1,
             "#276419"
            ]
           ],
           "sequential": [
            [
             0,
             "#0d0887"
            ],
            [
             0.1111111111111111,
             "#46039f"
            ],
            [
             0.2222222222222222,
             "#7201a8"
            ],
            [
             0.3333333333333333,
             "#9c179e"
            ],
            [
             0.4444444444444444,
             "#bd3786"
            ],
            [
             0.5555555555555556,
             "#d8576b"
            ],
            [
             0.6666666666666666,
             "#ed7953"
            ],
            [
             0.7777777777777778,
             "#fb9f3a"
            ],
            [
             0.8888888888888888,
             "#fdca26"
            ],
            [
             1,
             "#f0f921"
            ]
           ],
           "sequentialminus": [
            [
             0,
             "#0d0887"
            ],
            [
             0.1111111111111111,
             "#46039f"
            ],
            [
             0.2222222222222222,
             "#7201a8"
            ],
            [
             0.3333333333333333,
             "#9c179e"
            ],
            [
             0.4444444444444444,
             "#bd3786"
            ],
            [
             0.5555555555555556,
             "#d8576b"
            ],
            [
             0.6666666666666666,
             "#ed7953"
            ],
            [
             0.7777777777777778,
             "#fb9f3a"
            ],
            [
             0.8888888888888888,
             "#fdca26"
            ],
            [
             1,
             "#f0f921"
            ]
           ]
          },
          "colorway": [
           "#636efa",
           "#EF553B",
           "#00cc96",
           "#ab63fa",
           "#FFA15A",
           "#19d3f3",
           "#FF6692",
           "#B6E880",
           "#FF97FF",
           "#FECB52"
          ],
          "font": {
           "color": "#2a3f5f"
          },
          "geo": {
           "bgcolor": "white",
           "lakecolor": "white",
           "landcolor": "#E5ECF6",
           "showlakes": true,
           "showland": true,
           "subunitcolor": "white"
          },
          "hoverlabel": {
           "align": "left"
          },
          "hovermode": "closest",
          "mapbox": {
           "style": "light"
          },
          "paper_bgcolor": "white",
          "plot_bgcolor": "#E5ECF6",
          "polar": {
           "angularaxis": {
            "gridcolor": "white",
            "linecolor": "white",
            "ticks": ""
           },
           "bgcolor": "#E5ECF6",
           "radialaxis": {
            "gridcolor": "white",
            "linecolor": "white",
            "ticks": ""
           }
          },
          "scene": {
           "xaxis": {
            "backgroundcolor": "#E5ECF6",
            "gridcolor": "white",
            "gridwidth": 2,
            "linecolor": "white",
            "showbackground": true,
            "ticks": "",
            "zerolinecolor": "white"
           },
           "yaxis": {
            "backgroundcolor": "#E5ECF6",
            "gridcolor": "white",
            "gridwidth": 2,
            "linecolor": "white",
            "showbackground": true,
            "ticks": "",
            "zerolinecolor": "white"
           },
           "zaxis": {
            "backgroundcolor": "#E5ECF6",
            "gridcolor": "white",
            "gridwidth": 2,
            "linecolor": "white",
            "showbackground": true,
            "ticks": "",
            "zerolinecolor": "white"
           }
          },
          "shapedefaults": {
           "line": {
            "color": "#2a3f5f"
           }
          },
          "ternary": {
           "aaxis": {
            "gridcolor": "white",
            "linecolor": "white",
            "ticks": ""
           },
           "baxis": {
            "gridcolor": "white",
            "linecolor": "white",
            "ticks": ""
           },
           "bgcolor": "#E5ECF6",
           "caxis": {
            "gridcolor": "white",
            "linecolor": "white",
            "ticks": ""
           }
          },
          "title": {
           "x": 0.05
          },
          "xaxis": {
           "automargin": true,
           "gridcolor": "white",
           "linecolor": "white",
           "ticks": "",
           "title": {
            "standoff": 15
           },
           "zerolinecolor": "white",
           "zerolinewidth": 2
          },
          "yaxis": {
           "automargin": true,
           "gridcolor": "white",
           "linecolor": "white",
           "ticks": "",
           "title": {
            "standoff": 15
           },
           "zerolinecolor": "white",
           "zerolinewidth": 2
          }
         }
        },
        "title": {
         "text": "Optimization History Plot"
        },
        "xaxis": {
         "title": {
          "text": "Trial"
         }
        },
        "yaxis": {
         "title": {
          "text": "Objective Value"
         }
        }
       }
      }
     },
     "metadata": {},
     "output_type": "display_data"
    }
   ],
   "source": [
    "print_study_results(\"surv_mlp\")"
   ]
  },
  {
   "cell_type": "code",
   "execution_count": 5,
   "metadata": {},
   "outputs": [
    {
     "name": "stdout",
     "output_type": "stream",
     "text": [
      "Study statistics: \n",
      "\tN finished trials:  500\n",
      "\tN pruned trials:  0\n",
      "\tN completed trials:  500\n",
      "Best trials:\n",
      "\tBest mean values:  [0.7269838861363878, 0.1757615185667924]\n",
      "\tCustom metrics:  {'avg_best_epoch': 12.2, 'avg_std': [0.08676104016980302, 0.06437159531558906]}\n",
      "\tParams: \n",
      "\t\tn_buckets: 128\n",
      "\t\tn_edges: None\n",
      "\t\tlr: 0.001\n",
      "\t\tdp: 0\n",
      "\t\tact_fn: elu\n",
      "\t\ttrunk_ls: 32\n",
      "\t\tsurv_ds: 32\n",
      "\tBest mean values:  [0.6753319594009514, 0.16848480982929825]\n",
      "\tCustom metrics:  {'avg_best_epoch': 30.8, 'avg_std': [0.06584798775933225, 0.03592605209719386]}\n",
      "\tParams: \n",
      "\t\tn_buckets: 15\n",
      "\t\tn_edges: None\n",
      "\t\tlr: 0.001\n",
      "\t\tdp: 0\n",
      "\t\tact_fn: elu\n",
      "\t\ttrunk_ls: 32\n",
      "\t\tsurv_ds: 32\n"
     ]
    },
    {
     "data": {
      "application/vnd.plotly.v1+json": {
       "config": {
        "plotlyServerURL": "https://plot.ly"
       },
       "data": [
        {
         "cliponaxis": false,
         "hovertemplate": [
          "dp (CategoricalDistribution): 0.0177300453308192<extra></extra>",
          "act_fn (CategoricalDistribution): 0.03233799300965058<extra></extra>",
          "n_edges (CategoricalDistribution): 0.04240581116547879<extra></extra>",
          "trunk_ls (CategoricalDistribution): 0.08249860958276706<extra></extra>",
          "n_buckets (CategoricalDistribution): 0.2059015909451112<extra></extra>",
          "surv_ds (CategoricalDistribution): 0.28071600722125706<extra></extra>",
          "lr (CategoricalDistribution): 0.33840994274491626<extra></extra>"
         ],
         "name": "Objective Value 0",
         "orientation": "h",
         "text": [
          "0.02",
          "0.03",
          "0.04",
          "0.08",
          "0.21",
          "0.28",
          "0.34"
         ],
         "textposition": "outside",
         "type": "bar",
         "x": [
          0.0177300453308192,
          0.03233799300965058,
          0.04240581116547879,
          0.08249860958276706,
          0.2059015909451112,
          0.28071600722125706,
          0.33840994274491626
         ],
         "y": [
          "dp",
          "act_fn",
          "n_edges",
          "trunk_ls",
          "n_buckets",
          "surv_ds",
          "lr"
         ]
        },
        {
         "cliponaxis": false,
         "hovertemplate": [
          "dp (CategoricalDistribution): 0.004781962639484776<extra></extra>",
          "act_fn (CategoricalDistribution): 0.021466974203635587<extra></extra>",
          "n_edges (CategoricalDistribution): 0.025051296784151834<extra></extra>",
          "trunk_ls (CategoricalDistribution): 0.08548920010677068<extra></extra>",
          "n_buckets (CategoricalDistribution): 0.21889178094995615<extra></extra>",
          "surv_ds (CategoricalDistribution): 0.284054644077356<extra></extra>",
          "lr (CategoricalDistribution): 0.3602641412386449<extra></extra>"
         ],
         "name": "Objective Value 1",
         "orientation": "h",
         "text": [
          "<0.01",
          "0.02",
          "0.03",
          "0.09",
          "0.22",
          "0.28",
          "0.36"
         ],
         "textposition": "outside",
         "type": "bar",
         "x": [
          0.004781962639484776,
          0.021466974203635587,
          0.025051296784151834,
          0.08548920010677068,
          0.21889178094995615,
          0.284054644077356,
          0.3602641412386449
         ],
         "y": [
          "dp",
          "act_fn",
          "n_edges",
          "trunk_ls",
          "n_buckets",
          "surv_ds",
          "lr"
         ]
        }
       ],
       "layout": {
        "template": {
         "data": {
          "bar": [
           {
            "error_x": {
             "color": "#2a3f5f"
            },
            "error_y": {
             "color": "#2a3f5f"
            },
            "marker": {
             "line": {
              "color": "#E5ECF6",
              "width": 0.5
             },
             "pattern": {
              "fillmode": "overlay",
              "size": 10,
              "solidity": 0.2
             }
            },
            "type": "bar"
           }
          ],
          "barpolar": [
           {
            "marker": {
             "line": {
              "color": "#E5ECF6",
              "width": 0.5
             },
             "pattern": {
              "fillmode": "overlay",
              "size": 10,
              "solidity": 0.2
             }
            },
            "type": "barpolar"
           }
          ],
          "carpet": [
           {
            "aaxis": {
             "endlinecolor": "#2a3f5f",
             "gridcolor": "white",
             "linecolor": "white",
             "minorgridcolor": "white",
             "startlinecolor": "#2a3f5f"
            },
            "baxis": {
             "endlinecolor": "#2a3f5f",
             "gridcolor": "white",
             "linecolor": "white",
             "minorgridcolor": "white",
             "startlinecolor": "#2a3f5f"
            },
            "type": "carpet"
           }
          ],
          "choropleth": [
           {
            "colorbar": {
             "outlinewidth": 0,
             "ticks": ""
            },
            "type": "choropleth"
           }
          ],
          "contour": [
           {
            "colorbar": {
             "outlinewidth": 0,
             "ticks": ""
            },
            "colorscale": [
             [
              0,
              "#0d0887"
             ],
             [
              0.1111111111111111,
              "#46039f"
             ],
             [
              0.2222222222222222,
              "#7201a8"
             ],
             [
              0.3333333333333333,
              "#9c179e"
             ],
             [
              0.4444444444444444,
              "#bd3786"
             ],
             [
              0.5555555555555556,
              "#d8576b"
             ],
             [
              0.6666666666666666,
              "#ed7953"
             ],
             [
              0.7777777777777778,
              "#fb9f3a"
             ],
             [
              0.8888888888888888,
              "#fdca26"
             ],
             [
              1,
              "#f0f921"
             ]
            ],
            "type": "contour"
           }
          ],
          "contourcarpet": [
           {
            "colorbar": {
             "outlinewidth": 0,
             "ticks": ""
            },
            "type": "contourcarpet"
           }
          ],
          "heatmap": [
           {
            "colorbar": {
             "outlinewidth": 0,
             "ticks": ""
            },
            "colorscale": [
             [
              0,
              "#0d0887"
             ],
             [
              0.1111111111111111,
              "#46039f"
             ],
             [
              0.2222222222222222,
              "#7201a8"
             ],
             [
              0.3333333333333333,
              "#9c179e"
             ],
             [
              0.4444444444444444,
              "#bd3786"
             ],
             [
              0.5555555555555556,
              "#d8576b"
             ],
             [
              0.6666666666666666,
              "#ed7953"
             ],
             [
              0.7777777777777778,
              "#fb9f3a"
             ],
             [
              0.8888888888888888,
              "#fdca26"
             ],
             [
              1,
              "#f0f921"
             ]
            ],
            "type": "heatmap"
           }
          ],
          "heatmapgl": [
           {
            "colorbar": {
             "outlinewidth": 0,
             "ticks": ""
            },
            "colorscale": [
             [
              0,
              "#0d0887"
             ],
             [
              0.1111111111111111,
              "#46039f"
             ],
             [
              0.2222222222222222,
              "#7201a8"
             ],
             [
              0.3333333333333333,
              "#9c179e"
             ],
             [
              0.4444444444444444,
              "#bd3786"
             ],
             [
              0.5555555555555556,
              "#d8576b"
             ],
             [
              0.6666666666666666,
              "#ed7953"
             ],
             [
              0.7777777777777778,
              "#fb9f3a"
             ],
             [
              0.8888888888888888,
              "#fdca26"
             ],
             [
              1,
              "#f0f921"
             ]
            ],
            "type": "heatmapgl"
           }
          ],
          "histogram": [
           {
            "marker": {
             "pattern": {
              "fillmode": "overlay",
              "size": 10,
              "solidity": 0.2
             }
            },
            "type": "histogram"
           }
          ],
          "histogram2d": [
           {
            "colorbar": {
             "outlinewidth": 0,
             "ticks": ""
            },
            "colorscale": [
             [
              0,
              "#0d0887"
             ],
             [
              0.1111111111111111,
              "#46039f"
             ],
             [
              0.2222222222222222,
              "#7201a8"
             ],
             [
              0.3333333333333333,
              "#9c179e"
             ],
             [
              0.4444444444444444,
              "#bd3786"
             ],
             [
              0.5555555555555556,
              "#d8576b"
             ],
             [
              0.6666666666666666,
              "#ed7953"
             ],
             [
              0.7777777777777778,
              "#fb9f3a"
             ],
             [
              0.8888888888888888,
              "#fdca26"
             ],
             [
              1,
              "#f0f921"
             ]
            ],
            "type": "histogram2d"
           }
          ],
          "histogram2dcontour": [
           {
            "colorbar": {
             "outlinewidth": 0,
             "ticks": ""
            },
            "colorscale": [
             [
              0,
              "#0d0887"
             ],
             [
              0.1111111111111111,
              "#46039f"
             ],
             [
              0.2222222222222222,
              "#7201a8"
             ],
             [
              0.3333333333333333,
              "#9c179e"
             ],
             [
              0.4444444444444444,
              "#bd3786"
             ],
             [
              0.5555555555555556,
              "#d8576b"
             ],
             [
              0.6666666666666666,
              "#ed7953"
             ],
             [
              0.7777777777777778,
              "#fb9f3a"
             ],
             [
              0.8888888888888888,
              "#fdca26"
             ],
             [
              1,
              "#f0f921"
             ]
            ],
            "type": "histogram2dcontour"
           }
          ],
          "mesh3d": [
           {
            "colorbar": {
             "outlinewidth": 0,
             "ticks": ""
            },
            "type": "mesh3d"
           }
          ],
          "parcoords": [
           {
            "line": {
             "colorbar": {
              "outlinewidth": 0,
              "ticks": ""
             }
            },
            "type": "parcoords"
           }
          ],
          "pie": [
           {
            "automargin": true,
            "type": "pie"
           }
          ],
          "scatter": [
           {
            "fillpattern": {
             "fillmode": "overlay",
             "size": 10,
             "solidity": 0.2
            },
            "type": "scatter"
           }
          ],
          "scatter3d": [
           {
            "line": {
             "colorbar": {
              "outlinewidth": 0,
              "ticks": ""
             }
            },
            "marker": {
             "colorbar": {
              "outlinewidth": 0,
              "ticks": ""
             }
            },
            "type": "scatter3d"
           }
          ],
          "scattercarpet": [
           {
            "marker": {
             "colorbar": {
              "outlinewidth": 0,
              "ticks": ""
             }
            },
            "type": "scattercarpet"
           }
          ],
          "scattergeo": [
           {
            "marker": {
             "colorbar": {
              "outlinewidth": 0,
              "ticks": ""
             }
            },
            "type": "scattergeo"
           }
          ],
          "scattergl": [
           {
            "marker": {
             "colorbar": {
              "outlinewidth": 0,
              "ticks": ""
             }
            },
            "type": "scattergl"
           }
          ],
          "scattermapbox": [
           {
            "marker": {
             "colorbar": {
              "outlinewidth": 0,
              "ticks": ""
             }
            },
            "type": "scattermapbox"
           }
          ],
          "scatterpolar": [
           {
            "marker": {
             "colorbar": {
              "outlinewidth": 0,
              "ticks": ""
             }
            },
            "type": "scatterpolar"
           }
          ],
          "scatterpolargl": [
           {
            "marker": {
             "colorbar": {
              "outlinewidth": 0,
              "ticks": ""
             }
            },
            "type": "scatterpolargl"
           }
          ],
          "scatterternary": [
           {
            "marker": {
             "colorbar": {
              "outlinewidth": 0,
              "ticks": ""
             }
            },
            "type": "scatterternary"
           }
          ],
          "surface": [
           {
            "colorbar": {
             "outlinewidth": 0,
             "ticks": ""
            },
            "colorscale": [
             [
              0,
              "#0d0887"
             ],
             [
              0.1111111111111111,
              "#46039f"
             ],
             [
              0.2222222222222222,
              "#7201a8"
             ],
             [
              0.3333333333333333,
              "#9c179e"
             ],
             [
              0.4444444444444444,
              "#bd3786"
             ],
             [
              0.5555555555555556,
              "#d8576b"
             ],
             [
              0.6666666666666666,
              "#ed7953"
             ],
             [
              0.7777777777777778,
              "#fb9f3a"
             ],
             [
              0.8888888888888888,
              "#fdca26"
             ],
             [
              1,
              "#f0f921"
             ]
            ],
            "type": "surface"
           }
          ],
          "table": [
           {
            "cells": {
             "fill": {
              "color": "#EBF0F8"
             },
             "line": {
              "color": "white"
             }
            },
            "header": {
             "fill": {
              "color": "#C8D4E3"
             },
             "line": {
              "color": "white"
             }
            },
            "type": "table"
           }
          ]
         },
         "layout": {
          "annotationdefaults": {
           "arrowcolor": "#2a3f5f",
           "arrowhead": 0,
           "arrowwidth": 1
          },
          "autotypenumbers": "strict",
          "coloraxis": {
           "colorbar": {
            "outlinewidth": 0,
            "ticks": ""
           }
          },
          "colorscale": {
           "diverging": [
            [
             0,
             "#8e0152"
            ],
            [
             0.1,
             "#c51b7d"
            ],
            [
             0.2,
             "#de77ae"
            ],
            [
             0.3,
             "#f1b6da"
            ],
            [
             0.4,
             "#fde0ef"
            ],
            [
             0.5,
             "#f7f7f7"
            ],
            [
             0.6,
             "#e6f5d0"
            ],
            [
             0.7,
             "#b8e186"
            ],
            [
             0.8,
             "#7fbc41"
            ],
            [
             0.9,
             "#4d9221"
            ],
            [
             1,
             "#276419"
            ]
           ],
           "sequential": [
            [
             0,
             "#0d0887"
            ],
            [
             0.1111111111111111,
             "#46039f"
            ],
            [
             0.2222222222222222,
             "#7201a8"
            ],
            [
             0.3333333333333333,
             "#9c179e"
            ],
            [
             0.4444444444444444,
             "#bd3786"
            ],
            [
             0.5555555555555556,
             "#d8576b"
            ],
            [
             0.6666666666666666,
             "#ed7953"
            ],
            [
             0.7777777777777778,
             "#fb9f3a"
            ],
            [
             0.8888888888888888,
             "#fdca26"
            ],
            [
             1,
             "#f0f921"
            ]
           ],
           "sequentialminus": [
            [
             0,
             "#0d0887"
            ],
            [
             0.1111111111111111,
             "#46039f"
            ],
            [
             0.2222222222222222,
             "#7201a8"
            ],
            [
             0.3333333333333333,
             "#9c179e"
            ],
            [
             0.4444444444444444,
             "#bd3786"
            ],
            [
             0.5555555555555556,
             "#d8576b"
            ],
            [
             0.6666666666666666,
             "#ed7953"
            ],
            [
             0.7777777777777778,
             "#fb9f3a"
            ],
            [
             0.8888888888888888,
             "#fdca26"
            ],
            [
             1,
             "#f0f921"
            ]
           ]
          },
          "colorway": [
           "#636efa",
           "#EF553B",
           "#00cc96",
           "#ab63fa",
           "#FFA15A",
           "#19d3f3",
           "#FF6692",
           "#B6E880",
           "#FF97FF",
           "#FECB52"
          ],
          "font": {
           "color": "#2a3f5f"
          },
          "geo": {
           "bgcolor": "white",
           "lakecolor": "white",
           "landcolor": "#E5ECF6",
           "showlakes": true,
           "showland": true,
           "subunitcolor": "white"
          },
          "hoverlabel": {
           "align": "left"
          },
          "hovermode": "closest",
          "mapbox": {
           "style": "light"
          },
          "paper_bgcolor": "white",
          "plot_bgcolor": "#E5ECF6",
          "polar": {
           "angularaxis": {
            "gridcolor": "white",
            "linecolor": "white",
            "ticks": ""
           },
           "bgcolor": "#E5ECF6",
           "radialaxis": {
            "gridcolor": "white",
            "linecolor": "white",
            "ticks": ""
           }
          },
          "scene": {
           "xaxis": {
            "backgroundcolor": "#E5ECF6",
            "gridcolor": "white",
            "gridwidth": 2,
            "linecolor": "white",
            "showbackground": true,
            "ticks": "",
            "zerolinecolor": "white"
           },
           "yaxis": {
            "backgroundcolor": "#E5ECF6",
            "gridcolor": "white",
            "gridwidth": 2,
            "linecolor": "white",
            "showbackground": true,
            "ticks": "",
            "zerolinecolor": "white"
           },
           "zaxis": {
            "backgroundcolor": "#E5ECF6",
            "gridcolor": "white",
            "gridwidth": 2,
            "linecolor": "white",
            "showbackground": true,
            "ticks": "",
            "zerolinecolor": "white"
           }
          },
          "shapedefaults": {
           "line": {
            "color": "#2a3f5f"
           }
          },
          "ternary": {
           "aaxis": {
            "gridcolor": "white",
            "linecolor": "white",
            "ticks": ""
           },
           "baxis": {
            "gridcolor": "white",
            "linecolor": "white",
            "ticks": ""
           },
           "bgcolor": "#E5ECF6",
           "caxis": {
            "gridcolor": "white",
            "linecolor": "white",
            "ticks": ""
           }
          },
          "title": {
           "x": 0.05
          },
          "xaxis": {
           "automargin": true,
           "gridcolor": "white",
           "linecolor": "white",
           "ticks": "",
           "title": {
            "standoff": 15
           },
           "zerolinecolor": "white",
           "zerolinewidth": 2
          },
          "yaxis": {
           "automargin": true,
           "gridcolor": "white",
           "linecolor": "white",
           "ticks": "",
           "title": {
            "standoff": 15
           },
           "zerolinecolor": "white",
           "zerolinewidth": 2
          }
         }
        },
        "title": {
         "text": "Hyperparameter Importances"
        },
        "xaxis": {
         "title": {
          "text": "Hyperparameter Importance"
         }
        },
        "yaxis": {
         "title": {
          "text": "Hyperparameter"
         }
        }
       }
      }
     },
     "metadata": {},
     "output_type": "display_data"
    },
    {
     "name": "stderr",
     "output_type": "stream",
     "text": [
      "/home/davide/miniconda3/envs/omics/lib/python3.11/site-packages/optuna/visualization/_utils.py:67: UserWarning:\n",
      "\n",
      "`target` is specified, but `target_name` is the default value, 'Objective Value'.\n",
      "\n"
     ]
    },
    {
     "data": {
      "application/vnd.plotly.v1+json": {
       "config": {
        "plotlyServerURL": "https://plot.ly"
       },
       "data": [
        {
         "mode": "markers",
         "name": "Objective Value",
         "type": "scatter",
         "x": [
          0,
          1,
          2,
          3,
          4,
          5,
          6,
          7,
          8,
          9,
          10,
          11,
          12,
          13,
          14,
          15,
          16,
          17,
          18,
          19,
          20,
          21,
          22,
          23,
          24,
          25,
          26,
          27,
          28,
          29,
          30,
          31,
          32,
          33,
          34,
          35,
          36,
          37,
          38,
          39,
          40,
          41,
          42,
          43,
          44,
          45,
          46,
          47,
          48,
          49,
          50,
          51,
          52,
          53,
          54,
          55,
          56,
          57,
          58,
          59,
          60,
          61,
          62,
          63,
          64,
          65,
          66,
          67,
          68,
          69,
          70,
          71,
          72,
          73,
          74,
          75,
          76,
          77,
          78,
          79,
          80,
          81,
          82,
          83,
          84,
          85,
          86,
          87,
          88,
          89,
          90,
          91,
          92,
          93,
          94,
          95,
          96,
          97,
          98,
          99,
          100,
          101,
          102,
          103,
          104,
          105,
          106,
          107,
          108,
          109,
          110,
          111,
          112,
          113,
          114,
          115,
          116,
          117,
          118,
          119,
          120,
          121,
          122,
          123,
          124,
          125,
          126,
          127,
          128,
          129,
          130,
          131,
          132,
          133,
          134,
          135,
          136,
          137,
          138,
          139,
          140,
          141,
          142,
          143,
          144,
          145,
          146,
          147,
          148,
          149,
          150,
          151,
          152,
          153,
          154,
          155,
          156,
          157,
          158,
          159,
          160,
          161,
          162,
          163,
          164,
          165,
          166,
          167,
          168,
          169,
          170,
          171,
          172,
          173,
          174,
          175,
          176,
          177,
          178,
          179,
          180,
          181,
          182,
          183,
          184,
          185,
          186,
          187,
          188,
          189,
          190,
          191,
          192,
          193,
          194,
          195,
          196,
          197,
          198,
          199,
          200,
          201,
          202,
          203,
          204,
          205,
          206,
          207,
          208,
          209,
          210,
          211,
          212,
          213,
          214,
          215,
          216,
          217,
          218,
          219,
          220,
          221,
          222,
          223,
          224,
          225,
          226,
          227,
          228,
          229,
          230,
          231,
          232,
          233,
          234,
          235,
          236,
          237,
          238,
          239,
          240,
          241,
          242,
          243,
          244,
          245,
          246,
          247,
          248,
          249,
          250,
          251,
          252,
          253,
          254,
          255,
          256,
          257,
          258,
          259,
          260,
          261,
          262,
          263,
          264,
          265,
          266,
          267,
          268,
          269,
          270,
          271,
          272,
          273,
          274,
          275,
          276,
          277,
          278,
          279,
          280,
          281,
          282,
          283,
          284,
          285,
          286,
          287,
          288,
          289,
          290,
          291,
          292,
          293,
          294,
          295,
          296,
          297,
          298,
          299,
          300,
          301,
          302,
          303,
          304,
          305,
          306,
          307,
          308,
          309,
          310,
          311,
          312,
          313,
          314,
          315,
          316,
          317,
          318,
          319,
          320,
          321,
          322,
          323,
          324,
          325,
          326,
          327,
          328,
          329,
          330,
          331,
          332,
          333,
          334,
          335,
          336,
          337,
          338,
          339,
          340,
          341,
          342,
          343,
          344,
          345,
          346,
          347,
          348,
          349,
          350,
          351,
          352,
          353,
          354,
          355,
          356,
          357,
          358,
          359,
          360,
          361,
          362,
          363,
          364,
          365,
          366,
          367,
          368,
          369,
          370,
          371,
          372,
          373,
          374,
          375,
          376,
          377,
          378,
          379,
          380,
          381,
          382,
          383,
          384,
          385,
          386,
          387,
          388,
          389,
          390,
          391,
          392,
          393,
          394,
          395,
          396,
          397,
          398,
          399,
          400,
          401,
          402,
          403,
          404,
          405,
          406,
          407,
          408,
          409,
          410,
          411,
          412,
          413,
          414,
          415,
          416,
          417,
          418,
          419,
          420,
          421,
          422,
          423,
          424,
          425,
          426,
          427,
          428,
          429,
          430,
          431,
          432,
          433,
          434,
          435,
          436,
          437,
          438,
          439,
          440,
          441,
          442,
          443,
          444,
          445,
          446,
          447,
          448,
          449,
          450,
          451,
          452,
          453,
          454,
          455,
          456,
          457,
          458,
          459,
          460,
          461,
          462,
          463,
          464,
          465,
          466,
          467,
          468,
          469,
          470,
          471,
          472,
          473,
          474,
          475,
          476,
          477,
          478,
          479,
          480,
          481,
          482,
          483,
          484,
          485,
          486,
          487,
          488,
          489,
          490,
          491,
          492,
          493,
          494,
          495,
          496,
          497,
          498,
          499
         ],
         "y": [
          0.6425248431717385,
          0.6171125728761069,
          0.6149517363444017,
          0.6873935994994634,
          0.5915961389587479,
          0.6677071415591022,
          0.6657722153848337,
          0.609020815424812,
          0,
          0.6165257909540451,
          0.5908319828139899,
          0.6218168556055634,
          0.6712671370111154,
          0.5971681766146114,
          0.6041377394164092,
          0.6539237262363135,
          0.6405121697001267,
          0,
          0.543830378321577,
          0.5845536945818633,
          0,
          0.6461316768159779,
          0.5824156774256989,
          0.6061944015896777,
          0.617664794474078,
          0.6314626646191945,
          0.6087293644350527,
          0,
          0.6288404859687058,
          0.5932506155850745,
          0.6570890620235648,
          0.5746923622172864,
          0.6328686496071196,
          0.6394269804298318,
          0.6485851274746885,
          0.6353444778451115,
          0.5914093445131432,
          0.6066788477886209,
          0.6190170242993946,
          0.574957470931744,
          0,
          0.6266864887264407,
          0.5745435887194555,
          0.6062180271719886,
          0.6088705706736093,
          0.5853838150231625,
          0.6247713658827043,
          0.6406507767512926,
          0,
          0.6270931566739393,
          0.5551100491650061,
          0.6260768608382511,
          0,
          0.5856944194141135,
          0.6286667572066131,
          0.625197668942749,
          0.6279318504036411,
          0.6098985254647914,
          0.5900930117134529,
          0.6064013885492662,
          0.6226061948250528,
          0.6046156551907582,
          0.6144866086306398,
          0.6421546583788315,
          0.5887843158249177,
          0,
          0.6622648444646521,
          0,
          0.6091555599824588,
          0.5058020150564932,
          0.5927673762748119,
          0.5679439618848274,
          0.5674175160261115,
          0.6082881544774423,
          0.6493905825215593,
          0.6736774184814759,
          0.6338323340110754,
          0.6182250052825197,
          0.641009062713956,
          0.6392500882771308,
          0.5742573314410188,
          0.6436441579407405,
          0,
          0.6622260523725243,
          0.5851448291840381,
          0.6653977362333616,
          0.6575460898689116,
          0.6288627871776752,
          0.6417811223207814,
          0.6229400819430012,
          0.5959421872750472,
          0.6119253686630108,
          0.6412067538104265,
          0.6282922350056284,
          0.604353339797771,
          0.5827752543908062,
          0,
          0.6092605284743821,
          0.6196472314263975,
          0.5869582259324921,
          0.6293386413509109,
          0.659077008602952,
          0.5882805726172102,
          0.6064188952281109,
          0.650117599734859,
          0.6256263986745142,
          0.6091305986199789,
          0.6402797930278284,
          0.6255746394457017,
          0.664814204359503,
          0.5661887003813539,
          0.6175332770077867,
          0.6815232354486526,
          0.604672089129018,
          0.6056305060680371,
          0.642150605196892,
          0.5750939589122803,
          0.5839186989937867,
          0.6468537646289141,
          0.6308383212662457,
          0,
          0,
          0.5967239255303157,
          0.5878358901850067,
          0.5631292728608756,
          0.5611126908659871,
          0,
          0.580319718164439,
          0.661735784848659,
          0.6149778517479049,
          0.6423335579929733,
          0.626534142102105,
          0.6555056802997908,
          0.6860699330527348,
          0.6255594188940671,
          0.5965443833374604,
          0.6161400065232492,
          0.6218569470418076,
          0.6069498974346902,
          0.6262618331434145,
          0.6127968190097605,
          0.6420428221066519,
          0.5813502495193694,
          0.6138211470385275,
          0.6162256080801298,
          0.6426527720038928,
          0.638736869286029,
          0.6296671880650949,
          0.6638005452922444,
          0.6293104990823736,
          0.6710828998173684,
          0.5672557771237313,
          0.6418233821027232,
          0.6326760155793371,
          0.5828368400522169,
          0.6195189471343787,
          0.6312310316984502,
          0.6398335677682385,
          0.6441641037854267,
          0.5575510421256078,
          0.5756254607303346,
          0.5149443706101439,
          0.5828653025917676,
          0.5948376196773275,
          0.6205487113875698,
          0.5744768825008026,
          0.6347866513686296,
          0.5587641989823285,
          0.5574406137530714,
          0.5832434285972856,
          0.616531423940075,
          0.6620249847483468,
          0.6301392647534977,
          0.5833506983954313,
          0.6312163313969393,
          0.5722013305069028,
          0.5401463569719409,
          0.6025714485791557,
          0.6084271892907924,
          0.6605315939879018,
          0.5809147914360099,
          0.6336920875193067,
          0.580666896700684,
          0.5445454219306978,
          0.5964527525380637,
          0.6187602366385018,
          0.6325315840150758,
          0.5844309417012499,
          0.5837915817646528,
          0.5970337049927299,
          0.6235333702472994,
          0.5885795494053716,
          0.6873849404282161,
          0.5966781526697572,
          0.5802008836274298,
          0.5872159332162901,
          0.5550657304626528,
          0.571352941417026,
          0.6739842520133337,
          0.6489145665343985,
          0.600512522080899,
          0.5967382483286008,
          0.5909781932143385,
          0.5971272113312547,
          0.540646813882313,
          0.6043344687631929,
          0.5904043908716002,
          0.5357002584860255,
          0.7001279384693145,
          0.5798353870856324,
          0.6045047677238737,
          0.5568911013546198,
          0.6116432101611137,
          0.6319776778019454,
          0.5702323165978804,
          0.5689334759987109,
          0.6403405470257856,
          0.5812397021201273,
          0.6528908499830631,
          0.6331419556559041,
          0.6435014637428718,
          0.7269838861363878,
          0,
          0.5738967675305592,
          0,
          0.5674433935836057,
          0,
          0.5904081072581808,
          0.5543890681000706,
          0.5586088357150494,
          0.6214493145407018,
          0.5641045284632874,
          0.6927977098591358,
          0.6069694593464608,
          0.6192489759352181,
          0.6606632386896442,
          0.6455469329411685,
          0.6111870296215713,
          0.6313851781475663,
          0.6177497464378877,
          0.5375764589862532,
          0.6621220018665687,
          0.5788837307736359,
          0.5705200399869819,
          0.5828843754965172,
          0.6441192244745471,
          0.6084202339996226,
          0.6308753835343228,
          0.6293691343422375,
          0.6646678520896139,
          0.63725116144676,
          0.6162040382449494,
          0.6345676265307911,
          0.5520031323560646,
          0.5911330289141016,
          0.6122511146181392,
          0.5648919830093406,
          0.6171274761538507,
          0.5975812210760519,
          0.5846392270104912,
          0.5675751203506753,
          0.6256664519021777,
          0.635164970738139,
          0.571559876023118,
          0.6760269462331359,
          0.5793464194959055,
          0.6062703431215974,
          0.5408043807531908,
          0.5912498602365616,
          0.6253790204980529,
          0.608483622782754,
          0.5971380829824834,
          0.6051406814317524,
          0.634937423613546,
          0.6424118028835814,
          0.6364849935402679,
          0.6004594142163701,
          0.6327618855512505,
          0.5855127737051546,
          0.5678543061417718,
          0.5978285571908667,
          0.6052959812663217,
          0.6357174998714876,
          0.5815223622916952,
          0.5591338588344184,
          0.6105117220342589,
          0,
          0.616342980724532,
          0.5922467988520551,
          0.604895887344869,
          0.614206044769525,
          0.5867930977060553,
          0.6461848146337579,
          0.5622178253094372,
          0.6384355284395133,
          0.6066256111575863,
          0.597618281949469,
          0.6277302743134717,
          0.6130582530333257,
          0.6313383225254191,
          0.6547743644633263,
          0.6390929852617477,
          0.650142369528138,
          0.6300443848081972,
          0.5626484311035409,
          0.6859193118059965,
          0.6652672128194668,
          0.6256139986162227,
          0.5921120442613259,
          0.6367386070571064,
          0.6271613468264894,
          0.6123335542122732,
          0.6320717246396057,
          0.6415250677289166,
          0.6385226448981268,
          0.6485578477296148,
          0.5925495678326186,
          0.6737781537260172,
          0.625333425285894,
          0.614207111893817,
          0.5598970886860722,
          0.6469102008379395,
          0.6648768731971828,
          0.6364751234549045,
          0.5680255024576002,
          0.5856900442614122,
          0.6164169941482652,
          0.5556204622045401,
          0.532608493576344,
          0.6678839557090036,
          0.6184972903045134,
          0.6570142579530163,
          0.6132182418324212,
          0.633741554368971,
          0.531524722270036,
          0.6344963140716341,
          0.5622845678983301,
          0.5800735665764923,
          0.49528944562911514,
          0.5862100564688856,
          0.577187864357037,
          0.6791180881723895,
          0.6099313077347963,
          0.6094780520243435,
          0.584616846572622,
          0.5927536413951179,
          0.6332062462634812,
          0.6368797982508311,
          0.5982120921359728,
          0.5897496083098606,
          0.6636356615794511,
          0.5962558445263311,
          0.5625267022269574,
          0.6021308538202387,
          0.6692436307724232,
          0,
          0.6223545943324453,
          0.6471180048281945,
          0.624911754446196,
          0.5923289289198492,
          0.5965003377427855,
          0.6250454370976463,
          0.6418377770100767,
          0.6392105941108026,
          0.6046083099326982,
          0.6288862809191443,
          0.6338838518297761,
          0.6059675938055723,
          0.6078975503213879,
          0.6477312524632451,
          0.5426177298410563,
          0.5752463445347915,
          0.5715988600829254,
          0.6101033354281749,
          0.5952621225170288,
          0.5699459528758546,
          0.5855187821967366,
          0.6490465492255739,
          0.6024616220024934,
          0.6314988658073845,
          0.6158575542517978,
          0.5860445450935075,
          0.6043824294436634,
          0.6848015038440961,
          0.6641754516290916,
          0.6527536136033554,
          0.6054897956115471,
          0.5666406105736866,
          0.5679612639933647,
          0.5337258688009554,
          0.6230415697333228,
          0.6122027985441831,
          0.6204116455837052,
          0.5999164222240799,
          0.5910419533406948,
          0.5868465458306471,
          0.6236423954143454,
          0.5485910655401256,
          0.6135198653980543,
          0.5465694391894951,
          0.627018576707202,
          0.6337592670221548,
          0.6365323607602305,
          0.638937369051568,
          0.5824900449561541,
          0.7031590756704247,
          0.6267906368430883,
          0,
          0.5940585683919457,
          0.5870571229421641,
          0.6637502322966691,
          0.6168817780738342,
          0.5690376957167876,
          0.6137054885947223,
          0.5751051557156359,
          0.5969422430558184,
          0.5909453369406255,
          0.620137654492027,
          0.5615444437982916,
          0.6753319594009514,
          0.6213111029546994,
          0.5690770246451667,
          0.6412612720198607,
          0.5460720676666482,
          0.577811772285479,
          0.6772454182751849,
          0.5938891349509433,
          0.5914641075848219,
          0.5907363130574002,
          0.6331519606551771,
          0.6094699721145395,
          0.6016298640542704,
          0.6543224200360569,
          0.6236356552238631,
          0.6153697339227557,
          0.6303865988913149,
          0.6291162682227684,
          0.5778158211111528,
          0.6179477511181535,
          0.6191171525362288,
          0.6395369777015558,
          0.6504576256255422,
          0.6062401802170102,
          0.602399485805709,
          0.5798041532916216,
          0.5845323353777784,
          0.6145962423060166,
          0.6050018577938483,
          0.6264004756736717,
          0.5950428043634404,
          0.5627968649051824,
          0.5979425817855358,
          0.6413605934868354,
          0.6087573594778852,
          0.6493923883582332,
          0.6244304177607146,
          0.533183765384415,
          0.5807533904119795,
          0.5629762301746284,
          0.6542043765780875,
          0.6117560151388625,
          0.5775314252972026,
          0.6388078111040174,
          0.6394748087818192,
          0.5540129673079603,
          0.670726320917258,
          0.6383324523817926,
          0.589482438600163,
          0.5802206388191855,
          0.653455458862564,
          0.632637111710853,
          0.6246754324295948,
          0.6895391304054488,
          0.6454145692238777,
          0.612018313078289,
          0.6074134595415897,
          0.6515599615353539,
          0.5881261357417464,
          0.6200147640103459,
          0.6173018060816091,
          0.5986872700929226,
          0.6189046902809895,
          0.6177889467559219,
          0.5251373025275556,
          0.6061530924463713,
          0.6443286200382035,
          0.581522918701659,
          0.5562747659673646,
          0.6521992098036958,
          0.619221387484732,
          0.5762378920090855,
          0.650697202057789,
          0.5522574733999679,
          0.6307625165132749,
          0.5689888061192685,
          0.5746107956750421,
          0.6288160528398529,
          0.611931943214876,
          0.5547739767088873,
          0.5900341460417445
         ]
        },
        {
         "marker": {
          "color": "#cccccc"
         },
         "mode": "markers",
         "name": "Infeasible Trial",
         "showlegend": false,
         "type": "scatter",
         "x": [],
         "y": []
        }
       ],
       "layout": {
        "template": {
         "data": {
          "bar": [
           {
            "error_x": {
             "color": "#2a3f5f"
            },
            "error_y": {
             "color": "#2a3f5f"
            },
            "marker": {
             "line": {
              "color": "#E5ECF6",
              "width": 0.5
             },
             "pattern": {
              "fillmode": "overlay",
              "size": 10,
              "solidity": 0.2
             }
            },
            "type": "bar"
           }
          ],
          "barpolar": [
           {
            "marker": {
             "line": {
              "color": "#E5ECF6",
              "width": 0.5
             },
             "pattern": {
              "fillmode": "overlay",
              "size": 10,
              "solidity": 0.2
             }
            },
            "type": "barpolar"
           }
          ],
          "carpet": [
           {
            "aaxis": {
             "endlinecolor": "#2a3f5f",
             "gridcolor": "white",
             "linecolor": "white",
             "minorgridcolor": "white",
             "startlinecolor": "#2a3f5f"
            },
            "baxis": {
             "endlinecolor": "#2a3f5f",
             "gridcolor": "white",
             "linecolor": "white",
             "minorgridcolor": "white",
             "startlinecolor": "#2a3f5f"
            },
            "type": "carpet"
           }
          ],
          "choropleth": [
           {
            "colorbar": {
             "outlinewidth": 0,
             "ticks": ""
            },
            "type": "choropleth"
           }
          ],
          "contour": [
           {
            "colorbar": {
             "outlinewidth": 0,
             "ticks": ""
            },
            "colorscale": [
             [
              0,
              "#0d0887"
             ],
             [
              0.1111111111111111,
              "#46039f"
             ],
             [
              0.2222222222222222,
              "#7201a8"
             ],
             [
              0.3333333333333333,
              "#9c179e"
             ],
             [
              0.4444444444444444,
              "#bd3786"
             ],
             [
              0.5555555555555556,
              "#d8576b"
             ],
             [
              0.6666666666666666,
              "#ed7953"
             ],
             [
              0.7777777777777778,
              "#fb9f3a"
             ],
             [
              0.8888888888888888,
              "#fdca26"
             ],
             [
              1,
              "#f0f921"
             ]
            ],
            "type": "contour"
           }
          ],
          "contourcarpet": [
           {
            "colorbar": {
             "outlinewidth": 0,
             "ticks": ""
            },
            "type": "contourcarpet"
           }
          ],
          "heatmap": [
           {
            "colorbar": {
             "outlinewidth": 0,
             "ticks": ""
            },
            "colorscale": [
             [
              0,
              "#0d0887"
             ],
             [
              0.1111111111111111,
              "#46039f"
             ],
             [
              0.2222222222222222,
              "#7201a8"
             ],
             [
              0.3333333333333333,
              "#9c179e"
             ],
             [
              0.4444444444444444,
              "#bd3786"
             ],
             [
              0.5555555555555556,
              "#d8576b"
             ],
             [
              0.6666666666666666,
              "#ed7953"
             ],
             [
              0.7777777777777778,
              "#fb9f3a"
             ],
             [
              0.8888888888888888,
              "#fdca26"
             ],
             [
              1,
              "#f0f921"
             ]
            ],
            "type": "heatmap"
           }
          ],
          "heatmapgl": [
           {
            "colorbar": {
             "outlinewidth": 0,
             "ticks": ""
            },
            "colorscale": [
             [
              0,
              "#0d0887"
             ],
             [
              0.1111111111111111,
              "#46039f"
             ],
             [
              0.2222222222222222,
              "#7201a8"
             ],
             [
              0.3333333333333333,
              "#9c179e"
             ],
             [
              0.4444444444444444,
              "#bd3786"
             ],
             [
              0.5555555555555556,
              "#d8576b"
             ],
             [
              0.6666666666666666,
              "#ed7953"
             ],
             [
              0.7777777777777778,
              "#fb9f3a"
             ],
             [
              0.8888888888888888,
              "#fdca26"
             ],
             [
              1,
              "#f0f921"
             ]
            ],
            "type": "heatmapgl"
           }
          ],
          "histogram": [
           {
            "marker": {
             "pattern": {
              "fillmode": "overlay",
              "size": 10,
              "solidity": 0.2
             }
            },
            "type": "histogram"
           }
          ],
          "histogram2d": [
           {
            "colorbar": {
             "outlinewidth": 0,
             "ticks": ""
            },
            "colorscale": [
             [
              0,
              "#0d0887"
             ],
             [
              0.1111111111111111,
              "#46039f"
             ],
             [
              0.2222222222222222,
              "#7201a8"
             ],
             [
              0.3333333333333333,
              "#9c179e"
             ],
             [
              0.4444444444444444,
              "#bd3786"
             ],
             [
              0.5555555555555556,
              "#d8576b"
             ],
             [
              0.6666666666666666,
              "#ed7953"
             ],
             [
              0.7777777777777778,
              "#fb9f3a"
             ],
             [
              0.8888888888888888,
              "#fdca26"
             ],
             [
              1,
              "#f0f921"
             ]
            ],
            "type": "histogram2d"
           }
          ],
          "histogram2dcontour": [
           {
            "colorbar": {
             "outlinewidth": 0,
             "ticks": ""
            },
            "colorscale": [
             [
              0,
              "#0d0887"
             ],
             [
              0.1111111111111111,
              "#46039f"
             ],
             [
              0.2222222222222222,
              "#7201a8"
             ],
             [
              0.3333333333333333,
              "#9c179e"
             ],
             [
              0.4444444444444444,
              "#bd3786"
             ],
             [
              0.5555555555555556,
              "#d8576b"
             ],
             [
              0.6666666666666666,
              "#ed7953"
             ],
             [
              0.7777777777777778,
              "#fb9f3a"
             ],
             [
              0.8888888888888888,
              "#fdca26"
             ],
             [
              1,
              "#f0f921"
             ]
            ],
            "type": "histogram2dcontour"
           }
          ],
          "mesh3d": [
           {
            "colorbar": {
             "outlinewidth": 0,
             "ticks": ""
            },
            "type": "mesh3d"
           }
          ],
          "parcoords": [
           {
            "line": {
             "colorbar": {
              "outlinewidth": 0,
              "ticks": ""
             }
            },
            "type": "parcoords"
           }
          ],
          "pie": [
           {
            "automargin": true,
            "type": "pie"
           }
          ],
          "scatter": [
           {
            "fillpattern": {
             "fillmode": "overlay",
             "size": 10,
             "solidity": 0.2
            },
            "type": "scatter"
           }
          ],
          "scatter3d": [
           {
            "line": {
             "colorbar": {
              "outlinewidth": 0,
              "ticks": ""
             }
            },
            "marker": {
             "colorbar": {
              "outlinewidth": 0,
              "ticks": ""
             }
            },
            "type": "scatter3d"
           }
          ],
          "scattercarpet": [
           {
            "marker": {
             "colorbar": {
              "outlinewidth": 0,
              "ticks": ""
             }
            },
            "type": "scattercarpet"
           }
          ],
          "scattergeo": [
           {
            "marker": {
             "colorbar": {
              "outlinewidth": 0,
              "ticks": ""
             }
            },
            "type": "scattergeo"
           }
          ],
          "scattergl": [
           {
            "marker": {
             "colorbar": {
              "outlinewidth": 0,
              "ticks": ""
             }
            },
            "type": "scattergl"
           }
          ],
          "scattermapbox": [
           {
            "marker": {
             "colorbar": {
              "outlinewidth": 0,
              "ticks": ""
             }
            },
            "type": "scattermapbox"
           }
          ],
          "scatterpolar": [
           {
            "marker": {
             "colorbar": {
              "outlinewidth": 0,
              "ticks": ""
             }
            },
            "type": "scatterpolar"
           }
          ],
          "scatterpolargl": [
           {
            "marker": {
             "colorbar": {
              "outlinewidth": 0,
              "ticks": ""
             }
            },
            "type": "scatterpolargl"
           }
          ],
          "scatterternary": [
           {
            "marker": {
             "colorbar": {
              "outlinewidth": 0,
              "ticks": ""
             }
            },
            "type": "scatterternary"
           }
          ],
          "surface": [
           {
            "colorbar": {
             "outlinewidth": 0,
             "ticks": ""
            },
            "colorscale": [
             [
              0,
              "#0d0887"
             ],
             [
              0.1111111111111111,
              "#46039f"
             ],
             [
              0.2222222222222222,
              "#7201a8"
             ],
             [
              0.3333333333333333,
              "#9c179e"
             ],
             [
              0.4444444444444444,
              "#bd3786"
             ],
             [
              0.5555555555555556,
              "#d8576b"
             ],
             [
              0.6666666666666666,
              "#ed7953"
             ],
             [
              0.7777777777777778,
              "#fb9f3a"
             ],
             [
              0.8888888888888888,
              "#fdca26"
             ],
             [
              1,
              "#f0f921"
             ]
            ],
            "type": "surface"
           }
          ],
          "table": [
           {
            "cells": {
             "fill": {
              "color": "#EBF0F8"
             },
             "line": {
              "color": "white"
             }
            },
            "header": {
             "fill": {
              "color": "#C8D4E3"
             },
             "line": {
              "color": "white"
             }
            },
            "type": "table"
           }
          ]
         },
         "layout": {
          "annotationdefaults": {
           "arrowcolor": "#2a3f5f",
           "arrowhead": 0,
           "arrowwidth": 1
          },
          "autotypenumbers": "strict",
          "coloraxis": {
           "colorbar": {
            "outlinewidth": 0,
            "ticks": ""
           }
          },
          "colorscale": {
           "diverging": [
            [
             0,
             "#8e0152"
            ],
            [
             0.1,
             "#c51b7d"
            ],
            [
             0.2,
             "#de77ae"
            ],
            [
             0.3,
             "#f1b6da"
            ],
            [
             0.4,
             "#fde0ef"
            ],
            [
             0.5,
             "#f7f7f7"
            ],
            [
             0.6,
             "#e6f5d0"
            ],
            [
             0.7,
             "#b8e186"
            ],
            [
             0.8,
             "#7fbc41"
            ],
            [
             0.9,
             "#4d9221"
            ],
            [
             1,
             "#276419"
            ]
           ],
           "sequential": [
            [
             0,
             "#0d0887"
            ],
            [
             0.1111111111111111,
             "#46039f"
            ],
            [
             0.2222222222222222,
             "#7201a8"
            ],
            [
             0.3333333333333333,
             "#9c179e"
            ],
            [
             0.4444444444444444,
             "#bd3786"
            ],
            [
             0.5555555555555556,
             "#d8576b"
            ],
            [
             0.6666666666666666,
             "#ed7953"
            ],
            [
             0.7777777777777778,
             "#fb9f3a"
            ],
            [
             0.8888888888888888,
             "#fdca26"
            ],
            [
             1,
             "#f0f921"
            ]
           ],
           "sequentialminus": [
            [
             0,
             "#0d0887"
            ],
            [
             0.1111111111111111,
             "#46039f"
            ],
            [
             0.2222222222222222,
             "#7201a8"
            ],
            [
             0.3333333333333333,
             "#9c179e"
            ],
            [
             0.4444444444444444,
             "#bd3786"
            ],
            [
             0.5555555555555556,
             "#d8576b"
            ],
            [
             0.6666666666666666,
             "#ed7953"
            ],
            [
             0.7777777777777778,
             "#fb9f3a"
            ],
            [
             0.8888888888888888,
             "#fdca26"
            ],
            [
             1,
             "#f0f921"
            ]
           ]
          },
          "colorway": [
           "#636efa",
           "#EF553B",
           "#00cc96",
           "#ab63fa",
           "#FFA15A",
           "#19d3f3",
           "#FF6692",
           "#B6E880",
           "#FF97FF",
           "#FECB52"
          ],
          "font": {
           "color": "#2a3f5f"
          },
          "geo": {
           "bgcolor": "white",
           "lakecolor": "white",
           "landcolor": "#E5ECF6",
           "showlakes": true,
           "showland": true,
           "subunitcolor": "white"
          },
          "hoverlabel": {
           "align": "left"
          },
          "hovermode": "closest",
          "mapbox": {
           "style": "light"
          },
          "paper_bgcolor": "white",
          "plot_bgcolor": "#E5ECF6",
          "polar": {
           "angularaxis": {
            "gridcolor": "white",
            "linecolor": "white",
            "ticks": ""
           },
           "bgcolor": "#E5ECF6",
           "radialaxis": {
            "gridcolor": "white",
            "linecolor": "white",
            "ticks": ""
           }
          },
          "scene": {
           "xaxis": {
            "backgroundcolor": "#E5ECF6",
            "gridcolor": "white",
            "gridwidth": 2,
            "linecolor": "white",
            "showbackground": true,
            "ticks": "",
            "zerolinecolor": "white"
           },
           "yaxis": {
            "backgroundcolor": "#E5ECF6",
            "gridcolor": "white",
            "gridwidth": 2,
            "linecolor": "white",
            "showbackground": true,
            "ticks": "",
            "zerolinecolor": "white"
           },
           "zaxis": {
            "backgroundcolor": "#E5ECF6",
            "gridcolor": "white",
            "gridwidth": 2,
            "linecolor": "white",
            "showbackground": true,
            "ticks": "",
            "zerolinecolor": "white"
           }
          },
          "shapedefaults": {
           "line": {
            "color": "#2a3f5f"
           }
          },
          "ternary": {
           "aaxis": {
            "gridcolor": "white",
            "linecolor": "white",
            "ticks": ""
           },
           "baxis": {
            "gridcolor": "white",
            "linecolor": "white",
            "ticks": ""
           },
           "bgcolor": "#E5ECF6",
           "caxis": {
            "gridcolor": "white",
            "linecolor": "white",
            "ticks": ""
           }
          },
          "title": {
           "x": 0.05
          },
          "xaxis": {
           "automargin": true,
           "gridcolor": "white",
           "linecolor": "white",
           "ticks": "",
           "title": {
            "standoff": 15
           },
           "zerolinecolor": "white",
           "zerolinewidth": 2
          },
          "yaxis": {
           "automargin": true,
           "gridcolor": "white",
           "linecolor": "white",
           "ticks": "",
           "title": {
            "standoff": 15
           },
           "zerolinecolor": "white",
           "zerolinewidth": 2
          }
         }
        },
        "title": {
         "text": "Optimization History Plot"
        },
        "xaxis": {
         "title": {
          "text": "Trial"
         }
        },
        "yaxis": {
         "title": {
          "text": "Objective Value"
         }
        }
       }
      }
     },
     "metadata": {},
     "output_type": "display_data"
    }
   ],
   "source": [
    "print_study_results(\"surv_gcn\")"
   ]
  },
  {
   "cell_type": "code",
   "execution_count": 6,
   "metadata": {},
   "outputs": [
    {
     "name": "stdout",
     "output_type": "stream",
     "text": [
      "Study statistics: \n",
      "\tN finished trials:  500\n",
      "\tN pruned trials:  0\n",
      "\tN completed trials:  500\n",
      "Best trials:\n",
      "\tBest mean values:  [0.6919032555840915, 0.21042180340766709]\n",
      "\tCustom metrics:  {'avg_best_epoch': 18.4, 'avg_std': [0.06402451466628645, 0.10512836030987849]}\n",
      "\tParams: \n",
      "\t\tn_buckets: 240\n",
      "\t\tn_edges: 1000\n",
      "\t\tlr: 0.005\n",
      "\t\tdp: 0.1\n",
      "\t\tact_fn: elu\n",
      "\t\ttrunk_ls: 32\n",
      "\t\tsurv_ds: 0\n",
      "\tBest mean values:  [0.661441338946936, 0.18621287429813488]\n",
      "\tCustom metrics:  {'avg_best_epoch': 20.6, 'avg_std': [0.06680466377529905, 0.039758554014042304]}\n",
      "\tParams: \n",
      "\t\tn_buckets: 128\n",
      "\t\tn_edges: 1000\n",
      "\t\tlr: 0.001\n",
      "\t\tdp: 0.1\n",
      "\t\tact_fn: elu\n",
      "\t\ttrunk_ls: 32\n",
      "\t\tsurv_ds: 0\n",
      "\tBest mean values:  [0.6688575967441777, 0.18632655958167693]\n",
      "\tCustom metrics:  {'avg_best_epoch': 13.4, 'avg_std': [0.07373457944205696, 0.07017743040420656]}\n",
      "\tParams: \n",
      "\t\tn_buckets: 128\n",
      "\t\tn_edges: 1000\n",
      "\t\tlr: 0.001\n",
      "\t\tdp: 0.1\n",
      "\t\tact_fn: elu\n",
      "\t\ttrunk_ls: 32\n",
      "\t\tsurv_ds: 0\n",
      "\tBest mean values:  [0.6468556369341079, 0.18602804219466698]\n",
      "\tCustom metrics:  {'avg_best_epoch': 15.8, 'avg_std': [0.05616574170258773, 0.05755899416872995]}\n",
      "\tParams: \n",
      "\t\tn_buckets: 15\n",
      "\t\tn_edges: 1000\n",
      "\t\tlr: 0.001\n",
      "\t\tdp: 0.1\n",
      "\t\tact_fn: elu\n",
      "\t\ttrunk_ls: 32\n",
      "\t\tsurv_ds: 0\n",
      "\tBest mean values:  [0.6862870380188789, 0.19991268716671767]\n",
      "\tCustom metrics:  {'avg_best_epoch': 19.2, 'avg_std': [0.08342259719012729, 0.07372564851425356]}\n",
      "\tParams: \n",
      "\t\tn_buckets: 240\n",
      "\t\tn_edges: 1000\n",
      "\t\tlr: 0.001\n",
      "\t\tdp: 0.1\n",
      "\t\tact_fn: elu\n",
      "\t\ttrunk_ls: 32\n",
      "\t\tsurv_ds: 0\n"
     ]
    },
    {
     "data": {
      "application/vnd.plotly.v1+json": {
       "config": {
        "plotlyServerURL": "https://plot.ly"
       },
       "data": [
        {
         "cliponaxis": false,
         "hovertemplate": [
          "dp (CategoricalDistribution): 0.0027780324322557995<extra></extra>",
          "n_edges (CategoricalDistribution): 0.0035607710073858223<extra></extra>",
          "act_fn (CategoricalDistribution): 0.018592375889216438<extra></extra>",
          "trunk_ls (CategoricalDistribution): 0.04808074190122086<extra></extra>",
          "n_buckets (CategoricalDistribution): 0.17816061722311827<extra></extra>",
          "lr (CategoricalDistribution): 0.291717224371095<extra></extra>",
          "surv_ds (CategoricalDistribution): 0.45711023717570787<extra></extra>"
         ],
         "name": "Objective Value 0",
         "orientation": "h",
         "text": [
          "<0.01",
          "<0.01",
          "0.02",
          "0.05",
          "0.18",
          "0.29",
          "0.46"
         ],
         "textposition": "outside",
         "type": "bar",
         "x": [
          0.0027780324322557995,
          0.0035607710073858223,
          0.018592375889216438,
          0.04808074190122086,
          0.17816061722311827,
          0.291717224371095,
          0.45711023717570787
         ],
         "y": [
          "dp",
          "n_edges",
          "act_fn",
          "trunk_ls",
          "n_buckets",
          "lr",
          "surv_ds"
         ]
        },
        {
         "cliponaxis": false,
         "hovertemplate": [
          "dp (CategoricalDistribution): 0.002568242670090786<extra></extra>",
          "n_edges (CategoricalDistribution): 0.004002767146663708<extra></extra>",
          "act_fn (CategoricalDistribution): 0.01664753934044711<extra></extra>",
          "trunk_ls (CategoricalDistribution): 0.05317265846987045<extra></extra>",
          "n_buckets (CategoricalDistribution): 0.18027588700820812<extra></extra>",
          "lr (CategoricalDistribution): 0.27226461904846005<extra></extra>",
          "surv_ds (CategoricalDistribution): 0.47106828631625963<extra></extra>"
         ],
         "name": "Objective Value 1",
         "orientation": "h",
         "text": [
          "<0.01",
          "<0.01",
          "0.02",
          "0.05",
          "0.18",
          "0.27",
          "0.47"
         ],
         "textposition": "outside",
         "type": "bar",
         "x": [
          0.002568242670090786,
          0.004002767146663708,
          0.01664753934044711,
          0.05317265846987045,
          0.18027588700820812,
          0.27226461904846005,
          0.47106828631625963
         ],
         "y": [
          "dp",
          "n_edges",
          "act_fn",
          "trunk_ls",
          "n_buckets",
          "lr",
          "surv_ds"
         ]
        }
       ],
       "layout": {
        "template": {
         "data": {
          "bar": [
           {
            "error_x": {
             "color": "#2a3f5f"
            },
            "error_y": {
             "color": "#2a3f5f"
            },
            "marker": {
             "line": {
              "color": "#E5ECF6",
              "width": 0.5
             },
             "pattern": {
              "fillmode": "overlay",
              "size": 10,
              "solidity": 0.2
             }
            },
            "type": "bar"
           }
          ],
          "barpolar": [
           {
            "marker": {
             "line": {
              "color": "#E5ECF6",
              "width": 0.5
             },
             "pattern": {
              "fillmode": "overlay",
              "size": 10,
              "solidity": 0.2
             }
            },
            "type": "barpolar"
           }
          ],
          "carpet": [
           {
            "aaxis": {
             "endlinecolor": "#2a3f5f",
             "gridcolor": "white",
             "linecolor": "white",
             "minorgridcolor": "white",
             "startlinecolor": "#2a3f5f"
            },
            "baxis": {
             "endlinecolor": "#2a3f5f",
             "gridcolor": "white",
             "linecolor": "white",
             "minorgridcolor": "white",
             "startlinecolor": "#2a3f5f"
            },
            "type": "carpet"
           }
          ],
          "choropleth": [
           {
            "colorbar": {
             "outlinewidth": 0,
             "ticks": ""
            },
            "type": "choropleth"
           }
          ],
          "contour": [
           {
            "colorbar": {
             "outlinewidth": 0,
             "ticks": ""
            },
            "colorscale": [
             [
              0,
              "#0d0887"
             ],
             [
              0.1111111111111111,
              "#46039f"
             ],
             [
              0.2222222222222222,
              "#7201a8"
             ],
             [
              0.3333333333333333,
              "#9c179e"
             ],
             [
              0.4444444444444444,
              "#bd3786"
             ],
             [
              0.5555555555555556,
              "#d8576b"
             ],
             [
              0.6666666666666666,
              "#ed7953"
             ],
             [
              0.7777777777777778,
              "#fb9f3a"
             ],
             [
              0.8888888888888888,
              "#fdca26"
             ],
             [
              1,
              "#f0f921"
             ]
            ],
            "type": "contour"
           }
          ],
          "contourcarpet": [
           {
            "colorbar": {
             "outlinewidth": 0,
             "ticks": ""
            },
            "type": "contourcarpet"
           }
          ],
          "heatmap": [
           {
            "colorbar": {
             "outlinewidth": 0,
             "ticks": ""
            },
            "colorscale": [
             [
              0,
              "#0d0887"
             ],
             [
              0.1111111111111111,
              "#46039f"
             ],
             [
              0.2222222222222222,
              "#7201a8"
             ],
             [
              0.3333333333333333,
              "#9c179e"
             ],
             [
              0.4444444444444444,
              "#bd3786"
             ],
             [
              0.5555555555555556,
              "#d8576b"
             ],
             [
              0.6666666666666666,
              "#ed7953"
             ],
             [
              0.7777777777777778,
              "#fb9f3a"
             ],
             [
              0.8888888888888888,
              "#fdca26"
             ],
             [
              1,
              "#f0f921"
             ]
            ],
            "type": "heatmap"
           }
          ],
          "heatmapgl": [
           {
            "colorbar": {
             "outlinewidth": 0,
             "ticks": ""
            },
            "colorscale": [
             [
              0,
              "#0d0887"
             ],
             [
              0.1111111111111111,
              "#46039f"
             ],
             [
              0.2222222222222222,
              "#7201a8"
             ],
             [
              0.3333333333333333,
              "#9c179e"
             ],
             [
              0.4444444444444444,
              "#bd3786"
             ],
             [
              0.5555555555555556,
              "#d8576b"
             ],
             [
              0.6666666666666666,
              "#ed7953"
             ],
             [
              0.7777777777777778,
              "#fb9f3a"
             ],
             [
              0.8888888888888888,
              "#fdca26"
             ],
             [
              1,
              "#f0f921"
             ]
            ],
            "type": "heatmapgl"
           }
          ],
          "histogram": [
           {
            "marker": {
             "pattern": {
              "fillmode": "overlay",
              "size": 10,
              "solidity": 0.2
             }
            },
            "type": "histogram"
           }
          ],
          "histogram2d": [
           {
            "colorbar": {
             "outlinewidth": 0,
             "ticks": ""
            },
            "colorscale": [
             [
              0,
              "#0d0887"
             ],
             [
              0.1111111111111111,
              "#46039f"
             ],
             [
              0.2222222222222222,
              "#7201a8"
             ],
             [
              0.3333333333333333,
              "#9c179e"
             ],
             [
              0.4444444444444444,
              "#bd3786"
             ],
             [
              0.5555555555555556,
              "#d8576b"
             ],
             [
              0.6666666666666666,
              "#ed7953"
             ],
             [
              0.7777777777777778,
              "#fb9f3a"
             ],
             [
              0.8888888888888888,
              "#fdca26"
             ],
             [
              1,
              "#f0f921"
             ]
            ],
            "type": "histogram2d"
           }
          ],
          "histogram2dcontour": [
           {
            "colorbar": {
             "outlinewidth": 0,
             "ticks": ""
            },
            "colorscale": [
             [
              0,
              "#0d0887"
             ],
             [
              0.1111111111111111,
              "#46039f"
             ],
             [
              0.2222222222222222,
              "#7201a8"
             ],
             [
              0.3333333333333333,
              "#9c179e"
             ],
             [
              0.4444444444444444,
              "#bd3786"
             ],
             [
              0.5555555555555556,
              "#d8576b"
             ],
             [
              0.6666666666666666,
              "#ed7953"
             ],
             [
              0.7777777777777778,
              "#fb9f3a"
             ],
             [
              0.8888888888888888,
              "#fdca26"
             ],
             [
              1,
              "#f0f921"
             ]
            ],
            "type": "histogram2dcontour"
           }
          ],
          "mesh3d": [
           {
            "colorbar": {
             "outlinewidth": 0,
             "ticks": ""
            },
            "type": "mesh3d"
           }
          ],
          "parcoords": [
           {
            "line": {
             "colorbar": {
              "outlinewidth": 0,
              "ticks": ""
             }
            },
            "type": "parcoords"
           }
          ],
          "pie": [
           {
            "automargin": true,
            "type": "pie"
           }
          ],
          "scatter": [
           {
            "fillpattern": {
             "fillmode": "overlay",
             "size": 10,
             "solidity": 0.2
            },
            "type": "scatter"
           }
          ],
          "scatter3d": [
           {
            "line": {
             "colorbar": {
              "outlinewidth": 0,
              "ticks": ""
             }
            },
            "marker": {
             "colorbar": {
              "outlinewidth": 0,
              "ticks": ""
             }
            },
            "type": "scatter3d"
           }
          ],
          "scattercarpet": [
           {
            "marker": {
             "colorbar": {
              "outlinewidth": 0,
              "ticks": ""
             }
            },
            "type": "scattercarpet"
           }
          ],
          "scattergeo": [
           {
            "marker": {
             "colorbar": {
              "outlinewidth": 0,
              "ticks": ""
             }
            },
            "type": "scattergeo"
           }
          ],
          "scattergl": [
           {
            "marker": {
             "colorbar": {
              "outlinewidth": 0,
              "ticks": ""
             }
            },
            "type": "scattergl"
           }
          ],
          "scattermapbox": [
           {
            "marker": {
             "colorbar": {
              "outlinewidth": 0,
              "ticks": ""
             }
            },
            "type": "scattermapbox"
           }
          ],
          "scatterpolar": [
           {
            "marker": {
             "colorbar": {
              "outlinewidth": 0,
              "ticks": ""
             }
            },
            "type": "scatterpolar"
           }
          ],
          "scatterpolargl": [
           {
            "marker": {
             "colorbar": {
              "outlinewidth": 0,
              "ticks": ""
             }
            },
            "type": "scatterpolargl"
           }
          ],
          "scatterternary": [
           {
            "marker": {
             "colorbar": {
              "outlinewidth": 0,
              "ticks": ""
             }
            },
            "type": "scatterternary"
           }
          ],
          "surface": [
           {
            "colorbar": {
             "outlinewidth": 0,
             "ticks": ""
            },
            "colorscale": [
             [
              0,
              "#0d0887"
             ],
             [
              0.1111111111111111,
              "#46039f"
             ],
             [
              0.2222222222222222,
              "#7201a8"
             ],
             [
              0.3333333333333333,
              "#9c179e"
             ],
             [
              0.4444444444444444,
              "#bd3786"
             ],
             [
              0.5555555555555556,
              "#d8576b"
             ],
             [
              0.6666666666666666,
              "#ed7953"
             ],
             [
              0.7777777777777778,
              "#fb9f3a"
             ],
             [
              0.8888888888888888,
              "#fdca26"
             ],
             [
              1,
              "#f0f921"
             ]
            ],
            "type": "surface"
           }
          ],
          "table": [
           {
            "cells": {
             "fill": {
              "color": "#EBF0F8"
             },
             "line": {
              "color": "white"
             }
            },
            "header": {
             "fill": {
              "color": "#C8D4E3"
             },
             "line": {
              "color": "white"
             }
            },
            "type": "table"
           }
          ]
         },
         "layout": {
          "annotationdefaults": {
           "arrowcolor": "#2a3f5f",
           "arrowhead": 0,
           "arrowwidth": 1
          },
          "autotypenumbers": "strict",
          "coloraxis": {
           "colorbar": {
            "outlinewidth": 0,
            "ticks": ""
           }
          },
          "colorscale": {
           "diverging": [
            [
             0,
             "#8e0152"
            ],
            [
             0.1,
             "#c51b7d"
            ],
            [
             0.2,
             "#de77ae"
            ],
            [
             0.3,
             "#f1b6da"
            ],
            [
             0.4,
             "#fde0ef"
            ],
            [
             0.5,
             "#f7f7f7"
            ],
            [
             0.6,
             "#e6f5d0"
            ],
            [
             0.7,
             "#b8e186"
            ],
            [
             0.8,
             "#7fbc41"
            ],
            [
             0.9,
             "#4d9221"
            ],
            [
             1,
             "#276419"
            ]
           ],
           "sequential": [
            [
             0,
             "#0d0887"
            ],
            [
             0.1111111111111111,
             "#46039f"
            ],
            [
             0.2222222222222222,
             "#7201a8"
            ],
            [
             0.3333333333333333,
             "#9c179e"
            ],
            [
             0.4444444444444444,
             "#bd3786"
            ],
            [
             0.5555555555555556,
             "#d8576b"
            ],
            [
             0.6666666666666666,
             "#ed7953"
            ],
            [
             0.7777777777777778,
             "#fb9f3a"
            ],
            [
             0.8888888888888888,
             "#fdca26"
            ],
            [
             1,
             "#f0f921"
            ]
           ],
           "sequentialminus": [
            [
             0,
             "#0d0887"
            ],
            [
             0.1111111111111111,
             "#46039f"
            ],
            [
             0.2222222222222222,
             "#7201a8"
            ],
            [
             0.3333333333333333,
             "#9c179e"
            ],
            [
             0.4444444444444444,
             "#bd3786"
            ],
            [
             0.5555555555555556,
             "#d8576b"
            ],
            [
             0.6666666666666666,
             "#ed7953"
            ],
            [
             0.7777777777777778,
             "#fb9f3a"
            ],
            [
             0.8888888888888888,
             "#fdca26"
            ],
            [
             1,
             "#f0f921"
            ]
           ]
          },
          "colorway": [
           "#636efa",
           "#EF553B",
           "#00cc96",
           "#ab63fa",
           "#FFA15A",
           "#19d3f3",
           "#FF6692",
           "#B6E880",
           "#FF97FF",
           "#FECB52"
          ],
          "font": {
           "color": "#2a3f5f"
          },
          "geo": {
           "bgcolor": "white",
           "lakecolor": "white",
           "landcolor": "#E5ECF6",
           "showlakes": true,
           "showland": true,
           "subunitcolor": "white"
          },
          "hoverlabel": {
           "align": "left"
          },
          "hovermode": "closest",
          "mapbox": {
           "style": "light"
          },
          "paper_bgcolor": "white",
          "plot_bgcolor": "#E5ECF6",
          "polar": {
           "angularaxis": {
            "gridcolor": "white",
            "linecolor": "white",
            "ticks": ""
           },
           "bgcolor": "#E5ECF6",
           "radialaxis": {
            "gridcolor": "white",
            "linecolor": "white",
            "ticks": ""
           }
          },
          "scene": {
           "xaxis": {
            "backgroundcolor": "#E5ECF6",
            "gridcolor": "white",
            "gridwidth": 2,
            "linecolor": "white",
            "showbackground": true,
            "ticks": "",
            "zerolinecolor": "white"
           },
           "yaxis": {
            "backgroundcolor": "#E5ECF6",
            "gridcolor": "white",
            "gridwidth": 2,
            "linecolor": "white",
            "showbackground": true,
            "ticks": "",
            "zerolinecolor": "white"
           },
           "zaxis": {
            "backgroundcolor": "#E5ECF6",
            "gridcolor": "white",
            "gridwidth": 2,
            "linecolor": "white",
            "showbackground": true,
            "ticks": "",
            "zerolinecolor": "white"
           }
          },
          "shapedefaults": {
           "line": {
            "color": "#2a3f5f"
           }
          },
          "ternary": {
           "aaxis": {
            "gridcolor": "white",
            "linecolor": "white",
            "ticks": ""
           },
           "baxis": {
            "gridcolor": "white",
            "linecolor": "white",
            "ticks": ""
           },
           "bgcolor": "#E5ECF6",
           "caxis": {
            "gridcolor": "white",
            "linecolor": "white",
            "ticks": ""
           }
          },
          "title": {
           "x": 0.05
          },
          "xaxis": {
           "automargin": true,
           "gridcolor": "white",
           "linecolor": "white",
           "ticks": "",
           "title": {
            "standoff": 15
           },
           "zerolinecolor": "white",
           "zerolinewidth": 2
          },
          "yaxis": {
           "automargin": true,
           "gridcolor": "white",
           "linecolor": "white",
           "ticks": "",
           "title": {
            "standoff": 15
           },
           "zerolinecolor": "white",
           "zerolinewidth": 2
          }
         }
        },
        "title": {
         "text": "Hyperparameter Importances"
        },
        "xaxis": {
         "title": {
          "text": "Hyperparameter Importance"
         }
        },
        "yaxis": {
         "title": {
          "text": "Hyperparameter"
         }
        }
       }
      }
     },
     "metadata": {},
     "output_type": "display_data"
    },
    {
     "name": "stderr",
     "output_type": "stream",
     "text": [
      "/home/davide/miniconda3/envs/omics/lib/python3.11/site-packages/optuna/visualization/_utils.py:67: UserWarning:\n",
      "\n",
      "`target` is specified, but `target_name` is the default value, 'Objective Value'.\n",
      "\n"
     ]
    },
    {
     "data": {
      "application/vnd.plotly.v1+json": {
       "config": {
        "plotlyServerURL": "https://plot.ly"
       },
       "data": [
        {
         "mode": "markers",
         "name": "Objective Value",
         "type": "scatter",
         "x": [
          0,
          1,
          2,
          3,
          4,
          5,
          6,
          7,
          8,
          9,
          10,
          11,
          12,
          13,
          14,
          15,
          16,
          17,
          18,
          19,
          20,
          21,
          22,
          23,
          24,
          25,
          26,
          27,
          28,
          29,
          30,
          31,
          32,
          33,
          34,
          35,
          36,
          37,
          38,
          39,
          40,
          41,
          42,
          43,
          44,
          45,
          46,
          47,
          48,
          49,
          50,
          51,
          52,
          53,
          54,
          55,
          56,
          57,
          58,
          59,
          60,
          61,
          62,
          63,
          64,
          65,
          66,
          67,
          68,
          69,
          70,
          71,
          72,
          73,
          74,
          75,
          76,
          77,
          78,
          79,
          80,
          81,
          82,
          83,
          84,
          85,
          86,
          87,
          88,
          89,
          90,
          91,
          92,
          93,
          94,
          95,
          96,
          97,
          98,
          99,
          100,
          101,
          102,
          103,
          104,
          105,
          106,
          107,
          108,
          109,
          110,
          111,
          112,
          113,
          114,
          115,
          116,
          117,
          118,
          119,
          120,
          121,
          122,
          123,
          124,
          125,
          126,
          127,
          128,
          129,
          130,
          131,
          132,
          133,
          134,
          135,
          136,
          137,
          138,
          139,
          140,
          141,
          142,
          143,
          144,
          145,
          146,
          147,
          148,
          149,
          150,
          151,
          152,
          153,
          154,
          155,
          156,
          157,
          158,
          159,
          160,
          161,
          162,
          163,
          164,
          165,
          166,
          167,
          168,
          169,
          170,
          171,
          172,
          173,
          174,
          175,
          176,
          177,
          178,
          179,
          180,
          181,
          182,
          183,
          184,
          185,
          186,
          187,
          188,
          189,
          190,
          191,
          192,
          193,
          194,
          195,
          196,
          197,
          198,
          199,
          200,
          201,
          202,
          203,
          204,
          205,
          206,
          207,
          208,
          209,
          210,
          211,
          212,
          213,
          214,
          215,
          216,
          217,
          218,
          219,
          220,
          221,
          222,
          223,
          224,
          225,
          226,
          227,
          228,
          229,
          230,
          231,
          232,
          233,
          234,
          235,
          236,
          237,
          238,
          239,
          240,
          241,
          242,
          243,
          244,
          245,
          246,
          247,
          248,
          249,
          250,
          251,
          252,
          253,
          254,
          255,
          256,
          257,
          258,
          259,
          260,
          261,
          262,
          263,
          264,
          265,
          266,
          267,
          268,
          269,
          270,
          271,
          272,
          273,
          274,
          275,
          276,
          277,
          278,
          279,
          280,
          281,
          282,
          283,
          284,
          285,
          286,
          287,
          288,
          289,
          290,
          291,
          292,
          293,
          294,
          295,
          296,
          297,
          298,
          299,
          300,
          301,
          302,
          303,
          304,
          305,
          306,
          307,
          308,
          309,
          310,
          311,
          312,
          313,
          314,
          315,
          316,
          317,
          318,
          319,
          320,
          321,
          322,
          323,
          324,
          325,
          326,
          327,
          328,
          329,
          330,
          331,
          332,
          333,
          334,
          335,
          336,
          337,
          338,
          339,
          340,
          341,
          342,
          343,
          344,
          345,
          346,
          347,
          348,
          349,
          350,
          351,
          352,
          353,
          354,
          355,
          356,
          357,
          358,
          359,
          360,
          361,
          362,
          363,
          364,
          365,
          366,
          367,
          368,
          369,
          370,
          371,
          372,
          373,
          374,
          375,
          376,
          377,
          378,
          379,
          380,
          381,
          382,
          383,
          384,
          385,
          386,
          387,
          388,
          389,
          390,
          391,
          392,
          393,
          394,
          395,
          396,
          397,
          398,
          399,
          400,
          401,
          402,
          403,
          404,
          405,
          406,
          407,
          408,
          409,
          410,
          411,
          412,
          413,
          414,
          415,
          416,
          417,
          418,
          419,
          420,
          421,
          422,
          423,
          424,
          425,
          426,
          427,
          428,
          429,
          430,
          431,
          432,
          433,
          434,
          435,
          436,
          437,
          438,
          439,
          440,
          441,
          442,
          443,
          444,
          445,
          446,
          447,
          448,
          449,
          450,
          451,
          452,
          453,
          454,
          455,
          456,
          457,
          458,
          459,
          460,
          461,
          462,
          463,
          464,
          465,
          466,
          467,
          468,
          469,
          470,
          471,
          472,
          473,
          474,
          475,
          476,
          477,
          478,
          479,
          480,
          481,
          482,
          483,
          484,
          485,
          486,
          487,
          488,
          489,
          490,
          491,
          492,
          493,
          494,
          495,
          496,
          497,
          498,
          499
         ],
         "y": [
          0,
          0.5991081389975885,
          0,
          0.6429196976202634,
          0.5947596744408249,
          0,
          0,
          0.5994326098589235,
          0,
          0,
          0.6364997411258829,
          0.6854106621964998,
          0.6181373998785111,
          0.6100595752046908,
          0.6153606579001704,
          0,
          0,
          0.5824938632052545,
          0,
          0,
          0.6575349824947221,
          0.6592021313977348,
          0.6592549865876196,
          0,
          0.6082942019414592,
          0.63843824640114,
          0.6332654065668575,
          0,
          0,
          0,
          0,
          0.6706832426125595,
          0.6220901889163434,
          0.6043255517722719,
          0.5782276096509364,
          0,
          0.6348663559469444,
          0.5905463696151672,
          0,
          0,
          0.5992897834846554,
          0.6240143637228501,
          0.6308475635966186,
          0.5970732932802916,
          0,
          0,
          0.6444669088360306,
          0.6385844724139185,
          0,
          0,
          0,
          0.6467723581494255,
          0.5917673316773582,
          0.6230540914530514,
          0,
          0.6598512609599961,
          0,
          0.5614163385355296,
          0.5808217614471681,
          0.6406781731534472,
          0.6007210808578227,
          0.6016861743825774,
          0.6579877171539557,
          0,
          0,
          0.6528935680021746,
          0.6426370930710077,
          0.6177602617904753,
          0,
          0,
          0.6053053720077791,
          0.6294651121395971,
          0,
          0.5942562917477378,
          0,
          0.5721426379163665,
          0,
          0.6379369185193207,
          0,
          0,
          0.586523496651415,
          0.5659022109326857,
          0.6035322255604253,
          0,
          0.6062136391766375,
          0.5540976724796268,
          0,
          0.6231878762200972,
          0.6508420874333781,
          0,
          0.6408422429457895,
          0.6165797692634171,
          0.6317553038838905,
          0.5935743795374013,
          0.6484528094168374,
          0.6552025498180745,
          0.6088555508384997,
          0.655870761438696,
          0,
          0.6031458353416042,
          0.582123787058064,
          0.6522641673985208,
          0.6919032555840915,
          0.6490780878075912,
          0.6059015280339297,
          0.661441338946936,
          0.645605240793118,
          0.6127478304262658,
          0.6178675598068061,
          0.6082479468064652,
          0.5885789021919082,
          0.6559226084836653,
          0.6688575967441777,
          0,
          0.6022898965416331,
          0.6722013534380009,
          0,
          0,
          0.651949132056097,
          0,
          0,
          0.6214793009344233,
          0.5850314358233972,
          0,
          0.5871650223731193,
          0.6302909295445345,
          0,
          0.6518475086998234,
          0,
          0.627000702165937,
          0,
          0.6284065827509738,
          0.6390336018004732,
          0.6677339833457984,
          0.631010861748704,
          0,
          0.6559237129707436,
          0.6264788936298535,
          0.6336641256154896,
          0,
          0.6429476649243977,
          0.6597410278699377,
          0.6418337569659137,
          0.6063893064042247,
          0.6013985173750077,
          0.5849433734060187,
          0.6832894745420907,
          0,
          0,
          0,
          0.5926650761562031,
          0,
          0,
          0.6518323321978705,
          0.6306934031585809,
          0.6575281154640862,
          0.5406254960632051,
          0.60003505856345,
          0,
          0.6112170039489417,
          0,
          0.5986851653272917,
          0.6064939934871729,
          0.621654366780634,
          0.6040667564305242,
          0,
          0.6126078468403511,
          0,
          0.5953668634469651,
          0.5301410725686864,
          0.6366612875087982,
          0.6106958673852262,
          0.6400090123924274,
          0,
          0,
          0.5761939270508363,
          0.6302527835848901,
          0.6088279900292854,
          0,
          0.6482778159417295,
          0.6331333857482158,
          0.6253747982004996,
          0.5298866487609698,
          0.6359858558510069,
          0.6269144447556285,
          0.5952659075426221,
          0,
          0,
          0.6519108735629757,
          0.6337559152084524,
          0.5653602806774353,
          0.5746998604335104,
          0.6111689783717199,
          0,
          0,
          0,
          0.6292561466820878,
          0.6468556369341079,
          0.6068403065993515,
          0.5737886982484863,
          0.6349971611060724,
          0.647097424128723,
          0.6022092065214186,
          0,
          0.5946524783013929,
          0,
          0.6673016270776404,
          0.6080622900901963,
          0.6391312784556653,
          0,
          0.6578781163343099,
          0.6044466881415241,
          0,
          0.6254455039306319,
          0,
          0.609009392581224,
          0.6323699526719924,
          0.6502301637917034,
          0,
          0.6527081661508698,
          0,
          0.6277288729534881,
          0.5756255746822224,
          0,
          0.6270631337462531,
          0.5964061847728979,
          0.656154791152254,
          0,
          0.6690137549553097,
          0,
          0,
          0.6135826376188351,
          0.6324424402645062,
          0,
          0.6480487582003048,
          0,
          0.6171425688825856,
          0.6339697938285502,
          0.6622759773518663,
          0,
          0.6344442204275437,
          0.6204221451194674,
          0.6237641906807025,
          0.5958201021469203,
          0,
          0.6404929101316392,
          0,
          0,
          0,
          0.6116636926745173,
          0.6118835967945964,
          0.6121941983615591,
          0,
          0.6620458931129614,
          0,
          0.5900981629376522,
          0,
          0.6692806903835102,
          0.6146227180789403,
          0,
          0.6424663410622975,
          0,
          0.6589613209883975,
          0,
          0,
          0.6521809228491252,
          0.6037915178066154,
          0.6146414400165154,
          0.5517498688272063,
          0,
          0,
          0,
          0.6702433811715862,
          0.6416848138392441,
          0.6726062914652099,
          0.6250023937870026,
          0,
          0.621199011332808,
          0,
          0.6571050067444866,
          0.6373435981618616,
          0,
          0.6526534439870255,
          0,
          0,
          0.6168128904558838,
          0,
          0.6814558620512067,
          0.5707678276252062,
          0,
          0.6273510687247755,
          0.6739510981835743,
          0.6532291476020017,
          0,
          0,
          0.6296031916581685,
          0,
          0,
          0,
          0.6310948906453511,
          0.5863392793010683,
          0,
          0.596497190332642,
          0.6397498882841505,
          0.6290533775987445,
          0,
          0,
          0.6174741060523176,
          0.6862870380188789,
          0.631466000022666,
          0.5989633519512512,
          0.5830336252104724,
          0.6045403298984562,
          0.6532153236107987,
          0.6326214765558159,
          0.681481373446599,
          0.631509214440787,
          0,
          0.625523957159797,
          0.5943588107282219,
          0,
          0.6288698887680836,
          0.6364689034233459,
          0.6489833791654808,
          0.6403688590918029,
          0,
          0.657521537696633,
          0.6370718096954225,
          0,
          0,
          0.5441185770218208,
          0.5918021650243142,
          0,
          0.5797649201157246,
          0.6187543862383869,
          0.6393130745417173,
          0.5733252999356693,
          0,
          0.584839169209047,
          0.614191400915822,
          0,
          0.6158558255449454,
          0.6609948512963256,
          0,
          0.6162786997511349,
          0.5972164098466903,
          0,
          0.6472207077983341,
          0,
          0,
          0.6462721156960486,
          0.6556453607222184,
          0.6188336501770257,
          0.6582750636729939,
          0.5614068947918663,
          0.590422760547137,
          0,
          0.6295850056190554,
          0.5985404941541341,
          0.6302179296099355,
          0.6618231108267861,
          0,
          0.6281096843137713,
          0,
          0,
          0.5913308226664411,
          0.6592991668255574,
          0.5772363129235295,
          0.6064852905944481,
          0,
          0.658015356908656,
          0.6008353230231288,
          0.6411200322710241,
          0,
          0.6185476187816338,
          0,
          0.6234691687259215,
          0,
          0.5721727380648532,
          0,
          0.6087799847228663,
          0.6014968787426188,
          0.6193397500266304,
          0.6592532762244488,
          0,
          0.6101248096989138,
          0.654108059696408,
          0,
          0.6020710213125412,
          0,
          0,
          0.6236047045099323,
          0,
          0.6217878120845621,
          0,
          0.6092444139281963,
          0,
          0.6765513387823108,
          0.5969620543514201,
          0.594083876401901,
          0,
          0.6340489706454241,
          0,
          0.5804586810766288,
          0.6101480945646747,
          0,
          0.628677519599085,
          0.6533464282025236,
          0,
          0.6299748338566182,
          0,
          0.5862826730712877,
          0,
          0.6445091600904557,
          0.6526564934746152,
          0.6339115077122192,
          0.5562958299193597,
          0,
          0.6255707258192615,
          0.6692592355151784,
          0,
          0.6380085881754832,
          0.6700111494620218,
          0,
          0.6001013176308405,
          0.6338638874766701,
          0,
          0.5829481499524158,
          0,
          0.644190596504697,
          0.583001659171255,
          0,
          0,
          0.6656533359095997,
          0.6391870916324861,
          0.6470157399579446,
          0,
          0.6311109772451095,
          0.6390335286209371,
          0.6190752307780227,
          0.6177992185968619,
          0,
          0,
          0.596724360381331,
          0,
          0,
          0.638425528273116,
          0.6068654456297644,
          0,
          0.6234835597340197,
          0.6309551951486025,
          0,
          0.6156424109176906,
          0.5773752339951586,
          0.6255438947769623,
          0,
          0.5929423252905521,
          0.5968023872112178,
          0,
          0.6328260934855008,
          0,
          0,
          0.5762503934914592,
          0,
          0.589415873576204,
          0.611128190800445,
          0,
          0.600143962504945,
          0,
          0.6637308770678364,
          0.5962340014880182,
          0,
          0.6310941929667929,
          0,
          0.6090892152641605,
          0,
          0.6436163102876648,
          0.6191682105107228,
          0.6264326436574322,
          0,
          0.6429852221696668,
          0.5659250986610034,
          0.613353901913844,
          0,
          0.6186519256287858,
          0.6275484982679798,
          0.606603665172915,
          0,
          0,
          0.587837391990794,
          0.6787330333069923,
          0,
          0.6556766001188887,
          0.6407610656587587,
          0,
          0,
          0.6526911024711161,
          0.5239051310079483,
          0.634982893668922,
          0
         ]
        },
        {
         "marker": {
          "color": "#cccccc"
         },
         "mode": "markers",
         "name": "Infeasible Trial",
         "showlegend": false,
         "type": "scatter",
         "x": [],
         "y": []
        }
       ],
       "layout": {
        "template": {
         "data": {
          "bar": [
           {
            "error_x": {
             "color": "#2a3f5f"
            },
            "error_y": {
             "color": "#2a3f5f"
            },
            "marker": {
             "line": {
              "color": "#E5ECF6",
              "width": 0.5
             },
             "pattern": {
              "fillmode": "overlay",
              "size": 10,
              "solidity": 0.2
             }
            },
            "type": "bar"
           }
          ],
          "barpolar": [
           {
            "marker": {
             "line": {
              "color": "#E5ECF6",
              "width": 0.5
             },
             "pattern": {
              "fillmode": "overlay",
              "size": 10,
              "solidity": 0.2
             }
            },
            "type": "barpolar"
           }
          ],
          "carpet": [
           {
            "aaxis": {
             "endlinecolor": "#2a3f5f",
             "gridcolor": "white",
             "linecolor": "white",
             "minorgridcolor": "white",
             "startlinecolor": "#2a3f5f"
            },
            "baxis": {
             "endlinecolor": "#2a3f5f",
             "gridcolor": "white",
             "linecolor": "white",
             "minorgridcolor": "white",
             "startlinecolor": "#2a3f5f"
            },
            "type": "carpet"
           }
          ],
          "choropleth": [
           {
            "colorbar": {
             "outlinewidth": 0,
             "ticks": ""
            },
            "type": "choropleth"
           }
          ],
          "contour": [
           {
            "colorbar": {
             "outlinewidth": 0,
             "ticks": ""
            },
            "colorscale": [
             [
              0,
              "#0d0887"
             ],
             [
              0.1111111111111111,
              "#46039f"
             ],
             [
              0.2222222222222222,
              "#7201a8"
             ],
             [
              0.3333333333333333,
              "#9c179e"
             ],
             [
              0.4444444444444444,
              "#bd3786"
             ],
             [
              0.5555555555555556,
              "#d8576b"
             ],
             [
              0.6666666666666666,
              "#ed7953"
             ],
             [
              0.7777777777777778,
              "#fb9f3a"
             ],
             [
              0.8888888888888888,
              "#fdca26"
             ],
             [
              1,
              "#f0f921"
             ]
            ],
            "type": "contour"
           }
          ],
          "contourcarpet": [
           {
            "colorbar": {
             "outlinewidth": 0,
             "ticks": ""
            },
            "type": "contourcarpet"
           }
          ],
          "heatmap": [
           {
            "colorbar": {
             "outlinewidth": 0,
             "ticks": ""
            },
            "colorscale": [
             [
              0,
              "#0d0887"
             ],
             [
              0.1111111111111111,
              "#46039f"
             ],
             [
              0.2222222222222222,
              "#7201a8"
             ],
             [
              0.3333333333333333,
              "#9c179e"
             ],
             [
              0.4444444444444444,
              "#bd3786"
             ],
             [
              0.5555555555555556,
              "#d8576b"
             ],
             [
              0.6666666666666666,
              "#ed7953"
             ],
             [
              0.7777777777777778,
              "#fb9f3a"
             ],
             [
              0.8888888888888888,
              "#fdca26"
             ],
             [
              1,
              "#f0f921"
             ]
            ],
            "type": "heatmap"
           }
          ],
          "heatmapgl": [
           {
            "colorbar": {
             "outlinewidth": 0,
             "ticks": ""
            },
            "colorscale": [
             [
              0,
              "#0d0887"
             ],
             [
              0.1111111111111111,
              "#46039f"
             ],
             [
              0.2222222222222222,
              "#7201a8"
             ],
             [
              0.3333333333333333,
              "#9c179e"
             ],
             [
              0.4444444444444444,
              "#bd3786"
             ],
             [
              0.5555555555555556,
              "#d8576b"
             ],
             [
              0.6666666666666666,
              "#ed7953"
             ],
             [
              0.7777777777777778,
              "#fb9f3a"
             ],
             [
              0.8888888888888888,
              "#fdca26"
             ],
             [
              1,
              "#f0f921"
             ]
            ],
            "type": "heatmapgl"
           }
          ],
          "histogram": [
           {
            "marker": {
             "pattern": {
              "fillmode": "overlay",
              "size": 10,
              "solidity": 0.2
             }
            },
            "type": "histogram"
           }
          ],
          "histogram2d": [
           {
            "colorbar": {
             "outlinewidth": 0,
             "ticks": ""
            },
            "colorscale": [
             [
              0,
              "#0d0887"
             ],
             [
              0.1111111111111111,
              "#46039f"
             ],
             [
              0.2222222222222222,
              "#7201a8"
             ],
             [
              0.3333333333333333,
              "#9c179e"
             ],
             [
              0.4444444444444444,
              "#bd3786"
             ],
             [
              0.5555555555555556,
              "#d8576b"
             ],
             [
              0.6666666666666666,
              "#ed7953"
             ],
             [
              0.7777777777777778,
              "#fb9f3a"
             ],
             [
              0.8888888888888888,
              "#fdca26"
             ],
             [
              1,
              "#f0f921"
             ]
            ],
            "type": "histogram2d"
           }
          ],
          "histogram2dcontour": [
           {
            "colorbar": {
             "outlinewidth": 0,
             "ticks": ""
            },
            "colorscale": [
             [
              0,
              "#0d0887"
             ],
             [
              0.1111111111111111,
              "#46039f"
             ],
             [
              0.2222222222222222,
              "#7201a8"
             ],
             [
              0.3333333333333333,
              "#9c179e"
             ],
             [
              0.4444444444444444,
              "#bd3786"
             ],
             [
              0.5555555555555556,
              "#d8576b"
             ],
             [
              0.6666666666666666,
              "#ed7953"
             ],
             [
              0.7777777777777778,
              "#fb9f3a"
             ],
             [
              0.8888888888888888,
              "#fdca26"
             ],
             [
              1,
              "#f0f921"
             ]
            ],
            "type": "histogram2dcontour"
           }
          ],
          "mesh3d": [
           {
            "colorbar": {
             "outlinewidth": 0,
             "ticks": ""
            },
            "type": "mesh3d"
           }
          ],
          "parcoords": [
           {
            "line": {
             "colorbar": {
              "outlinewidth": 0,
              "ticks": ""
             }
            },
            "type": "parcoords"
           }
          ],
          "pie": [
           {
            "automargin": true,
            "type": "pie"
           }
          ],
          "scatter": [
           {
            "fillpattern": {
             "fillmode": "overlay",
             "size": 10,
             "solidity": 0.2
            },
            "type": "scatter"
           }
          ],
          "scatter3d": [
           {
            "line": {
             "colorbar": {
              "outlinewidth": 0,
              "ticks": ""
             }
            },
            "marker": {
             "colorbar": {
              "outlinewidth": 0,
              "ticks": ""
             }
            },
            "type": "scatter3d"
           }
          ],
          "scattercarpet": [
           {
            "marker": {
             "colorbar": {
              "outlinewidth": 0,
              "ticks": ""
             }
            },
            "type": "scattercarpet"
           }
          ],
          "scattergeo": [
           {
            "marker": {
             "colorbar": {
              "outlinewidth": 0,
              "ticks": ""
             }
            },
            "type": "scattergeo"
           }
          ],
          "scattergl": [
           {
            "marker": {
             "colorbar": {
              "outlinewidth": 0,
              "ticks": ""
             }
            },
            "type": "scattergl"
           }
          ],
          "scattermapbox": [
           {
            "marker": {
             "colorbar": {
              "outlinewidth": 0,
              "ticks": ""
             }
            },
            "type": "scattermapbox"
           }
          ],
          "scatterpolar": [
           {
            "marker": {
             "colorbar": {
              "outlinewidth": 0,
              "ticks": ""
             }
            },
            "type": "scatterpolar"
           }
          ],
          "scatterpolargl": [
           {
            "marker": {
             "colorbar": {
              "outlinewidth": 0,
              "ticks": ""
             }
            },
            "type": "scatterpolargl"
           }
          ],
          "scatterternary": [
           {
            "marker": {
             "colorbar": {
              "outlinewidth": 0,
              "ticks": ""
             }
            },
            "type": "scatterternary"
           }
          ],
          "surface": [
           {
            "colorbar": {
             "outlinewidth": 0,
             "ticks": ""
            },
            "colorscale": [
             [
              0,
              "#0d0887"
             ],
             [
              0.1111111111111111,
              "#46039f"
             ],
             [
              0.2222222222222222,
              "#7201a8"
             ],
             [
              0.3333333333333333,
              "#9c179e"
             ],
             [
              0.4444444444444444,
              "#bd3786"
             ],
             [
              0.5555555555555556,
              "#d8576b"
             ],
             [
              0.6666666666666666,
              "#ed7953"
             ],
             [
              0.7777777777777778,
              "#fb9f3a"
             ],
             [
              0.8888888888888888,
              "#fdca26"
             ],
             [
              1,
              "#f0f921"
             ]
            ],
            "type": "surface"
           }
          ],
          "table": [
           {
            "cells": {
             "fill": {
              "color": "#EBF0F8"
             },
             "line": {
              "color": "white"
             }
            },
            "header": {
             "fill": {
              "color": "#C8D4E3"
             },
             "line": {
              "color": "white"
             }
            },
            "type": "table"
           }
          ]
         },
         "layout": {
          "annotationdefaults": {
           "arrowcolor": "#2a3f5f",
           "arrowhead": 0,
           "arrowwidth": 1
          },
          "autotypenumbers": "strict",
          "coloraxis": {
           "colorbar": {
            "outlinewidth": 0,
            "ticks": ""
           }
          },
          "colorscale": {
           "diverging": [
            [
             0,
             "#8e0152"
            ],
            [
             0.1,
             "#c51b7d"
            ],
            [
             0.2,
             "#de77ae"
            ],
            [
             0.3,
             "#f1b6da"
            ],
            [
             0.4,
             "#fde0ef"
            ],
            [
             0.5,
             "#f7f7f7"
            ],
            [
             0.6,
             "#e6f5d0"
            ],
            [
             0.7,
             "#b8e186"
            ],
            [
             0.8,
             "#7fbc41"
            ],
            [
             0.9,
             "#4d9221"
            ],
            [
             1,
             "#276419"
            ]
           ],
           "sequential": [
            [
             0,
             "#0d0887"
            ],
            [
             0.1111111111111111,
             "#46039f"
            ],
            [
             0.2222222222222222,
             "#7201a8"
            ],
            [
             0.3333333333333333,
             "#9c179e"
            ],
            [
             0.4444444444444444,
             "#bd3786"
            ],
            [
             0.5555555555555556,
             "#d8576b"
            ],
            [
             0.6666666666666666,
             "#ed7953"
            ],
            [
             0.7777777777777778,
             "#fb9f3a"
            ],
            [
             0.8888888888888888,
             "#fdca26"
            ],
            [
             1,
             "#f0f921"
            ]
           ],
           "sequentialminus": [
            [
             0,
             "#0d0887"
            ],
            [
             0.1111111111111111,
             "#46039f"
            ],
            [
             0.2222222222222222,
             "#7201a8"
            ],
            [
             0.3333333333333333,
             "#9c179e"
            ],
            [
             0.4444444444444444,
             "#bd3786"
            ],
            [
             0.5555555555555556,
             "#d8576b"
            ],
            [
             0.6666666666666666,
             "#ed7953"
            ],
            [
             0.7777777777777778,
             "#fb9f3a"
            ],
            [
             0.8888888888888888,
             "#fdca26"
            ],
            [
             1,
             "#f0f921"
            ]
           ]
          },
          "colorway": [
           "#636efa",
           "#EF553B",
           "#00cc96",
           "#ab63fa",
           "#FFA15A",
           "#19d3f3",
           "#FF6692",
           "#B6E880",
           "#FF97FF",
           "#FECB52"
          ],
          "font": {
           "color": "#2a3f5f"
          },
          "geo": {
           "bgcolor": "white",
           "lakecolor": "white",
           "landcolor": "#E5ECF6",
           "showlakes": true,
           "showland": true,
           "subunitcolor": "white"
          },
          "hoverlabel": {
           "align": "left"
          },
          "hovermode": "closest",
          "mapbox": {
           "style": "light"
          },
          "paper_bgcolor": "white",
          "plot_bgcolor": "#E5ECF6",
          "polar": {
           "angularaxis": {
            "gridcolor": "white",
            "linecolor": "white",
            "ticks": ""
           },
           "bgcolor": "#E5ECF6",
           "radialaxis": {
            "gridcolor": "white",
            "linecolor": "white",
            "ticks": ""
           }
          },
          "scene": {
           "xaxis": {
            "backgroundcolor": "#E5ECF6",
            "gridcolor": "white",
            "gridwidth": 2,
            "linecolor": "white",
            "showbackground": true,
            "ticks": "",
            "zerolinecolor": "white"
           },
           "yaxis": {
            "backgroundcolor": "#E5ECF6",
            "gridcolor": "white",
            "gridwidth": 2,
            "linecolor": "white",
            "showbackground": true,
            "ticks": "",
            "zerolinecolor": "white"
           },
           "zaxis": {
            "backgroundcolor": "#E5ECF6",
            "gridcolor": "white",
            "gridwidth": 2,
            "linecolor": "white",
            "showbackground": true,
            "ticks": "",
            "zerolinecolor": "white"
           }
          },
          "shapedefaults": {
           "line": {
            "color": "#2a3f5f"
           }
          },
          "ternary": {
           "aaxis": {
            "gridcolor": "white",
            "linecolor": "white",
            "ticks": ""
           },
           "baxis": {
            "gridcolor": "white",
            "linecolor": "white",
            "ticks": ""
           },
           "bgcolor": "#E5ECF6",
           "caxis": {
            "gridcolor": "white",
            "linecolor": "white",
            "ticks": ""
           }
          },
          "title": {
           "x": 0.05
          },
          "xaxis": {
           "automargin": true,
           "gridcolor": "white",
           "linecolor": "white",
           "ticks": "",
           "title": {
            "standoff": 15
           },
           "zerolinecolor": "white",
           "zerolinewidth": 2
          },
          "yaxis": {
           "automargin": true,
           "gridcolor": "white",
           "linecolor": "white",
           "ticks": "",
           "title": {
            "standoff": 15
           },
           "zerolinecolor": "white",
           "zerolinewidth": 2
          }
         }
        },
        "title": {
         "text": "Optimization History Plot"
        },
        "xaxis": {
         "title": {
          "text": "Trial"
         }
        },
        "yaxis": {
         "title": {
          "text": "Objective Value"
         }
        }
       }
      }
     },
     "metadata": {},
     "output_type": "display_data"
    }
   ],
   "source": [
    "print_study_results(\"surv_gat\")"
   ]
  },
  {
   "cell_type": "markdown",
   "metadata": {},
   "source": [
    "### Multi-Task"
   ]
  },
  {
   "cell_type": "code",
   "execution_count": 3,
   "metadata": {},
   "outputs": [
    {
     "name": "stdout",
     "output_type": "stream",
     "text": [
      "Study statistics: \n",
      "\tN finished trials:  1000\n",
      "\tN pruned trials:  0\n",
      "\tN completed trials:  1000\n",
      "Best trials:\n",
      "\tBest mean values:  [0.9057236408631741, 0.6160747063283938, 0.18222246401625658]\n",
      "\tCustom metrics:  {'avg_best_epoch': 13.0, 'avg_std': [0.02550846198373704, 0.07232987891890252, 0.04346206991114774]}\n",
      "\tParams: \n",
      "\t\tcls_loss_weight: 0.5\n",
      "\t\tn_buckets: 15\n",
      "\t\tbatch_size: 128\n",
      "\t\tlr: 0.0075\n",
      "\t\tdp: 0.1\n",
      "\t\tact_fn: elu\n",
      "\t\ttrunk_ls: 64\n",
      "\t\tcls_ds: 32\n",
      "\t\tsurv_ds: 64\n",
      "\tBest mean values:  [0.8930464542993375, 0.6570946407195197, 0.17682983901043073]\n",
      "\tCustom metrics:  {'avg_best_epoch': 14.4, 'avg_std': [0.03914100321385397, 0.05218562670665263, 0.04995932740326873]}\n",
      "\tParams: \n",
      "\t\tcls_loss_weight: 0.5\n",
      "\t\tn_buckets: 240\n",
      "\t\tbatch_size: 128\n",
      "\t\tlr: 0.0075\n",
      "\t\tdp: 0.1\n",
      "\t\tact_fn: elu\n",
      "\t\ttrunk_ls: 64\n",
      "\t\tcls_ds: 32\n",
      "\t\tsurv_ds: 32\n",
      "\tBest mean values:  [0.8657454616765909, 0.6341226828116289, 0.16970218447913674]\n",
      "\tCustom metrics:  {'avg_best_epoch': 12.8, 'avg_std': [0.06265754522611214, 0.09797447616995544, 0.0417064084759647]}\n",
      "\tParams: \n",
      "\t\tcls_loss_weight: 0.5\n",
      "\t\tn_buckets: 240\n",
      "\t\tbatch_size: 128\n",
      "\t\tlr: 0.0075\n",
      "\t\tdp: 0.1\n",
      "\t\tact_fn: elu\n",
      "\t\ttrunk_ls: 64\n",
      "\t\tcls_ds: 32\n",
      "\t\tsurv_ds: 32\n",
      "\tBest mean values:  [0.8764082583923454, 0.6831212902309777, 0.22783892967304156]\n",
      "\tCustom metrics:  {'avg_best_epoch': 15.0, 'avg_std': [0.06659576461896553, 0.029867509373716034, 0.10812185380227526]}\n",
      "\tParams: \n",
      "\t\tcls_loss_weight: 0.5\n",
      "\t\tn_buckets: 240\n",
      "\t\tbatch_size: 128\n",
      "\t\tlr: 0.0075\n",
      "\t\tdp: 0.1\n",
      "\t\tact_fn: leakyrelu\n",
      "\t\ttrunk_ls: 32\n",
      "\t\tcls_ds: 32\n",
      "\t\tsurv_ds: 32\n",
      "\tBest mean values:  [0.9032424990327902, 0.6531470322295103, 0.20353147125856919]\n",
      "\tCustom metrics:  {'avg_best_epoch': 14.4, 'avg_std': [0.029531722250738503, 0.06697021350950665, 0.060347256547139023]}\n",
      "\tParams: \n",
      "\t\tcls_loss_weight: 0.5\n",
      "\t\tn_buckets: 240\n",
      "\t\tbatch_size: 128\n",
      "\t\tlr: 0.0075\n",
      "\t\tdp: 0.1\n",
      "\t\tact_fn: elu\n",
      "\t\ttrunk_ls: 64\n",
      "\t\tcls_ds: 32\n",
      "\t\tsurv_ds: 32\n",
      "\tBest mean values:  [0.9144113001638219, 0.6450998877335599, 0.22534347055147763]\n",
      "\tCustom metrics:  {'avg_best_epoch': 17.0, 'avg_std': [0.0349730338759343, 0.0792120807243241, 0.06468752206994476]}\n",
      "\tParams: \n",
      "\t\tcls_loss_weight: 0.5\n",
      "\t\tn_buckets: 240\n",
      "\t\tbatch_size: 128\n",
      "\t\tlr: 0.0075\n",
      "\t\tdp: 0.1\n",
      "\t\tact_fn: elu\n",
      "\t\ttrunk_ls: 64\n",
      "\t\tcls_ds: 32\n",
      "\t\tsurv_ds: 32\n",
      "\tBest mean values:  [0.7961210598402305, 0.6857633732521939, 0.17764246551301655]\n",
      "\tCustom metrics:  {'avg_best_epoch': 19.0, 'avg_std': [0.04309768186138828, 0.03366955917213369, 0.03486751726072122]}\n",
      "\tParams: \n",
      "\t\tcls_loss_weight: 0.8\n",
      "\t\tn_buckets: 240\n",
      "\t\tbatch_size: 128\n",
      "\t\tlr: 0.001\n",
      "\t\tdp: 0.1\n",
      "\t\tact_fn: elu\n",
      "\t\ttrunk_ls: 64\n",
      "\t\tcls_ds: 0\n",
      "\t\tsurv_ds: 64\n",
      "\tBest mean values:  [0.7969815055195374, 0.6821114380585948, 0.1645936190690834]\n",
      "\tCustom metrics:  {'avg_best_epoch': 25.6, 'avg_std': [0.04988211655363636, 0.04544368513507196, 0.026516643874326448]}\n",
      "\tParams: \n",
      "\t\tcls_loss_weight: 0.8\n",
      "\t\tn_buckets: 240\n",
      "\t\tbatch_size: 128\n",
      "\t\tlr: 0.001\n",
      "\t\tdp: 0.1\n",
      "\t\tact_fn: leakyrelu\n",
      "\t\ttrunk_ls: 64\n",
      "\t\tcls_ds: 32\n",
      "\t\tsurv_ds: 32\n",
      "\tBest mean values:  [0.8138406337547011, 0.6847841961885586, 0.19523557649124396]\n",
      "\tCustom metrics:  {'avg_best_epoch': 19.4, 'avg_std': [0.09638077093893334, 0.10353729743801462, 0.06987155458661072]}\n",
      "\tParams: \n",
      "\t\tcls_loss_weight: 0.8\n",
      "\t\tn_buckets: 240\n",
      "\t\tbatch_size: 128\n",
      "\t\tlr: 0.005\n",
      "\t\tdp: 0.1\n",
      "\t\tact_fn: leakyrelu\n",
      "\t\ttrunk_ls: 64\n",
      "\t\tcls_ds: 32\n",
      "\t\tsurv_ds: 32\n",
      "\tBest mean values:  [0.9150996130424499, 0.6436018221635991, 0.18535398423134547]\n",
      "\tCustom metrics:  {'avg_best_epoch': 14.8, 'avg_std': [0.01240194517926955, 0.09128639705215383, 0.05068015656587712]}\n",
      "\tParams: \n",
      "\t\tcls_loss_weight: 0.8\n",
      "\t\tn_buckets: 128\n",
      "\t\tbatch_size: 128\n",
      "\t\tlr: 0.0075\n",
      "\t\tdp: 0.1\n",
      "\t\tact_fn: elu\n",
      "\t\ttrunk_ls: 64\n",
      "\t\tcls_ds: 32\n",
      "\t\tsurv_ds: 32\n",
      "\tBest mean values:  [0.9248054072607154, 0.6243523901830439, 0.1910936020226836]\n",
      "\tCustom metrics:  {'avg_best_epoch': 14.4, 'avg_std': [0.014932673933017615, 0.06664780078411885, 0.06026732421487261]}\n",
      "\tParams: \n",
      "\t\tcls_loss_weight: 0.8\n",
      "\t\tn_buckets: 128\n",
      "\t\tbatch_size: 128\n",
      "\t\tlr: 0.0075\n",
      "\t\tdp: 0.1\n",
      "\t\tact_fn: elu\n",
      "\t\ttrunk_ls: 64\n",
      "\t\tcls_ds: 32\n",
      "\t\tsurv_ds: 32\n",
      "\tBest mean values:  [0.9046397050587973, 0.6498732194347958, 0.23694098008142941]\n",
      "\tCustom metrics:  {'avg_best_epoch': 15.4, 'avg_std': [0.06122901207033205, 0.09238945847666917, 0.058661551454212625]}\n",
      "\tParams: \n",
      "\t\tcls_loss_weight: 0.8\n",
      "\t\tn_buckets: 128\n",
      "\t\tbatch_size: 128\n",
      "\t\tlr: 0.0075\n",
      "\t\tdp: 0.1\n",
      "\t\tact_fn: elu\n",
      "\t\ttrunk_ls: 64\n",
      "\t\tcls_ds: 32\n",
      "\t\tsurv_ds: 32\n",
      "\tBest mean values:  [0.8619593281494524, 0.6621788964448655, 0.16849735645897787]\n",
      "\tCustom metrics:  {'avg_best_epoch': 32.4, 'avg_std': [0.02821678674255877, 0.04130974070568608, 0.036215195043740676]}\n",
      "\tParams: \n",
      "\t\tcls_loss_weight: 0.8\n",
      "\t\tn_buckets: 128\n",
      "\t\tbatch_size: 128\n",
      "\t\tlr: 0.001\n",
      "\t\tdp: 0.1\n",
      "\t\tact_fn: elu\n",
      "\t\ttrunk_ls: 64\n",
      "\t\tcls_ds: 32\n",
      "\t\tsurv_ds: 32\n",
      "\tBest mean values:  [0.9080138160627396, 0.6476279948862487, 0.21362677868444954]\n",
      "\tCustom metrics:  {'avg_best_epoch': 14.6, 'avg_std': [0.005744526631425592, 0.10303685823778032, 0.05181236356497073]}\n",
      "\tParams: \n",
      "\t\tcls_loss_weight: 0.5\n",
      "\t\tn_buckets: 128\n",
      "\t\tbatch_size: 128\n",
      "\t\tlr: 0.0075\n",
      "\t\tdp: 0.1\n",
      "\t\tact_fn: elu\n",
      "\t\ttrunk_ls: 64\n",
      "\t\tcls_ds: 32\n",
      "\t\tsurv_ds: 32\n",
      "\tBest mean values:  [0.8804892830793578, 0.6702044164772086, 0.17119476206476322]\n",
      "\tCustom metrics:  {'avg_best_epoch': 13.4, 'avg_std': [0.043134713173641245, 0.08935110920633019, 0.0516012753636243]}\n",
      "\tParams: \n",
      "\t\tcls_loss_weight: 0.5\n",
      "\t\tn_buckets: 128\n",
      "\t\tbatch_size: 128\n",
      "\t\tlr: 0.0075\n",
      "\t\tdp: 0.1\n",
      "\t\tact_fn: elu\n",
      "\t\ttrunk_ls: 32\n",
      "\t\tcls_ds: 32\n",
      "\t\tsurv_ds: 32\n",
      "\tBest mean values:  [0.8539056024182349, 0.6616981180286778, 0.15599229784406082]\n",
      "\tCustom metrics:  {'avg_best_epoch': 23.4, 'avg_std': [0.03823606451832743, 0.08394781859652249, 0.05221076268946867]}\n",
      "\tParams: \n",
      "\t\tcls_loss_weight: 0.5\n",
      "\t\tn_buckets: 240\n",
      "\t\tbatch_size: 128\n",
      "\t\tlr: 0.001\n",
      "\t\tdp: 0.1\n",
      "\t\tact_fn: elu\n",
      "\t\ttrunk_ls: 64\n",
      "\t\tcls_ds: 32\n",
      "\t\tsurv_ds: 32\n",
      "\tBest mean values:  [0.8515003069163944, 0.6795090016727451, 0.2061888015332635]\n",
      "\tCustom metrics:  {'avg_best_epoch': 12.4, 'avg_std': [0.03873556350236373, 0.09584728897520889, 0.06409494689830791]}\n",
      "\tParams: \n",
      "\t\tcls_loss_weight: 0.5\n",
      "\t\tn_buckets: 128\n",
      "\t\tbatch_size: 128\n",
      "\t\tlr: 0.0075\n",
      "\t\tdp: 0.1\n",
      "\t\tact_fn: elu\n",
      "\t\ttrunk_ls: 32\n",
      "\t\tcls_ds: 32\n",
      "\t\tsurv_ds: 32\n",
      "\tBest mean values:  [0.8983225119309793, 0.6190451958270555, 0.185104318140232]\n",
      "\tCustom metrics:  {'avg_best_epoch': 12.4, 'avg_std': [0.026637243194021856, 0.07872416526819886, 0.02699764712206509]}\n",
      "\tParams: \n",
      "\t\tcls_loss_weight: 0.5\n",
      "\t\tn_buckets: 128\n",
      "\t\tbatch_size: 32\n",
      "\t\tlr: 0.0075\n",
      "\t\tdp: 0.1\n",
      "\t\tact_fn: elu\n",
      "\t\ttrunk_ls: 32\n",
      "\t\tcls_ds: 32\n",
      "\t\tsurv_ds: 32\n",
      "\tBest mean values:  [0.7270336474830839, 0.693217698171148, 0.18518918476011192]\n",
      "\tCustom metrics:  {'avg_best_epoch': 16.2, 'avg_std': [0.1338978685438976, 0.07192006599034957, 0.04988368866511575]}\n",
      "\tParams: \n",
      "\t\tcls_loss_weight: 0.5\n",
      "\t\tn_buckets: 240\n",
      "\t\tbatch_size: 128\n",
      "\t\tlr: 0.001\n",
      "\t\tdp: 0.1\n",
      "\t\tact_fn: elu\n",
      "\t\ttrunk_ls: 64\n",
      "\t\tcls_ds: 32\n",
      "\t\tsurv_ds: 32\n",
      "\tBest mean values:  [0.8366605779820165, 0.6771920823316285, 0.17467570998009121]\n",
      "\tCustom metrics:  {'avg_best_epoch': 21.2, 'avg_std': [0.0574650138483269, 0.06638984510871822, 0.050617820265139474]}\n",
      "\tParams: \n",
      "\t\tcls_loss_weight: 0.5\n",
      "\t\tn_buckets: 240\n",
      "\t\tbatch_size: 128\n",
      "\t\tlr: 0.001\n",
      "\t\tdp: 0.1\n",
      "\t\tact_fn: elu\n",
      "\t\ttrunk_ls: 64\n",
      "\t\tcls_ds: 32\n",
      "\t\tsurv_ds: 32\n",
      "\tBest mean values:  [0.8774326561437649, 0.5515784128095734, 0.1699388426039454]\n",
      "\tCustom metrics:  {'avg_best_epoch': 20.2, 'avg_std': [0.01583240399763614, 0.08561835832431454, 0.035965741815667696]}\n",
      "\tParams: \n",
      "\t\tcls_loss_weight: 0.5\n",
      "\t\tn_buckets: 240\n",
      "\t\tbatch_size: 32\n",
      "\t\tlr: 0.001\n",
      "\t\tdp: 0.1\n",
      "\t\tact_fn: elu\n",
      "\t\ttrunk_ls: 64\n",
      "\t\tcls_ds: 0\n",
      "\t\tsurv_ds: 32\n",
      "\tBest mean values:  [0.8945841283439095, 0.5872234302118338, 0.17460436656423575]\n",
      "\tCustom metrics:  {'avg_best_epoch': 16.2, 'avg_std': [0.042888681666855055, 0.133543933924458, 0.04087063951299216]}\n",
      "\tParams: \n",
      "\t\tcls_loss_weight: 0.5\n",
      "\t\tn_buckets: 240\n",
      "\t\tbatch_size: 32\n",
      "\t\tlr: 0.001\n",
      "\t\tdp: 0.1\n",
      "\t\tact_fn: elu\n",
      "\t\ttrunk_ls: 64\n",
      "\t\tcls_ds: 32\n",
      "\t\tsurv_ds: 32\n",
      "\tBest mean values:  [0.9011495216293497, 0.669742000770129, 0.1988612003937557]\n",
      "\tCustom metrics:  {'avg_best_epoch': 35.0, 'avg_std': [0.03189967153894327, 0.10543083016991317, 0.03854428684275059]}\n",
      "\tParams: \n",
      "\t\tcls_loss_weight: 0.8\n",
      "\t\tn_buckets: 15\n",
      "\t\tbatch_size: 128\n",
      "\t\tlr: 0.001\n",
      "\t\tdp: 0\n",
      "\t\tact_fn: elu\n",
      "\t\ttrunk_ls: 64\n",
      "\t\tcls_ds: 0\n",
      "\t\tsurv_ds: 32\n",
      "\tBest mean values:  [0.5746029964368088, 0.6995913147985086, 0.18993330641324885]\n",
      "\tCustom metrics:  {'avg_best_epoch': 12.8, 'avg_std': [0.3887737032101853, 0.12352369590513974, 0.07169905157886494]}\n",
      "\tParams: \n",
      "\t\tcls_loss_weight: 0.8\n",
      "\t\tn_buckets: 128\n",
      "\t\tbatch_size: 128\n",
      "\t\tlr: 0.005\n",
      "\t\tdp: 0\n",
      "\t\tact_fn: leakyrelu\n",
      "\t\ttrunk_ls: 64\n",
      "\t\tcls_ds: 32\n",
      "\t\tsurv_ds: 32\n",
      "\tBest mean values:  [0.7162192493085521, 0.6652341069724462, 0.16193977665450118]\n",
      "\tCustom metrics:  {'avg_best_epoch': 19.0, 'avg_std': [0.2473794212160162, 0.05902106806013334, 0.03396920120775044]}\n",
      "\tParams: \n",
      "\t\tcls_loss_weight: 0.5\n",
      "\t\tn_buckets: 240\n",
      "\t\tbatch_size: 128\n",
      "\t\tlr: 0.001\n",
      "\t\tdp: 0.1\n",
      "\t\tact_fn: elu\n",
      "\t\ttrunk_ls: 64\n",
      "\t\tcls_ds: 32\n",
      "\t\tsurv_ds: 32\n",
      "\tBest mean values:  [0.8947527430538148, 0.6360337633167886, 0.17882401025747802]\n",
      "\tCustom metrics:  {'avg_best_epoch': 18.2, 'avg_std': [0.0474523253703563, 0.08856505815563169, 0.0416229478837383]}\n",
      "\tParams: \n",
      "\t\tcls_loss_weight: 0.8\n",
      "\t\tn_buckets: 128\n",
      "\t\tbatch_size: 128\n",
      "\t\tlr: 0.0075\n",
      "\t\tdp: 0.1\n",
      "\t\tact_fn: elu\n",
      "\t\ttrunk_ls: 64\n",
      "\t\tcls_ds: 32\n",
      "\t\tsurv_ds: 32\n",
      "\tBest mean values:  [0.9166846794333312, 0.6309286940524774, 0.20143429420204145]\n",
      "\tCustom metrics:  {'avg_best_epoch': 15.8, 'avg_std': [0.035008854480147435, 0.07372266684289114, 0.07025028755641162]}\n",
      "\tParams: \n",
      "\t\tcls_loss_weight: 0.8\n",
      "\t\tn_buckets: 128\n",
      "\t\tbatch_size: 128\n",
      "\t\tlr: 0.0075\n",
      "\t\tdp: 0.1\n",
      "\t\tact_fn: elu\n",
      "\t\ttrunk_ls: 64\n",
      "\t\tcls_ds: 32\n",
      "\t\tsurv_ds: 32\n",
      "\tBest mean values:  [0.8957379673114749, 0.6445029477329547, 0.1951694750169452]\n",
      "\tCustom metrics:  {'avg_best_epoch': 18.6, 'avg_std': [0.03579500227391278, 0.09886248334734049, 0.04714861635168085]}\n",
      "\tParams: \n",
      "\t\tcls_loss_weight: 0.8\n",
      "\t\tn_buckets: 240\n",
      "\t\tbatch_size: 128\n",
      "\t\tlr: 0.005\n",
      "\t\tdp: 0.1\n",
      "\t\tact_fn: elu\n",
      "\t\ttrunk_ls: 64\n",
      "\t\tcls_ds: 32\n",
      "\t\tsurv_ds: 64\n",
      "\tBest mean values:  [0.8944566448963709, 0.6274166222171706, 0.17431102758613395]\n",
      "\tCustom metrics:  {'avg_best_epoch': 16.6, 'avg_std': [0.03723979233226821, 0.0953105799354393, 0.04440207678953775]}\n",
      "\tParams: \n",
      "\t\tcls_loss_weight: 0.2\n",
      "\t\tn_buckets: 15\n",
      "\t\tbatch_size: 32\n",
      "\t\tlr: 0.001\n",
      "\t\tdp: 0.1\n",
      "\t\tact_fn: elu\n",
      "\t\ttrunk_ls: 64\n",
      "\t\tcls_ds: 32\n",
      "\t\tsurv_ds: 64\n",
      "\tBest mean values:  [0.863191319610977, 0.6398573160230947, 0.16500871296212183]\n",
      "\tCustom metrics:  {'avg_best_epoch': 13.8, 'avg_std': [0.021932935310439702, 0.06978122979308869, 0.040102270629251875]}\n",
      "\tParams: \n",
      "\t\tcls_loss_weight: 0.2\n",
      "\t\tn_buckets: 240\n",
      "\t\tbatch_size: 32\n",
      "\t\tlr: 0.001\n",
      "\t\tdp: 0.1\n",
      "\t\tact_fn: elu\n",
      "\t\ttrunk_ls: 64\n",
      "\t\tcls_ds: 32\n",
      "\t\tsurv_ds: 32\n",
      "\tBest mean values:  [0.9136074111936182, 0.5925007976132092, 0.18442521174222765]\n",
      "\tCustom metrics:  {'avg_best_epoch': 14.8, 'avg_std': [0.03166966056142298, 0.08505186478242506, 0.050138521694147696]}\n",
      "\tParams: \n",
      "\t\tcls_loss_weight: 0.5\n",
      "\t\tn_buckets: 128\n",
      "\t\tbatch_size: 32\n",
      "\t\tlr: 0.005\n",
      "\t\tdp: 0.1\n",
      "\t\tact_fn: elu\n",
      "\t\ttrunk_ls: 64\n",
      "\t\tcls_ds: 32\n",
      "\t\tsurv_ds: 32\n",
      "\tBest mean values:  [0.874798906846116, 0.6396773017028945, 0.17008000734704473]\n",
      "\tCustom metrics:  {'avg_best_epoch': 15.8, 'avg_std': [0.0509889566709348, 0.06750849084522077, 0.034407664115504104]}\n",
      "\tParams: \n",
      "\t\tcls_loss_weight: 0.5\n",
      "\t\tn_buckets: 240\n",
      "\t\tbatch_size: 32\n",
      "\t\tlr: 0.005\n",
      "\t\tdp: 0.1\n",
      "\t\tact_fn: leakyrelu\n",
      "\t\ttrunk_ls: 64\n",
      "\t\tcls_ds: 0\n",
      "\t\tsurv_ds: 32\n",
      "\tBest mean values:  [0.8126864038761538, 0.680544994801539, 0.18645211669245582]\n",
      "\tCustom metrics:  {'avg_best_epoch': 23.0, 'avg_std': [0.12330563051155494, 0.048708625709194125, 0.06496871819329858]}\n",
      "\tParams: \n",
      "\t\tcls_loss_weight: 0.8\n",
      "\t\tn_buckets: 128\n",
      "\t\tbatch_size: 128\n",
      "\t\tlr: 0.001\n",
      "\t\tdp: 0.1\n",
      "\t\tact_fn: elu\n",
      "\t\ttrunk_ls: 64\n",
      "\t\tcls_ds: 32\n",
      "\t\tsurv_ds: 32\n"
     ]
    },
    {
     "data": {
      "application/vnd.plotly.v1+json": {
       "config": {
        "plotlyServerURL": "https://plot.ly"
       },
       "data": [
        {
         "cliponaxis": false,
         "hovertemplate": [
          "trunk_ls (CategoricalDistribution): 0.0038933334547491738<extra></extra>",
          "cls_ds (CategoricalDistribution): 0.004366029016605609<extra></extra>",
          "batch_size (CategoricalDistribution): 0.023138518931568833<extra></extra>",
          "dp (CategoricalDistribution): 0.036039046878614416<extra></extra>",
          "cls_loss_weight (CategoricalDistribution): 0.050722285788303505<extra></extra>",
          "act_fn (CategoricalDistribution): 0.05363333756864335<extra></extra>",
          "surv_ds (CategoricalDistribution): 0.23862993848067285<extra></extra>",
          "n_buckets (CategoricalDistribution): 0.25454785220126236<extra></extra>",
          "lr (CategoricalDistribution): 0.33502965767958<extra></extra>"
         ],
         "name": "Objective Value 0",
         "orientation": "h",
         "text": [
          "<0.01",
          "<0.01",
          "0.02",
          "0.04",
          "0.05",
          "0.05",
          "0.24",
          "0.25",
          "0.34"
         ],
         "textposition": "outside",
         "type": "bar",
         "x": [
          0.0038933334547491738,
          0.004366029016605609,
          0.023138518931568833,
          0.036039046878614416,
          0.050722285788303505,
          0.05363333756864335,
          0.23862993848067285,
          0.25454785220126236,
          0.33502965767958
         ],
         "y": [
          "trunk_ls",
          "cls_ds",
          "batch_size",
          "dp",
          "cls_loss_weight",
          "act_fn",
          "surv_ds",
          "n_buckets",
          "lr"
         ]
        },
        {
         "cliponaxis": false,
         "hovertemplate": [
          "trunk_ls (CategoricalDistribution): 0.0037797876746927094<extra></extra>",
          "cls_ds (CategoricalDistribution): 0.0043691309581956<extra></extra>",
          "cls_loss_weight (CategoricalDistribution): 0.006102313489243399<extra></extra>",
          "act_fn (CategoricalDistribution): 0.01879401466821745<extra></extra>",
          "dp (CategoricalDistribution): 0.037085038716176105<extra></extra>",
          "batch_size (CategoricalDistribution): 0.08863043143587776<extra></extra>",
          "surv_ds (CategoricalDistribution): 0.19132111637897037<extra></extra>",
          "n_buckets (CategoricalDistribution): 0.26728918307114213<extra></extra>",
          "lr (CategoricalDistribution): 0.3826289836074846<extra></extra>"
         ],
         "name": "Objective Value 1",
         "orientation": "h",
         "text": [
          "<0.01",
          "<0.01",
          "<0.01",
          "0.02",
          "0.04",
          "0.09",
          "0.19",
          "0.27",
          "0.38"
         ],
         "textposition": "outside",
         "type": "bar",
         "x": [
          0.0037797876746927094,
          0.0043691309581956,
          0.006102313489243399,
          0.01879401466821745,
          0.037085038716176105,
          0.08863043143587776,
          0.19132111637897037,
          0.26728918307114213,
          0.3826289836074846
         ],
         "y": [
          "trunk_ls",
          "cls_ds",
          "cls_loss_weight",
          "act_fn",
          "dp",
          "batch_size",
          "surv_ds",
          "n_buckets",
          "lr"
         ]
        },
        {
         "cliponaxis": false,
         "hovertemplate": [
          "cls_ds (CategoricalDistribution): 0.002091888823534456<extra></extra>",
          "trunk_ls (CategoricalDistribution): 0.0023663048221804843<extra></extra>",
          "cls_loss_weight (CategoricalDistribution): 0.005195811994429724<extra></extra>",
          "act_fn (CategoricalDistribution): 0.01240447873868541<extra></extra>",
          "batch_size (CategoricalDistribution): 0.04828357911320037<extra></extra>",
          "dp (CategoricalDistribution): 0.07157651252349288<extra></extra>",
          "surv_ds (CategoricalDistribution): 0.11063484600193477<extra></extra>",
          "n_buckets (CategoricalDistribution): 0.2244092706311209<extra></extra>",
          "lr (CategoricalDistribution): 0.523037307351421<extra></extra>"
         ],
         "name": "Objective Value 2",
         "orientation": "h",
         "text": [
          "<0.01",
          "<0.01",
          "<0.01",
          "0.01",
          "0.05",
          "0.07",
          "0.11",
          "0.22",
          "0.52"
         ],
         "textposition": "outside",
         "type": "bar",
         "x": [
          0.002091888823534456,
          0.0023663048221804843,
          0.005195811994429724,
          0.01240447873868541,
          0.04828357911320037,
          0.07157651252349288,
          0.11063484600193477,
          0.2244092706311209,
          0.523037307351421
         ],
         "y": [
          "cls_ds",
          "trunk_ls",
          "cls_loss_weight",
          "act_fn",
          "batch_size",
          "dp",
          "surv_ds",
          "n_buckets",
          "lr"
         ]
        }
       ],
       "layout": {
        "template": {
         "data": {
          "bar": [
           {
            "error_x": {
             "color": "#2a3f5f"
            },
            "error_y": {
             "color": "#2a3f5f"
            },
            "marker": {
             "line": {
              "color": "#E5ECF6",
              "width": 0.5
             },
             "pattern": {
              "fillmode": "overlay",
              "size": 10,
              "solidity": 0.2
             }
            },
            "type": "bar"
           }
          ],
          "barpolar": [
           {
            "marker": {
             "line": {
              "color": "#E5ECF6",
              "width": 0.5
             },
             "pattern": {
              "fillmode": "overlay",
              "size": 10,
              "solidity": 0.2
             }
            },
            "type": "barpolar"
           }
          ],
          "carpet": [
           {
            "aaxis": {
             "endlinecolor": "#2a3f5f",
             "gridcolor": "white",
             "linecolor": "white",
             "minorgridcolor": "white",
             "startlinecolor": "#2a3f5f"
            },
            "baxis": {
             "endlinecolor": "#2a3f5f",
             "gridcolor": "white",
             "linecolor": "white",
             "minorgridcolor": "white",
             "startlinecolor": "#2a3f5f"
            },
            "type": "carpet"
           }
          ],
          "choropleth": [
           {
            "colorbar": {
             "outlinewidth": 0,
             "ticks": ""
            },
            "type": "choropleth"
           }
          ],
          "contour": [
           {
            "colorbar": {
             "outlinewidth": 0,
             "ticks": ""
            },
            "colorscale": [
             [
              0,
              "#0d0887"
             ],
             [
              0.1111111111111111,
              "#46039f"
             ],
             [
              0.2222222222222222,
              "#7201a8"
             ],
             [
              0.3333333333333333,
              "#9c179e"
             ],
             [
              0.4444444444444444,
              "#bd3786"
             ],
             [
              0.5555555555555556,
              "#d8576b"
             ],
             [
              0.6666666666666666,
              "#ed7953"
             ],
             [
              0.7777777777777778,
              "#fb9f3a"
             ],
             [
              0.8888888888888888,
              "#fdca26"
             ],
             [
              1,
              "#f0f921"
             ]
            ],
            "type": "contour"
           }
          ],
          "contourcarpet": [
           {
            "colorbar": {
             "outlinewidth": 0,
             "ticks": ""
            },
            "type": "contourcarpet"
           }
          ],
          "heatmap": [
           {
            "colorbar": {
             "outlinewidth": 0,
             "ticks": ""
            },
            "colorscale": [
             [
              0,
              "#0d0887"
             ],
             [
              0.1111111111111111,
              "#46039f"
             ],
             [
              0.2222222222222222,
              "#7201a8"
             ],
             [
              0.3333333333333333,
              "#9c179e"
             ],
             [
              0.4444444444444444,
              "#bd3786"
             ],
             [
              0.5555555555555556,
              "#d8576b"
             ],
             [
              0.6666666666666666,
              "#ed7953"
             ],
             [
              0.7777777777777778,
              "#fb9f3a"
             ],
             [
              0.8888888888888888,
              "#fdca26"
             ],
             [
              1,
              "#f0f921"
             ]
            ],
            "type": "heatmap"
           }
          ],
          "heatmapgl": [
           {
            "colorbar": {
             "outlinewidth": 0,
             "ticks": ""
            },
            "colorscale": [
             [
              0,
              "#0d0887"
             ],
             [
              0.1111111111111111,
              "#46039f"
             ],
             [
              0.2222222222222222,
              "#7201a8"
             ],
             [
              0.3333333333333333,
              "#9c179e"
             ],
             [
              0.4444444444444444,
              "#bd3786"
             ],
             [
              0.5555555555555556,
              "#d8576b"
             ],
             [
              0.6666666666666666,
              "#ed7953"
             ],
             [
              0.7777777777777778,
              "#fb9f3a"
             ],
             [
              0.8888888888888888,
              "#fdca26"
             ],
             [
              1,
              "#f0f921"
             ]
            ],
            "type": "heatmapgl"
           }
          ],
          "histogram": [
           {
            "marker": {
             "pattern": {
              "fillmode": "overlay",
              "size": 10,
              "solidity": 0.2
             }
            },
            "type": "histogram"
           }
          ],
          "histogram2d": [
           {
            "colorbar": {
             "outlinewidth": 0,
             "ticks": ""
            },
            "colorscale": [
             [
              0,
              "#0d0887"
             ],
             [
              0.1111111111111111,
              "#46039f"
             ],
             [
              0.2222222222222222,
              "#7201a8"
             ],
             [
              0.3333333333333333,
              "#9c179e"
             ],
             [
              0.4444444444444444,
              "#bd3786"
             ],
             [
              0.5555555555555556,
              "#d8576b"
             ],
             [
              0.6666666666666666,
              "#ed7953"
             ],
             [
              0.7777777777777778,
              "#fb9f3a"
             ],
             [
              0.8888888888888888,
              "#fdca26"
             ],
             [
              1,
              "#f0f921"
             ]
            ],
            "type": "histogram2d"
           }
          ],
          "histogram2dcontour": [
           {
            "colorbar": {
             "outlinewidth": 0,
             "ticks": ""
            },
            "colorscale": [
             [
              0,
              "#0d0887"
             ],
             [
              0.1111111111111111,
              "#46039f"
             ],
             [
              0.2222222222222222,
              "#7201a8"
             ],
             [
              0.3333333333333333,
              "#9c179e"
             ],
             [
              0.4444444444444444,
              "#bd3786"
             ],
             [
              0.5555555555555556,
              "#d8576b"
             ],
             [
              0.6666666666666666,
              "#ed7953"
             ],
             [
              0.7777777777777778,
              "#fb9f3a"
             ],
             [
              0.8888888888888888,
              "#fdca26"
             ],
             [
              1,
              "#f0f921"
             ]
            ],
            "type": "histogram2dcontour"
           }
          ],
          "mesh3d": [
           {
            "colorbar": {
             "outlinewidth": 0,
             "ticks": ""
            },
            "type": "mesh3d"
           }
          ],
          "parcoords": [
           {
            "line": {
             "colorbar": {
              "outlinewidth": 0,
              "ticks": ""
             }
            },
            "type": "parcoords"
           }
          ],
          "pie": [
           {
            "automargin": true,
            "type": "pie"
           }
          ],
          "scatter": [
           {
            "fillpattern": {
             "fillmode": "overlay",
             "size": 10,
             "solidity": 0.2
            },
            "type": "scatter"
           }
          ],
          "scatter3d": [
           {
            "line": {
             "colorbar": {
              "outlinewidth": 0,
              "ticks": ""
             }
            },
            "marker": {
             "colorbar": {
              "outlinewidth": 0,
              "ticks": ""
             }
            },
            "type": "scatter3d"
           }
          ],
          "scattercarpet": [
           {
            "marker": {
             "colorbar": {
              "outlinewidth": 0,
              "ticks": ""
             }
            },
            "type": "scattercarpet"
           }
          ],
          "scattergeo": [
           {
            "marker": {
             "colorbar": {
              "outlinewidth": 0,
              "ticks": ""
             }
            },
            "type": "scattergeo"
           }
          ],
          "scattergl": [
           {
            "marker": {
             "colorbar": {
              "outlinewidth": 0,
              "ticks": ""
             }
            },
            "type": "scattergl"
           }
          ],
          "scattermapbox": [
           {
            "marker": {
             "colorbar": {
              "outlinewidth": 0,
              "ticks": ""
             }
            },
            "type": "scattermapbox"
           }
          ],
          "scatterpolar": [
           {
            "marker": {
             "colorbar": {
              "outlinewidth": 0,
              "ticks": ""
             }
            },
            "type": "scatterpolar"
           }
          ],
          "scatterpolargl": [
           {
            "marker": {
             "colorbar": {
              "outlinewidth": 0,
              "ticks": ""
             }
            },
            "type": "scatterpolargl"
           }
          ],
          "scatterternary": [
           {
            "marker": {
             "colorbar": {
              "outlinewidth": 0,
              "ticks": ""
             }
            },
            "type": "scatterternary"
           }
          ],
          "surface": [
           {
            "colorbar": {
             "outlinewidth": 0,
             "ticks": ""
            },
            "colorscale": [
             [
              0,
              "#0d0887"
             ],
             [
              0.1111111111111111,
              "#46039f"
             ],
             [
              0.2222222222222222,
              "#7201a8"
             ],
             [
              0.3333333333333333,
              "#9c179e"
             ],
             [
              0.4444444444444444,
              "#bd3786"
             ],
             [
              0.5555555555555556,
              "#d8576b"
             ],
             [
              0.6666666666666666,
              "#ed7953"
             ],
             [
              0.7777777777777778,
              "#fb9f3a"
             ],
             [
              0.8888888888888888,
              "#fdca26"
             ],
             [
              1,
              "#f0f921"
             ]
            ],
            "type": "surface"
           }
          ],
          "table": [
           {
            "cells": {
             "fill": {
              "color": "#EBF0F8"
             },
             "line": {
              "color": "white"
             }
            },
            "header": {
             "fill": {
              "color": "#C8D4E3"
             },
             "line": {
              "color": "white"
             }
            },
            "type": "table"
           }
          ]
         },
         "layout": {
          "annotationdefaults": {
           "arrowcolor": "#2a3f5f",
           "arrowhead": 0,
           "arrowwidth": 1
          },
          "autotypenumbers": "strict",
          "coloraxis": {
           "colorbar": {
            "outlinewidth": 0,
            "ticks": ""
           }
          },
          "colorscale": {
           "diverging": [
            [
             0,
             "#8e0152"
            ],
            [
             0.1,
             "#c51b7d"
            ],
            [
             0.2,
             "#de77ae"
            ],
            [
             0.3,
             "#f1b6da"
            ],
            [
             0.4,
             "#fde0ef"
            ],
            [
             0.5,
             "#f7f7f7"
            ],
            [
             0.6,
             "#e6f5d0"
            ],
            [
             0.7,
             "#b8e186"
            ],
            [
             0.8,
             "#7fbc41"
            ],
            [
             0.9,
             "#4d9221"
            ],
            [
             1,
             "#276419"
            ]
           ],
           "sequential": [
            [
             0,
             "#0d0887"
            ],
            [
             0.1111111111111111,
             "#46039f"
            ],
            [
             0.2222222222222222,
             "#7201a8"
            ],
            [
             0.3333333333333333,
             "#9c179e"
            ],
            [
             0.4444444444444444,
             "#bd3786"
            ],
            [
             0.5555555555555556,
             "#d8576b"
            ],
            [
             0.6666666666666666,
             "#ed7953"
            ],
            [
             0.7777777777777778,
             "#fb9f3a"
            ],
            [
             0.8888888888888888,
             "#fdca26"
            ],
            [
             1,
             "#f0f921"
            ]
           ],
           "sequentialminus": [
            [
             0,
             "#0d0887"
            ],
            [
             0.1111111111111111,
             "#46039f"
            ],
            [
             0.2222222222222222,
             "#7201a8"
            ],
            [
             0.3333333333333333,
             "#9c179e"
            ],
            [
             0.4444444444444444,
             "#bd3786"
            ],
            [
             0.5555555555555556,
             "#d8576b"
            ],
            [
             0.6666666666666666,
             "#ed7953"
            ],
            [
             0.7777777777777778,
             "#fb9f3a"
            ],
            [
             0.8888888888888888,
             "#fdca26"
            ],
            [
             1,
             "#f0f921"
            ]
           ]
          },
          "colorway": [
           "#636efa",
           "#EF553B",
           "#00cc96",
           "#ab63fa",
           "#FFA15A",
           "#19d3f3",
           "#FF6692",
           "#B6E880",
           "#FF97FF",
           "#FECB52"
          ],
          "font": {
           "color": "#2a3f5f"
          },
          "geo": {
           "bgcolor": "white",
           "lakecolor": "white",
           "landcolor": "#E5ECF6",
           "showlakes": true,
           "showland": true,
           "subunitcolor": "white"
          },
          "hoverlabel": {
           "align": "left"
          },
          "hovermode": "closest",
          "mapbox": {
           "style": "light"
          },
          "paper_bgcolor": "white",
          "plot_bgcolor": "#E5ECF6",
          "polar": {
           "angularaxis": {
            "gridcolor": "white",
            "linecolor": "white",
            "ticks": ""
           },
           "bgcolor": "#E5ECF6",
           "radialaxis": {
            "gridcolor": "white",
            "linecolor": "white",
            "ticks": ""
           }
          },
          "scene": {
           "xaxis": {
            "backgroundcolor": "#E5ECF6",
            "gridcolor": "white",
            "gridwidth": 2,
            "linecolor": "white",
            "showbackground": true,
            "ticks": "",
            "zerolinecolor": "white"
           },
           "yaxis": {
            "backgroundcolor": "#E5ECF6",
            "gridcolor": "white",
            "gridwidth": 2,
            "linecolor": "white",
            "showbackground": true,
            "ticks": "",
            "zerolinecolor": "white"
           },
           "zaxis": {
            "backgroundcolor": "#E5ECF6",
            "gridcolor": "white",
            "gridwidth": 2,
            "linecolor": "white",
            "showbackground": true,
            "ticks": "",
            "zerolinecolor": "white"
           }
          },
          "shapedefaults": {
           "line": {
            "color": "#2a3f5f"
           }
          },
          "ternary": {
           "aaxis": {
            "gridcolor": "white",
            "linecolor": "white",
            "ticks": ""
           },
           "baxis": {
            "gridcolor": "white",
            "linecolor": "white",
            "ticks": ""
           },
           "bgcolor": "#E5ECF6",
           "caxis": {
            "gridcolor": "white",
            "linecolor": "white",
            "ticks": ""
           }
          },
          "title": {
           "x": 0.05
          },
          "xaxis": {
           "automargin": true,
           "gridcolor": "white",
           "linecolor": "white",
           "ticks": "",
           "title": {
            "standoff": 15
           },
           "zerolinecolor": "white",
           "zerolinewidth": 2
          },
          "yaxis": {
           "automargin": true,
           "gridcolor": "white",
           "linecolor": "white",
           "ticks": "",
           "title": {
            "standoff": 15
           },
           "zerolinecolor": "white",
           "zerolinewidth": 2
          }
         }
        },
        "title": {
         "text": "Hyperparameter Importances"
        },
        "xaxis": {
         "title": {
          "text": "Hyperparameter Importance"
         }
        },
        "yaxis": {
         "title": {
          "text": "Hyperparameter"
         }
        }
       }
      }
     },
     "metadata": {},
     "output_type": "display_data"
    },
    {
     "name": "stderr",
     "output_type": "stream",
     "text": [
      "/home/davide/miniconda3/envs/omics/lib/python3.11/site-packages/optuna/visualization/_utils.py:67: UserWarning:\n",
      "\n",
      "`target` is specified, but `target_name` is the default value, 'Objective Value'.\n",
      "\n"
     ]
    },
    {
     "data": {
      "application/vnd.plotly.v1+json": {
       "config": {
        "plotlyServerURL": "https://plot.ly"
       },
       "data": [
        {
         "mode": "markers",
         "name": "Objective Value",
         "type": "scatter",
         "x": [
          0,
          1,
          2,
          3,
          4,
          5,
          6,
          7,
          8,
          9,
          10,
          11,
          12,
          13,
          14,
          15,
          16,
          17,
          18,
          19,
          20,
          21,
          22,
          23,
          24,
          25,
          26,
          27,
          28,
          29,
          30,
          31,
          32,
          33,
          34,
          35,
          36,
          37,
          38,
          39,
          40,
          41,
          42,
          43,
          44,
          45,
          46,
          47,
          48,
          49,
          50,
          51,
          52,
          53,
          54,
          55,
          56,
          57,
          58,
          59,
          60,
          61,
          62,
          63,
          64,
          65,
          66,
          67,
          68,
          69,
          70,
          71,
          72,
          73,
          74,
          75,
          76,
          77,
          78,
          79,
          80,
          81,
          82,
          83,
          84,
          85,
          86,
          87,
          88,
          89,
          90,
          91,
          92,
          93,
          94,
          95,
          96,
          97,
          98,
          99,
          100,
          101,
          102,
          103,
          104,
          105,
          106,
          107,
          108,
          109,
          110,
          111,
          112,
          113,
          114,
          115,
          116,
          117,
          118,
          119,
          120,
          121,
          122,
          123,
          124,
          125,
          126,
          127,
          128,
          129,
          130,
          131,
          132,
          133,
          134,
          135,
          136,
          137,
          138,
          139,
          140,
          141,
          142,
          143,
          144,
          145,
          146,
          147,
          148,
          149,
          150,
          151,
          152,
          153,
          154,
          155,
          156,
          157,
          158,
          159,
          160,
          161,
          162,
          163,
          164,
          165,
          166,
          167,
          168,
          169,
          170,
          171,
          172,
          173,
          174,
          175,
          176,
          177,
          178,
          179,
          180,
          181,
          182,
          183,
          184,
          185,
          186,
          187,
          188,
          189,
          190,
          191,
          192,
          193,
          194,
          195,
          196,
          197,
          198,
          199,
          200,
          201,
          202,
          203,
          204,
          205,
          206,
          207,
          208,
          209,
          210,
          211,
          212,
          213,
          214,
          215,
          216,
          217,
          218,
          219,
          220,
          221,
          222,
          223,
          224,
          225,
          226,
          227,
          228,
          229,
          230,
          231,
          232,
          233,
          234,
          235,
          236,
          237,
          238,
          239,
          240,
          241,
          242,
          243,
          244,
          245,
          246,
          247,
          248,
          249,
          250,
          251,
          252,
          253,
          254,
          255,
          256,
          257,
          258,
          259,
          260,
          261,
          262,
          263,
          264,
          265,
          266,
          267,
          268,
          269,
          270,
          271,
          272,
          273,
          274,
          275,
          276,
          277,
          278,
          279,
          280,
          281,
          282,
          283,
          284,
          285,
          286,
          287,
          288,
          289,
          290,
          291,
          292,
          293,
          294,
          295,
          296,
          297,
          298,
          299,
          300,
          301,
          302,
          303,
          304,
          305,
          306,
          307,
          308,
          309,
          310,
          311,
          312,
          313,
          314,
          315,
          316,
          317,
          318,
          319,
          320,
          321,
          322,
          323,
          324,
          325,
          326,
          327,
          328,
          329,
          330,
          331,
          332,
          333,
          334,
          335,
          336,
          337,
          338,
          339,
          340,
          341,
          342,
          343,
          344,
          345,
          346,
          347,
          348,
          349,
          350,
          351,
          352,
          353,
          354,
          355,
          356,
          357,
          358,
          359,
          360,
          361,
          362,
          363,
          364,
          365,
          366,
          367,
          368,
          369,
          370,
          371,
          372,
          373,
          374,
          375,
          376,
          377,
          378,
          379,
          380,
          381,
          382,
          383,
          384,
          385,
          386,
          387,
          388,
          389,
          390,
          391,
          392,
          393,
          394,
          395,
          396,
          397,
          398,
          399,
          400,
          401,
          402,
          403,
          404,
          405,
          406,
          407,
          408,
          409,
          410,
          411,
          412,
          413,
          414,
          415,
          416,
          417,
          418,
          419,
          420,
          421,
          422,
          423,
          424,
          425,
          426,
          427,
          428,
          429,
          430,
          431,
          432,
          433,
          434,
          435,
          436,
          437,
          438,
          439,
          440,
          441,
          442,
          443,
          444,
          445,
          446,
          447,
          448,
          449,
          450,
          451,
          452,
          453,
          454,
          455,
          456,
          457,
          458,
          459,
          460,
          461,
          462,
          463,
          464,
          465,
          466,
          467,
          468,
          469,
          470,
          471,
          472,
          473,
          474,
          475,
          476,
          477,
          478,
          479,
          480,
          481,
          482,
          483,
          484,
          485,
          486,
          487,
          488,
          489,
          490,
          491,
          492,
          493,
          494,
          495,
          496,
          497,
          498,
          499,
          500,
          501,
          502,
          503,
          504,
          505,
          506,
          507,
          508,
          509,
          510,
          511,
          512,
          513,
          514,
          515,
          516,
          517,
          518,
          519,
          520,
          521,
          522,
          523,
          524,
          525,
          526,
          527,
          528,
          529,
          530,
          531,
          532,
          533,
          534,
          535,
          536,
          537,
          538,
          539,
          540,
          541,
          542,
          543,
          544,
          545,
          546,
          547,
          548,
          549,
          550,
          551,
          552,
          553,
          554,
          555,
          556,
          557,
          558,
          559,
          560,
          561,
          562,
          563,
          564,
          565,
          566,
          567,
          568,
          569,
          570,
          571,
          572,
          573,
          574,
          575,
          576,
          577,
          578,
          579,
          580,
          581,
          582,
          583,
          584,
          585,
          586,
          587,
          588,
          589,
          590,
          591,
          592,
          593,
          594,
          595,
          596,
          597,
          598,
          599,
          600,
          601,
          602,
          603,
          604,
          605,
          606,
          607,
          608,
          609,
          610,
          611,
          612,
          613,
          614,
          615,
          616,
          617,
          618,
          619,
          620,
          621,
          622,
          623,
          624,
          625,
          626,
          627,
          628,
          629,
          630,
          631,
          632,
          633,
          634,
          635,
          636,
          637,
          638,
          639,
          640,
          641,
          642,
          643,
          644,
          645,
          646,
          647,
          648,
          649,
          650,
          651,
          652,
          653,
          654,
          655,
          656,
          657,
          658,
          659,
          660,
          661,
          662,
          663,
          664,
          665,
          666,
          667,
          668,
          669,
          670,
          671,
          672,
          673,
          674,
          675,
          676,
          677,
          678,
          679,
          680,
          681,
          682,
          683,
          684,
          685,
          686,
          687,
          688,
          689,
          690,
          691,
          692,
          693,
          694,
          695,
          696,
          697,
          698,
          699,
          700,
          701,
          702,
          703,
          704,
          705,
          706,
          707,
          708,
          709,
          710,
          711,
          712,
          713,
          714,
          715,
          716,
          717,
          718,
          719,
          720,
          721,
          722,
          723,
          724,
          725,
          726,
          727,
          728,
          729,
          730,
          731,
          732,
          733,
          734,
          735,
          736,
          737,
          738,
          739,
          740,
          741,
          742,
          743,
          744,
          745,
          746,
          747,
          748,
          749,
          750,
          751,
          752,
          753,
          754,
          755,
          756,
          757,
          758,
          759,
          760,
          761,
          762,
          763,
          764,
          765,
          766,
          767,
          768,
          769,
          770,
          771,
          772,
          773,
          774,
          775,
          776,
          777,
          778,
          779,
          780,
          781,
          782,
          783,
          784,
          785,
          786,
          787,
          788,
          789,
          790,
          791,
          792,
          793,
          794,
          795,
          796,
          797,
          798,
          799,
          800,
          801,
          802,
          803,
          804,
          805,
          806,
          807,
          808,
          809,
          810,
          811,
          812,
          813,
          814,
          815,
          816,
          817,
          818,
          819,
          820,
          821,
          822,
          823,
          824,
          825,
          826,
          827,
          828,
          829,
          830,
          831,
          832,
          833,
          834,
          835,
          836,
          837,
          838,
          839,
          840,
          841,
          842,
          843,
          844,
          845,
          846,
          847,
          848,
          849,
          850,
          851,
          852,
          853,
          854,
          855,
          856,
          857,
          858,
          859,
          860,
          861,
          862,
          863,
          864,
          865,
          866,
          867,
          868,
          869,
          870,
          871,
          872,
          873,
          874,
          875,
          876,
          877,
          878,
          879,
          880,
          881,
          882,
          883,
          884,
          885,
          886,
          887,
          888,
          889,
          890,
          891,
          892,
          893,
          894,
          895,
          896,
          897,
          898,
          899,
          900,
          901,
          902,
          903,
          904,
          905,
          906,
          907,
          908,
          909,
          910,
          911,
          912,
          913,
          914,
          915,
          916,
          917,
          918,
          919,
          920,
          921,
          922,
          923,
          924,
          925,
          926,
          927,
          928,
          929,
          930,
          931,
          932,
          933,
          934,
          935,
          936,
          937,
          938,
          939,
          940,
          941,
          942,
          943,
          944,
          945,
          946,
          947,
          948,
          949,
          950,
          951,
          952,
          953,
          954,
          955,
          956,
          957,
          958,
          959,
          960,
          961,
          962,
          963,
          964,
          965,
          966,
          967,
          968,
          969,
          970,
          971,
          972,
          973,
          974,
          975,
          976,
          977,
          978,
          979,
          980,
          981,
          982,
          983,
          984,
          985,
          986,
          987,
          988,
          989,
          990,
          991,
          992,
          993,
          994,
          995,
          996,
          997,
          998,
          999
         ],
         "y": [
          0.8748080081271932,
          0.8801320229444357,
          0.8742956777225288,
          0.7927405793571782,
          0.9045984515722665,
          0.8479416538303747,
          0.6003732322635529,
          0.8423521917264202,
          0.8433525962215758,
          0.8443356254026373,
          0.7758272809838873,
          0,
          0,
          0.7195176441113282,
          0,
          0,
          0.8085649367844532,
          0.8041558183069519,
          0,
          0.8661169445945767,
          0.8384497547314282,
          0.8505666281801393,
          0.8138290467070256,
          0.8182528755866191,
          0.8423213816849238,
          0.7827818476214571,
          0.8170682239231004,
          0.8911618154516716,
          0.8907910626742804,
          0.9011233324551098,
          0.8519902562725642,
          0.9000541577789903,
          0.8746987775768691,
          0.8398879239070739,
          0.8782443031015987,
          0.8730439468634514,
          0,
          0.8922171269530388,
          0.875693734871622,
          0.8624515591251335,
          0,
          0.894769416743101,
          0,
          0,
          0.89763017640989,
          0,
          0.6036039087029481,
          0,
          0,
          0.7528865617512654,
          0,
          0.85861316430437,
          0.7021720460911638,
          0.9057998054521514,
          0.9030230264693394,
          0.8661967302673939,
          0.8273347584556537,
          0.8643590358707819,
          0.8345527752055478,
          0.8411882081427011,
          0.9057236408631741,
          0.8210963946447818,
          0.8143971242745474,
          0.8624256354693504,
          0.8781301815733382,
          0.7934920382878399,
          0.8785150276478145,
          0.865840064857388,
          0.8331792262514968,
          0.911174058647941,
          0.8625016754657595,
          0.8712473731024449,
          0.8758470322779044,
          0.8868669057045663,
          0.8837927399282135,
          0.83698631689784,
          0.8282522451387926,
          0.8568700476945654,
          0.8175042275003911,
          0.7819996963303165,
          0.8620292448983339,
          0.8346122306112005,
          0.8050100311263364,
          0,
          0.7430448189980596,
          0.8930464542993375,
          0.8948996531108051,
          0.8240556043294065,
          0.8492326367947335,
          0.8691131490831857,
          0.8504581194756489,
          0.8681951571656974,
          0.8657454616765909,
          0.8915881308189281,
          0.8762577565510273,
          0.8658676567672844,
          0.885904837059093,
          0.8493888875394076,
          0.8726664556508485,
          0.8717749464985938,
          0.8806024592902247,
          0.8797946071405265,
          0.8764456077591415,
          0.8359851572643509,
          0.8141816567303779,
          0.8477443667283172,
          0.8540446450338196,
          0.8857203024723473,
          0.7013177468100508,
          0.8962012926665753,
          0,
          0.8335673098830993,
          0.8940820483907015,
          0.8478735216437121,
          0.8575623282060209,
          0.8764082583923454,
          0.8533940987379214,
          0.876146322131943,
          0,
          0.5819706304355119,
          0.6921776363680909,
          0.9064459803819197,
          0.7909872071470746,
          0.8713505376884922,
          0,
          0.8333252087720334,
          0.8847247212628467,
          0.7527458206898674,
          0.8967688536192698,
          0.8233603939211118,
          0.9069733677628415,
          0,
          0.8945669652464302,
          0,
          0.8769083854925311,
          0.8910755667003599,
          0.8167882799719763,
          0.8661202535892067,
          0.8002750298533069,
          0.7515677260582495,
          0.8707025396066452,
          0.906616891473307,
          0.8683863457893999,
          0.8886439119935667,
          0.8860895354760829,
          0,
          0.8703421239632269,
          0.8523429331846449,
          0.9032424990327902,
          0.8708775909948583,
          0.8100580729816791,
          0.8843444452101812,
          0.8695424545770424,
          0.7646616903983986,
          0.9001716522128737,
          0.8948332945772947,
          0.8562481101318922,
          0.877307687731226,
          0.8913818013795198,
          0.8911106127510495,
          0.9144113001638219,
          0.8930147379472008,
          0.7713119369658579,
          0.8808536379998824,
          0.8719491846704006,
          0.8610909662070172,
          0.7048510682015173,
          0,
          0.8299318487629049,
          0.8003125166439876,
          0.854028262090638,
          0.7230950839053752,
          0.788865682157343,
          0.7395600427966789,
          0.7291770533151831,
          0.6983541590731044,
          0.7483714279499253,
          0.6919774061786387,
          0.7074046202622699,
          0.7256877018394498,
          0.7188106640397992,
          0.8038729317463149,
          0.7399849229787201,
          0.6974419142377646,
          0.7095551714131935,
          0.722426807588052,
          0.7501461031109916,
          0.7277150452543908,
          0.7258399412805566,
          0.7277002303243225,
          0.8219580453650324,
          0.712191074030115,
          0.8454918653607513,
          0.7293945953936343,
          0.8525409499242386,
          0.7525152532762768,
          0,
          0.8557197546646904,
          0.8722082574151463,
          0.7937159828672586,
          0,
          0.8995573424101243,
          0.6940435482032483,
          0,
          0.8518847175702777,
          0.8789756942651525,
          0.6761947126083894,
          0.8865408131035876,
          0.5475145119905177,
          0.789318771471841,
          0.8089903519921713,
          0.6385700473619046,
          0.6994391107688978,
          0.8301888126858769,
          0.8051905222452937,
          0,
          0.7023697455083401,
          0.6764771736651979,
          0.850817807698492,
          0.8613853885553254,
          0.7378416177066149,
          0.9114541240316297,
          0.8820572559259787,
          0.7095450131471812,
          0.9035628407543108,
          0.9152238173107043,
          0.8965829652113466,
          0.8731711116406696,
          0.7002130875660287,
          0.8613181368315963,
          0.6763863049894313,
          0.7281645260792656,
          0.8250460506682613,
          0.822736903656749,
          0.7058886516108097,
          0.8546213149771928,
          0.8309454263144056,
          0.8486292159051322,
          0.8256049020768484,
          0.782200247064879,
          0,
          0.8185283749677366,
          0.7978589877213093,
          0.842012872357514,
          0.8468510717636774,
          0.5200299039179956,
          0.8667259239171508,
          0.8817582271529639,
          0.8425565281150856,
          0,
          0.7994962802511386,
          0.7972457954690675,
          0.8760171778547459,
          0,
          0.7789633344406482,
          0.8054568414302434,
          0.85293235080035,
          0.8499380139015509,
          0,
          0.7828007262609532,
          0.8257923844365156,
          0.7961210598402305,
          0.8358952045983958,
          0.8224129012176696,
          0.8433348441667482,
          0.8197884833506095,
          0.8105448087531159,
          0.8442879585546763,
          0.8338115196887277,
          0.8100729953385661,
          0.7978040725021668,
          0.8198837796130369,
          0.768175199499859,
          0.8417575165283804,
          0.890044746233041,
          0.7939654992218461,
          0.8682779270346123,
          0.8169976751411415,
          0.8166308024837969,
          0.839286006064017,
          0.8102786045743949,
          0.8094623169648572,
          0.8858350054078388,
          0.8538085964023494,
          0.6041745598963921,
          0.8738574654239354,
          0.7838598861748396,
          0.8840162827520848,
          0.751429086087159,
          0.8300890479013823,
          0.8567262812033203,
          0,
          0.7969815055195374,
          0.8861082518914548,
          0.8620325787402532,
          0.7889393318882094,
          0.8825536622018696,
          0.7624204556091894,
          0.7986010793608385,
          0.7656492333202859,
          0.8930147852974917,
          0.7975547803066136,
          0.8182826187434973,
          0.8034022010652736,
          0.8212734654991216,
          0.8485494483637899,
          0.8425961489258531,
          0.8372266223720992,
          0.8468581730377581,
          0.8478623603361101,
          0.8662970704904323,
          0.8599966138319406,
          0.8133995470615923,
          0.7895773092951477,
          0.8239749522625319,
          0.8722651866113761,
          0.6943809243255507,
          0.7961380798283592,
          0.8681690415922277,
          0.858945330311192,
          0.8322595707951195,
          0.8157515823831544,
          0.7950283121601724,
          0.7518069795405016,
          0.8657882299671339,
          0.8527035842367651,
          0.8785219313895741,
          0.6679367114695995,
          0.8366174799445696,
          0.8223375008050882,
          0.8838221666277608,
          0.8824659660277883,
          0.6069135470384583,
          0.9035144507918342,
          0.8138406337547011,
          0.8571155994599586,
          0.860912846128316,
          0.7738088613116114,
          0.6359582126751666,
          0.8058219821368413,
          0,
          0.881807443465538,
          0.8722912367810624,
          0.8321826718184452,
          0.9177336466134814,
          0.8806148076313207,
          0.9150996130424499,
          0.862494078183432,
          0.8903637706905958,
          0.8877318880278207,
          0.9248054072607154,
          0.874573144140974,
          0.8913633739994602,
          0.8875088815460325,
          0.8642566825459689,
          0.8788623225048215,
          0.8963303912436024,
          0.9065405418079715,
          0.8753919029084158,
          0.8919120746780479,
          0.9046397050587973,
          0.8811362208663187,
          0.897599253636246,
          0.8896531906362977,
          0.8917332867427744,
          0.889924193232545,
          0.8659619477512811,
          0.8713705998618458,
          0.8916967347501602,
          0.8727391141286474,
          0.8794093898233732,
          0.872430683859838,
          0.8884320003013926,
          0.7912229810792032,
          0.8929164320834774,
          0.896465069020435,
          0.8651260284419167,
          0.8924619686190993,
          0.8152639202276326,
          0.8965900245063928,
          0.9026675132320264,
          0.8434692541437532,
          0.8579694937264495,
          0,
          0.6995133026410383,
          0.9023504437738777,
          0.7700720902889542,
          0.7809681975176184,
          0.801100738283416,
          0.8619593281494524,
          0.8681010693548608,
          0.8411760831426001,
          0.8096915841619114,
          0.828785268363436,
          0.7876692093184736,
          0.7996725039515346,
          0.8062283786465884,
          0.7848552062699499,
          0.8081893624546022,
          0.7889530669185307,
          0.8687659010083607,
          0.8062299735858488,
          0.876870061461198,
          0.8226721698698267,
          0.7992580005461785,
          0.8915095980410511,
          0.8160059477262461,
          0.8291289723650863,
          0.8656297662285567,
          0.7957188167526044,
          0.7984322751002162,
          0.7917558510212706,
          0.9060845756397263,
          0.863784227636615,
          0.9005724109931486,
          0.8951604025581605,
          0.7397899096012532,
          0.8314908018322272,
          0.8590921310060178,
          0.7011820010109776,
          0.8775160075222141,
          0.7542668320888669,
          0.6224585980816351,
          0.8287495885775332,
          0.821526772715727,
          0,
          0.8590284780151762,
          0.8935136193968123,
          0.7883178482059405,
          0.8943469134630904,
          0.8150751413454331,
          0.8552029404081167,
          0,
          0.8538215162534583,
          0.6030754528809184,
          0.891807319177488,
          0.7834518214152034,
          0.8570310940344108,
          0.8364694892261282,
          0.7897471475118765,
          0.8819201823987062,
          0.7943086865185297,
          0.8735220499342452,
          0.8636444621673253,
          0.8358659008513012,
          0.8001908511981414,
          0.7161398867171037,
          0.8400169938623948,
          0.7433010590597537,
          0.6166242139858449,
          0,
          0.853608854808497,
          0.7576330645594658,
          0.8977964918212505,
          0.7137754452179278,
          0.8134399815507255,
          0,
          0.7226226092611583,
          0.8564390364814093,
          0.6892723054773079,
          0.8836554606931866,
          0.9080138160627396,
          0.900993369397006,
          0.8840352725197713,
          0.8578607681052407,
          0.8842764108135936,
          0.8867665422537054,
          0.8970242772702204,
          0.9086511012207605,
          0.86169897142926,
          0.8964563380411004,
          0.8907761272871628,
          0.8500797020339869,
          0.8850543292531767,
          0.8804892830793578,
          0.8800490283682134,
          0.7403881962199959,
          0.8019805362339106,
          0.8023543790489953,
          0.8590900403260878,
          0.8907967407624158,
          0.7764989165096436,
          0.60941050221508,
          0.7986628135054472,
          0.8686331904299236,
          0.7313341021547377,
          0.8652080569895102,
          0.7010880195319554,
          0,
          0.7141950545680401,
          0.8873353097370271,
          0.7039093786111306,
          0.7721599115185539,
          0.878808116945607,
          0.8206216241835971,
          0.7222946756324554,
          0.8207887346773411,
          0.7837265743928732,
          0.8536167963982495,
          0.7214533182001558,
          0.8911473543300703,
          0.8507492098367775,
          0.8536608396914108,
          0.791826656030596,
          0.875200179420936,
          0.8137660425912779,
          0.7184526791204905,
          0.8276226080493402,
          0,
          0.7557972059740441,
          0.7690594274490812,
          0.8905646467034721,
          0.8294845542744429,
          0.8952578478222015,
          0.8306511518367834,
          0.8434288402504325,
          0.8773339485508667,
          0.8539056024182349,
          0.8758435758529464,
          0.8999778970004348,
          0.8509292567853134,
          0.881039681711034,
          0.8613113437974308,
          0.8149359927415235,
          0.8552511465658412,
          0.8966628140248684,
          0,
          0.9026449540265329,
          0.8185799187402921,
          0.8842334072801276,
          0,
          0.8885761719869958,
          0.8225351539434502,
          0.8842143412958027,
          0.8220105012425979,
          0.8825269188708657,
          0.8773028635352684,
          0.8940861038760097,
          0.8495092796234373,
          0.8966226940906259,
          0.9114301985876889,
          0.692905116551151,
          0.6115205947687007,
          0.7617982407118714,
          0.8766424420297453,
          0.6479232129302568,
          0.6764245815846046,
          0.8937057356386205,
          0.81455705296122,
          0.8809254634039018,
          0.653742245770097,
          0,
          0.8882127078571729,
          0.8374376510970063,
          0.7775497147736827,
          0.8948006728693711,
          0.8350281849345841,
          0.8268123363034068,
          0.7350625812303843,
          0.8227023438637266,
          0.8515003069163944,
          0.8798953103116436,
          0.8381219396499942,
          0.8536728149904965,
          0.8043277153642225,
          0.802282662088776,
          0.8763936904083757,
          0.697891317229283,
          0.8670542620092162,
          0.8906017183585089,
          0.7005235997057917,
          0,
          0.7186537268076642,
          0.8963013586370112,
          0.8801942855668703,
          0.8318567672995106,
          0.6296457577345268,
          0.8686214646471064,
          0.6705028703627122,
          0,
          0.7604169503738049,
          0.8660629553532798,
          0.8709246239378418,
          0.790556174271806,
          0.8910846577423207,
          0.8441344984174994,
          0.7828182344817641,
          0,
          0.8084891226115459,
          0.8983225119309793,
          0.8144086765975105,
          0.8802060721286201,
          0.7314725760561491,
          0.8627245625689494,
          0.7482381464809936,
          0.8809846335166449,
          0.7993233077747641,
          0.7194524858628023,
          0.8743893221707753,
          0.8956974312462738,
          0.671893260009662,
          0.8987748843719737,
          0.8382705259582968,
          0.8612311261856858,
          0.7658390434933651,
          0.7385271525968248,
          0.8829115534998747,
          0.8082516834853815,
          0.743404888636653,
          0,
          0.7999160565848059,
          0,
          0.7270336474830839,
          0.7343916184577949,
          0.8308243014728068,
          0.7514763047612067,
          0.7278240773856786,
          0.7503188422412173,
          0.7696931164367173,
          0.7903431831617884,
          0.7390681216045771,
          0.8366605779820165,
          0.8587542449400397,
          0.8302792231855888,
          0.8666738429041676,
          0.8362031358718856,
          0.6786943511114837,
          0.7082535458097394,
          0.762155594187764,
          0.8635194699719904,
          0.7587154789850692,
          0.8130499648427051,
          0.8941330887409171,
          0.788488219555638,
          0.7230080098015101,
          0.7288365806642736,
          0.8958013025322463,
          0.6343118256704031,
          0.7080285259745948,
          0.7800359624550008,
          0.8162739123475695,
          0.855449446332333,
          0.5295985257489055,
          0.7465769488728111,
          0.8237520301861977,
          0.8774326561437649,
          0.8600689302912251,
          0.8732418318354996,
          0.8695681581775079,
          0.8763109979124719,
          0.856868617138641,
          0.8362286260527503,
          0.8033995210092554,
          0.8936146914729758,
          0.6939353826375976,
          0.8746337010418813,
          0.7586572368381921,
          0.6769045433053786,
          0.8635571161327853,
          0.7400117082539797,
          0.7970320400837417,
          0.7361945333447409,
          0.808583665919126,
          0.837511465143044,
          0.8797346684962785,
          0.5964986945708546,
          0.7788840251049939,
          0.8646524786915382,
          0.7892969115272404,
          0.8775207472871542,
          0.8524140077309859,
          0.8250592987572306,
          0.7300115323769117,
          0.8730062101649597,
          0.726198563459598,
          0.8580934156171633,
          0.8317668285154827,
          0.8920934328003909,
          0.6392442093427653,
          0.9035272417862551,
          0.7706810092903066,
          0.61021929191613,
          0.8630033686726947,
          0.7439886527582928,
          0.8791315928397939,
          0.7912185259570048,
          0.7802101940960318,
          0.7712194055383451,
          0.8385904123655405,
          0.870946407946661,
          0.7779992083434548,
          0.9172217095802546,
          0.860484989843034,
          0.770929121742689,
          0.7387807247219011,
          0.8872266907859465,
          0.8781994365248282,
          0,
          0.773409283047454,
          0.8760185170127246,
          0.7749248278257712,
          0.8363696842480148,
          0.719095741948683,
          0.8799535905523811,
          0.8821912371214429,
          0.7841731911438021,
          0.8633597032921096,
          0.8999675464076743,
          0.7237014077799093,
          0.7439883753187182,
          0.8685054818477266,
          0.8391207275039851,
          0.8673987766591462,
          0.8952840643155173,
          0.8444896576774911,
          0.6959779105740687,
          0.8407149138019028,
          0.8391034154489164,
          0.8544622048545991,
          0.8731521350095944,
          0.9094430996257221,
          0.6812125087403726,
          0.6914175967370694,
          0.8778322838541699,
          0.828179019465416,
          0.8767048625028646,
          0.6505301847792542,
          0.8768238523184471,
          0.724315122199103,
          0.7963563872045082,
          0.6722119238875404,
          0.7239652314993407,
          0.8650303614242612,
          0.8905075183391066,
          0.8168323764024776,
          0.8842548857424045,
          0.85529735811593,
          0.5957859026714925,
          0.8991014658594864,
          0.7802974387597006,
          0.8878868029012509,
          0.7553357888594305,
          0,
          0.7568850848085128,
          0.5826921690758945,
          0.8875623958297043,
          0.8102094711717331,
          0.9125550701326677,
          0,
          0.8667785317631989,
          0.7847509357882178,
          0.8038298554619869,
          0.8538994400159007,
          0.8385546129845812,
          0.8664376840875582,
          0.8690021582593277,
          0.8519421250551815,
          0,
          0.8725725007008475,
          0.6984577313391253,
          0.8959155803528465,
          0.8496473165505801,
          0.835832570183691,
          0.8316763169245458,
          0,
          0.8191233220650324,
          0.8433475784439004,
          0.8496818567524903,
          0.841642886044099,
          0.8714071006594601,
          0,
          0.8652105254575103,
          0.8550734728651133,
          0.8304385512763952,
          0.6685070634674195,
          0.6941609537507123,
          0.8980317051633702,
          0.6459956583894793,
          0.8945841283439095,
          0.8845915682411493,
          0.8297809112451349,
          0.8850372973394081,
          0.9011495216293497,
          0.9177047791825478,
          0.8872070830748239,
          0.8833045751339258,
          0.8882572173625111,
          0.906853184411147,
          0.8875879968496585,
          0.8872076656821084,
          0.9085798551654267,
          0.8909221217814693,
          0.816804081559561,
          0.8155029206776871,
          0.7126876967339569,
          0.7848441022813273,
          0.7445984067537698,
          0.8560207242746068,
          0.8565923851297434,
          0.8023684441671532,
          0.6819442386408789,
          0.5746029964368088,
          0,
          0,
          0,
          0,
          0,
          0.7587043748302303,
          0,
          0.8572819775757615,
          0.6910003484309002,
          0.7465477852561884,
          0.7718453634310828,
          0.8710727790727791,
          0.7432781818926587,
          0.4342933035371527,
          0.8665697458716035,
          0.7692793360521564,
          0.6702719361480838,
          0.7092625017169822,
          0.7583623329638628,
          0.8381179576966776,
          0.7581338417536873,
          0.8602711151937157,
          0.6172210158450764,
          0.7153708710621578,
          0.832766788922217,
          0.7434253497487875,
          0.8367001211195053,
          0.8160487857415573,
          0.8921556300265652,
          0.7725542488879865,
          0.5406425697177029,
          0.7943668552499219,
          0.780159042133515,
          0.823456531556683,
          0.7011954839544232,
          0.8892731125551663,
          0.8020477334576231,
          0.7944437402055435,
          0.7799782796573641,
          0.8729349354349354,
          0.7861305843062473,
          0.7347069996300928,
          0.8844874080309684,
          0.757401702872291,
          0.7805987594744628,
          0.7217828833693739,
          0.879500294147606,
          0.8257379313447262,
          0.8170711013209523,
          0.8690220471739497,
          0.7518521998176124,
          0.7025184711650703,
          0.7552876990134548,
          0.8584842341125014,
          0.7876268646836598,
          0.6328557450647944,
          0.8830880307007613,
          0.6946062607477976,
          0.8026483875271252,
          0.7720831295181141,
          0.8841674505832762,
          0.7490275158660826,
          0,
          0.898285435526542,
          0.6557428802058695,
          0.6641628787653903,
          0.8161311612550595,
          0.8986849905515977,
          0.6619947768645122,
          0.8657146306615185,
          0.7475552387569142,
          0.7056352170834632,
          0.7653548944043383,
          0.7636459887695878,
          0.8923355801351821,
          0.777410727245511,
          0.9020696154986224,
          0.8483848566317114,
          0.7595348636416975,
          0.660812777462675,
          0.7162192493085521,
          0.8947527430538148,
          0.861756574774723,
          0.9166846794333312,
          0.7357458094850363,
          0.6830718015102033,
          0.665673959041366,
          0.8214615795778556,
          0.8586542418472517,
          0.698431175958518,
          0.709019782479214,
          0.8184222188477076,
          0.8593654535303304,
          0.6350245752667912,
          0.8673843562976096,
          0.7955384212443881,
          0.8054004879448662,
          0.7889035136286406,
          0.8353731343195264,
          0.8173942862429898,
          0.7352499729712438,
          0.8700034761375692,
          0,
          0.7294401695235453,
          0.7403163970432771,
          0.7745177506655649,
          0.8433638506233383,
          0.8693794281045907,
          0.8244098737048298,
          0.8275472738740419,
          0.8741068201140795,
          0.6469106780424912,
          0.5988233673591563,
          0.8957379673114749,
          0.8827846217390155,
          0.7968843923634117,
          0.7728813509567279,
          0.7102311345516213,
          0.8663819381045794,
          0.8692581768160477,
          0.8730651650038321,
          0.7427259501717848,
          0.8834134495915187,
          0.8739688780454751,
          0.7983899776610752,
          0.8009496376117147,
          0.8841637813879869,
          0.8517530736135397,
          0.6056181939405624,
          0.8560118664109748,
          0,
          0.7160572026176713,
          0.8067001324680257,
          0.8944566448963709,
          0.8167583279354809,
          0.7698738346589623,
          0.8961919867630928,
          0.6820459377353817,
          0.831383075924151,
          0.8866157788097148,
          0.7012135652098116,
          0.863191319610977,
          0.9211131515449467,
          0.7634595189550432,
          0.749062164528901,
          0.8523734632314808,
          0.8532082003412398,
          0.8326109847934198,
          0.847629249835132,
          0.8088948716018525,
          0.7757904349192912,
          0.8249166418476491,
          0.6796116883305408,
          0.8364990096663989,
          0,
          0.8141782747414089,
          0.7203041683395586,
          0.7370691476212986,
          0.8436117826460319,
          0.624467841780073,
          0.8256893547966188,
          0.9136074111936182,
          0.874798906846116,
          0.8127449715742804,
          0.8844229858554759,
          0.8507535170111236,
          0.7893528705609902,
          0.6954155356056884,
          0.8249631621438948,
          0.787812569053602,
          0.6382374671729545,
          0.8737469445957498,
          0.772794489598125,
          0.8286583032688973,
          0.8470140745777417,
          0.8149840004848773,
          0.76003744349964,
          0.8741469890124742,
          0.7573167153013631,
          0.7505014708960198,
          0.8304383288013998,
          0.7589225707181135,
          0.8735719030153095,
          0.7583681294733834,
          0.8692636737470284,
          0.7158600038535915,
          0.7463048173587851,
          0.8998106522182724,
          0.837250168015492,
          0.8716236389893594,
          0.7527655965365339,
          0.8807726135772865,
          0,
          0.8126864038761538,
          0.8806313465500393,
          0.8610018312838601,
          0.7363548896455558,
          0.7284993161730039
         ]
        },
        {
         "marker": {
          "color": "#cccccc"
         },
         "mode": "markers",
         "name": "Infeasible Trial",
         "showlegend": false,
         "type": "scatter",
         "x": [],
         "y": []
        }
       ],
       "layout": {
        "template": {
         "data": {
          "bar": [
           {
            "error_x": {
             "color": "#2a3f5f"
            },
            "error_y": {
             "color": "#2a3f5f"
            },
            "marker": {
             "line": {
              "color": "#E5ECF6",
              "width": 0.5
             },
             "pattern": {
              "fillmode": "overlay",
              "size": 10,
              "solidity": 0.2
             }
            },
            "type": "bar"
           }
          ],
          "barpolar": [
           {
            "marker": {
             "line": {
              "color": "#E5ECF6",
              "width": 0.5
             },
             "pattern": {
              "fillmode": "overlay",
              "size": 10,
              "solidity": 0.2
             }
            },
            "type": "barpolar"
           }
          ],
          "carpet": [
           {
            "aaxis": {
             "endlinecolor": "#2a3f5f",
             "gridcolor": "white",
             "linecolor": "white",
             "minorgridcolor": "white",
             "startlinecolor": "#2a3f5f"
            },
            "baxis": {
             "endlinecolor": "#2a3f5f",
             "gridcolor": "white",
             "linecolor": "white",
             "minorgridcolor": "white",
             "startlinecolor": "#2a3f5f"
            },
            "type": "carpet"
           }
          ],
          "choropleth": [
           {
            "colorbar": {
             "outlinewidth": 0,
             "ticks": ""
            },
            "type": "choropleth"
           }
          ],
          "contour": [
           {
            "colorbar": {
             "outlinewidth": 0,
             "ticks": ""
            },
            "colorscale": [
             [
              0,
              "#0d0887"
             ],
             [
              0.1111111111111111,
              "#46039f"
             ],
             [
              0.2222222222222222,
              "#7201a8"
             ],
             [
              0.3333333333333333,
              "#9c179e"
             ],
             [
              0.4444444444444444,
              "#bd3786"
             ],
             [
              0.5555555555555556,
              "#d8576b"
             ],
             [
              0.6666666666666666,
              "#ed7953"
             ],
             [
              0.7777777777777778,
              "#fb9f3a"
             ],
             [
              0.8888888888888888,
              "#fdca26"
             ],
             [
              1,
              "#f0f921"
             ]
            ],
            "type": "contour"
           }
          ],
          "contourcarpet": [
           {
            "colorbar": {
             "outlinewidth": 0,
             "ticks": ""
            },
            "type": "contourcarpet"
           }
          ],
          "heatmap": [
           {
            "colorbar": {
             "outlinewidth": 0,
             "ticks": ""
            },
            "colorscale": [
             [
              0,
              "#0d0887"
             ],
             [
              0.1111111111111111,
              "#46039f"
             ],
             [
              0.2222222222222222,
              "#7201a8"
             ],
             [
              0.3333333333333333,
              "#9c179e"
             ],
             [
              0.4444444444444444,
              "#bd3786"
             ],
             [
              0.5555555555555556,
              "#d8576b"
             ],
             [
              0.6666666666666666,
              "#ed7953"
             ],
             [
              0.7777777777777778,
              "#fb9f3a"
             ],
             [
              0.8888888888888888,
              "#fdca26"
             ],
             [
              1,
              "#f0f921"
             ]
            ],
            "type": "heatmap"
           }
          ],
          "heatmapgl": [
           {
            "colorbar": {
             "outlinewidth": 0,
             "ticks": ""
            },
            "colorscale": [
             [
              0,
              "#0d0887"
             ],
             [
              0.1111111111111111,
              "#46039f"
             ],
             [
              0.2222222222222222,
              "#7201a8"
             ],
             [
              0.3333333333333333,
              "#9c179e"
             ],
             [
              0.4444444444444444,
              "#bd3786"
             ],
             [
              0.5555555555555556,
              "#d8576b"
             ],
             [
              0.6666666666666666,
              "#ed7953"
             ],
             [
              0.7777777777777778,
              "#fb9f3a"
             ],
             [
              0.8888888888888888,
              "#fdca26"
             ],
             [
              1,
              "#f0f921"
             ]
            ],
            "type": "heatmapgl"
           }
          ],
          "histogram": [
           {
            "marker": {
             "pattern": {
              "fillmode": "overlay",
              "size": 10,
              "solidity": 0.2
             }
            },
            "type": "histogram"
           }
          ],
          "histogram2d": [
           {
            "colorbar": {
             "outlinewidth": 0,
             "ticks": ""
            },
            "colorscale": [
             [
              0,
              "#0d0887"
             ],
             [
              0.1111111111111111,
              "#46039f"
             ],
             [
              0.2222222222222222,
              "#7201a8"
             ],
             [
              0.3333333333333333,
              "#9c179e"
             ],
             [
              0.4444444444444444,
              "#bd3786"
             ],
             [
              0.5555555555555556,
              "#d8576b"
             ],
             [
              0.6666666666666666,
              "#ed7953"
             ],
             [
              0.7777777777777778,
              "#fb9f3a"
             ],
             [
              0.8888888888888888,
              "#fdca26"
             ],
             [
              1,
              "#f0f921"
             ]
            ],
            "type": "histogram2d"
           }
          ],
          "histogram2dcontour": [
           {
            "colorbar": {
             "outlinewidth": 0,
             "ticks": ""
            },
            "colorscale": [
             [
              0,
              "#0d0887"
             ],
             [
              0.1111111111111111,
              "#46039f"
             ],
             [
              0.2222222222222222,
              "#7201a8"
             ],
             [
              0.3333333333333333,
              "#9c179e"
             ],
             [
              0.4444444444444444,
              "#bd3786"
             ],
             [
              0.5555555555555556,
              "#d8576b"
             ],
             [
              0.6666666666666666,
              "#ed7953"
             ],
             [
              0.7777777777777778,
              "#fb9f3a"
             ],
             [
              0.8888888888888888,
              "#fdca26"
             ],
             [
              1,
              "#f0f921"
             ]
            ],
            "type": "histogram2dcontour"
           }
          ],
          "mesh3d": [
           {
            "colorbar": {
             "outlinewidth": 0,
             "ticks": ""
            },
            "type": "mesh3d"
           }
          ],
          "parcoords": [
           {
            "line": {
             "colorbar": {
              "outlinewidth": 0,
              "ticks": ""
             }
            },
            "type": "parcoords"
           }
          ],
          "pie": [
           {
            "automargin": true,
            "type": "pie"
           }
          ],
          "scatter": [
           {
            "fillpattern": {
             "fillmode": "overlay",
             "size": 10,
             "solidity": 0.2
            },
            "type": "scatter"
           }
          ],
          "scatter3d": [
           {
            "line": {
             "colorbar": {
              "outlinewidth": 0,
              "ticks": ""
             }
            },
            "marker": {
             "colorbar": {
              "outlinewidth": 0,
              "ticks": ""
             }
            },
            "type": "scatter3d"
           }
          ],
          "scattercarpet": [
           {
            "marker": {
             "colorbar": {
              "outlinewidth": 0,
              "ticks": ""
             }
            },
            "type": "scattercarpet"
           }
          ],
          "scattergeo": [
           {
            "marker": {
             "colorbar": {
              "outlinewidth": 0,
              "ticks": ""
             }
            },
            "type": "scattergeo"
           }
          ],
          "scattergl": [
           {
            "marker": {
             "colorbar": {
              "outlinewidth": 0,
              "ticks": ""
             }
            },
            "type": "scattergl"
           }
          ],
          "scattermapbox": [
           {
            "marker": {
             "colorbar": {
              "outlinewidth": 0,
              "ticks": ""
             }
            },
            "type": "scattermapbox"
           }
          ],
          "scatterpolar": [
           {
            "marker": {
             "colorbar": {
              "outlinewidth": 0,
              "ticks": ""
             }
            },
            "type": "scatterpolar"
           }
          ],
          "scatterpolargl": [
           {
            "marker": {
             "colorbar": {
              "outlinewidth": 0,
              "ticks": ""
             }
            },
            "type": "scatterpolargl"
           }
          ],
          "scatterternary": [
           {
            "marker": {
             "colorbar": {
              "outlinewidth": 0,
              "ticks": ""
             }
            },
            "type": "scatterternary"
           }
          ],
          "surface": [
           {
            "colorbar": {
             "outlinewidth": 0,
             "ticks": ""
            },
            "colorscale": [
             [
              0,
              "#0d0887"
             ],
             [
              0.1111111111111111,
              "#46039f"
             ],
             [
              0.2222222222222222,
              "#7201a8"
             ],
             [
              0.3333333333333333,
              "#9c179e"
             ],
             [
              0.4444444444444444,
              "#bd3786"
             ],
             [
              0.5555555555555556,
              "#d8576b"
             ],
             [
              0.6666666666666666,
              "#ed7953"
             ],
             [
              0.7777777777777778,
              "#fb9f3a"
             ],
             [
              0.8888888888888888,
              "#fdca26"
             ],
             [
              1,
              "#f0f921"
             ]
            ],
            "type": "surface"
           }
          ],
          "table": [
           {
            "cells": {
             "fill": {
              "color": "#EBF0F8"
             },
             "line": {
              "color": "white"
             }
            },
            "header": {
             "fill": {
              "color": "#C8D4E3"
             },
             "line": {
              "color": "white"
             }
            },
            "type": "table"
           }
          ]
         },
         "layout": {
          "annotationdefaults": {
           "arrowcolor": "#2a3f5f",
           "arrowhead": 0,
           "arrowwidth": 1
          },
          "autotypenumbers": "strict",
          "coloraxis": {
           "colorbar": {
            "outlinewidth": 0,
            "ticks": ""
           }
          },
          "colorscale": {
           "diverging": [
            [
             0,
             "#8e0152"
            ],
            [
             0.1,
             "#c51b7d"
            ],
            [
             0.2,
             "#de77ae"
            ],
            [
             0.3,
             "#f1b6da"
            ],
            [
             0.4,
             "#fde0ef"
            ],
            [
             0.5,
             "#f7f7f7"
            ],
            [
             0.6,
             "#e6f5d0"
            ],
            [
             0.7,
             "#b8e186"
            ],
            [
             0.8,
             "#7fbc41"
            ],
            [
             0.9,
             "#4d9221"
            ],
            [
             1,
             "#276419"
            ]
           ],
           "sequential": [
            [
             0,
             "#0d0887"
            ],
            [
             0.1111111111111111,
             "#46039f"
            ],
            [
             0.2222222222222222,
             "#7201a8"
            ],
            [
             0.3333333333333333,
             "#9c179e"
            ],
            [
             0.4444444444444444,
             "#bd3786"
            ],
            [
             0.5555555555555556,
             "#d8576b"
            ],
            [
             0.6666666666666666,
             "#ed7953"
            ],
            [
             0.7777777777777778,
             "#fb9f3a"
            ],
            [
             0.8888888888888888,
             "#fdca26"
            ],
            [
             1,
             "#f0f921"
            ]
           ],
           "sequentialminus": [
            [
             0,
             "#0d0887"
            ],
            [
             0.1111111111111111,
             "#46039f"
            ],
            [
             0.2222222222222222,
             "#7201a8"
            ],
            [
             0.3333333333333333,
             "#9c179e"
            ],
            [
             0.4444444444444444,
             "#bd3786"
            ],
            [
             0.5555555555555556,
             "#d8576b"
            ],
            [
             0.6666666666666666,
             "#ed7953"
            ],
            [
             0.7777777777777778,
             "#fb9f3a"
            ],
            [
             0.8888888888888888,
             "#fdca26"
            ],
            [
             1,
             "#f0f921"
            ]
           ]
          },
          "colorway": [
           "#636efa",
           "#EF553B",
           "#00cc96",
           "#ab63fa",
           "#FFA15A",
           "#19d3f3",
           "#FF6692",
           "#B6E880",
           "#FF97FF",
           "#FECB52"
          ],
          "font": {
           "color": "#2a3f5f"
          },
          "geo": {
           "bgcolor": "white",
           "lakecolor": "white",
           "landcolor": "#E5ECF6",
           "showlakes": true,
           "showland": true,
           "subunitcolor": "white"
          },
          "hoverlabel": {
           "align": "left"
          },
          "hovermode": "closest",
          "mapbox": {
           "style": "light"
          },
          "paper_bgcolor": "white",
          "plot_bgcolor": "#E5ECF6",
          "polar": {
           "angularaxis": {
            "gridcolor": "white",
            "linecolor": "white",
            "ticks": ""
           },
           "bgcolor": "#E5ECF6",
           "radialaxis": {
            "gridcolor": "white",
            "linecolor": "white",
            "ticks": ""
           }
          },
          "scene": {
           "xaxis": {
            "backgroundcolor": "#E5ECF6",
            "gridcolor": "white",
            "gridwidth": 2,
            "linecolor": "white",
            "showbackground": true,
            "ticks": "",
            "zerolinecolor": "white"
           },
           "yaxis": {
            "backgroundcolor": "#E5ECF6",
            "gridcolor": "white",
            "gridwidth": 2,
            "linecolor": "white",
            "showbackground": true,
            "ticks": "",
            "zerolinecolor": "white"
           },
           "zaxis": {
            "backgroundcolor": "#E5ECF6",
            "gridcolor": "white",
            "gridwidth": 2,
            "linecolor": "white",
            "showbackground": true,
            "ticks": "",
            "zerolinecolor": "white"
           }
          },
          "shapedefaults": {
           "line": {
            "color": "#2a3f5f"
           }
          },
          "ternary": {
           "aaxis": {
            "gridcolor": "white",
            "linecolor": "white",
            "ticks": ""
           },
           "baxis": {
            "gridcolor": "white",
            "linecolor": "white",
            "ticks": ""
           },
           "bgcolor": "#E5ECF6",
           "caxis": {
            "gridcolor": "white",
            "linecolor": "white",
            "ticks": ""
           }
          },
          "title": {
           "x": 0.05
          },
          "xaxis": {
           "automargin": true,
           "gridcolor": "white",
           "linecolor": "white",
           "ticks": "",
           "title": {
            "standoff": 15
           },
           "zerolinecolor": "white",
           "zerolinewidth": 2
          },
          "yaxis": {
           "automargin": true,
           "gridcolor": "white",
           "linecolor": "white",
           "ticks": "",
           "title": {
            "standoff": 15
           },
           "zerolinecolor": "white",
           "zerolinewidth": 2
          }
         }
        },
        "title": {
         "text": "Optimization History Plot"
        },
        "xaxis": {
         "title": {
          "text": "Trial"
         }
        },
        "yaxis": {
         "title": {
          "text": "Objective Value"
         }
        }
       }
      }
     },
     "metadata": {},
     "output_type": "display_data"
    }
   ],
   "source": [
    "print_study_results(\"mt_mlp\")"
   ]
  },
  {
   "cell_type": "code",
   "execution_count": 4,
   "metadata": {},
   "outputs": [
    {
     "name": "stdout",
     "output_type": "stream",
     "text": [
      "Study statistics: \n",
      "\tN finished trials:  1000\n",
      "\tN pruned trials:  0\n",
      "\tN completed trials:  1000\n",
      "Best trials:\n",
      "\tBest mean values:  [0.901519638664569, 0.6394522356432322, 0.17102963256481257]\n",
      "\tCustom metrics:  {'avg_best_epoch': 14.0, 'avg_std': [0.043917011627027755, 0.03642527729921324, 0.054348751552353566]}\n",
      "\tParams: \n",
      "\t\tcls_loss_weight: 0.5\n",
      "\t\tn_buckets: 15\n",
      "\t\tn_edges: 3000\n",
      "\t\tlr: 0.005\n",
      "\t\tdp: 0.1\n",
      "\t\tact_fn: elu\n",
      "\t\ttrunk_ls: 64\n",
      "\t\tcls_ds: 0\n",
      "\t\tsurv_ds: 64\n",
      "\tBest mean values:  [0.9031351274527728, 0.6447985837676685, 0.18013670907936855]\n",
      "\tCustom metrics:  {'avg_best_epoch': 13.2, 'avg_std': [0.043224686649059735, 0.05735207969468357, 0.041794238599412094]}\n",
      "\tParams: \n",
      "\t\tcls_loss_weight: 0.5\n",
      "\t\tn_buckets: 15\n",
      "\t\tn_edges: 1000\n",
      "\t\tlr: 0.005\n",
      "\t\tdp: 0.1\n",
      "\t\tact_fn: elu\n",
      "\t\ttrunk_ls: 64\n",
      "\t\tcls_ds: 0\n",
      "\t\tsurv_ds: 32\n",
      "\tBest mean values:  [0.9027854386990695, 0.6810135818171555, 0.19324868685472152]\n",
      "\tCustom metrics:  {'avg_best_epoch': 16.6, 'avg_std': [0.03771098307841337, 0.06626477357427435, 0.08683696501569346]}\n",
      "\tParams: \n",
      "\t\tcls_loss_weight: 0.5\n",
      "\t\tn_buckets: 15\n",
      "\t\tn_edges: 3000\n",
      "\t\tlr: 0.005\n",
      "\t\tdp: 0\n",
      "\t\tact_fn: elu\n",
      "\t\ttrunk_ls: 32\n",
      "\t\tcls_ds: 0\n",
      "\t\tsurv_ds: 64\n",
      "\tBest mean values:  [0.9197669515643649, 0.6337077729345806, 0.19134233532495645]\n",
      "\tCustom metrics:  {'avg_best_epoch': 14.8, 'avg_std': [0.02520344327104052, 0.06097873994523741, 0.03430915568104325]}\n",
      "\tParams: \n",
      "\t\tcls_loss_weight: 0.5\n",
      "\t\tn_buckets: 15\n",
      "\t\tn_edges: 3000\n",
      "\t\tlr: 0.005\n",
      "\t\tdp: 0\n",
      "\t\tact_fn: elu\n",
      "\t\ttrunk_ls: 32\n",
      "\t\tcls_ds: 0\n",
      "\t\tsurv_ds: 64\n",
      "\tBest mean values:  [0.9003432447020586, 0.6556990863311783, 0.1865414325488801]\n",
      "\tCustom metrics:  {'avg_best_epoch': 13.8, 'avg_std': [0.05338466737405067, 0.02628251000490331, 0.06627323881436172]}\n",
      "\tParams: \n",
      "\t\tcls_loss_weight: 0.5\n",
      "\t\tn_buckets: 15\n",
      "\t\tn_edges: 3000\n",
      "\t\tlr: 0.005\n",
      "\t\tdp: 0.1\n",
      "\t\tact_fn: elu\n",
      "\t\ttrunk_ls: 64\n",
      "\t\tcls_ds: 0\n",
      "\t\tsurv_ds: 64\n",
      "\tBest mean values:  [0.9132827168723512, 0.6628552090027328, 0.2033002984810181]\n",
      "\tCustom metrics:  {'avg_best_epoch': 12.6, 'avg_std': [0.05506454597655219, 0.1192251071412415, 0.07388176629872041]}\n",
      "\tParams: \n",
      "\t\tcls_loss_weight: 0.5\n",
      "\t\tn_buckets: 15\n",
      "\t\tn_edges: None\n",
      "\t\tlr: 0.005\n",
      "\t\tdp: 0\n",
      "\t\tact_fn: elu\n",
      "\t\ttrunk_ls: 64\n",
      "\t\tcls_ds: 0\n",
      "\t\tsurv_ds: 64\n",
      "\tBest mean values:  [0.8792207382711947, 0.7014298191609855, 0.18353814058590662]\n",
      "\tCustom metrics:  {'avg_best_epoch': 30.6, 'avg_std': [0.04410997965392612, 0.05374041684519509, 0.05392819002067282]}\n",
      "\tParams: \n",
      "\t\tcls_loss_weight: 0.8\n",
      "\t\tn_buckets: 15\n",
      "\t\tn_edges: None\n",
      "\t\tlr: 0.001\n",
      "\t\tdp: 0.1\n",
      "\t\tact_fn: elu\n",
      "\t\ttrunk_ls: 64\n",
      "\t\tcls_ds: 32\n",
      "\t\tsurv_ds: 128\n",
      "\tBest mean values:  [0.9028004690216415, 0.6986050617501564, 0.21348717514754675]\n",
      "\tCustom metrics:  {'avg_best_epoch': 13.8, 'avg_std': [0.04845706259256209, 0.07597779151555246, 0.06650529342202231]}\n",
      "\tParams: \n",
      "\t\tcls_loss_weight: 0.8\n",
      "\t\tn_buckets: 15\n",
      "\t\tn_edges: 3000\n",
      "\t\tlr: 0.005\n",
      "\t\tdp: 0\n",
      "\t\tact_fn: elu\n",
      "\t\ttrunk_ls: 64\n",
      "\t\tcls_ds: 0\n",
      "\t\tsurv_ds: 128\n",
      "\tBest mean values:  [0.909236026234678, 0.6725026857248052, 0.21334102339913824]\n",
      "\tCustom metrics:  {'avg_best_epoch': 12.6, 'avg_std': [0.04622229998025254, 0.12813500776630235, 0.07190624405836352]}\n",
      "\tParams: \n",
      "\t\tcls_loss_weight: 0.5\n",
      "\t\tn_buckets: 15\n",
      "\t\tn_edges: 3000\n",
      "\t\tlr: 0.005\n",
      "\t\tdp: 0\n",
      "\t\tact_fn: elu\n",
      "\t\ttrunk_ls: 64\n",
      "\t\tcls_ds: 0\n",
      "\t\tsurv_ds: 64\n",
      "\tBest mean values:  [0.9081275360546389, 0.6664359484382526, 0.1869963811504122]\n",
      "\tCustom metrics:  {'avg_best_epoch': 13.2, 'avg_std': [0.05181789275463291, 0.04687552026098624, 0.0488655417938286]}\n",
      "\tParams: \n",
      "\t\tcls_loss_weight: 0.8\n",
      "\t\tn_buckets: 15\n",
      "\t\tn_edges: 3000\n",
      "\t\tlr: 0.0075\n",
      "\t\tdp: 0.1\n",
      "\t\tact_fn: elu\n",
      "\t\ttrunk_ls: 64\n",
      "\t\tcls_ds: 0\n",
      "\t\tsurv_ds: 64\n",
      "\tBest mean values:  [0.9205501887949706, 0.6020464677621284, 0.22712194711437955]\n",
      "\tCustom metrics:  {'avg_best_epoch': 18.2, 'avg_std': [0.030085240057953835, 0.09767342226764962, 0.06654099874278624]}\n",
      "\tParams: \n",
      "\t\tcls_loss_weight: 0.8\n",
      "\t\tn_buckets: 15\n",
      "\t\tn_edges: 3000\n",
      "\t\tlr: 0.005\n",
      "\t\tdp: 0\n",
      "\t\tact_fn: elu\n",
      "\t\ttrunk_ls: 32\n",
      "\t\tcls_ds: 0\n",
      "\t\tsurv_ds: 128\n",
      "\tBest mean values:  [0.9100217971187545, 0.6609678805027485, 0.19433504839428148]\n",
      "\tCustom metrics:  {'avg_best_epoch': 17.2, 'avg_std': [0.05077091538645258, 0.07667012134484383, 0.05884320711439531]}\n",
      "\tParams: \n",
      "\t\tcls_loss_weight: 0.5\n",
      "\t\tn_buckets: 15\n",
      "\t\tn_edges: 3000\n",
      "\t\tlr: 0.005\n",
      "\t\tdp: 0.1\n",
      "\t\tact_fn: elu\n",
      "\t\ttrunk_ls: 64\n",
      "\t\tcls_ds: 0\n",
      "\t\tsurv_ds: 128\n",
      "\tBest mean values:  [0.8957306252305319, 0.6766763318138128, 0.18387566496883517]\n",
      "\tCustom metrics:  {'avg_best_epoch': 15.8, 'avg_std': [0.05290018387719801, 0.07858251742312115, 0.052318856134186575]}\n",
      "\tParams: \n",
      "\t\tcls_loss_weight: 0.5\n",
      "\t\tn_buckets: 15\n",
      "\t\tn_edges: None\n",
      "\t\tlr: 0.005\n",
      "\t\tdp: 0.1\n",
      "\t\tact_fn: elu\n",
      "\t\ttrunk_ls: 32\n",
      "\t\tcls_ds: 32\n",
      "\t\tsurv_ds: 32\n",
      "\tBest mean values:  [0.9091660429711901, 0.6466891708291014, 0.19233863966050194]\n",
      "\tCustom metrics:  {'avg_best_epoch': 14.0, 'avg_std': [0.057556220261800274, 0.06459347612597639, 0.04553164092863999]}\n",
      "\tParams: \n",
      "\t\tcls_loss_weight: 0.5\n",
      "\t\tn_buckets: 15\n",
      "\t\tn_edges: 3000\n",
      "\t\tlr: 0.0075\n",
      "\t\tdp: 0.1\n",
      "\t\tact_fn: elu\n",
      "\t\ttrunk_ls: 64\n",
      "\t\tcls_ds: 32\n",
      "\t\tsurv_ds: 32\n",
      "\tBest mean values:  [0.9175506364527708, 0.6381602367318558, 0.1810973124085919]\n",
      "\tCustom metrics:  {'avg_best_epoch': 18.8, 'avg_std': [0.048089449650192705, 0.0802039909444702, 0.06001312947558769]}\n",
      "\tParams: \n",
      "\t\tcls_loss_weight: 0.8\n",
      "\t\tn_buckets: 15\n",
      "\t\tn_edges: None\n",
      "\t\tlr: 0.0075\n",
      "\t\tdp: 0.1\n",
      "\t\tact_fn: elu\n",
      "\t\ttrunk_ls: 64\n",
      "\t\tcls_ds: 32\n",
      "\t\tsurv_ds: 128\n",
      "\tBest mean values:  [0.9231794981526467, 0.5580870154011277, 0.23576566196041102]\n",
      "\tCustom metrics:  {'avg_best_epoch': 17.0, 'avg_std': [0.04417084280241217, 0.029382253828913123, 0.03535834042409704]}\n",
      "\tParams: \n",
      "\t\tcls_loss_weight: 0.8\n",
      "\t\tn_buckets: 15\n",
      "\t\tn_edges: None\n",
      "\t\tlr: 0.005\n",
      "\t\tdp: 0\n",
      "\t\tact_fn: elu\n",
      "\t\ttrunk_ls: 64\n",
      "\t\tcls_ds: 0\n",
      "\t\tsurv_ds: 128\n",
      "\tBest mean values:  [0.8991772861536249, 0.6737062928702273, 0.17403692024999157]\n",
      "\tCustom metrics:  {'avg_best_epoch': 15.2, 'avg_std': [0.05087651504220662, 0.06151029963323867, 0.06003203162551314]}\n",
      "\tParams: \n",
      "\t\tcls_loss_weight: 0.5\n",
      "\t\tn_buckets: 15\n",
      "\t\tn_edges: 3000\n",
      "\t\tlr: 0.005\n",
      "\t\tdp: 0.1\n",
      "\t\tact_fn: elu\n",
      "\t\ttrunk_ls: 64\n",
      "\t\tcls_ds: 0\n",
      "\t\tsurv_ds: 64\n",
      "\tBest mean values:  [0.9202144172329371, 0.6288490228933716, 0.2163294429137912]\n",
      "\tCustom metrics:  {'avg_best_epoch': 11.8, 'avg_std': [0.04329988914174964, 0.11671504673048015, 0.07505673776249076]}\n",
      "\tParams: \n",
      "\t\tcls_loss_weight: 0.8\n",
      "\t\tn_buckets: 15\n",
      "\t\tn_edges: 3000\n",
      "\t\tlr: 0.005\n",
      "\t\tdp: 0\n",
      "\t\tact_fn: elu\n",
      "\t\ttrunk_ls: 64\n",
      "\t\tcls_ds: 0\n",
      "\t\tsurv_ds: 64\n",
      "\tBest mean values:  [0.9106990163219179, 0.6946424292825892, 0.22274251112946497]\n",
      "\tCustom metrics:  {'avg_best_epoch': 13.0, 'avg_std': [0.059656866429836565, 0.0682409631480106, 0.07493395175306874]}\n",
      "\tParams: \n",
      "\t\tcls_loss_weight: 0.5\n",
      "\t\tn_buckets: 15\n",
      "\t\tn_edges: 3000\n",
      "\t\tlr: 0.005\n",
      "\t\tdp: 0\n",
      "\t\tact_fn: elu\n",
      "\t\ttrunk_ls: 64\n",
      "\t\tcls_ds: 0\n",
      "\t\tsurv_ds: 64\n",
      "\tBest mean values:  [0.918761102731691, 0.6551188080338857, 0.1995911440581893]\n",
      "\tCustom metrics:  {'avg_best_epoch': 17.4, 'avg_std': [0.043746111949070084, 0.06003497514749884, 0.06577791976963832]}\n",
      "\tParams: \n",
      "\t\tcls_loss_weight: 0.5\n",
      "\t\tn_buckets: 15\n",
      "\t\tn_edges: None\n",
      "\t\tlr: 0.005\n",
      "\t\tdp: 0.1\n",
      "\t\tact_fn: elu\n",
      "\t\ttrunk_ls: 64\n",
      "\t\tcls_ds: 0\n",
      "\t\tsurv_ds: 64\n",
      "\tBest mean values:  [0.9134910545783524, 0.656403128701154, 0.2642408655298142]\n",
      "\tCustom metrics:  {'avg_best_epoch': 14.8, 'avg_std': [0.046028371462755846, 0.09930146151715062, 0.10124657959499106]}\n",
      "\tParams: \n",
      "\t\tcls_loss_weight: 0.8\n",
      "\t\tn_buckets: 128\n",
      "\t\tn_edges: None\n",
      "\t\tlr: 0.005\n",
      "\t\tdp: 0\n",
      "\t\tact_fn: elu\n",
      "\t\ttrunk_ls: 32\n",
      "\t\tcls_ds: 0\n",
      "\t\tsurv_ds: 128\n",
      "\tBest mean values:  [0.9127365272415728, 0.6475732816017158, 0.19626547552703516]\n",
      "\tCustom metrics:  {'avg_best_epoch': 17.2, 'avg_std': [0.04092933837918032, 0.11249005305537013, 0.062140253088289424]}\n",
      "\tParams: \n",
      "\t\tcls_loss_weight: 0.8\n",
      "\t\tn_buckets: 15\n",
      "\t\tn_edges: 3000\n",
      "\t\tlr: 0.005\n",
      "\t\tdp: 0.1\n",
      "\t\tact_fn: elu\n",
      "\t\ttrunk_ls: 64\n",
      "\t\tcls_ds: 32\n",
      "\t\tsurv_ds: 64\n",
      "\tBest mean values:  [0.8862505624602399, 0.682462178915007, 0.17034394344365852]\n",
      "\tCustom metrics:  {'avg_best_epoch': 26.8, 'avg_std': [0.04531122328550444, 0.06893255605884563, 0.04530816047632363]}\n",
      "\tParams: \n",
      "\t\tcls_loss_weight: 0.8\n",
      "\t\tn_buckets: 15\n",
      "\t\tn_edges: None\n",
      "\t\tlr: 0.001\n",
      "\t\tdp: 0.1\n",
      "\t\tact_fn: elu\n",
      "\t\ttrunk_ls: 64\n",
      "\t\tcls_ds: 0\n",
      "\t\tsurv_ds: 64\n",
      "\tBest mean values:  [0.8932527962863233, 0.7006038341867775, 0.19375388146258649]\n",
      "\tCustom metrics:  {'avg_best_epoch': 59.6, 'avg_std': [0.06026400876240328, 0.020407927473283346, 0.056808942055199076]}\n",
      "\tParams: \n",
      "\t\tcls_loss_weight: 0.8\n",
      "\t\tn_buckets: 15\n",
      "\t\tn_edges: None\n",
      "\t\tlr: 0.001\n",
      "\t\tdp: 0\n",
      "\t\tact_fn: elu\n",
      "\t\ttrunk_ls: 64\n",
      "\t\tcls_ds: 0\n",
      "\t\tsurv_ds: 64\n",
      "\tBest mean values:  [0.888849478639252, 0.6815989507099671, 0.1815328386671152]\n",
      "\tCustom metrics:  {'avg_best_epoch': 14.2, 'avg_std': [0.05835124301232268, 0.06325690453520534, 0.04829501808906606]}\n",
      "\tParams: \n",
      "\t\tcls_loss_weight: 0.8\n",
      "\t\tn_buckets: 15\n",
      "\t\tn_edges: None\n",
      "\t\tlr: 0.005\n",
      "\t\tdp: 0\n",
      "\t\tact_fn: elu\n",
      "\t\ttrunk_ls: 64\n",
      "\t\tcls_ds: 0\n",
      "\t\tsurv_ds: 64\n",
      "\tBest mean values:  [0.9017947675532815, 0.6802772128608264, 0.18971697024091966]\n",
      "\tCustom metrics:  {'avg_best_epoch': 16.2, 'avg_std': [0.058321937925627815, 0.06724316339113666, 0.068867728294347]}\n",
      "\tParams: \n",
      "\t\tcls_loss_weight: 0.8\n",
      "\t\tn_buckets: 15\n",
      "\t\tn_edges: None\n",
      "\t\tlr: 0.005\n",
      "\t\tdp: 0.1\n",
      "\t\tact_fn: elu\n",
      "\t\ttrunk_ls: 64\n",
      "\t\tcls_ds: 0\n",
      "\t\tsurv_ds: 64\n",
      "\tBest mean values:  [0.9019562918540558, 0.6786000041748832, 0.18923647225625168]\n",
      "\tCustom metrics:  {'avg_best_epoch': 18.8, 'avg_std': [0.041741002686139346, 0.07286280761340858, 0.05223419636530719]}\n",
      "\tParams: \n",
      "\t\tcls_loss_weight: 0.8\n",
      "\t\tn_buckets: 15\n",
      "\t\tn_edges: None\n",
      "\t\tlr: 0.005\n",
      "\t\tdp: 0.1\n",
      "\t\tact_fn: elu\n",
      "\t\ttrunk_ls: 64\n",
      "\t\tcls_ds: 0\n",
      "\t\tsurv_ds: 64\n"
     ]
    },
    {
     "data": {
      "application/vnd.plotly.v1+json": {
       "config": {
        "plotlyServerURL": "https://plot.ly"
       },
       "data": [
        {
         "cliponaxis": false,
         "hovertemplate": [
          "dp (CategoricalDistribution): 0.004858311608902002<extra></extra>",
          "cls_ds (CategoricalDistribution): 0.009283547329982747<extra></extra>",
          "trunk_ls (CategoricalDistribution): 0.016640167805385568<extra></extra>",
          "n_edges (CategoricalDistribution): 0.019952161539120657<extra></extra>",
          "act_fn (CategoricalDistribution): 0.04701180934545407<extra></extra>",
          "cls_loss_weight (CategoricalDistribution): 0.06301887742838878<extra></extra>",
          "lr (CategoricalDistribution): 0.12252773871706242<extra></extra>",
          "surv_ds (CategoricalDistribution): 0.22566270275400954<extra></extra>",
          "n_buckets (CategoricalDistribution): 0.49104468347169433<extra></extra>"
         ],
         "name": "Objective Value 0",
         "orientation": "h",
         "text": [
          "<0.01",
          "<0.01",
          "0.02",
          "0.02",
          "0.05",
          "0.06",
          "0.12",
          "0.23",
          "0.49"
         ],
         "textposition": "outside",
         "type": "bar",
         "x": [
          0.004858311608902002,
          0.009283547329982747,
          0.016640167805385568,
          0.019952161539120657,
          0.04701180934545407,
          0.06301887742838878,
          0.12252773871706242,
          0.22566270275400954,
          0.49104468347169433
         ],
         "y": [
          "dp",
          "cls_ds",
          "trunk_ls",
          "n_edges",
          "act_fn",
          "cls_loss_weight",
          "lr",
          "surv_ds",
          "n_buckets"
         ]
        },
        {
         "cliponaxis": false,
         "hovertemplate": [
          "cls_ds (CategoricalDistribution): 0.004065201213303518<extra></extra>",
          "dp (CategoricalDistribution): 0.007502835489068305<extra></extra>",
          "trunk_ls (CategoricalDistribution): 0.00810809667738695<extra></extra>",
          "cls_loss_weight (CategoricalDistribution): 0.010041313556916112<extra></extra>",
          "n_edges (CategoricalDistribution): 0.02457696758292916<extra></extra>",
          "act_fn (CategoricalDistribution): 0.04015574888086623<extra></extra>",
          "lr (CategoricalDistribution): 0.19082586489689934<extra></extra>",
          "surv_ds (CategoricalDistribution): 0.19207080171475666<extra></extra>",
          "n_buckets (CategoricalDistribution): 0.5226531699878737<extra></extra>"
         ],
         "name": "Objective Value 1",
         "orientation": "h",
         "text": [
          "<0.01",
          "<0.01",
          "<0.01",
          "0.01",
          "0.02",
          "0.04",
          "0.19",
          "0.19",
          "0.52"
         ],
         "textposition": "outside",
         "type": "bar",
         "x": [
          0.004065201213303518,
          0.007502835489068305,
          0.00810809667738695,
          0.010041313556916112,
          0.02457696758292916,
          0.04015574888086623,
          0.19082586489689934,
          0.19207080171475666,
          0.5226531699878737
         ],
         "y": [
          "cls_ds",
          "dp",
          "trunk_ls",
          "cls_loss_weight",
          "n_edges",
          "act_fn",
          "lr",
          "surv_ds",
          "n_buckets"
         ]
        },
        {
         "cliponaxis": false,
         "hovertemplate": [
          "cls_ds (CategoricalDistribution): 0.002313809980375519<extra></extra>",
          "dp (CategoricalDistribution): 0.005474790196732032<extra></extra>",
          "cls_loss_weight (CategoricalDistribution): 0.0063321680172825695<extra></extra>",
          "trunk_ls (CategoricalDistribution): 0.009891926649531731<extra></extra>",
          "n_edges (CategoricalDistribution): 0.014544868066022957<extra></extra>",
          "act_fn (CategoricalDistribution): 0.019209179777701358<extra></extra>",
          "surv_ds (CategoricalDistribution): 0.18744051960099725<extra></extra>",
          "lr (CategoricalDistribution): 0.2009071494935903<extra></extra>",
          "n_buckets (CategoricalDistribution): 0.5538855882177662<extra></extra>"
         ],
         "name": "Objective Value 2",
         "orientation": "h",
         "text": [
          "<0.01",
          "<0.01",
          "<0.01",
          "<0.01",
          "0.01",
          "0.02",
          "0.19",
          "0.20",
          "0.55"
         ],
         "textposition": "outside",
         "type": "bar",
         "x": [
          0.002313809980375519,
          0.005474790196732032,
          0.0063321680172825695,
          0.009891926649531731,
          0.014544868066022957,
          0.019209179777701358,
          0.18744051960099725,
          0.2009071494935903,
          0.5538855882177662
         ],
         "y": [
          "cls_ds",
          "dp",
          "cls_loss_weight",
          "trunk_ls",
          "n_edges",
          "act_fn",
          "surv_ds",
          "lr",
          "n_buckets"
         ]
        }
       ],
       "layout": {
        "template": {
         "data": {
          "bar": [
           {
            "error_x": {
             "color": "#2a3f5f"
            },
            "error_y": {
             "color": "#2a3f5f"
            },
            "marker": {
             "line": {
              "color": "#E5ECF6",
              "width": 0.5
             },
             "pattern": {
              "fillmode": "overlay",
              "size": 10,
              "solidity": 0.2
             }
            },
            "type": "bar"
           }
          ],
          "barpolar": [
           {
            "marker": {
             "line": {
              "color": "#E5ECF6",
              "width": 0.5
             },
             "pattern": {
              "fillmode": "overlay",
              "size": 10,
              "solidity": 0.2
             }
            },
            "type": "barpolar"
           }
          ],
          "carpet": [
           {
            "aaxis": {
             "endlinecolor": "#2a3f5f",
             "gridcolor": "white",
             "linecolor": "white",
             "minorgridcolor": "white",
             "startlinecolor": "#2a3f5f"
            },
            "baxis": {
             "endlinecolor": "#2a3f5f",
             "gridcolor": "white",
             "linecolor": "white",
             "minorgridcolor": "white",
             "startlinecolor": "#2a3f5f"
            },
            "type": "carpet"
           }
          ],
          "choropleth": [
           {
            "colorbar": {
             "outlinewidth": 0,
             "ticks": ""
            },
            "type": "choropleth"
           }
          ],
          "contour": [
           {
            "colorbar": {
             "outlinewidth": 0,
             "ticks": ""
            },
            "colorscale": [
             [
              0,
              "#0d0887"
             ],
             [
              0.1111111111111111,
              "#46039f"
             ],
             [
              0.2222222222222222,
              "#7201a8"
             ],
             [
              0.3333333333333333,
              "#9c179e"
             ],
             [
              0.4444444444444444,
              "#bd3786"
             ],
             [
              0.5555555555555556,
              "#d8576b"
             ],
             [
              0.6666666666666666,
              "#ed7953"
             ],
             [
              0.7777777777777778,
              "#fb9f3a"
             ],
             [
              0.8888888888888888,
              "#fdca26"
             ],
             [
              1,
              "#f0f921"
             ]
            ],
            "type": "contour"
           }
          ],
          "contourcarpet": [
           {
            "colorbar": {
             "outlinewidth": 0,
             "ticks": ""
            },
            "type": "contourcarpet"
           }
          ],
          "heatmap": [
           {
            "colorbar": {
             "outlinewidth": 0,
             "ticks": ""
            },
            "colorscale": [
             [
              0,
              "#0d0887"
             ],
             [
              0.1111111111111111,
              "#46039f"
             ],
             [
              0.2222222222222222,
              "#7201a8"
             ],
             [
              0.3333333333333333,
              "#9c179e"
             ],
             [
              0.4444444444444444,
              "#bd3786"
             ],
             [
              0.5555555555555556,
              "#d8576b"
             ],
             [
              0.6666666666666666,
              "#ed7953"
             ],
             [
              0.7777777777777778,
              "#fb9f3a"
             ],
             [
              0.8888888888888888,
              "#fdca26"
             ],
             [
              1,
              "#f0f921"
             ]
            ],
            "type": "heatmap"
           }
          ],
          "heatmapgl": [
           {
            "colorbar": {
             "outlinewidth": 0,
             "ticks": ""
            },
            "colorscale": [
             [
              0,
              "#0d0887"
             ],
             [
              0.1111111111111111,
              "#46039f"
             ],
             [
              0.2222222222222222,
              "#7201a8"
             ],
             [
              0.3333333333333333,
              "#9c179e"
             ],
             [
              0.4444444444444444,
              "#bd3786"
             ],
             [
              0.5555555555555556,
              "#d8576b"
             ],
             [
              0.6666666666666666,
              "#ed7953"
             ],
             [
              0.7777777777777778,
              "#fb9f3a"
             ],
             [
              0.8888888888888888,
              "#fdca26"
             ],
             [
              1,
              "#f0f921"
             ]
            ],
            "type": "heatmapgl"
           }
          ],
          "histogram": [
           {
            "marker": {
             "pattern": {
              "fillmode": "overlay",
              "size": 10,
              "solidity": 0.2
             }
            },
            "type": "histogram"
           }
          ],
          "histogram2d": [
           {
            "colorbar": {
             "outlinewidth": 0,
             "ticks": ""
            },
            "colorscale": [
             [
              0,
              "#0d0887"
             ],
             [
              0.1111111111111111,
              "#46039f"
             ],
             [
              0.2222222222222222,
              "#7201a8"
             ],
             [
              0.3333333333333333,
              "#9c179e"
             ],
             [
              0.4444444444444444,
              "#bd3786"
             ],
             [
              0.5555555555555556,
              "#d8576b"
             ],
             [
              0.6666666666666666,
              "#ed7953"
             ],
             [
              0.7777777777777778,
              "#fb9f3a"
             ],
             [
              0.8888888888888888,
              "#fdca26"
             ],
             [
              1,
              "#f0f921"
             ]
            ],
            "type": "histogram2d"
           }
          ],
          "histogram2dcontour": [
           {
            "colorbar": {
             "outlinewidth": 0,
             "ticks": ""
            },
            "colorscale": [
             [
              0,
              "#0d0887"
             ],
             [
              0.1111111111111111,
              "#46039f"
             ],
             [
              0.2222222222222222,
              "#7201a8"
             ],
             [
              0.3333333333333333,
              "#9c179e"
             ],
             [
              0.4444444444444444,
              "#bd3786"
             ],
             [
              0.5555555555555556,
              "#d8576b"
             ],
             [
              0.6666666666666666,
              "#ed7953"
             ],
             [
              0.7777777777777778,
              "#fb9f3a"
             ],
             [
              0.8888888888888888,
              "#fdca26"
             ],
             [
              1,
              "#f0f921"
             ]
            ],
            "type": "histogram2dcontour"
           }
          ],
          "mesh3d": [
           {
            "colorbar": {
             "outlinewidth": 0,
             "ticks": ""
            },
            "type": "mesh3d"
           }
          ],
          "parcoords": [
           {
            "line": {
             "colorbar": {
              "outlinewidth": 0,
              "ticks": ""
             }
            },
            "type": "parcoords"
           }
          ],
          "pie": [
           {
            "automargin": true,
            "type": "pie"
           }
          ],
          "scatter": [
           {
            "fillpattern": {
             "fillmode": "overlay",
             "size": 10,
             "solidity": 0.2
            },
            "type": "scatter"
           }
          ],
          "scatter3d": [
           {
            "line": {
             "colorbar": {
              "outlinewidth": 0,
              "ticks": ""
             }
            },
            "marker": {
             "colorbar": {
              "outlinewidth": 0,
              "ticks": ""
             }
            },
            "type": "scatter3d"
           }
          ],
          "scattercarpet": [
           {
            "marker": {
             "colorbar": {
              "outlinewidth": 0,
              "ticks": ""
             }
            },
            "type": "scattercarpet"
           }
          ],
          "scattergeo": [
           {
            "marker": {
             "colorbar": {
              "outlinewidth": 0,
              "ticks": ""
             }
            },
            "type": "scattergeo"
           }
          ],
          "scattergl": [
           {
            "marker": {
             "colorbar": {
              "outlinewidth": 0,
              "ticks": ""
             }
            },
            "type": "scattergl"
           }
          ],
          "scattermapbox": [
           {
            "marker": {
             "colorbar": {
              "outlinewidth": 0,
              "ticks": ""
             }
            },
            "type": "scattermapbox"
           }
          ],
          "scatterpolar": [
           {
            "marker": {
             "colorbar": {
              "outlinewidth": 0,
              "ticks": ""
             }
            },
            "type": "scatterpolar"
           }
          ],
          "scatterpolargl": [
           {
            "marker": {
             "colorbar": {
              "outlinewidth": 0,
              "ticks": ""
             }
            },
            "type": "scatterpolargl"
           }
          ],
          "scatterternary": [
           {
            "marker": {
             "colorbar": {
              "outlinewidth": 0,
              "ticks": ""
             }
            },
            "type": "scatterternary"
           }
          ],
          "surface": [
           {
            "colorbar": {
             "outlinewidth": 0,
             "ticks": ""
            },
            "colorscale": [
             [
              0,
              "#0d0887"
             ],
             [
              0.1111111111111111,
              "#46039f"
             ],
             [
              0.2222222222222222,
              "#7201a8"
             ],
             [
              0.3333333333333333,
              "#9c179e"
             ],
             [
              0.4444444444444444,
              "#bd3786"
             ],
             [
              0.5555555555555556,
              "#d8576b"
             ],
             [
              0.6666666666666666,
              "#ed7953"
             ],
             [
              0.7777777777777778,
              "#fb9f3a"
             ],
             [
              0.8888888888888888,
              "#fdca26"
             ],
             [
              1,
              "#f0f921"
             ]
            ],
            "type": "surface"
           }
          ],
          "table": [
           {
            "cells": {
             "fill": {
              "color": "#EBF0F8"
             },
             "line": {
              "color": "white"
             }
            },
            "header": {
             "fill": {
              "color": "#C8D4E3"
             },
             "line": {
              "color": "white"
             }
            },
            "type": "table"
           }
          ]
         },
         "layout": {
          "annotationdefaults": {
           "arrowcolor": "#2a3f5f",
           "arrowhead": 0,
           "arrowwidth": 1
          },
          "autotypenumbers": "strict",
          "coloraxis": {
           "colorbar": {
            "outlinewidth": 0,
            "ticks": ""
           }
          },
          "colorscale": {
           "diverging": [
            [
             0,
             "#8e0152"
            ],
            [
             0.1,
             "#c51b7d"
            ],
            [
             0.2,
             "#de77ae"
            ],
            [
             0.3,
             "#f1b6da"
            ],
            [
             0.4,
             "#fde0ef"
            ],
            [
             0.5,
             "#f7f7f7"
            ],
            [
             0.6,
             "#e6f5d0"
            ],
            [
             0.7,
             "#b8e186"
            ],
            [
             0.8,
             "#7fbc41"
            ],
            [
             0.9,
             "#4d9221"
            ],
            [
             1,
             "#276419"
            ]
           ],
           "sequential": [
            [
             0,
             "#0d0887"
            ],
            [
             0.1111111111111111,
             "#46039f"
            ],
            [
             0.2222222222222222,
             "#7201a8"
            ],
            [
             0.3333333333333333,
             "#9c179e"
            ],
            [
             0.4444444444444444,
             "#bd3786"
            ],
            [
             0.5555555555555556,
             "#d8576b"
            ],
            [
             0.6666666666666666,
             "#ed7953"
            ],
            [
             0.7777777777777778,
             "#fb9f3a"
            ],
            [
             0.8888888888888888,
             "#fdca26"
            ],
            [
             1,
             "#f0f921"
            ]
           ],
           "sequentialminus": [
            [
             0,
             "#0d0887"
            ],
            [
             0.1111111111111111,
             "#46039f"
            ],
            [
             0.2222222222222222,
             "#7201a8"
            ],
            [
             0.3333333333333333,
             "#9c179e"
            ],
            [
             0.4444444444444444,
             "#bd3786"
            ],
            [
             0.5555555555555556,
             "#d8576b"
            ],
            [
             0.6666666666666666,
             "#ed7953"
            ],
            [
             0.7777777777777778,
             "#fb9f3a"
            ],
            [
             0.8888888888888888,
             "#fdca26"
            ],
            [
             1,
             "#f0f921"
            ]
           ]
          },
          "colorway": [
           "#636efa",
           "#EF553B",
           "#00cc96",
           "#ab63fa",
           "#FFA15A",
           "#19d3f3",
           "#FF6692",
           "#B6E880",
           "#FF97FF",
           "#FECB52"
          ],
          "font": {
           "color": "#2a3f5f"
          },
          "geo": {
           "bgcolor": "white",
           "lakecolor": "white",
           "landcolor": "#E5ECF6",
           "showlakes": true,
           "showland": true,
           "subunitcolor": "white"
          },
          "hoverlabel": {
           "align": "left"
          },
          "hovermode": "closest",
          "mapbox": {
           "style": "light"
          },
          "paper_bgcolor": "white",
          "plot_bgcolor": "#E5ECF6",
          "polar": {
           "angularaxis": {
            "gridcolor": "white",
            "linecolor": "white",
            "ticks": ""
           },
           "bgcolor": "#E5ECF6",
           "radialaxis": {
            "gridcolor": "white",
            "linecolor": "white",
            "ticks": ""
           }
          },
          "scene": {
           "xaxis": {
            "backgroundcolor": "#E5ECF6",
            "gridcolor": "white",
            "gridwidth": 2,
            "linecolor": "white",
            "showbackground": true,
            "ticks": "",
            "zerolinecolor": "white"
           },
           "yaxis": {
            "backgroundcolor": "#E5ECF6",
            "gridcolor": "white",
            "gridwidth": 2,
            "linecolor": "white",
            "showbackground": true,
            "ticks": "",
            "zerolinecolor": "white"
           },
           "zaxis": {
            "backgroundcolor": "#E5ECF6",
            "gridcolor": "white",
            "gridwidth": 2,
            "linecolor": "white",
            "showbackground": true,
            "ticks": "",
            "zerolinecolor": "white"
           }
          },
          "shapedefaults": {
           "line": {
            "color": "#2a3f5f"
           }
          },
          "ternary": {
           "aaxis": {
            "gridcolor": "white",
            "linecolor": "white",
            "ticks": ""
           },
           "baxis": {
            "gridcolor": "white",
            "linecolor": "white",
            "ticks": ""
           },
           "bgcolor": "#E5ECF6",
           "caxis": {
            "gridcolor": "white",
            "linecolor": "white",
            "ticks": ""
           }
          },
          "title": {
           "x": 0.05
          },
          "xaxis": {
           "automargin": true,
           "gridcolor": "white",
           "linecolor": "white",
           "ticks": "",
           "title": {
            "standoff": 15
           },
           "zerolinecolor": "white",
           "zerolinewidth": 2
          },
          "yaxis": {
           "automargin": true,
           "gridcolor": "white",
           "linecolor": "white",
           "ticks": "",
           "title": {
            "standoff": 15
           },
           "zerolinecolor": "white",
           "zerolinewidth": 2
          }
         }
        },
        "title": {
         "text": "Hyperparameter Importances"
        },
        "xaxis": {
         "title": {
          "text": "Hyperparameter Importance"
         }
        },
        "yaxis": {
         "title": {
          "text": "Hyperparameter"
         }
        }
       }
      }
     },
     "metadata": {},
     "output_type": "display_data"
    },
    {
     "name": "stderr",
     "output_type": "stream",
     "text": [
      "/home/davide/miniconda3/envs/omics/lib/python3.11/site-packages/optuna/visualization/_utils.py:67: UserWarning:\n",
      "\n",
      "`target` is specified, but `target_name` is the default value, 'Objective Value'.\n",
      "\n"
     ]
    },
    {
     "data": {
      "application/vnd.plotly.v1+json": {
       "config": {
        "plotlyServerURL": "https://plot.ly"
       },
       "data": [
        {
         "mode": "markers",
         "name": "Objective Value",
         "type": "scatter",
         "x": [
          0,
          1,
          2,
          3,
          4,
          5,
          6,
          7,
          8,
          9,
          10,
          11,
          12,
          13,
          14,
          15,
          16,
          17,
          18,
          19,
          20,
          21,
          22,
          23,
          24,
          25,
          26,
          27,
          28,
          29,
          30,
          31,
          32,
          33,
          34,
          35,
          36,
          37,
          38,
          39,
          40,
          41,
          42,
          43,
          44,
          45,
          46,
          47,
          48,
          49,
          50,
          51,
          52,
          53,
          54,
          55,
          56,
          57,
          58,
          59,
          60,
          61,
          62,
          63,
          64,
          65,
          66,
          67,
          68,
          69,
          70,
          71,
          72,
          73,
          74,
          75,
          76,
          77,
          78,
          79,
          80,
          81,
          82,
          83,
          84,
          85,
          86,
          87,
          88,
          89,
          90,
          91,
          92,
          93,
          94,
          95,
          96,
          97,
          98,
          99,
          100,
          101,
          102,
          103,
          104,
          105,
          106,
          107,
          108,
          109,
          110,
          111,
          112,
          113,
          114,
          115,
          116,
          117,
          118,
          119,
          120,
          121,
          122,
          123,
          124,
          125,
          126,
          127,
          128,
          129,
          130,
          131,
          132,
          133,
          134,
          135,
          136,
          137,
          138,
          139,
          140,
          141,
          142,
          143,
          144,
          145,
          146,
          147,
          148,
          149,
          150,
          151,
          152,
          153,
          154,
          155,
          156,
          157,
          158,
          159,
          160,
          161,
          162,
          163,
          164,
          165,
          166,
          167,
          168,
          169,
          170,
          171,
          172,
          173,
          174,
          175,
          176,
          177,
          178,
          179,
          180,
          181,
          182,
          183,
          184,
          185,
          186,
          187,
          188,
          189,
          190,
          191,
          192,
          193,
          194,
          195,
          196,
          197,
          198,
          199,
          200,
          201,
          202,
          203,
          204,
          205,
          206,
          207,
          208,
          209,
          210,
          211,
          212,
          213,
          214,
          215,
          216,
          217,
          218,
          219,
          220,
          221,
          222,
          223,
          224,
          225,
          226,
          227,
          228,
          229,
          230,
          231,
          232,
          233,
          234,
          235,
          236,
          237,
          238,
          239,
          240,
          241,
          242,
          243,
          244,
          245,
          246,
          247,
          248,
          249,
          250,
          251,
          252,
          253,
          254,
          255,
          256,
          257,
          258,
          259,
          260,
          261,
          262,
          263,
          264,
          265,
          266,
          267,
          268,
          269,
          270,
          271,
          272,
          273,
          274,
          275,
          276,
          277,
          278,
          279,
          280,
          281,
          282,
          283,
          284,
          285,
          286,
          287,
          288,
          289,
          290,
          291,
          292,
          293,
          294,
          295,
          296,
          297,
          298,
          299,
          300,
          301,
          302,
          303,
          304,
          305,
          306,
          307,
          308,
          309,
          310,
          311,
          312,
          313,
          314,
          315,
          316,
          317,
          318,
          319,
          320,
          321,
          322,
          323,
          324,
          325,
          326,
          327,
          328,
          329,
          330,
          331,
          332,
          333,
          334,
          335,
          336,
          337,
          338,
          339,
          340,
          341,
          342,
          343,
          344,
          345,
          346,
          347,
          348,
          349,
          350,
          351,
          352,
          353,
          354,
          355,
          356,
          357,
          358,
          359,
          360,
          361,
          362,
          363,
          364,
          365,
          366,
          367,
          368,
          369,
          370,
          371,
          372,
          373,
          374,
          375,
          376,
          377,
          378,
          379,
          380,
          381,
          382,
          383,
          384,
          385,
          386,
          387,
          388,
          389,
          390,
          391,
          392,
          393,
          394,
          395,
          396,
          397,
          398,
          399,
          400,
          401,
          402,
          403,
          404,
          405,
          406,
          407,
          408,
          409,
          410,
          411,
          412,
          413,
          414,
          415,
          416,
          417,
          418,
          419,
          420,
          421,
          422,
          423,
          424,
          425,
          426,
          427,
          428,
          429,
          430,
          431,
          432,
          433,
          434,
          435,
          436,
          437,
          438,
          439,
          440,
          441,
          442,
          443,
          444,
          445,
          446,
          447,
          448,
          449,
          450,
          451,
          452,
          453,
          454,
          455,
          456,
          457,
          458,
          459,
          460,
          461,
          462,
          463,
          464,
          465,
          466,
          467,
          468,
          469,
          470,
          471,
          472,
          473,
          474,
          475,
          476,
          477,
          478,
          479,
          480,
          481,
          482,
          483,
          484,
          485,
          486,
          487,
          488,
          489,
          490,
          491,
          492,
          493,
          494,
          495,
          496,
          497,
          498,
          499,
          500,
          501,
          502,
          503,
          504,
          505,
          506,
          507,
          508,
          509,
          510,
          511,
          512,
          513,
          514,
          515,
          516,
          517,
          518,
          519,
          520,
          521,
          522,
          523,
          524,
          525,
          526,
          527,
          528,
          529,
          530,
          531,
          532,
          533,
          534,
          535,
          536,
          537,
          538,
          539,
          540,
          541,
          542,
          543,
          544,
          545,
          546,
          547,
          548,
          549,
          550,
          551,
          552,
          553,
          554,
          555,
          556,
          557,
          558,
          559,
          560,
          561,
          562,
          563,
          564,
          565,
          566,
          567,
          568,
          569,
          570,
          571,
          572,
          573,
          574,
          575,
          576,
          577,
          578,
          579,
          580,
          581,
          582,
          583,
          584,
          585,
          586,
          587,
          588,
          589,
          590,
          591,
          592,
          593,
          594,
          595,
          596,
          597,
          598,
          599,
          600,
          601,
          602,
          603,
          604,
          605,
          606,
          607,
          608,
          609,
          610,
          611,
          612,
          613,
          614,
          615,
          616,
          617,
          618,
          619,
          620,
          621,
          622,
          623,
          624,
          625,
          626,
          627,
          628,
          629,
          630,
          631,
          632,
          633,
          634,
          635,
          636,
          637,
          638,
          639,
          640,
          641,
          642,
          643,
          644,
          645,
          646,
          647,
          648,
          649,
          650,
          651,
          652,
          653,
          654,
          655,
          656,
          657,
          658,
          659,
          660,
          661,
          662,
          663,
          664,
          665,
          666,
          667,
          668,
          669,
          670,
          671,
          672,
          673,
          674,
          675,
          676,
          677,
          678,
          679,
          680,
          681,
          682,
          683,
          684,
          685,
          686,
          687,
          688,
          689,
          690,
          691,
          692,
          693,
          694,
          695,
          696,
          697,
          698,
          699,
          700,
          701,
          702,
          703,
          704,
          705,
          706,
          707,
          708,
          709,
          710,
          711,
          712,
          713,
          714,
          715,
          716,
          717,
          718,
          719,
          720,
          721,
          722,
          723,
          724,
          725,
          726,
          727,
          728,
          729,
          730,
          731,
          732,
          733,
          734,
          735,
          736,
          737,
          738,
          739,
          740,
          741,
          742,
          743,
          744,
          745,
          746,
          747,
          748,
          749,
          750,
          751,
          752,
          753,
          754,
          755,
          756,
          757,
          758,
          759,
          760,
          761,
          762,
          763,
          764,
          765,
          766,
          767,
          768,
          769,
          770,
          771,
          772,
          773,
          774,
          775,
          776,
          777,
          778,
          779,
          780,
          781,
          782,
          783,
          784,
          785,
          786,
          787,
          788,
          789,
          790,
          791,
          792,
          793,
          794,
          795,
          796,
          797,
          798,
          799,
          800,
          801,
          802,
          803,
          804,
          805,
          806,
          807,
          808,
          809,
          810,
          811,
          812,
          813,
          814,
          815,
          816,
          817,
          818,
          819,
          820,
          821,
          822,
          823,
          824,
          825,
          826,
          827,
          828,
          829,
          830,
          831,
          832,
          833,
          834,
          835,
          836,
          837,
          838,
          839,
          840,
          841,
          842,
          843,
          844,
          845,
          846,
          847,
          848,
          849,
          850,
          851,
          852,
          853,
          854,
          855,
          856,
          857,
          858,
          859,
          860,
          861,
          862,
          863,
          864,
          865,
          866,
          867,
          868,
          869,
          870,
          871,
          872,
          873,
          874,
          875,
          876,
          877,
          878,
          879,
          880,
          881,
          882,
          883,
          884,
          885,
          886,
          887,
          888,
          889,
          890,
          891,
          892,
          893,
          894,
          895,
          896,
          897,
          898,
          899,
          900,
          901,
          902,
          903,
          904,
          905,
          906,
          907,
          908,
          909,
          910,
          911,
          912,
          913,
          914,
          915,
          916,
          917,
          918,
          919,
          920,
          921,
          922,
          923,
          924,
          925,
          926,
          927,
          928,
          929,
          930,
          931,
          932,
          933,
          934,
          935,
          936,
          937,
          938,
          939,
          940,
          941,
          942,
          943,
          944,
          945,
          946,
          947,
          948,
          949,
          950,
          951,
          952,
          953,
          954,
          955,
          956,
          957,
          958,
          959,
          960,
          961,
          962,
          963,
          964,
          965,
          966,
          967,
          968,
          969,
          970,
          971,
          972,
          973,
          974,
          975,
          976,
          977,
          978,
          979,
          980,
          981,
          982,
          983,
          984,
          985,
          986,
          987,
          988,
          989,
          990,
          991,
          992,
          993,
          994,
          995,
          996,
          997,
          998,
          999
         ],
         "y": [
          0.8849121202902464,
          0.849665736256021,
          0.9059764283896395,
          0.6603084734629889,
          0.8791163261852262,
          0.7054834771202783,
          0.876196337914229,
          0.871743816504846,
          0.9036941610519398,
          0.8525000681829942,
          0.9116377888079166,
          0.8970016444119914,
          0.8995568429391959,
          0.891325122943465,
          0.8107904864129736,
          0.8972585479317416,
          0.8658131467514698,
          0.8905771680228078,
          0.6982352539309247,
          0.8748982521016722,
          0.8853837412660942,
          0.8926962324560155,
          0.8959461461023306,
          0.9089714642973459,
          0.89284602796922,
          0.8919179540503069,
          0.8962255528574314,
          0.8895102130818199,
          0.8857929721013397,
          0.8921597127748744,
          0.8871342073915602,
          0.8925281763013961,
          0.9093046206151282,
          0.8932865694408297,
          0.8603396902346336,
          0.8990618240576815,
          0.5564348688483051,
          0.8968358795043138,
          0.9009134996929262,
          0.8767601374187052,
          0.8487998602137132,
          0.8983679306191217,
          0.9134388321465806,
          0.8853249534212468,
          0.880378571324063,
          0.893378309856638,
          0.8455593487320675,
          0.901519638664569,
          0.8398216775153247,
          0.7712954433310695,
          0.8780457447465961,
          0.9116617551747799,
          0.9015060101888196,
          0.8765042803087599,
          0.8864718387984853,
          0.8901586719161395,
          0.8557642830339331,
          0.8955244210582041,
          0.9034116408218743,
          0.8887846248128415,
          0.8389574708180586,
          0.8933560029756151,
          0.8929145269218799,
          0.8747449224359161,
          0.8570711471382932,
          0,
          0.8504501626690869,
          0.8795738111242674,
          0.8882561285725084,
          0.7947474319085566,
          0,
          0.8890072944484709,
          0.8899537488042044,
          0.8513045998458116,
          0.848588169393441,
          0.8670266660579916,
          0.8925410297737921,
          0.7607235035362098,
          0.8610431571974756,
          0.8179305619962542,
          0.8815621531616241,
          0.8808437134803817,
          0.8759904340062074,
          0.8998935295890875,
          0.8897995356229715,
          0.8716214981578604,
          0.7667204548029597,
          0.8971206724110201,
          0.8714223523008353,
          0.874364196392594,
          0.5367556821672684,
          0.8799469757140337,
          0.8889403440671282,
          0.87754124825692,
          0.9083371069267413,
          0.8741621967357261,
          0.8341031704384223,
          0,
          0.8620596367002344,
          0.8740683871342545,
          0.90021157951764,
          0.9026567538641842,
          0.8895913103369659,
          0.8968054306191217,
          0.8824596848459223,
          0.8825858629107678,
          0.7388550262956817,
          0.8672802482563544,
          0.9102009746359592,
          0.8949282593901369,
          0.8753063654822684,
          0.8815544715360893,
          0.8829515563975765,
          0.9083647262323733,
          0.8407025261505219,
          0.8967399988355871,
          0.8466589381645129,
          0.7763852210382757,
          0.9021439098048238,
          0.8977562702996481,
          0.8776881036235051,
          0.9066373839796829,
          0.8996972769251308,
          0.8867008928660148,
          0.898951546466159,
          0.9015902243477081,
          0.8799583595680265,
          0.4445475989131514,
          0.9048633827491314,
          0.8609302928730977,
          0.9036384801952959,
          0.8698996786442897,
          0.883908751408579,
          0.8503321948982862,
          0.8369077034866509,
          0.8569635687336131,
          0.8898278277951267,
          0.8952756170793407,
          0.8713138225416703,
          0.8782171826498985,
          0.8811237336756799,
          0.8967484279065161,
          0.8098505417136455,
          0.8609887452977555,
          0.8647678593820605,
          0.9021455526077864,
          0.8674650189570633,
          0.8991113818363632,
          0,
          0.8876820674538412,
          0.7684274337359298,
          0.8810835632181693,
          0.8993472468986241,
          0.8942257352288523,
          0.8598083621535364,
          0.9067819157943443,
          0.8993117172816241,
          0.8937527640192711,
          0.9112183711999124,
          0.8821535631307504,
          0.9048339458240748,
          0.8689568146420052,
          0.8955837722267821,
          0.8717507062718685,
          0.8742660666961349,
          0.8628204581407759,
          0.8726836134044952,
          0.892467959256187,
          0.8900934106695827,
          0.5631452762750627,
          0.8826704288753625,
          0.8887863319674464,
          0.8533045372455202,
          0.895546467349873,
          0.8829759329434564,
          0.8887685596779459,
          0.8955907039057465,
          0.877714325005505,
          0.8966093636562409,
          0.9114308501382805,
          0.8954028025351555,
          0.8534675421986615,
          0.9035761011093975,
          0.8828200391748465,
          0.89679190561613,
          0.8910013456643858,
          0.7273368166792042,
          0.9024715926631561,
          0.8368528162950926,
          0.9005818356050554,
          0.8742919146792298,
          0.8618020932346706,
          0.9031351274527728,
          0.8851860481902118,
          0.8693375758603512,
          0.8885030866968322,
          0.9027854386990695,
          0.8825527949104799,
          0.8894138564107605,
          0.8751660600270592,
          0.9118178994636269,
          0.9121137415891972,
          0.9066292553098814,
          0.9124151938926752,
          0.8629875338963272,
          0.9197669515643649,
          0.8970621088935719,
          0.8836857639070572,
          0.8862970579219202,
          0.8712899615670162,
          0.9162186546343039,
          0.8767085027648409,
          0.8729760968808957,
          0.9035503767048031,
          0.873237806242359,
          0.8721951304990723,
          0.8979680817003226,
          0.8929023781229664,
          0.8708010339218915,
          0.8934293391180301,
          0.8676512748288563,
          0.8934519535636168,
          0.8753506817424694,
          0.884206486955069,
          0.8963352503329137,
          0.863134103808673,
          0.8586969093161724,
          0.8744193361488307,
          0.8827092554729472,
          0.8650726944269144,
          0.885896749589911,
          0.8761953814159696,
          0.8821148323354207,
          0.8788072942926417,
          0.9003432447020586,
          0.8878557387693695,
          0.8529061022284024,
          0.9108870118977604,
          0.5291114393840173,
          0.8816788015549626,
          0.9009931001249786,
          0.8828803333225774,
          0.8664620457493013,
          0.9132827168723512,
          0.8990083411046159,
          0.906656418116682,
          0.9109435624443492,
          0.9036854815036228,
          0.8714267010222893,
          0.8778808053954179,
          0.8846813368949593,
          0.8713231721189801,
          0.8865414557079851,
          0.8841541843089832,
          0.8589191013623807,
          0.9041407472417703,
          0.8880462093750839,
          0.8872763532712534,
          0.8498286140577467,
          0.904368289810534,
          0.8826228846595559,
          0.8781206864583314,
          0.8871215795994274,
          0.8683770935906369,
          0.9044590451401598,
          0.9011457267649219,
          0.8861938158739132,
          0.8662839396820907,
          0.8607061296220951,
          0.870428098602007,
          0.7490323476109475,
          0.847979400089575,
          0.8589591251811072,
          0.9068829444795302,
          0.8802998716424784,
          0.8663362592552835,
          0.8604361740026023,
          0.8991650052992239,
          0.9048592273975906,
          0.8888733517972135,
          0,
          0.845046338635046,
          0.8907725067849052,
          0.8890614783342421,
          0.9110896292479256,
          0.8683481664357835,
          0,
          0.5476647020307979,
          0.8804181904841393,
          0.9009129100793458,
          0.8849370028744096,
          0.9031898211254029,
          0.8951675521760661,
          0.8713356439218508,
          0.9002300283225353,
          0.8543490903974774,
          0.8792207382711947,
          0.7866140515938047,
          0.8335040221055715,
          0.8578028961788646,
          0.8367364178171949,
          0.8218117769386943,
          0.8412000066421335,
          0.858979672515856,
          0.8581354360753825,
          0.8732073069265616,
          0.8785160079671455,
          0.8648471368308975,
          0.8328671253622136,
          0.8733526867582595,
          0.8574809773570096,
          0.8835480634016996,
          0.8511094940949026,
          0.8502600110405485,
          0.8630244803752776,
          0.8773947077454582,
          0.8054894650568152,
          0.8563101769242767,
          0.8312597611939717,
          0.8400867668099707,
          0.8567621670982429,
          0.8552728451251841,
          0.862209154934263,
          0.8328996856617279,
          0.8458447624959847,
          0.8673693128535168,
          0.8545400832466494,
          0.8521000052319779,
          0.8871321531884913,
          0.8429286207487034,
          0.8400871998365558,
          0.7984896275455606,
          0.883932250245636,
          0.8677023496653178,
          0.8606270570602084,
          0.6360417949461036,
          0.8538233075711824,
          0.8576588633341107,
          0.8112987553434561,
          0.8893776397325611,
          0.7834639742275755,
          0.8809317438074992,
          0.8528439459531155,
          0.8155094137242787,
          0.8857965516075714,
          0.8885105067460011,
          0.8739113062015665,
          0.8664152498428006,
          0.6933271510081965,
          0.8865254890092531,
          0.8652366523520802,
          0,
          0.8664846455522192,
          0.8621162745511718,
          0.8785486394574127,
          0.9128120743612677,
          0.8156788424103958,
          0.8676712809607545,
          0.8993562382982034,
          0.9063526277030836,
          0.85344095157078,
          0.8606874604184107,
          0.8839967384297133,
          0.8613912828343926,
          0.8666586334444588,
          0.727926179246272,
          0.914769419244875,
          0.8597327077901905,
          0.8935981700949878,
          0.7393189945955572,
          0.9062921236600161,
          0.9010294260478083,
          0.8390941063787928,
          0.8502236368248438,
          0.8943196046437925,
          0.8861424102042605,
          0.8540687653983758,
          0.8789731571650213,
          0.884681935793705,
          0.8319975872903663,
          0.8939862760892445,
          0.8986168180518026,
          0.8915508483806314,
          0.8642988172934771,
          0.865332941937595,
          0.8945915442200272,
          0.8880006392727975,
          0.7390399297429908,
          0.868330303891718,
          0.9071849005533441,
          0.9005018699333156,
          0.7469275032840539,
          0.8641190131009656,
          0.9028004690216415,
          0.9075946303152186,
          0.8916686726744667,
          0.909236026234678,
          0.9108432027781873,
          0.917632423753018,
          0.8912851033580056,
          0.9087918156167916,
          0.8989468570908326,
          0.9091562785912632,
          0.8880384614553714,
          0.8918642513959287,
          0.8935306642506052,
          0.8770244797915077,
          0.8877593726269263,
          0.9009926293749823,
          0.8851232038921794,
          0.9025411617706937,
          0.8973955052475089,
          0.8980177333508689,
          0.9098234321340417,
          0.9083650846702318,
          0.9109823502343917,
          0.9022897664216452,
          0.9018325521041449,
          0.8939518989169057,
          0.9122904139222925,
          0.8935282241551592,
          0.8986508252964663,
          0.9004737656582756,
          0.9078966556474424,
          0.8955449578047409,
          0.8702021142055972,
          0.8914857047929463,
          0.9035976059553212,
          0.8674730709872612,
          0,
          0.8693941578000961,
          0.8389384209962838,
          0.8865233112555903,
          0.8780339574350625,
          0.8685131693526777,
          0.8997004900009464,
          0.8566167621027614,
          0.8851160315208011,
          0.88867163995482,
          0.8905968365449635,
          0.8822061898674802,
          0.8790725191342579,
          0,
          0.8885057572111649,
          0.9068471331975889,
          0.8587118542759745,
          0.8548343730358556,
          0.9081275360546389,
          0.8917802506202476,
          0.8930337072015003,
          0.890282375235663,
          0.8892734277164334,
          0.8941138999962529,
          0.894332055076837,
          0.8628965444548937,
          0.9205501887949706,
          0,
          0.7146231519148909,
          0.8403660218071819,
          0.8997528782150512,
          0.8190824373805408,
          0.8508681571310523,
          0.7870223802152125,
          0,
          0.8864037363853541,
          0.8352071803884064,
          0.8859658130705265,
          0.7903311831388704,
          0.8941241293125094,
          0,
          0.9062145096423577,
          0.8878903153187208,
          0.8809183570431116,
          0.88395696076378,
          0.8656673556177508,
          0.9014551538534036,
          0.8702000986174081,
          0.9019096574674668,
          0,
          0.8849875187283669,
          0,
          0.8657762734671213,
          0.9005983762199078,
          0.8963303359735375,
          0.8833418736710319,
          0.8940512442458308,
          0.8447318098860747,
          0.8901067862864945,
          0.9100217971187545,
          0.9111524716445697,
          0.744024367228365,
          0.8957306252305319,
          0.853675116218532,
          0.8846302216281933,
          0.8737609002982454,
          0.8907836218177774,
          0.8716858270508145,
          0.8790830383897014,
          0.8207420932975872,
          0.893528306649164,
          0.8547325411678305,
          0.8670245277053699,
          0.8979032325317157,
          0.8794557806642977,
          0.8399127066890225,
          0.8924006985930696,
          0.8801441931524157,
          0.7650572634643458,
          0.9003835930455659,
          0.8446605490212885,
          0.7529055703077691,
          0.8978447875242669,
          0.8553620967046157,
          0.8741212864301927,
          0.8724867249293702,
          0.8612099780914718,
          0.9091660429711901,
          0.898038015707046,
          0.9072646201224288,
          0.5427593064836463,
          0.8830890356286435,
          0.8963864366440045,
          0.8746089990603718,
          0.9107756378230896,
          0.8930703585218964,
          0.875461081532032,
          0.8880317498477327,
          0.841397691503808,
          0.8801623223608853,
          0.8466324544838656,
          0.8828550563812912,
          0.8971361032835621,
          0.8874589929262917,
          0.8210753913370631,
          0.6193016913001967,
          0.8297837160833081,
          0.7774251440469594,
          0.8143714912898637,
          0.6534466486609223,
          0.8262496577150283,
          0.7974586591344611,
          0.8542430826427567,
          0.8317530521230119,
          0.48777259531327566,
          0.8750517302903672,
          0.7327401908634377,
          0.8476500911664477,
          0.8518526670985695,
          0.8778658726752766,
          0.8757054465181214,
          0.8703334482029501,
          0.8820346097376148,
          0.8318336504142575,
          0.8894296073448678,
          0.7513586061462971,
          0.9175506364527708,
          0,
          0,
          0.8891577090439465,
          0.9057351112272093,
          0.901064001358119,
          0,
          0.8743930544687707,
          0.9136796299437868,
          0.9020701311963222,
          0.9059927532496317,
          0.8954760131168072,
          0,
          0.8902672208802768,
          0.8833140837390658,
          0.876333156819156,
          0.8372211006208714,
          0.810052303515711,
          0.8764801799724934,
          0.8907150134188047,
          0.7388595444821339,
          0.8487186768394814,
          0,
          0.8000272709148621,
          0.8580217607854526,
          0.8722061015441269,
          0.8594199127128832,
          0.8546042810748693,
          0.8796090729875559,
          0.8719031439578249,
          0.7372172357879103,
          0.8532207902261341,
          0.9019226882612543,
          0.8501924103452806,
          0.8248520495418614,
          0.8744371865369738,
          0.8727514326459438,
          0.868627386323281,
          0,
          0.8722581750971441,
          0.7675723655677225,
          0,
          0.8086201076931754,
          0.8178509461791196,
          0.886111394983299,
          0.8329016779790412,
          0.859119511983355,
          0.9052508711332241,
          0.8000570570853942,
          0.8733008754905398,
          0.8622136977081706,
          0.8993184599147532,
          0.9154472423928265,
          0.8915565068936084,
          0.7792191853266572,
          0.8523559106256748,
          0.8793286852110382,
          0.8414591361392793,
          0.8979624502193289,
          0.8901034081871904,
          0.8836185742625495,
          0,
          0.8861480130729861,
          0.9037948402726304,
          0.8583004603082273,
          0.7918000376107642,
          0.8946354795406612,
          0.847688021335735,
          0,
          0.8936876183160722,
          0.840346633602936,
          0.8969608492511096,
          0.887241387724937,
          0.8912448370469275,
          0.8648355563287173,
          0.8403023156461071,
          0.9023267907792049,
          0.8459649860803113,
          0.8976366128555476,
          0,
          0.8647701464683912,
          0.8547186376951311,
          0.8769841375886929,
          0.877662695878057,
          0.9031641786855052,
          0.8309362773963154,
          0.9042836718059613,
          0.8688188556120245,
          0.8944075520151499,
          0.8511527988561379,
          0.9020935003924855,
          0.8829909443273716,
          0.8131821335934759,
          0.8856156492744324,
          0.8711426305440607,
          0.8841949499302441,
          0.8853026047410844,
          0.7776666058698823,
          0.895761269585494,
          0.8060990911979962,
          0.5820486554116308,
          0.8465380536301185,
          0.8619703314612487,
          0.8578015386102591,
          0.6868586294161043,
          0.8627649520604981,
          0.7762786779783684,
          0.8693559473061241,
          0.8333650881374762,
          0.8485017940555266,
          0.8875381846124762,
          0.897852185136377,
          0.8753452087034745,
          0.8471468978372902,
          0.8956608958681223,
          0.7817390282532247,
          0.8794703899181571,
          0.9231794981526467,
          0.8955799680983505,
          0.8941395509104069,
          0.8783239881774632,
          0.9026514263689333,
          0.8933365389508966,
          0.8904870117806697,
          0.901349355981709,
          0.8776061896790919,
          0.8970857527152873,
          0.8991772861536249,
          0.8860949056247044,
          0.9086132726206255,
          0.8927632678996844,
          0.9078504937328468,
          0.8911803312499906,
          0.8877307188951263,
          0.8929733710392384,
          0.9202144172329371,
          0.9058533443154456,
          0.9051123984947516,
          0.8739385410562093,
          0.898669958012783,
          0.9041221652802536,
          0.8995331749791889,
          0.9082076443058709,
          0.8908285442522516,
          0.8847985959402369,
          0.9090486483218981,
          0.8992662085394583,
          0.8963078558366873,
          0.9106990163219179,
          0.909799095601357,
          0.902241821507595,
          0.8770013649875354,
          0.8980740793792265,
          0.908784106903302,
          0.8832274579565601,
          0.9043395615822087,
          0.8783328830165523,
          0.8992026436844694,
          0.8745313732864626,
          0.9037176092145257,
          0.8829513325005081,
          0.8808448117399938,
          0.8833112430256694,
          0.8947933212317014,
          0.8991704311054155,
          0.8837640049407275,
          0.901834255277412,
          0.896070004354196,
          0.8950544418794179,
          0.9050921371921185,
          0.8253379342124598,
          0.8918062729814631,
          0.743451300510251,
          0.8975738397023226,
          0.9060149877877517,
          0.8799063697329077,
          0.890112548723548,
          0.8298718375580151,
          0.918761102731691,
          0.8852314268068223,
          0.8934565822892372,
          0.8414395576571583,
          0.8705403444034818,
          0.8574861181904335,
          0.8821296464330521,
          0.9042690637352184,
          0.8020432301447725,
          0.9045169788000671,
          0.8852314525153586,
          0.8709910875506642,
          0.8770517236952854,
          0.8239198566696698,
          0.9018366456098654,
          0,
          0.8605052732096098,
          0.8946213563458416,
          0.8796636206082035,
          0.897425518399251,
          0.8901656414076289,
          0.8860870265089211,
          0.8756276909077144,
          0.8563010331089039,
          0.8617437869966638,
          0.8901924896170421,
          0.8948480600518642,
          0.8128317931679583,
          0.9134910545783524,
          0.9024664402747977,
          0.9041320063378887,
          0.9021524713544965,
          0.903620395127748,
          0.8242518844090313,
          0.9078559710871227,
          0.9104890671794866,
          0.8411494334584436,
          0.901743640199359,
          0.8794554023573375,
          0.9025755420934585,
          0.8041685282277371,
          0.9008961734315731,
          0.8983912756385124,
          0.9098750717466034,
          0.900660092549705,
          0.8650771263886714,
          0.910564069046983,
          0.90040868919765,
          0.8872762430886578,
          0.846065795337984,
          0.8825187151819179,
          0.8777477543229686,
          0.8954879105746514,
          0.8834503274236966,
          0.8655637645807925,
          0.8794551797556363,
          0.8940834171797105,
          0.5701059168842671,
          0.8874341436805919,
          0.9127365272415728,
          0.5262753759269805,
          0.7604518864133801,
          0.758678749722393,
          0.5271756289108027,
          0.7671550158808241,
          0.8034779966783463,
          0.8870533788676347,
          0.8619341957024549,
          0.8892908785761406,
          0.5881731492701363,
          0.883256907430682,
          0.8779975139133794,
          0.8714078787235753,
          0.8396269394998622,
          0.8946881446192048,
          0.8875779863825363,
          0.894502354398681,
          0.8690620261321854,
          0.9069005910862007,
          0.8009908861887197,
          0.8766981325090993,
          0.8875020819322291,
          0.84917755945797,
          0.6870367360127547,
          0.8922038626122735,
          0.8598023434317025,
          0.89321870212585,
          0.866313028804781,
          0.8358061406144834,
          0.8764847076253307,
          0.7945990634213466,
          0.9124669599169358,
          0.8780629120335002,
          0.6223019835374263,
          0.8838413160981947,
          0.8959942574000467,
          0.909463359174079,
          0.8273368715145871,
          0.9010035661981612,
          0.8827413755855054,
          0.8909732808047647,
          0.90896396711658,
          0.8304530790622413,
          0.9112932603608123,
          0.8535664008084861,
          0.8752428429344065,
          0.8922298969254548,
          0.8697985832908351,
          0.8949246362297834,
          0.8679071413256112,
          0.863927983951459,
          0.9015189159539003,
          0.8409653002489896,
          0.8822778478370015,
          0.8876297358344072,
          0.813717565183909,
          0.869469437546849,
          0.9006522552692966,
          0.896697000521225,
          0.8965441389423887,
          0.6521920532993313,
          0.8686578530498341,
          0.8862505624602399,
          0.9023401567071442,
          0.8938864523225547,
          0.9059169262428076,
          0.887511059340228,
          0.8893246143849443,
          0.8626547454400331,
          0.8915307183006911,
          0.9024296829870094,
          0.8932195499861908,
          0.8850953110661074,
          0.9078418597300711,
          0.9114267010222893,
          0.8993483213426454,
          0.901232124696621,
          0.887226775047333,
          0.8712197244555178,
          0.9059435302373899,
          0.8950975368717305,
          0.8856720138281027,
          0.8948971783107013,
          0.8698800639144502,
          0.8991172049627931,
          0.9000872207087524,
          0.8887293879804856,
          0.8433611840060109,
          0.8900636033356623,
          0.8702619700061376,
          0.8791766299625193,
          0.8925230529445851,
          0.8767588290490895,
          0.8983968177053463,
          0.8992967016232397,
          0.9043672560687941,
          0.894392553823294,
          0.8743068199541095,
          0.9089639267210738,
          0.8804520265624352,
          0.8718693115836069,
          0.8483577395561817,
          0.8937048894517934,
          0.8932527962863233,
          0.9005092986308302,
          0.9196132661014795,
          0.9104299200601508,
          0.8801281812391804,
          0.9045806772029314,
          0.899407821209292,
          0.8923518261038901,
          0.8901271282749346,
          0.8995537096456587,
          0.9089930783584034,
          0.8993255203986756,
          0.9127243780502596,
          0.903875638930786,
          0.9115309472662414,
          0.8937815939556721,
          0.8789466619211348,
          0.8906528432118975,
          0.9023852631680851,
          0.8976976738971165,
          0.8843862686985025,
          0.9037798421939589,
          0.8779310926879711,
          0.9163875773041509,
          0.9040219810206327,
          0.8799437044974632,
          0.9086341218694161,
          0.8853248574004281,
          0.8987828567015084,
          0.8839197649634082,
          0.8860785962294149,
          0.8478671036878648,
          0.888849478639252,
          0.8952999907703211,
          0.9060736603469103,
          0.9056302458153574,
          0.8791721395216465,
          0.9104278469352,
          0.884836910094263,
          0.8957318157664821,
          0.8515263544794094,
          0.8846397068030395,
          0.8944879349028165,
          0.8744588786205538,
          0.8833632182609822,
          0.7930200270758225,
          0.8990523540173608,
          0.8985725485957685,
          0.8092709762962095,
          0.9031642333557969,
          0.9133977829050506,
          0.9006761633952307,
          0.9017947675532815,
          0.87631835564765,
          0.8683863397796191,
          0.8703667760375302,
          0.8957908474260401,
          0.8515483281985363,
          0.8954536395855183,
          0.8576059636982771,
          0.9069928671782892,
          0.9096924091273937,
          0.8692546923943049,
          0.8923512156936206,
          0.8782869975453504,
          0.9019562918540558,
          0.8778878983738976,
          0.9062082044535875,
          0.8979233133802879,
          0.8839352903738991,
          0.8958304356645117,
          0.875059317476605,
          0.8457138824715059,
          0.8894964281238747,
          0.8722404122057347,
          0.8491988767191259,
          0.8381261310275836,
          0.8795163351174657,
          0.852807019190533,
          0.8761270234229827,
          0.8890112077900602,
          0.8719081082316377,
          0.7837042351186914,
          0.9022448048413907,
          0.8645549317965479,
          0.8604040619616207,
          0.8898728048950943,
          0.8385322403383005,
          0.8304954959483124,
          0.8849299160880044,
          0.8401332376328696,
          0.8494931095762249,
          0.8802780448051474,
          0.8304456773499862,
          0.504536495867909,
          0.9048964208201282,
          0.8418369677112063,
          0.8204859423061421,
          0.8537223048259801,
          0.8908821081767273,
          0.8064924858545309,
          0.8758575880577946,
          0.8912311194379333,
          0.7583392596418164
         ]
        },
        {
         "marker": {
          "color": "#cccccc"
         },
         "mode": "markers",
         "name": "Infeasible Trial",
         "showlegend": false,
         "type": "scatter",
         "x": [],
         "y": []
        }
       ],
       "layout": {
        "template": {
         "data": {
          "bar": [
           {
            "error_x": {
             "color": "#2a3f5f"
            },
            "error_y": {
             "color": "#2a3f5f"
            },
            "marker": {
             "line": {
              "color": "#E5ECF6",
              "width": 0.5
             },
             "pattern": {
              "fillmode": "overlay",
              "size": 10,
              "solidity": 0.2
             }
            },
            "type": "bar"
           }
          ],
          "barpolar": [
           {
            "marker": {
             "line": {
              "color": "#E5ECF6",
              "width": 0.5
             },
             "pattern": {
              "fillmode": "overlay",
              "size": 10,
              "solidity": 0.2
             }
            },
            "type": "barpolar"
           }
          ],
          "carpet": [
           {
            "aaxis": {
             "endlinecolor": "#2a3f5f",
             "gridcolor": "white",
             "linecolor": "white",
             "minorgridcolor": "white",
             "startlinecolor": "#2a3f5f"
            },
            "baxis": {
             "endlinecolor": "#2a3f5f",
             "gridcolor": "white",
             "linecolor": "white",
             "minorgridcolor": "white",
             "startlinecolor": "#2a3f5f"
            },
            "type": "carpet"
           }
          ],
          "choropleth": [
           {
            "colorbar": {
             "outlinewidth": 0,
             "ticks": ""
            },
            "type": "choropleth"
           }
          ],
          "contour": [
           {
            "colorbar": {
             "outlinewidth": 0,
             "ticks": ""
            },
            "colorscale": [
             [
              0,
              "#0d0887"
             ],
             [
              0.1111111111111111,
              "#46039f"
             ],
             [
              0.2222222222222222,
              "#7201a8"
             ],
             [
              0.3333333333333333,
              "#9c179e"
             ],
             [
              0.4444444444444444,
              "#bd3786"
             ],
             [
              0.5555555555555556,
              "#d8576b"
             ],
             [
              0.6666666666666666,
              "#ed7953"
             ],
             [
              0.7777777777777778,
              "#fb9f3a"
             ],
             [
              0.8888888888888888,
              "#fdca26"
             ],
             [
              1,
              "#f0f921"
             ]
            ],
            "type": "contour"
           }
          ],
          "contourcarpet": [
           {
            "colorbar": {
             "outlinewidth": 0,
             "ticks": ""
            },
            "type": "contourcarpet"
           }
          ],
          "heatmap": [
           {
            "colorbar": {
             "outlinewidth": 0,
             "ticks": ""
            },
            "colorscale": [
             [
              0,
              "#0d0887"
             ],
             [
              0.1111111111111111,
              "#46039f"
             ],
             [
              0.2222222222222222,
              "#7201a8"
             ],
             [
              0.3333333333333333,
              "#9c179e"
             ],
             [
              0.4444444444444444,
              "#bd3786"
             ],
             [
              0.5555555555555556,
              "#d8576b"
             ],
             [
              0.6666666666666666,
              "#ed7953"
             ],
             [
              0.7777777777777778,
              "#fb9f3a"
             ],
             [
              0.8888888888888888,
              "#fdca26"
             ],
             [
              1,
              "#f0f921"
             ]
            ],
            "type": "heatmap"
           }
          ],
          "heatmapgl": [
           {
            "colorbar": {
             "outlinewidth": 0,
             "ticks": ""
            },
            "colorscale": [
             [
              0,
              "#0d0887"
             ],
             [
              0.1111111111111111,
              "#46039f"
             ],
             [
              0.2222222222222222,
              "#7201a8"
             ],
             [
              0.3333333333333333,
              "#9c179e"
             ],
             [
              0.4444444444444444,
              "#bd3786"
             ],
             [
              0.5555555555555556,
              "#d8576b"
             ],
             [
              0.6666666666666666,
              "#ed7953"
             ],
             [
              0.7777777777777778,
              "#fb9f3a"
             ],
             [
              0.8888888888888888,
              "#fdca26"
             ],
             [
              1,
              "#f0f921"
             ]
            ],
            "type": "heatmapgl"
           }
          ],
          "histogram": [
           {
            "marker": {
             "pattern": {
              "fillmode": "overlay",
              "size": 10,
              "solidity": 0.2
             }
            },
            "type": "histogram"
           }
          ],
          "histogram2d": [
           {
            "colorbar": {
             "outlinewidth": 0,
             "ticks": ""
            },
            "colorscale": [
             [
              0,
              "#0d0887"
             ],
             [
              0.1111111111111111,
              "#46039f"
             ],
             [
              0.2222222222222222,
              "#7201a8"
             ],
             [
              0.3333333333333333,
              "#9c179e"
             ],
             [
              0.4444444444444444,
              "#bd3786"
             ],
             [
              0.5555555555555556,
              "#d8576b"
             ],
             [
              0.6666666666666666,
              "#ed7953"
             ],
             [
              0.7777777777777778,
              "#fb9f3a"
             ],
             [
              0.8888888888888888,
              "#fdca26"
             ],
             [
              1,
              "#f0f921"
             ]
            ],
            "type": "histogram2d"
           }
          ],
          "histogram2dcontour": [
           {
            "colorbar": {
             "outlinewidth": 0,
             "ticks": ""
            },
            "colorscale": [
             [
              0,
              "#0d0887"
             ],
             [
              0.1111111111111111,
              "#46039f"
             ],
             [
              0.2222222222222222,
              "#7201a8"
             ],
             [
              0.3333333333333333,
              "#9c179e"
             ],
             [
              0.4444444444444444,
              "#bd3786"
             ],
             [
              0.5555555555555556,
              "#d8576b"
             ],
             [
              0.6666666666666666,
              "#ed7953"
             ],
             [
              0.7777777777777778,
              "#fb9f3a"
             ],
             [
              0.8888888888888888,
              "#fdca26"
             ],
             [
              1,
              "#f0f921"
             ]
            ],
            "type": "histogram2dcontour"
           }
          ],
          "mesh3d": [
           {
            "colorbar": {
             "outlinewidth": 0,
             "ticks": ""
            },
            "type": "mesh3d"
           }
          ],
          "parcoords": [
           {
            "line": {
             "colorbar": {
              "outlinewidth": 0,
              "ticks": ""
             }
            },
            "type": "parcoords"
           }
          ],
          "pie": [
           {
            "automargin": true,
            "type": "pie"
           }
          ],
          "scatter": [
           {
            "fillpattern": {
             "fillmode": "overlay",
             "size": 10,
             "solidity": 0.2
            },
            "type": "scatter"
           }
          ],
          "scatter3d": [
           {
            "line": {
             "colorbar": {
              "outlinewidth": 0,
              "ticks": ""
             }
            },
            "marker": {
             "colorbar": {
              "outlinewidth": 0,
              "ticks": ""
             }
            },
            "type": "scatter3d"
           }
          ],
          "scattercarpet": [
           {
            "marker": {
             "colorbar": {
              "outlinewidth": 0,
              "ticks": ""
             }
            },
            "type": "scattercarpet"
           }
          ],
          "scattergeo": [
           {
            "marker": {
             "colorbar": {
              "outlinewidth": 0,
              "ticks": ""
             }
            },
            "type": "scattergeo"
           }
          ],
          "scattergl": [
           {
            "marker": {
             "colorbar": {
              "outlinewidth": 0,
              "ticks": ""
             }
            },
            "type": "scattergl"
           }
          ],
          "scattermapbox": [
           {
            "marker": {
             "colorbar": {
              "outlinewidth": 0,
              "ticks": ""
             }
            },
            "type": "scattermapbox"
           }
          ],
          "scatterpolar": [
           {
            "marker": {
             "colorbar": {
              "outlinewidth": 0,
              "ticks": ""
             }
            },
            "type": "scatterpolar"
           }
          ],
          "scatterpolargl": [
           {
            "marker": {
             "colorbar": {
              "outlinewidth": 0,
              "ticks": ""
             }
            },
            "type": "scatterpolargl"
           }
          ],
          "scatterternary": [
           {
            "marker": {
             "colorbar": {
              "outlinewidth": 0,
              "ticks": ""
             }
            },
            "type": "scatterternary"
           }
          ],
          "surface": [
           {
            "colorbar": {
             "outlinewidth": 0,
             "ticks": ""
            },
            "colorscale": [
             [
              0,
              "#0d0887"
             ],
             [
              0.1111111111111111,
              "#46039f"
             ],
             [
              0.2222222222222222,
              "#7201a8"
             ],
             [
              0.3333333333333333,
              "#9c179e"
             ],
             [
              0.4444444444444444,
              "#bd3786"
             ],
             [
              0.5555555555555556,
              "#d8576b"
             ],
             [
              0.6666666666666666,
              "#ed7953"
             ],
             [
              0.7777777777777778,
              "#fb9f3a"
             ],
             [
              0.8888888888888888,
              "#fdca26"
             ],
             [
              1,
              "#f0f921"
             ]
            ],
            "type": "surface"
           }
          ],
          "table": [
           {
            "cells": {
             "fill": {
              "color": "#EBF0F8"
             },
             "line": {
              "color": "white"
             }
            },
            "header": {
             "fill": {
              "color": "#C8D4E3"
             },
             "line": {
              "color": "white"
             }
            },
            "type": "table"
           }
          ]
         },
         "layout": {
          "annotationdefaults": {
           "arrowcolor": "#2a3f5f",
           "arrowhead": 0,
           "arrowwidth": 1
          },
          "autotypenumbers": "strict",
          "coloraxis": {
           "colorbar": {
            "outlinewidth": 0,
            "ticks": ""
           }
          },
          "colorscale": {
           "diverging": [
            [
             0,
             "#8e0152"
            ],
            [
             0.1,
             "#c51b7d"
            ],
            [
             0.2,
             "#de77ae"
            ],
            [
             0.3,
             "#f1b6da"
            ],
            [
             0.4,
             "#fde0ef"
            ],
            [
             0.5,
             "#f7f7f7"
            ],
            [
             0.6,
             "#e6f5d0"
            ],
            [
             0.7,
             "#b8e186"
            ],
            [
             0.8,
             "#7fbc41"
            ],
            [
             0.9,
             "#4d9221"
            ],
            [
             1,
             "#276419"
            ]
           ],
           "sequential": [
            [
             0,
             "#0d0887"
            ],
            [
             0.1111111111111111,
             "#46039f"
            ],
            [
             0.2222222222222222,
             "#7201a8"
            ],
            [
             0.3333333333333333,
             "#9c179e"
            ],
            [
             0.4444444444444444,
             "#bd3786"
            ],
            [
             0.5555555555555556,
             "#d8576b"
            ],
            [
             0.6666666666666666,
             "#ed7953"
            ],
            [
             0.7777777777777778,
             "#fb9f3a"
            ],
            [
             0.8888888888888888,
             "#fdca26"
            ],
            [
             1,
             "#f0f921"
            ]
           ],
           "sequentialminus": [
            [
             0,
             "#0d0887"
            ],
            [
             0.1111111111111111,
             "#46039f"
            ],
            [
             0.2222222222222222,
             "#7201a8"
            ],
            [
             0.3333333333333333,
             "#9c179e"
            ],
            [
             0.4444444444444444,
             "#bd3786"
            ],
            [
             0.5555555555555556,
             "#d8576b"
            ],
            [
             0.6666666666666666,
             "#ed7953"
            ],
            [
             0.7777777777777778,
             "#fb9f3a"
            ],
            [
             0.8888888888888888,
             "#fdca26"
            ],
            [
             1,
             "#f0f921"
            ]
           ]
          },
          "colorway": [
           "#636efa",
           "#EF553B",
           "#00cc96",
           "#ab63fa",
           "#FFA15A",
           "#19d3f3",
           "#FF6692",
           "#B6E880",
           "#FF97FF",
           "#FECB52"
          ],
          "font": {
           "color": "#2a3f5f"
          },
          "geo": {
           "bgcolor": "white",
           "lakecolor": "white",
           "landcolor": "#E5ECF6",
           "showlakes": true,
           "showland": true,
           "subunitcolor": "white"
          },
          "hoverlabel": {
           "align": "left"
          },
          "hovermode": "closest",
          "mapbox": {
           "style": "light"
          },
          "paper_bgcolor": "white",
          "plot_bgcolor": "#E5ECF6",
          "polar": {
           "angularaxis": {
            "gridcolor": "white",
            "linecolor": "white",
            "ticks": ""
           },
           "bgcolor": "#E5ECF6",
           "radialaxis": {
            "gridcolor": "white",
            "linecolor": "white",
            "ticks": ""
           }
          },
          "scene": {
           "xaxis": {
            "backgroundcolor": "#E5ECF6",
            "gridcolor": "white",
            "gridwidth": 2,
            "linecolor": "white",
            "showbackground": true,
            "ticks": "",
            "zerolinecolor": "white"
           },
           "yaxis": {
            "backgroundcolor": "#E5ECF6",
            "gridcolor": "white",
            "gridwidth": 2,
            "linecolor": "white",
            "showbackground": true,
            "ticks": "",
            "zerolinecolor": "white"
           },
           "zaxis": {
            "backgroundcolor": "#E5ECF6",
            "gridcolor": "white",
            "gridwidth": 2,
            "linecolor": "white",
            "showbackground": true,
            "ticks": "",
            "zerolinecolor": "white"
           }
          },
          "shapedefaults": {
           "line": {
            "color": "#2a3f5f"
           }
          },
          "ternary": {
           "aaxis": {
            "gridcolor": "white",
            "linecolor": "white",
            "ticks": ""
           },
           "baxis": {
            "gridcolor": "white",
            "linecolor": "white",
            "ticks": ""
           },
           "bgcolor": "#E5ECF6",
           "caxis": {
            "gridcolor": "white",
            "linecolor": "white",
            "ticks": ""
           }
          },
          "title": {
           "x": 0.05
          },
          "xaxis": {
           "automargin": true,
           "gridcolor": "white",
           "linecolor": "white",
           "ticks": "",
           "title": {
            "standoff": 15
           },
           "zerolinecolor": "white",
           "zerolinewidth": 2
          },
          "yaxis": {
           "automargin": true,
           "gridcolor": "white",
           "linecolor": "white",
           "ticks": "",
           "title": {
            "standoff": 15
           },
           "zerolinecolor": "white",
           "zerolinewidth": 2
          }
         }
        },
        "title": {
         "text": "Optimization History Plot"
        },
        "xaxis": {
         "title": {
          "text": "Trial"
         }
        },
        "yaxis": {
         "title": {
          "text": "Objective Value"
         }
        }
       }
      }
     },
     "metadata": {},
     "output_type": "display_data"
    }
   ],
   "source": [
    "print_study_results(\"mt_gcn\")"
   ]
  },
  {
   "cell_type": "code",
   "execution_count": 9,
   "metadata": {},
   "outputs": [
    {
     "name": "stdout",
     "output_type": "stream",
     "text": [
      "Study statistics: \n",
      "\tN finished trials:  1000\n",
      "\tN pruned trials:  0\n",
      "\tN completed trials:  1000\n",
      "Best trials:\n",
      "\tBest mean values:  [0.8948154824999927, 0.6397850828058678, 0.18196178814052072]\n",
      "\tCustom metrics:  {'avg_best_epoch': 15.6, 'avg_std': [0.04058711668149314, 0.00987902734728101, 0.07770501659942539]}\n",
      "\tParams: \n",
      "\t\tcls_loss_weight: 0.8\n",
      "\t\tn_buckets: 15\n",
      "\t\tn_edges: 3000\n",
      "\t\tlr: 0.001\n",
      "\t\tdp: 0.1\n",
      "\t\tact_fn: elu\n",
      "\t\ttrunk_ls: 32\n",
      "\t\tcls_ds: 32\n",
      "\t\tsurv_ds: 64\n",
      "\tBest mean values:  [0.8910056649824346, 0.6878889232673657, 0.186693918946585]\n",
      "\tCustom metrics:  {'avg_best_epoch': 18.2, 'avg_std': [0.047871485471133006, 0.07247395686716057, 0.071600407948321]}\n",
      "\tParams: \n",
      "\t\tcls_loss_weight: 0.8\n",
      "\t\tn_buckets: 15\n",
      "\t\tn_edges: 3000\n",
      "\t\tlr: 0.001\n",
      "\t\tdp: 0.1\n",
      "\t\tact_fn: elu\n",
      "\t\ttrunk_ls: 32\n",
      "\t\tcls_ds: 32\n",
      "\t\tsurv_ds: 32\n",
      "\tBest mean values:  [0.8993486930118479, 0.7001699296873467, 0.21491778149743745]\n",
      "\tCustom metrics:  {'avg_best_epoch': 17.4, 'avg_std': [0.04741943218229202, 0.033224282289655016, 0.05626552826233215]}\n",
      "\tParams: \n",
      "\t\tcls_loss_weight: 0.8\n",
      "\t\tn_buckets: 15\n",
      "\t\tn_edges: 1000\n",
      "\t\tlr: 0.001\n",
      "\t\tdp: 0.1\n",
      "\t\tact_fn: elu\n",
      "\t\ttrunk_ls: 64\n",
      "\t\tcls_ds: 32\n",
      "\t\tsurv_ds: 32\n",
      "\tBest mean values:  [0.9182923803469784, 0.6614174784299625, 0.19908928986131547]\n",
      "\tCustom metrics:  {'avg_best_epoch': 17.2, 'avg_std': [0.04857813435099917, 0.08027295561055664, 0.06966352121218772]}\n",
      "\tParams: \n",
      "\t\tcls_loss_weight: 0.8\n",
      "\t\tn_buckets: 15\n",
      "\t\tn_edges: 1000\n",
      "\t\tlr: 0.001\n",
      "\t\tdp: 0.1\n",
      "\t\tact_fn: elu\n",
      "\t\ttrunk_ls: 64\n",
      "\t\tcls_ds: 32\n",
      "\t\tsurv_ds: 32\n",
      "\tBest mean values:  [0.903811346753591, 0.6795354108015663, 0.187505989264574]\n",
      "\tCustom metrics:  {'avg_best_epoch': 14.4, 'avg_std': [0.041659060959899394, 0.06918931914101414, 0.05757202907960448]}\n",
      "\tParams: \n",
      "\t\tcls_loss_weight: 0.8\n",
      "\t\tn_buckets: 15\n",
      "\t\tn_edges: 1000\n",
      "\t\tlr: 0.001\n",
      "\t\tdp: 0.1\n",
      "\t\tact_fn: elu\n",
      "\t\ttrunk_ls: 64\n",
      "\t\tcls_ds: 32\n",
      "\t\tsurv_ds: 32\n",
      "\tBest mean values:  [0.9059818447407624, 0.6671016578730825, 0.18267035095963643]\n",
      "\tCustom metrics:  {'avg_best_epoch': 14.4, 'avg_std': [0.05696082514162728, 0.06732808564898299, 0.049673281104619355]}\n",
      "\tParams: \n",
      "\t\tcls_loss_weight: 0.8\n",
      "\t\tn_buckets: 15\n",
      "\t\tn_edges: 1000\n",
      "\t\tlr: 0.001\n",
      "\t\tdp: 0.1\n",
      "\t\tact_fn: elu\n",
      "\t\ttrunk_ls: 64\n",
      "\t\tcls_ds: 32\n",
      "\t\tsurv_ds: 32\n",
      "\tBest mean values:  [0.909763576832599, 0.625607436218773, 0.18342388223710826]\n",
      "\tCustom metrics:  {'avg_best_epoch': 18.4, 'avg_std': [0.04287413166144789, 0.08098019495530012, 0.055837078411870106]}\n",
      "\tParams: \n",
      "\t\tcls_loss_weight: 0.8\n",
      "\t\tn_buckets: 15\n",
      "\t\tn_edges: 1000\n",
      "\t\tlr: 0.001\n",
      "\t\tdp: 0.1\n",
      "\t\tact_fn: elu\n",
      "\t\ttrunk_ls: 64\n",
      "\t\tcls_ds: 32\n",
      "\t\tsurv_ds: 32\n",
      "\tBest mean values:  [0.92392380517473, 0.6166368793126975, 0.2207647990828626]\n",
      "\tCustom metrics:  {'avg_best_epoch': 15.8, 'avg_std': [0.04483481339905651, 0.044738117691551206, 0.06632510613084105]}\n",
      "\tParams: \n",
      "\t\tcls_loss_weight: 0.8\n",
      "\t\tn_buckets: 15\n",
      "\t\tn_edges: 1000\n",
      "\t\tlr: 0.001\n",
      "\t\tdp: 0.1\n",
      "\t\tact_fn: elu\n",
      "\t\ttrunk_ls: 64\n",
      "\t\tcls_ds: 32\n",
      "\t\tsurv_ds: 32\n",
      "\tBest mean values:  [0.8930157257471626, 0.6329120869262803, 0.17853926658171546]\n",
      "\tCustom metrics:  {'avg_best_epoch': 17.6, 'avg_std': [0.04623755832068812, 0.05937645366419446, 0.0416606681700629]}\n",
      "\tParams: \n",
      "\t\tcls_loss_weight: 0.8\n",
      "\t\tn_buckets: 15\n",
      "\t\tn_edges: 1000\n",
      "\t\tlr: 0.001\n",
      "\t\tdp: 0.1\n",
      "\t\tact_fn: leakyrelu\n",
      "\t\ttrunk_ls: 64\n",
      "\t\tcls_ds: 32\n",
      "\t\tsurv_ds: 32\n",
      "\tBest mean values:  [0.9003877943951473, 0.6867373367402761, 0.195751934117058]\n",
      "\tCustom metrics:  {'avg_best_epoch': 15.0, 'avg_std': [0.06084295313724765, 0.07890860867311104, 0.03635077232419917]}\n",
      "\tParams: \n",
      "\t\tcls_loss_weight: 0.8\n",
      "\t\tn_buckets: 15\n",
      "\t\tn_edges: 1000\n",
      "\t\tlr: 0.001\n",
      "\t\tdp: 0.1\n",
      "\t\tact_fn: elu\n",
      "\t\ttrunk_ls: 64\n",
      "\t\tcls_ds: 32\n",
      "\t\tsurv_ds: 32\n",
      "\tBest mean values:  [0.9185265852170046, 0.6688577141587547, 0.21253968328847922]\n",
      "\tCustom metrics:  {'avg_best_epoch': 18.2, 'avg_std': [0.047053185411799654, 0.08808937191598577, 0.06950772173759483]}\n",
      "\tParams: \n",
      "\t\tcls_loss_weight: 0.8\n",
      "\t\tn_buckets: 15\n",
      "\t\tn_edges: 1000\n",
      "\t\tlr: 0.001\n",
      "\t\tdp: 0.1\n",
      "\t\tact_fn: elu\n",
      "\t\ttrunk_ls: 64\n",
      "\t\tcls_ds: 32\n",
      "\t\tsurv_ds: 32\n",
      "\tBest mean values:  [0.90779176870432, 0.6741419575187605, 0.19377085947623995]\n",
      "\tCustom metrics:  {'avg_best_epoch': 16.4, 'avg_std': [0.055499817044610524, 0.04371537776423838, 0.061931469212005166]}\n",
      "\tParams: \n",
      "\t\tcls_loss_weight: 0.8\n",
      "\t\tn_buckets: 15\n",
      "\t\tn_edges: 1000\n",
      "\t\tlr: 0.001\n",
      "\t\tdp: 0.1\n",
      "\t\tact_fn: elu\n",
      "\t\ttrunk_ls: 64\n",
      "\t\tcls_ds: 32\n",
      "\t\tsurv_ds: 32\n",
      "\tBest mean values:  [0.9060666607490104, 0.6831536682597601, 0.19327435554553535]\n",
      "\tCustom metrics:  {'avg_best_epoch': 15.8, 'avg_std': [0.04719316893998793, 0.08547534021798124, 0.06894659386172135]}\n",
      "\tParams: \n",
      "\t\tcls_loss_weight: 0.8\n",
      "\t\tn_buckets: 15\n",
      "\t\tn_edges: 1000\n",
      "\t\tlr: 0.001\n",
      "\t\tdp: 0.1\n",
      "\t\tact_fn: elu\n",
      "\t\ttrunk_ls: 64\n",
      "\t\tcls_ds: 32\n",
      "\t\tsurv_ds: 32\n",
      "\tBest mean values:  [0.9232706865688357, 0.6186610600730236, 0.2040404220950808]\n",
      "\tCustom metrics:  {'avg_best_epoch': 17.4, 'avg_std': [0.04482464995552248, 0.07209299193633081, 0.05175182900425389]}\n",
      "\tParams: \n",
      "\t\tcls_loss_weight: 0.8\n",
      "\t\tn_buckets: 15\n",
      "\t\tn_edges: 1000\n",
      "\t\tlr: 0.001\n",
      "\t\tdp: 0.1\n",
      "\t\tact_fn: elu\n",
      "\t\ttrunk_ls: 64\n",
      "\t\tcls_ds: 32\n",
      "\t\tsurv_ds: 32\n",
      "\tBest mean values:  [0.894443012983569, 0.6924140065856503, 0.2138782334044848]\n",
      "\tCustom metrics:  {'avg_best_epoch': 19.4, 'avg_std': [0.03873180551107976, 0.021652383891728556, 0.06040009490567526]}\n",
      "\tParams: \n",
      "\t\tcls_loss_weight: 0.8\n",
      "\t\tn_buckets: 15\n",
      "\t\tn_edges: 1000\n",
      "\t\tlr: 0.001\n",
      "\t\tdp: 0.1\n",
      "\t\tact_fn: leakyrelu\n",
      "\t\ttrunk_ls: 64\n",
      "\t\tcls_ds: 32\n",
      "\t\tsurv_ds: 32\n",
      "\tBest mean values:  [0.8976456935285697, 0.6847966890287144, 0.1876791963854526]\n",
      "\tCustom metrics:  {'avg_best_epoch': 18.2, 'avg_std': [0.04313822634927517, 0.06755554227813282, 0.05888792127667782]}\n",
      "\tParams: \n",
      "\t\tcls_loss_weight: 0.8\n",
      "\t\tn_buckets: 15\n",
      "\t\tn_edges: 1000\n",
      "\t\tlr: 0.001\n",
      "\t\tdp: 0.1\n",
      "\t\tact_fn: elu\n",
      "\t\ttrunk_ls: 64\n",
      "\t\tcls_ds: 32\n",
      "\t\tsurv_ds: 32\n",
      "\tBest mean values:  [0.8920495737511118, 0.6673257434389029, 0.17809342264655373]\n",
      "\tCustom metrics:  {'avg_best_epoch': 20.8, 'avg_std': [0.05265132116604688, 0.09131191730584781, 0.06868636721090923]}\n",
      "\tParams: \n",
      "\t\tcls_loss_weight: 0.8\n",
      "\t\tn_buckets: 15\n",
      "\t\tn_edges: 1000\n",
      "\t\tlr: 0.001\n",
      "\t\tdp: 0.1\n",
      "\t\tact_fn: leakyrelu\n",
      "\t\ttrunk_ls: 64\n",
      "\t\tcls_ds: 32\n",
      "\t\tsurv_ds: 32\n",
      "\tBest mean values:  [0.906986680328043, 0.6900348080729789, 0.20430755220200889]\n",
      "\tCustom metrics:  {'avg_best_epoch': 17.0, 'avg_std': [0.059366932359386, 0.04493657544695059, 0.07488997491932056]}\n",
      "\tParams: \n",
      "\t\tcls_loss_weight: 0.8\n",
      "\t\tn_buckets: 15\n",
      "\t\tn_edges: None\n",
      "\t\tlr: 0.001\n",
      "\t\tdp: 0.1\n",
      "\t\tact_fn: leakyrelu\n",
      "\t\ttrunk_ls: 64\n",
      "\t\tcls_ds: 32\n",
      "\t\tsurv_ds: 32\n",
      "\tBest mean values:  [0.9371464397126598, 0.6377124835356314, 0.23048837950934717]\n",
      "\tCustom metrics:  {'avg_best_epoch': 17.8, 'avg_std': [0.04027567664776846, 0.0569182369335525, 0.08274145788914428]}\n",
      "\tParams: \n",
      "\t\tcls_loss_weight: 0.8\n",
      "\t\tn_buckets: 15\n",
      "\t\tn_edges: 1000\n",
      "\t\tlr: 0.001\n",
      "\t\tdp: 0.1\n",
      "\t\tact_fn: leakyrelu\n",
      "\t\ttrunk_ls: 64\n",
      "\t\tcls_ds: 32\n",
      "\t\tsurv_ds: 32\n",
      "\tBest mean values:  [0.8933104225956562, 0.6539000348178982, 0.18057433619891197]\n",
      "\tCustom metrics:  {'avg_best_epoch': 15.4, 'avg_std': [0.05670468438256722, 0.04526304037552929, 0.04526065277335522]}\n",
      "\tParams: \n",
      "\t\tcls_loss_weight: 0.8\n",
      "\t\tn_buckets: 15\n",
      "\t\tn_edges: 1000\n",
      "\t\tlr: 0.001\n",
      "\t\tdp: 0.1\n",
      "\t\tact_fn: leakyrelu\n",
      "\t\ttrunk_ls: 64\n",
      "\t\tcls_ds: 32\n",
      "\t\tsurv_ds: 32\n",
      "\tBest mean values:  [0.9193128463973105, 0.6391073755084857, 0.2257413886956865]\n",
      "\tCustom metrics:  {'avg_best_epoch': 15.4, 'avg_std': [0.04289859664955264, 0.04682544084378185, 0.10704691395942093]}\n",
      "\tParams: \n",
      "\t\tcls_loss_weight: 0.8\n",
      "\t\tn_buckets: 15\n",
      "\t\tn_edges: 1000\n",
      "\t\tlr: 0.0075\n",
      "\t\tdp: 0.1\n",
      "\t\tact_fn: leakyrelu\n",
      "\t\ttrunk_ls: 64\n",
      "\t\tcls_ds: 32\n",
      "\t\tsurv_ds: 32\n",
      "\tBest mean values:  [0.8986926324695588, 0.7012467137349029, 0.25392855541241016]\n",
      "\tCustom metrics:  {'avg_best_epoch': 15.4, 'avg_std': [0.07276622115405776, 0.07422043605306926, 0.08318377739856246]}\n",
      "\tParams: \n",
      "\t\tcls_loss_weight: 0.8\n",
      "\t\tn_buckets: 15\n",
      "\t\tn_edges: None\n",
      "\t\tlr: 0.001\n",
      "\t\tdp: 0.1\n",
      "\t\tact_fn: elu\n",
      "\t\ttrunk_ls: 64\n",
      "\t\tcls_ds: 32\n",
      "\t\tsurv_ds: 128\n",
      "\tBest mean values:  [0.9146599415949263, 0.6700209583183556, 0.1862035603209829]\n",
      "\tCustom metrics:  {'avg_best_epoch': 15.6, 'avg_std': [0.04562372666223469, 0.09230887439284387, 0.06295804470933794]}\n",
      "\tParams: \n",
      "\t\tcls_loss_weight: 0.8\n",
      "\t\tn_buckets: 15\n",
      "\t\tn_edges: None\n",
      "\t\tlr: 0.001\n",
      "\t\tdp: 0.1\n",
      "\t\tact_fn: elu\n",
      "\t\ttrunk_ls: 64\n",
      "\t\tcls_ds: 32\n",
      "\t\tsurv_ds: 32\n"
     ]
    }
   ],
   "source": [
    "print_study_results(\"mt_gat\")"
   ]
  }
 ],
 "metadata": {
  "kernelspec": {
   "display_name": "omics",
   "language": "python",
   "name": "python3"
  },
  "language_info": {
   "codemirror_mode": {
    "name": "ipython",
    "version": 3
   },
   "file_extension": ".py",
   "mimetype": "text/x-python",
   "name": "python",
   "nbconvert_exporter": "python",
   "pygments_lexer": "ipython3",
   "version": "3.11.5"
  }
 },
 "nbformat": 4,
 "nbformat_minor": 2
}
