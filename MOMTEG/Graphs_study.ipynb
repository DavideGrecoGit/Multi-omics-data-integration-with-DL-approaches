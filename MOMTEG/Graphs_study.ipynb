{
 "cells": [
  {
   "cell_type": "code",
   "execution_count": 9,
   "metadata": {},
   "outputs": [],
   "source": [
    "import pickle\n",
    "import pandas as pd\n",
    "import torch"
   ]
  },
  {
   "cell_type": "code",
   "execution_count": 91,
   "metadata": {},
   "outputs": [],
   "source": [
    "import torch\n",
    "import numpy as np\n",
    "from torch_geometric.utils import to_edge_index\n",
    "import matplotlib.pyplot as plt\n",
    "import networkx as nx\n",
    "import snf\n",
    "\n",
    "DEVICE = torch.device(\"cuda\" if torch.cuda.is_available() else \"cpu\")\n",
    "\n",
    "def print_hist(edge_attr):\n",
    "    plt.hist(edge_attr, log=True, ec=\"black\")\n",
    "    plt.xlabel(\"Normalised distance value\")\n",
    "    plt.ylabel(\"Counts (log)\")\n",
    "    plt.show()\n",
    "\n",
    "\n",
    "def min_max_normalisation(X):\n",
    "    return (X - X.min()) / (X.max() - X.min())\n",
    "\n",
    "def get_edge_index(X, threshold=None, N_largest=None):\n",
    "    if N_largest:\n",
    "        idx = np.argpartition(X.ravel(), -N_largest * 2)[-N_largest * 2 :]\n",
    "        threshold = X.ravel()[idx].min()\n",
    "\n",
    "    if threshold:\n",
    "        X[X < threshold] = 0\n",
    "\n",
    "    return to_edge_index((torch.tensor(X, dtype=torch.float).to_sparse()))\n",
    "\n",
    "def print_graph(edge_index, nodes_n):\n",
    "    H = nx.Graph()\n",
    "    # H.add_nodes_from(np.unique(edge_index.flatten()))\n",
    "    H.add_nodes_from(np.arange(0,nodes_n+1))\n",
    "    edges = [(int(e[0]), int(e[1])) for e in zip(edge_index[0], edge_index[1])]\n",
    "    H.add_edges_from(edges)\n",
    "\n",
    "    G = nx.Graph()\n",
    "    G.add_nodes_from(sorted(H.nodes(data=True)))\n",
    "    G.add_edges_from(H.edges(data=True))\n",
    "\n",
    "    nx.draw_networkx(\n",
    "        G,\n",
    "        with_labels=False,\n",
    "        # node_color=labels[np.array(G.nodes())].tolist(),\n",
    "        # node_color=labels,\n",
    "        node_size=1,\n",
    "        width=0.25,\n",
    "    )\n",
    "    # nx.draw_networkx(G, with_labels=False, node_size=1, width=0.25)\n",
    "\n",
    "    print(\"Total number of nodes: \", int(G.number_of_nodes()))\n",
    "    print(\"Number of isolated nodes: \", nx.number_of_isolates(G))\n",
    "    print(\"Total number of edges: \", int(G.number_of_edges()))\n",
    "    print(\"Max Degree for all nodes: \", np.array(G.degree())[:, 1].max())\n",
    "    print(\"Total number of self-loops: \", int(nx.number_of_selfloops(G)))\n",
    "\n",
    "    return G"
   ]
  },
  {
   "cell_type": "markdown",
   "metadata": {},
   "source": [
    "# MoGCN"
   ]
  },
  {
   "cell_type": "code",
   "execution_count": 92,
   "metadata": {},
   "outputs": [],
   "source": [
    "SNF_fused_matrix_path = \"./data/MoGCN_results/SNF_fused_matrix.csv\"\n",
    "adj = pd.read_csv(SNF_fused_matrix_path)\n",
    "n_nodes = len(adj)\n",
    "adj = adj.iloc[:,1:].values\n",
    "np.fill_diagonal(adj, 0)\n",
    "edge_index, edge_attr = get_edge_index(adj, threshold=0.005)"
   ]
  },
  {
   "cell_type": "code",
   "execution_count": 93,
   "metadata": {},
   "outputs": [
    {
     "name": "stdout",
     "output_type": "stream",
     "text": [
      "Total number of nodes:  512\n",
      "Number of isolated nodes:  273\n",
      "Total number of edges:  433\n",
      "Max Degree for all nodes:  18\n",
      "Total number of self-loops:  0\n"
     ]
    },
    {
     "data": {
      "text/plain": [
       "<networkx.classes.graph.Graph at 0x7ff020457b50>"
      ]
     },
     "execution_count": 93,
     "metadata": {},
     "output_type": "execute_result"
    },
    {
     "data": {
      "image/png": "[encoded data removed]",
      "text/plain": [
       "<Figure size 640x480 with 1 Axes>"
      ]
     },
     "metadata": {},
     "output_type": "display_data"
    }
   ],
   "source": [
    "print_graph(edge_index,n_nodes)"
   ]
  },
  {
   "cell_type": "markdown",
   "metadata": {},
   "source": [
    "# SUPREME"
   ]
  },
  {
   "cell_type": "code",
   "execution_count": 94,
   "metadata": {},
   "outputs": [
    {
     "data": {
      "text/plain": [
       "Var1       int64\n",
       "Var2       int64\n",
       "value    float64\n",
       "dtype: object"
      ]
     },
     "execution_count": 94,
     "metadata": {},
     "output_type": "execute_result"
    }
   ],
   "source": [
    "cna_edges_path = \"./data/SUPREME/sample_data/edges_cna.pkl\"\n",
    "cna_edges = pd.read_pickle(cna_edges_path)\n",
    "cna_edges[\"Var1\"] = pd.to_numeric(cna_edges[\"Var1\"])\n",
    "cna_edges[\"Var2\"] = pd.to_numeric(cna_edges[\"Var2\"])\n",
    "cna_edges = cna_edges.reset_index(drop=True)\n",
    "# cna_edges = cna_edges[[\"Var1\",\"Var2\"]]\n",
    "cna_edges.dtypes"
   ]
  },
  {
   "cell_type": "code",
   "execution_count": 95,
   "metadata": {},
   "outputs": [],
   "source": [
    "# cna_edges = cna_edges.drop_duplicates(subset=[\"Var1\",\"Var2\"],ignore_index=True, keep=\"first\")\n",
    "# cna_edges"
   ]
  },
  {
   "cell_type": "code",
   "execution_count": 96,
   "metadata": {},
   "outputs": [],
   "source": [
    "edge_index = [[],[]]\n",
    "for i, x in enumerate(zip(cna_edges[\"Var1\"].to_list(), cna_edges[\"Var2\"].to_list())):\n",
    "    if(x[0]!=x[1]):\n",
    "        edge_index[0].append(x[0])\n",
    "        edge_index[1].append(x[1])\n",
    "\n",
    "edge_index = torch.tensor(edge_index,dtype=torch.long)"
   ]
  },
  {
   "cell_type": "code",
   "execution_count": 97,
   "metadata": {},
   "outputs": [
    {
     "name": "stdout",
     "output_type": "stream",
     "text": [
      "Total number of nodes:  258\n",
      "Number of isolated nodes:  238\n",
      "Total number of edges:  34\n",
      "Max Degree for all nodes:  9\n",
      "Total number of self-loops:  0\n"
     ]
    },
    {
     "data": {
      "text/plain": [
       "<networkx.classes.graph.Graph at 0x7ff028cf3dd0>"
      ]
     },
     "execution_count": 97,
     "metadata": {},
     "output_type": "execute_result"
    },
    {
     "data": {
      "image/png": "[encoded data removed]",
      "text/plain": [
       "<Figure size 640x480 with 1 Axes>"
      ]
     },
     "metadata": {},
     "output_type": "display_data"
    }
   ],
   "source": [
    "print_graph(edge_index, 257)"
   ]
  },
  {
   "cell_type": "code",
   "execution_count": null,
   "metadata": {},
   "outputs": [],
   "source": []
  }
 ],
 "metadata": {
  "kernelspec": {
   "display_name": "omics",
   "language": "python",
   "name": "python3"
  },
  "language_info": {
   "codemirror_mode": {
    "name": "ipython",
    "version": 3
   },
   "file_extension": ".py",
   "mimetype": "text/x-python",
   "name": "python",
   "nbconvert_exporter": "python",
   "pygments_lexer": "ipython3",
   "version": "3.11.5"
  }
 },
 "nbformat": 4,
 "nbformat_minor": 2
}
