{
 "cells": [
  {
   "cell_type": "code",
   "execution_count": 8,
   "metadata": {},
   "outputs": [],
   "source": [
    "import numpy as np\n",
    "import matplotlib.pyplot as plt\n",
    "import pandas as pd\n",
    "from torch import nn\n",
    "from torch.nn import BatchNorm1d\n",
    "import torch.nn.functional as F\n",
    "\n",
    "# For preprocessing\n",
    "from sklearn.preprocessing import StandardScaler\n",
    "from sklearn_pandas import DataFrameMapper\n",
    "from sklearn.model_selection import StratifiedKFold\n",
    "import torch  # For building the networks\n",
    "import torchtuples as tt  # Some useful functions\n",
    "\n",
    "from pycox.datasets import metabric\n",
    "from pycox.models import MTLR\n",
    "from pycox.evaluation import EvalSurv\n",
    "\n",
    "from utils.utils import setup_seed, load_config\n",
    "from utils.data import get_discrete_time\n",
    "\n",
    "\n",
    "def get_bool_mask(df_gt, df_ids):\n",
    "    return np.array(df_gt[\"Sample_ID\"].isin(df_ids))\n",
    "\n",
    "\n",
    "# class minimalMLP(nn.Module):\n",
    "#     def __init__(self, config):\n",
    "#         super().__init__()\n",
    "\n",
    "#         self.layer_1 = nn.Sequential(\n",
    "#             nn.Linear(config[\"input_dim\"], config[\"trunk_ls\"]), BatchNorm1d(config[\"trunk_ls\"]), nn.ReLU()\n",
    "#         )\n",
    "#         self.layer_2 = nn.Sequential(\n",
    "#             nn.Linear(config[\"trunk_ls\"], config[\"surv_ds\"]), BatchNorm1d(config[\"surv_ds\"]), nn.ReLU()\n",
    "#         )\n",
    "#         self.layer_cls = nn.Linear(config[\"surv_ds\"], config[\"n_buckets\"])\n",
    "\n",
    "#     def forward(self, x):\n",
    "#         x = self.layer_1(x)\n",
    "\n",
    "#         x = self.layer_2(x)\n",
    "\n",
    "#         y = self.layer_cls(x)\n",
    "#         return y\n",
    "\n",
    "class minimalMLP(nn.Module):\n",
    "    def __init__(self,n_buckets, input_dim=100, latent_dim=32):\n",
    "        super().__init__()\n",
    "        self.n_buckets = n_buckets  # number of time intervals in the survival model\n",
    "\n",
    "        self.layer_1 = nn.Sequential(nn.Linear(input_dim, latent_dim), nn.ReLU())\n",
    "        self.layer_2 = nn.Sequential(nn.Linear(latent_dim, latent_dim), nn.ReLU())\n",
    "        self.layer_cls = nn.Linear(latent_dim, n_buckets)\n",
    "\n",
    "    def forward(self, x):\n",
    "        x = self.layer_1(x)\n",
    "        x = self.layer_2(x)\n",
    "        y = self.layer_cls(x)\n",
    "        return y\n",
    "\n",
    "config = load_config(\"config.json\")\n",
    "setup_seed(config[\"seed\"])"
   ]
  },
  {
   "cell_type": "code",
   "execution_count": 3,
   "metadata": {},
   "outputs": [
    {
     "data": {
      "text/html": [
       "<div>\n",
       "<style scoped>\n",
       "    .dataframe tbody tr th:only-of-type {\n",
       "        vertical-align: middle;\n",
       "    }\n",
       "\n",
       "    .dataframe tbody tr th {\n",
       "        vertical-align: top;\n",
       "    }\n",
       "\n",
       "    .dataframe thead th {\n",
       "        text-align: right;\n",
       "    }\n",
       "</style>\n",
       "<table border=\"1\" class=\"dataframe\">\n",
       "  <thead>\n",
       "    <tr style=\"text-align: right;\">\n",
       "      <th></th>\n",
       "      <th>Sample_ID</th>\n",
       "      <th>class</th>\n",
       "      <th>Pam50 Subtype</th>\n",
       "      <th>Status</th>\n",
       "      <th>Survival_in_days</th>\n",
       "      <th>Strat_ID</th>\n",
       "    </tr>\n",
       "  </thead>\n",
       "  <tbody>\n",
       "    <tr>\n",
       "      <th>0</th>\n",
       "      <td>A1-A0SF</td>\n",
       "      <td>0</td>\n",
       "      <td>LumA</td>\n",
       "      <td>False</td>\n",
       "      <td>1463</td>\n",
       "      <td>LumA_0</td>\n",
       "    </tr>\n",
       "    <tr>\n",
       "      <th>1</th>\n",
       "      <td>A1-A0SJ</td>\n",
       "      <td>0</td>\n",
       "      <td>LumA</td>\n",
       "      <td>False</td>\n",
       "      <td>416</td>\n",
       "      <td>LumA_0</td>\n",
       "    </tr>\n",
       "    <tr>\n",
       "      <th>2</th>\n",
       "      <td>A1-A0SK</td>\n",
       "      <td>2</td>\n",
       "      <td>Basal</td>\n",
       "      <td>True</td>\n",
       "      <td>967</td>\n",
       "      <td>Basal_1</td>\n",
       "    </tr>\n",
       "    <tr>\n",
       "      <th>3</th>\n",
       "      <td>A1-A0SO</td>\n",
       "      <td>2</td>\n",
       "      <td>Basal</td>\n",
       "      <td>False</td>\n",
       "      <td>852</td>\n",
       "      <td>Basal_0</td>\n",
       "    </tr>\n",
       "    <tr>\n",
       "      <th>4</th>\n",
       "      <td>A1-A0SQ</td>\n",
       "      <td>0</td>\n",
       "      <td>LumA</td>\n",
       "      <td>False</td>\n",
       "      <td>554</td>\n",
       "      <td>LumA_0</td>\n",
       "    </tr>\n",
       "  </tbody>\n",
       "</table>\n",
       "</div>"
      ],
      "text/plain": [
       "  Sample_ID  class Pam50 Subtype  Status  Survival_in_days Strat_ID\n",
       "0   A1-A0SF      0          LumA   False              1463   LumA_0\n",
       "1   A1-A0SJ      0          LumA   False               416   LumA_0\n",
       "2   A1-A0SK      2         Basal    True               967  Basal_1\n",
       "3   A1-A0SO      2         Basal   False               852  Basal_0\n",
       "4   A1-A0SQ      0          LumA   False               554   LumA_0"
      ]
     },
     "execution_count": 3,
     "metadata": {},
     "output_type": "execute_result"
    }
   ],
   "source": [
    "gt_df = pd.read_csv(config[\"gt_path\"])\n",
    "gt_df.head()"
   ]
  },
  {
   "cell_type": "code",
   "execution_count": 4,
   "metadata": {},
   "outputs": [
    {
     "data": {
      "text/plain": [
       "(503, 6)"
      ]
     },
     "execution_count": 4,
     "metadata": {},
     "output_type": "execute_result"
    }
   ],
   "source": [
    "y = get_discrete_time(gt_df, config[\"n_buckets\"])\n",
    "y.shape"
   ]
  },
  {
   "cell_type": "code",
   "execution_count": 5,
   "metadata": {},
   "outputs": [
    {
     "data": {
      "text/plain": [
       "(503, 100)"
      ]
     },
     "execution_count": 5,
     "metadata": {},
     "output_type": "execute_result"
    }
   ],
   "source": [
    "latent_df = pd.read_csv(config[\"latent_path\"])\n",
    "data_x = latent_df.iloc[:, 1:].values\n",
    "data_x.shape"
   ]
  },
  {
   "cell_type": "code",
   "execution_count": 6,
   "metadata": {},
   "outputs": [
    {
     "data": {
      "text/plain": [
       "(402,)"
      ]
     },
     "execution_count": 6,
     "metadata": {},
     "output_type": "execute_result"
    }
   ],
   "source": [
    "train_mask = get_bool_mask(gt_df, pd.read_csv(config[\"train_path\"])[\"Sample_ID\"])\n",
    "train_y = gt_df[\"Strat_ID\"][train_mask]\n",
    "train_ids = gt_df[\"Sample_ID\"][train_mask]\n",
    "\n",
    "train_y.shape"
   ]
  },
  {
   "cell_type": "code",
   "execution_count": 13,
   "metadata": {},
   "outputs": [],
   "source": [
    "def get_data(gt_df, train_mask, test_mask):\n",
    "    df_y_train = gt_df[train_mask]\n",
    "    df_y_test = gt_df[test_mask]\n",
    "\n",
    "    labtrans = MTLR.label_transform(config[\"n_buckets\"])\n",
    "    get_target = lambda df: (df[\"Survival_in_days\"].values, df[\"Status\"].values)\n",
    "    y_train = labtrans.fit_transform(*get_target(df_y_train))\n",
    "\n",
    "    # # We don't need to transform the test labels\n",
    "    durations_test, events_test = get_target(df_y_test)\n",
    "\n",
    "    x_train = data_x[train_mask].astype(\"float32\")\n",
    "    x_test = data_x[test_mask].astype(\"float32\")\n",
    "\n",
    "    return x_train, y_train, x_test, durations_test, events_test, labtrans\n",
    "\n",
    "\n",
    "def train_model(config, x_train, y_train, labtrans):\n",
    "    config[\"input_dim\"] = x_train.shape[1]\n",
    "    batch_size = x_train.shape[0]\n",
    "    net = minimalMLP(config)\n",
    "\n",
    "    model = MTLR(net, tt.optim.Adam, duration_index=labtrans.cuts)\n",
    "\n",
    "    model.optimizer.set_lr(config[\"lr\"])\n",
    "    callbacks = [tt.callbacks.EarlyStopping()]\n",
    "    log = model.fit(\n",
    "        x_train, y_train, batch_size, config[\"epochs\"], callbacks, verbose=False\n",
    "    )\n",
    "    # _ = log.plot()\n",
    "\n",
    "    return model\n",
    "\n",
    "\n",
    "\n",
    "skf = StratifiedKFold(\n",
    "    n_splits=config[\"n_kfolds\"], random_state=config[\"seed\"], shuffle=True\n",
    ")\n",
    "metrics = []\n",
    "\n",
    "for k, (train_index, val_index) in enumerate(skf.split(train_ids, train_y)):\n",
    "    train_mask = get_bool_mask(gt_df, gt_df[\"Sample_ID\"][train_index])\n",
    "    val_mask = get_bool_mask(gt_df, gt_df[\"Sample_ID\"][val_index])\n",
    "\n",
    "    x_train, y_train, x_val, durations_val, events_val, labtrans = get_data(\n",
    "        gt_df, train_mask, val_mask\n",
    "    )\n",
    "\n",
    "    model = train_model(config, x_train, y_train, labtrans)\n",
    "\n",
    "    surv = model.interpolate(5).predict_surv_df(x_val)\n",
    "    ev = EvalSurv(surv, durations_val, events_val, censor_surv=\"km\")\n",
    "\n",
    "    metrics.append(ev.concordance_td(\"antolini\"))\n",
    "metrics = np.array(metrics)"
   ]
  },
  {
   "cell_type": "code",
   "execution_count": 14,
   "metadata": {},
   "outputs": [
    {
     "data": {
      "text/plain": [
       "array([0.44621514, 0.45432099, 0.43921569, 0.5       , 0.44256757])"
      ]
     },
     "execution_count": 14,
     "metadata": {},
     "output_type": "execute_result"
    }
   ],
   "source": [
    "metrics"
   ]
  },
  {
   "cell_type": "code",
   "execution_count": 15,
   "metadata": {},
   "outputs": [
    {
     "name": "stdout",
     "output_type": "stream",
     "text": [
      "0.4563414634146342\n",
      "0.053851648071345036\n"
     ]
    }
   ],
   "source": [
    "train_mask = get_bool_mask(\n",
    "    gt_df, pd.read_csv(\"./data/MoGCN_data/train_stratified.csv\")[\"Sample_ID\"]\n",
    ")\n",
    "test_mask = get_bool_mask(\n",
    "    gt_df, pd.read_csv(\"./data/MoGCN_data/test_stratified.csv\")[\"Sample_ID\"]\n",
    ")\n",
    "\n",
    "metrics = []\n",
    "n_trials = 10\n",
    "for i in range(n_trials):\n",
    "\n",
    "    x_train, y_train, x_test, durations_test, events_test, labtrans = get_data(\n",
    "        gt_df, train_mask, test_mask\n",
    "    )\n",
    "\n",
    "    model = train_model(config, x_train, y_train, labtrans)\n",
    "\n",
    "    surv = model.interpolate(5).predict_surv_df(x_test)\n",
    "    ev = EvalSurv(surv, durations_test, events_test, censor_surv=\"km\")\n",
    "\n",
    "    metrics.append(ev.concordance_td(\"antolini\"))\n",
    "\n",
    "metrics = np.array(metrics)\n",
    "print(metrics.mean())\n",
    "print(metrics.std())"
   ]
  },
  {
   "cell_type": "markdown",
   "metadata": {},
   "source": [
    "### Train"
   ]
  },
  {
   "cell_type": "code",
   "execution_count": 17,
   "metadata": {},
   "outputs": [],
   "source": [
    "import torch\n",
    "from torch import nn\n",
    "from torch.nn import BatchNorm1d\n",
    "import torch.nn.functional as F\n",
    "from torchtuples import tuplefy\n",
    "\n",
    "\n",
    "class DenseVanillaBlock(nn.Module):\n",
    "    def __init__(\n",
    "        self,\n",
    "        in_features,\n",
    "        out_features,\n",
    "        bias=True,\n",
    "        batch_norm=True,\n",
    "        dropout=0.0,\n",
    "        activation=nn.ReLU,\n",
    "        w_init_=lambda w: nn.init.kaiming_normal_(w, nonlinearity=\"relu\"),\n",
    "    ):\n",
    "        super().__init__()\n",
    "        self.linear = nn.Linear(in_features, out_features, bias)\n",
    "        if w_init_:\n",
    "            w_init_(self.linear.weight.data)\n",
    "        self.activation = activation()\n",
    "        self.batch_norm = nn.BatchNorm1d(out_features) if batch_norm else None\n",
    "        self.dropout = nn.Dropout(dropout) if dropout else None\n",
    "\n",
    "    def forward(self, input):\n",
    "        input = self.activation(self.linear(input))\n",
    "        if self.batch_norm:\n",
    "            input = self.batch_norm(input)\n",
    "        if self.dropout:\n",
    "            input = self.dropout(input)\n",
    "        return input\n",
    "\n",
    "\n",
    "class MLPVanilla(nn.Module):\n",
    "    def __init__(\n",
    "        self,\n",
    "        in_features,\n",
    "        num_nodes,\n",
    "        out_features,\n",
    "        batch_norm=True,\n",
    "        dropout=None,\n",
    "        activation=nn.ReLU,\n",
    "        output_activation=None,\n",
    "        output_bias=True,\n",
    "        w_init_=lambda w: nn.init.kaiming_normal_(w, nonlinearity=\"relu\"),\n",
    "    ):\n",
    "        super().__init__()\n",
    "        num_nodes = tuplefy(in_features, num_nodes).flatten()\n",
    "        if not hasattr(dropout, \"__iter__\"):\n",
    "            dropout = [dropout for _ in range(len(num_nodes) - 1)]\n",
    "        net = []\n",
    "        for n_in, n_out, p in zip(num_nodes[:-1], num_nodes[1:], dropout):\n",
    "            net.append(\n",
    "                DenseVanillaBlock(n_in, n_out, True, batch_norm, p, activation, w_init_)\n",
    "            )\n",
    "        net.append(nn.Linear(num_nodes[-1], out_features, output_bias))\n",
    "        if output_activation:\n",
    "            net.append(output_activation)\n",
    "        self.net = nn.Sequential(*net)\n",
    "\n",
    "    def forward(self, input):\n",
    "        return self.net(input)"
   ]
  },
  {
   "cell_type": "code",
   "execution_count": 18,
   "metadata": {},
   "outputs": [
    {
     "name": "stdout",
     "output_type": "stream",
     "text": [
      "MLPVanilla(\n",
      "  (net): Sequential(\n",
      "    (0): DenseVanillaBlock(\n",
      "      (linear): Linear(in_features=100, out_features=32, bias=True)\n",
      "      (activation): ReLU()\n",
      "      (batch_norm): BatchNorm1d(32, eps=1e-05, momentum=0.1, affine=True, track_running_stats=True)\n",
      "      (dropout): Dropout(p=0.1, inplace=False)\n",
      "    )\n",
      "    (1): DenseVanillaBlock(\n",
      "      (linear): Linear(in_features=32, out_features=32, bias=True)\n",
      "      (activation): ReLU()\n",
      "      (batch_norm): BatchNorm1d(32, eps=1e-05, momentum=0.1, affine=True, track_running_stats=True)\n",
      "      (dropout): Dropout(p=0.1, inplace=False)\n",
      "    )\n",
      "    (2): Linear(in_features=32, out_features=10, bias=True)\n",
      "  )\n",
      ")\n"
     ]
    }
   ],
   "source": [
    "from torchsummary import summary\n",
    "\n",
    "in_features = x_train.shape[1]\n",
    "num_nodes = [32, 32]\n",
    "out_features = labtrans.out_features\n",
    "batch_norm = True\n",
    "dropout = 0.1\n",
    "\n",
    "net = tt.practical.MLPVanilla(in_features, num_nodes, out_features, batch_norm, dropout)\n",
    "print(net)"
   ]
  },
  {
   "cell_type": "code",
   "execution_count": 16,
   "metadata": {},
   "outputs": [
    {
     "name": "stdout",
     "output_type": "stream",
     "text": [
      "minimalMLP(\n",
      "  (layer_1): Sequential(\n",
      "    (0): Linear(in_features=100, out_features=32, bias=True)\n",
      "    (1): ReLU()\n",
      "  )\n",
      "  (norm_1): BatchNorm1d(32, eps=1e-05, momentum=0.1, affine=True, track_running_stats=True)\n",
      "  (layer_cls): Linear(in_features=32, out_features=10, bias=True)\n",
      ")\n"
     ]
    }
   ],
   "source": [
    "in_features = x_train.shape[1]\n",
    "num_nodes = [32, 32]\n",
    "out_features = labtrans.out_features\n",
    "batch_norm = True\n",
    "\n",
    "net = minimalMLP(out_features, in_features, num_nodes[0])\n",
    "print(net)"
   ]
  },
  {
   "cell_type": "code",
   "execution_count": 34,
   "metadata": {},
   "outputs": [
    {
     "name": "stdout",
     "output_type": "stream",
     "text": [
      "0:\t[0s / 0s],\t\ttrain_loss: 0.5960\n",
      "1:\t[0s / 0s],\t\ttrain_loss: 0.4724\n",
      "2:\t[0s / 0s],\t\ttrain_loss: 0.4654\n",
      "3:\t[0s / 0s],\t\ttrain_loss: 0.4514\n",
      "4:\t[0s / 0s],\t\ttrain_loss: 0.4405\n",
      "5:\t[0s / 0s],\t\ttrain_loss: 0.4196\n",
      "6:\t[0s / 0s],\t\ttrain_loss: 0.4236\n",
      "7:\t[0s / 0s],\t\ttrain_loss: 0.4141\n",
      "8:\t[0s / 0s],\t\ttrain_loss: 0.4178\n",
      "9:\t[0s / 0s],\t\ttrain_loss: 0.4071\n"
     ]
    },
    {
     "data": {
      "text/plain": [
       "0.4634146341463415"
      ]
     },
     "execution_count": 34,
     "metadata": {},
     "output_type": "execute_result"
    },
    {
     "data": {
      "image/png": "[encoded data removed]",
      "text/plain": [
       "<Figure size 640x480 with 1 Axes>"
      ]
     },
     "metadata": {},
     "output_type": "display_data"
    }
   ],
   "source": [
    "in_features = x_train.shape[1]\n",
    "num_nodes = [32, 32]\n",
    "out_features = labtrans.out_features\n",
    "batch_norm = True\n",
    "dropout = 0.1\n",
    "\n",
    "# net = tt.practical.MLPVanilla(in_features, num_nodes, out_features, batch_norm, dropout)\n",
    "net = minimalMLP(out_features, in_features, num_nodes[0])\n",
    "\n",
    "model = MTLR(net, tt.optim.Adam, duration_index=labtrans.cuts)\n",
    "batch_size = 256\n",
    "model.optimizer.set_lr(0.01)\n",
    "epochs = 100\n",
    "callbacks = [tt.callbacks.EarlyStopping()]\n",
    "log = model.fit(x_train, y_train, batch_size, epochs, callbacks)\n",
    "_ = log.plot()\n",
    "\n",
    "surv = model.interpolate(5).predict_surv_df(x_test)\n",
    "ev = EvalSurv(surv, durations_test, events_test, censor_surv=\"km\")\n",
    "ev.concordance_td(\"antolini\")"
   ]
  },
  {
   "cell_type": "markdown",
   "metadata": {},
   "source": [
    "### Prediction"
   ]
  },
  {
   "cell_type": "code",
   "execution_count": 20,
   "metadata": {},
   "outputs": [
    {
     "data": {
      "image/png": "[encoded data removed]",
      "text/plain": [
       "<Figure size 640x480 with 1 Axes>"
      ]
     },
     "metadata": {},
     "output_type": "display_data"
    }
   ],
   "source": [
    "surv = model.interpolate(5).predict_surv_df(x_test)\n",
    "surv.iloc[:, :5].plot(drawstyle=\"steps-post\")\n",
    "plt.ylabel(\"S(t | x)\")\n",
    "_ = plt.xlabel(\"Time\")"
   ]
  },
  {
   "cell_type": "markdown",
   "metadata": {},
   "source": [
    "### Evaluation"
   ]
  },
  {
   "cell_type": "code",
   "execution_count": 22,
   "metadata": {},
   "outputs": [
    {
     "data": {
      "text/plain": [
       "0.5292682926829269"
      ]
     },
     "execution_count": 22,
     "metadata": {},
     "output_type": "execute_result"
    }
   ],
   "source": [
    "ev = EvalSurv(surv, durations_test, events_test, censor_surv=\"km\")\n",
    "ev.concordance_td(\"antolini\")"
   ]
  },
  {
   "cell_type": "code",
   "execution_count": null,
   "metadata": {},
   "outputs": [],
   "source": []
  }
 ],
 "metadata": {
  "kernelspec": {
   "display_name": "omics",
   "language": "python",
   "name": "python3"
  },
  "language_info": {
   "codemirror_mode": {
    "name": "ipython",
    "version": 3
   },
   "file_extension": ".py",
   "mimetype": "text/x-python",
   "name": "python",
   "nbconvert_exporter": "python",
   "pygments_lexer": "ipython3",
   "version": "3.11.5"
  }
 },
 "nbformat": 4,
 "nbformat_minor": 2
}
