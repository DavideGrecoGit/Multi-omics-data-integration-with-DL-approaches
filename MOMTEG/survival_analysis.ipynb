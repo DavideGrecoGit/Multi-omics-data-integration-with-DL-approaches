{
 "cells": [
  {
   "cell_type": "code",
   "execution_count": 6,
   "metadata": {},
   "outputs": [],
   "source": [
    "import os\n",
    "import numpy as np\n",
    "import pandas as pd\n",
    "import matplotlib.pyplot as plt\n",
    "from sksurv.nonparametric import kaplan_meier_estimator\n",
    "\n",
    "\n",
    "def plot_km(surv_data, survival_clm=\"Survival_in_days\", group_clm=None, conf = False):\n",
    "\n",
    "    if group_clm is None:\n",
    "        time, survival_prob, conf_int = kaplan_meier_estimator(\n",
    "            surv_data[\"Status\"], surv_data[survival_clm], conf_type=\"log-log\"\n",
    "        )\n",
    "\n",
    "        plt.step(time, survival_prob, where=\"post\")\n",
    "        if conf:\n",
    "            plt.fill_between(time, conf_int[0], conf_int[1], alpha=0.25, step=\"post\")\n",
    "    else:\n",
    "        for group_type in np.unique(surv_data[group_clm]):\n",
    "            mask = surv_data[group_clm] == group_type\n",
    "            time_treatment, survival_prob_treatment, conf_int = kaplan_meier_estimator(\n",
    "                surv_data[\"Status\"][mask],\n",
    "                surv_data[survival_clm][mask],\n",
    "                conf_type=\"log-log\",\n",
    "            )\n",
    "\n",
    "            plt.step(\n",
    "                time_treatment,\n",
    "                survival_prob_treatment,\n",
    "                where=\"post\",\n",
    "                label=f\"{group_type}\",\n",
    "            )\n",
    "            plt.legend(loc=\"best\")\n",
    "\n",
    "            if conf:\n",
    "                plt.fill_between(\n",
    "                    time_treatment, conf_int[0], conf_int[1], alpha=0.25, step=\"post\"\n",
    "                )\n",
    "    plt.ylim(0, 1)\n",
    "    plt.ylabel(r\"est. probability of survival $\\hat{S}(t)$\")\n",
    "    plt.xlabel(\"time $t$\")\n",
    "\n",
    "from utils.plots import get_chisq"
   ]
  },
  {
   "cell_type": "code",
   "execution_count": 2,
   "metadata": {},
   "outputs": [
    {
     "data": {
      "text/html": [
       "<div>\n",
       "<style scoped>\n",
       "    .dataframe tbody tr th:only-of-type {\n",
       "        vertical-align: middle;\n",
       "    }\n",
       "\n",
       "    .dataframe tbody tr th {\n",
       "        vertical-align: top;\n",
       "    }\n",
       "\n",
       "    .dataframe thead th {\n",
       "        text-align: right;\n",
       "    }\n",
       "</style>\n",
       "<table border=\"1\" class=\"dataframe\">\n",
       "  <thead>\n",
       "    <tr style=\"text-align: right;\">\n",
       "      <th></th>\n",
       "      <th>Sample_ID</th>\n",
       "      <th>class</th>\n",
       "      <th>Pam50 Subtype</th>\n",
       "      <th>Status</th>\n",
       "      <th>Survival_in_days</th>\n",
       "      <th>Strat_ID</th>\n",
       "    </tr>\n",
       "  </thead>\n",
       "  <tbody>\n",
       "    <tr>\n",
       "      <th>0</th>\n",
       "      <td>A1-A0SF</td>\n",
       "      <td>0</td>\n",
       "      <td>LumA</td>\n",
       "      <td>False</td>\n",
       "      <td>1463</td>\n",
       "      <td>LumA_0</td>\n",
       "    </tr>\n",
       "    <tr>\n",
       "      <th>1</th>\n",
       "      <td>A1-A0SJ</td>\n",
       "      <td>0</td>\n",
       "      <td>LumA</td>\n",
       "      <td>False</td>\n",
       "      <td>416</td>\n",
       "      <td>LumA_0</td>\n",
       "    </tr>\n",
       "    <tr>\n",
       "      <th>2</th>\n",
       "      <td>A1-A0SK</td>\n",
       "      <td>2</td>\n",
       "      <td>Basal</td>\n",
       "      <td>True</td>\n",
       "      <td>967</td>\n",
       "      <td>Basal_1</td>\n",
       "    </tr>\n",
       "    <tr>\n",
       "      <th>3</th>\n",
       "      <td>A1-A0SO</td>\n",
       "      <td>2</td>\n",
       "      <td>Basal</td>\n",
       "      <td>False</td>\n",
       "      <td>852</td>\n",
       "      <td>Basal_0</td>\n",
       "    </tr>\n",
       "    <tr>\n",
       "      <th>4</th>\n",
       "      <td>A1-A0SQ</td>\n",
       "      <td>0</td>\n",
       "      <td>LumA</td>\n",
       "      <td>False</td>\n",
       "      <td>554</td>\n",
       "      <td>LumA_0</td>\n",
       "    </tr>\n",
       "    <tr>\n",
       "      <th>...</th>\n",
       "      <td>...</td>\n",
       "      <td>...</td>\n",
       "      <td>...</td>\n",
       "      <td>...</td>\n",
       "      <td>...</td>\n",
       "      <td>...</td>\n",
       "    </tr>\n",
       "    <tr>\n",
       "      <th>498</th>\n",
       "      <td>GM-A2DM</td>\n",
       "      <td>0</td>\n",
       "      <td>LumA</td>\n",
       "      <td>False</td>\n",
       "      <td>3226</td>\n",
       "      <td>LumA_0</td>\n",
       "    </tr>\n",
       "    <tr>\n",
       "      <th>499</th>\n",
       "      <td>GM-A2DN</td>\n",
       "      <td>0</td>\n",
       "      <td>LumA</td>\n",
       "      <td>False</td>\n",
       "      <td>3091</td>\n",
       "      <td>LumA_0</td>\n",
       "    </tr>\n",
       "    <tr>\n",
       "      <th>500</th>\n",
       "      <td>GM-A2DO</td>\n",
       "      <td>1</td>\n",
       "      <td>LumB</td>\n",
       "      <td>False</td>\n",
       "      <td>2596</td>\n",
       "      <td>LumB_0</td>\n",
       "    </tr>\n",
       "    <tr>\n",
       "      <th>501</th>\n",
       "      <td>GM-A3NY</td>\n",
       "      <td>0</td>\n",
       "      <td>LumA</td>\n",
       "      <td>False</td>\n",
       "      <td>1162</td>\n",
       "      <td>LumA_0</td>\n",
       "    </tr>\n",
       "    <tr>\n",
       "      <th>502</th>\n",
       "      <td>HN-A2NL</td>\n",
       "      <td>2</td>\n",
       "      <td>Basal</td>\n",
       "      <td>False</td>\n",
       "      <td>79</td>\n",
       "      <td>Basal_0</td>\n",
       "    </tr>\n",
       "  </tbody>\n",
       "</table>\n",
       "<p>503 rows × 6 columns</p>\n",
       "</div>"
      ],
      "text/plain": [
       "    Sample_ID  class Pam50 Subtype  Status  Survival_in_days Strat_ID\n",
       "0     A1-A0SF      0          LumA   False              1463   LumA_0\n",
       "1     A1-A0SJ      0          LumA   False               416   LumA_0\n",
       "2     A1-A0SK      2         Basal    True               967  Basal_1\n",
       "3     A1-A0SO      2         Basal   False               852  Basal_0\n",
       "4     A1-A0SQ      0          LumA   False               554   LumA_0\n",
       "..        ...    ...           ...     ...               ...      ...\n",
       "498   GM-A2DM      0          LumA   False              3226   LumA_0\n",
       "499   GM-A2DN      0          LumA   False              3091   LumA_0\n",
       "500   GM-A2DO      1          LumB   False              2596   LumB_0\n",
       "501   GM-A3NY      0          LumA   False              1162   LumA_0\n",
       "502   HN-A2NL      2         Basal   False                79  Basal_0\n",
       "\n",
       "[503 rows x 6 columns]"
      ]
     },
     "execution_count": 2,
     "metadata": {},
     "output_type": "execute_result"
    }
   ],
   "source": [
    "surv_data = pd.read_csv(\"./data/MoGCN_data/gt_data.csv\")\n",
    "surv_data"
   ]
  },
  {
   "cell_type": "markdown",
   "metadata": {},
   "source": [
    "#### KM plots"
   ]
  },
  {
   "cell_type": "code",
   "execution_count": 11,
   "metadata": {},
   "outputs": [
    {
     "data": {
      "image/png": "[encoded data removed]",
      "text/plain": [
       "<Figure size 640x480 with 1 Axes>"
      ]
     },
     "metadata": {},
     "output_type": "display_data"
    }
   ],
   "source": [
    "plot_km(surv_data, survival_clm=\"Survival_in_days\")"
   ]
  },
  {
   "cell_type": "code",
   "execution_count": 3,
   "metadata": {},
   "outputs": [
    {
     "data": {
      "image/png": "[encoded data removed]",
      "text/plain": [
       "<Figure size 640x480 with 1 Axes>"
      ]
     },
     "metadata": {},
     "output_type": "display_data"
    }
   ],
   "source": [
    "plot_km(surv_data, group_clm=\"Pam50 Subtype\", conf=True)"
   ]
  },
  {
   "cell_type": "markdown",
   "metadata": {},
   "source": [
    "#### Chi-square"
   ]
  },
  {
   "cell_type": "code",
   "execution_count": 4,
   "metadata": {},
   "outputs": [
    {
     "data": {
      "text/plain": [
       "(11.499351091978287, 0.009310591664479737)"
      ]
     },
     "execution_count": 4,
     "metadata": {},
     "output_type": "execute_result"
    }
   ],
   "source": [
    "get_chisq(surv_data, surv_data[\"Pam50 Subtype\"])"
   ]
  },
  {
   "cell_type": "markdown",
   "metadata": {},
   "source": [
    "# Results"
   ]
  },
  {
   "cell_type": "code",
   "execution_count": 27,
   "metadata": {},
   "outputs": [
    {
     "data": {
      "text/html": [
       "<div>\n",
       "<style scoped>\n",
       "    .dataframe tbody tr th:only-of-type {\n",
       "        vertical-align: middle;\n",
       "    }\n",
       "\n",
       "    .dataframe tbody tr th {\n",
       "        vertical-align: top;\n",
       "    }\n",
       "\n",
       "    .dataframe thead th {\n",
       "        text-align: right;\n",
       "    }\n",
       "</style>\n",
       "<table border=\"1\" class=\"dataframe\">\n",
       "  <thead>\n",
       "    <tr style=\"text-align: right;\">\n",
       "      <th></th>\n",
       "      <th>acc</th>\n",
       "      <th>f1</th>\n",
       "      <th>chisqr</th>\n",
       "      <th>p_value</th>\n",
       "      <th>c_index</th>\n",
       "    </tr>\n",
       "    <tr>\n",
       "      <th>model</th>\n",
       "      <th></th>\n",
       "      <th></th>\n",
       "      <th></th>\n",
       "      <th></th>\n",
       "      <th></th>\n",
       "    </tr>\n",
       "  </thead>\n",
       "  <tbody>\n",
       "    <tr>\n",
       "      <th>cls_mlp</th>\n",
       "      <td>0.871287</td>\n",
       "      <td>0.859168</td>\n",
       "      <td>11.282398</td>\n",
       "      <td>0.010293</td>\n",
       "      <td>NaN</td>\n",
       "    </tr>\n",
       "    <tr>\n",
       "      <th>cls_gcn</th>\n",
       "      <td>0.891089</td>\n",
       "      <td>0.886530</td>\n",
       "      <td>13.085267</td>\n",
       "      <td>0.004456</td>\n",
       "      <td>NaN</td>\n",
       "    </tr>\n",
       "    <tr>\n",
       "      <th>cls_gat</th>\n",
       "      <td>0.831683</td>\n",
       "      <td>0.818839</td>\n",
       "      <td>12.053609</td>\n",
       "      <td>0.007202</td>\n",
       "      <td>NaN</td>\n",
       "    </tr>\n",
       "  </tbody>\n",
       "</table>\n",
       "</div>"
      ],
      "text/plain": [
       "              acc        f1     chisqr   p_value  c_index\n",
       "model                                                    \n",
       "cls_mlp  0.871287  0.859168  11.282398  0.010293      NaN\n",
       "cls_gcn  0.891089  0.886530  13.085267  0.004456      NaN\n",
       "cls_gat  0.831683  0.818839  12.053609  0.007202      NaN"
      ]
     },
     "execution_count": 27,
     "metadata": {},
     "output_type": "execute_result"
    }
   ],
   "source": [
    "def combine_results(path, ids):\n",
    "\n",
    "    metrics = None\n",
    "    for id in exp_ids:\n",
    "        temp = pd.read_csv(os.path.join(path_results, f\"{id}/test/\",\"metrics.csv\"))\n",
    "        temp[\"model\"] = id\n",
    "        \n",
    "        if metrics is None:\n",
    "            metrics = temp\n",
    "        else:\n",
    "            metrics = pd.concat([metrics,temp], ignore_index=True)\n",
    "\n",
    "    metrics.set_index(metrics[\"model\"], drop=True,  inplace = True)\n",
    "    metrics = metrics.drop(columns=[\"model\"])\n",
    "    \n",
    "    return metrics\n",
    "\n",
    "exp_ids = [\"cls_mlp\", \"cls_gcn\", \"cls_gat\"]\n",
    "path_results = f\"./baseline_results/\"\n",
    "\n",
    "cls = combine_results(path_results, exp_ids)\n",
    "cls"
   ]
  },
  {
   "cell_type": "code",
   "execution_count": 29,
   "metadata": {},
   "outputs": [
    {
     "data": {
      "text/html": [
       "<div>\n",
       "<style scoped>\n",
       "    .dataframe tbody tr th:only-of-type {\n",
       "        vertical-align: middle;\n",
       "    }\n",
       "\n",
       "    .dataframe tbody tr th {\n",
       "        vertical-align: top;\n",
       "    }\n",
       "\n",
       "    .dataframe thead th {\n",
       "        text-align: right;\n",
       "    }\n",
       "</style>\n",
       "<table border=\"1\" class=\"dataframe\">\n",
       "  <thead>\n",
       "    <tr style=\"text-align: right;\">\n",
       "      <th></th>\n",
       "      <th>acc</th>\n",
       "      <th>f1</th>\n",
       "      <th>chisqr</th>\n",
       "      <th>p_value</th>\n",
       "      <th>c_index</th>\n",
       "    </tr>\n",
       "    <tr>\n",
       "      <th>model</th>\n",
       "      <th></th>\n",
       "      <th></th>\n",
       "      <th></th>\n",
       "      <th></th>\n",
       "      <th></th>\n",
       "    </tr>\n",
       "  </thead>\n",
       "  <tbody>\n",
       "    <tr>\n",
       "      <th>surv_mlp</th>\n",
       "      <td>NaN</td>\n",
       "      <td>NaN</td>\n",
       "      <td>NaN</td>\n",
       "      <td>NaN</td>\n",
       "      <td>0.797386</td>\n",
       "    </tr>\n",
       "    <tr>\n",
       "      <th>surv_gcn</th>\n",
       "      <td>NaN</td>\n",
       "      <td>NaN</td>\n",
       "      <td>NaN</td>\n",
       "      <td>NaN</td>\n",
       "      <td>0.619826</td>\n",
       "    </tr>\n",
       "    <tr>\n",
       "      <th>surv_gat</th>\n",
       "      <td>NaN</td>\n",
       "      <td>NaN</td>\n",
       "      <td>NaN</td>\n",
       "      <td>NaN</td>\n",
       "      <td>0.641612</td>\n",
       "    </tr>\n",
       "  </tbody>\n",
       "</table>\n",
       "</div>"
      ],
      "text/plain": [
       "          acc  f1  chisqr  p_value   c_index\n",
       "model                                       \n",
       "surv_mlp  NaN NaN     NaN      NaN  0.797386\n",
       "surv_gcn  NaN NaN     NaN      NaN  0.619826\n",
       "surv_gat  NaN NaN     NaN      NaN  0.641612"
      ]
     },
     "execution_count": 29,
     "metadata": {},
     "output_type": "execute_result"
    }
   ],
   "source": [
    "exp_ids = [\"surv_mlp\", \"surv_gcn\", \"surv_gat\"]\n",
    "path_resutls = f\"./baseline_results/{id}/test/\"\n",
    "\n",
    "surv = combine_results(path_resutls, exp_ids)\n",
    "surv"
   ]
  },
  {
   "cell_type": "code",
   "execution_count": 32,
   "metadata": {},
   "outputs": [
    {
     "data": {
      "text/html": [
       "<div>\n",
       "<style scoped>\n",
       "    .dataframe tbody tr th:only-of-type {\n",
       "        vertical-align: middle;\n",
       "    }\n",
       "\n",
       "    .dataframe tbody tr th {\n",
       "        vertical-align: top;\n",
       "    }\n",
       "\n",
       "    .dataframe thead th {\n",
       "        text-align: right;\n",
       "    }\n",
       "</style>\n",
       "<table border=\"1\" class=\"dataframe\">\n",
       "  <thead>\n",
       "    <tr style=\"text-align: right;\">\n",
       "      <th></th>\n",
       "      <th>acc</th>\n",
       "      <th>f1</th>\n",
       "      <th>chisqr</th>\n",
       "      <th>p_value</th>\n",
       "      <th>c_index</th>\n",
       "    </tr>\n",
       "    <tr>\n",
       "      <th>model</th>\n",
       "      <th></th>\n",
       "      <th></th>\n",
       "      <th></th>\n",
       "      <th></th>\n",
       "      <th></th>\n",
       "    </tr>\n",
       "  </thead>\n",
       "  <tbody>\n",
       "    <tr>\n",
       "      <th>mt_mlp</th>\n",
       "      <td>0.920792</td>\n",
       "      <td>0.919733</td>\n",
       "      <td>11.413853</td>\n",
       "      <td>0.009686</td>\n",
       "      <td>0.766885</td>\n",
       "    </tr>\n",
       "  </tbody>\n",
       "</table>\n",
       "</div>"
      ],
      "text/plain": [
       "             acc        f1     chisqr   p_value   c_index\n",
       "model                                                    \n",
       "mt_mlp  0.920792  0.919733  11.413853  0.009686  0.766885"
      ]
     },
     "execution_count": 32,
     "metadata": {},
     "output_type": "execute_result"
    }
   ],
   "source": [
    "# exp_ids = [\"mt_mlp\", \"mt_gcn\", \"mt_gat\"]\n",
    "exp_ids = [\"mt_mlp\"]\n",
    "path_resutls = f\"./baseline_results/{id}/test/\"\n",
    "\n",
    "surv = combine_results(path_resutls, exp_ids)\n",
    "surv"
   ]
  },
  {
   "cell_type": "markdown",
   "metadata": {},
   "source": [
    "# Predictions"
   ]
  },
  {
   "cell_type": "code",
   "execution_count": 1,
   "metadata": {},
   "outputs": [],
   "source": [
    "from sklearn import set_config\n",
    "from sksurv.linear_model import CoxPHSurvivalAnalysis\n",
    "import numpy as np\n",
    "\n",
    "from sksurv.preprocessing import OneHotEncoder\n",
    "\n",
    "\n",
    "\n",
    "def get_c_index(data_x, data_y, estimator=CoxPHSurvivalAnalysis()):\n",
    "    set_config(display=\"text\")  # displays text representation of estimators\n",
    "\n",
    "    estimator.fit(data_x, data_y)\n",
    "\n",
    "    coef = pd.Series(estimator.coef_, index=data_x.columns)\n",
    "    c_index = estimator.score(data_x, data_y)\n",
    "    print(\"\\nC-index: \", c_index)\n",
    "    return c_index, coef\n",
    "\n",
    "def get_score_features(x, y, m=CoxPHSurvivalAnalysis()):\n",
    "    X = x.values\n",
    "    n_features = X.shape[1]\n",
    "    scores = np.empty(n_features)\n",
    "\n",
    "    for j in range(n_features):\n",
    "        Xj = X[:, j : j + 1]\n",
    "        m.fit(Xj, y)\n",
    "        scores[j] = m.score(Xj, y)\n",
    "    \n",
    "    scores = pd.Series(scores, index=x.columns).sort_values(ascending=False)\n",
    "    print(\"\\nFeature scores:\\n\", scores)\n",
    "    return scores"
   ]
  },
  {
   "cell_type": "code",
   "execution_count": 2,
   "metadata": {},
   "outputs": [
    {
     "ename": "NameError",
     "evalue": "name 'pd' is not defined",
     "output_type": "error",
     "traceback": [
      "\u001b[0;31m---------------------------------------------------------------------------\u001b[0m",
      "\u001b[0;31mNameError\u001b[0m                                 Traceback (most recent call last)",
      "Cell \u001b[0;32mIn[2], line 1\u001b[0m\n\u001b[0;32m----> 1\u001b[0m data_x \u001b[38;5;241m=\u001b[39m \u001b[43mpd\u001b[49m\u001b[38;5;241m.\u001b[39mread_csv(\u001b[38;5;124m\"\u001b[39m\u001b[38;5;124m./data/MoGCN_results/latent_data.csv\u001b[39m\u001b[38;5;124m\"\u001b[39m)\n\u001b[1;32m      2\u001b[0m data_x \u001b[38;5;241m=\u001b[39m data_x\u001b[38;5;241m.\u001b[39mloc[data_x[\u001b[38;5;124m\"\u001b[39m\u001b[38;5;124mSample\u001b[39m\u001b[38;5;124m\"\u001b[39m]\u001b[38;5;241m.\u001b[39misin(surv_data[\u001b[38;5;124m\"\u001b[39m\u001b[38;5;124mSample_ID\u001b[39m\u001b[38;5;124m\"\u001b[39m])]\n\u001b[1;32m      3\u001b[0m data_x \u001b[38;5;241m=\u001b[39m data_x\u001b[38;5;241m.\u001b[39miloc[:,\u001b[38;5;241m1\u001b[39m:]\n",
      "\u001b[0;31mNameError\u001b[0m: name 'pd' is not defined"
     ]
    }
   ],
   "source": [
    "data_x = pd.read_csv(\"./data/MoGCN_results/latent_data.csv\")\n",
    "data_x = data_x.loc[data_x[\"Sample\"].isin(surv_data[\"Sample_ID\"])]\n",
    "data_x = data_x.iloc[:,1:]\n",
    "data_x"
   ]
  },
  {
   "cell_type": "code",
   "execution_count": 3,
   "metadata": {},
   "outputs": [
    {
     "ename": "NameError",
     "evalue": "name 'surv_data' is not defined",
     "output_type": "error",
     "traceback": [
      "\u001b[0;31m---------------------------------------------------------------------------\u001b[0m",
      "\u001b[0;31mNameError\u001b[0m                                 Traceback (most recent call last)",
      "Cell \u001b[0;32mIn[3], line 4\u001b[0m\n\u001b[1;32m      1\u001b[0m \u001b[38;5;28;01mdef\u001b[39;00m \u001b[38;5;21mget_bool_mask\u001b[39m(df_gt, df_ids):\n\u001b[1;32m      2\u001b[0m     \u001b[38;5;28;01mreturn\u001b[39;00m np\u001b[38;5;241m.\u001b[39marray(df_gt[\u001b[38;5;124m\"\u001b[39m\u001b[38;5;124mSample_ID\u001b[39m\u001b[38;5;124m\"\u001b[39m]\u001b[38;5;241m.\u001b[39misin(df_ids))\n\u001b[0;32m----> 4\u001b[0m train_mask \u001b[38;5;241m=\u001b[39m get_bool_mask(\u001b[43msurv_data\u001b[49m, pd\u001b[38;5;241m.\u001b[39mread_csv(\u001b[38;5;124m\"\u001b[39m\u001b[38;5;124m./data/MoGCN_data/train_stratified.csv\u001b[39m\u001b[38;5;124m\"\u001b[39m)[\u001b[38;5;124m\"\u001b[39m\u001b[38;5;124mSample_ID\u001b[39m\u001b[38;5;124m\"\u001b[39m])\n\u001b[1;32m      5\u001b[0m test_mask \u001b[38;5;241m=\u001b[39m get_bool_mask(surv_data, pd\u001b[38;5;241m.\u001b[39mread_csv(\u001b[38;5;124m\"\u001b[39m\u001b[38;5;124m./data/MoGCN_data/test_stratified.csv\u001b[39m\u001b[38;5;124m\"\u001b[39m)[\u001b[38;5;124m\"\u001b[39m\u001b[38;5;124mSample_ID\u001b[39m\u001b[38;5;124m\"\u001b[39m])\n",
      "\u001b[0;31mNameError\u001b[0m: name 'surv_data' is not defined"
     ]
    }
   ],
   "source": [
    "def get_bool_mask(df_gt, df_ids):\n",
    "    return np.array(df_gt[\"Sample_ID\"].isin(df_ids))\n",
    "\n",
    "train_mask = get_bool_mask(surv_data, pd.read_csv(\"./data/MoGCN_data/train_stratified.csv\")[\"Sample_ID\"])\n",
    "test_mask = get_bool_mask(surv_data, pd.read_csv(\"./data/MoGCN_data/test_stratified.csv\")[\"Sample_ID\"])"
   ]
  },
  {
   "cell_type": "code",
   "execution_count": 44,
   "metadata": {},
   "outputs": [
    {
     "name": "stdout",
     "output_type": "stream",
     "text": [
      "\n",
      "C-index:  0.5292682926829269\n"
     ]
    }
   ],
   "source": [
    "data_y = surv_data[[\"Status\", \"Survival_in_days\"]].to_records(index=False)\n",
    "\n",
    "estimator=CoxPHSurvivalAnalysis()\n",
    "estimator.fit(data_x[train_mask], data_y[train_mask])\n",
    "\n",
    "c_index = estimator.score(data_x[test_mask], data_y[test_mask])\n",
    "print(\"\\nC-index: \", c_index)\n"
   ]
  },
  {
   "cell_type": "code",
   "execution_count": null,
   "metadata": {},
   "outputs": [],
   "source": []
  }
 ],
 "metadata": {
  "kernelspec": {
   "display_name": "omics",
   "language": "python",
   "name": "python3"
  },
  "language_info": {
   "codemirror_mode": {
    "name": "ipython",
    "version": 3
   },
   "file_extension": ".py",
   "mimetype": "text/x-python",
   "name": "python",
   "nbconvert_exporter": "python",
   "pygments_lexer": "ipython3",
   "version": "3.11.5"
  }
 },
 "nbformat": 4,
 "nbformat_minor": 2
}
